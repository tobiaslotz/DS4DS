{
 "cells": [
  {
   "cell_type": "markdown",
   "id": "e7591788-1ce8-4c29-834e-dbc849521eba",
   "metadata": {
    "deletable": false,
    "editable": false,
    "nbgrader": {
     "cell_type": "markdown",
     "checksum": "f5f745577905dfd18cc2642594b3dae4",
     "grade": false,
     "grade_id": "cell-6067deed3eda87f8",
     "locked": true,
     "schema_version": 3,
     "solution": false,
     "task": false
    },
    "tags": []
   },
   "source": [
    "# DS4DS Homework Exercise Sheet 10"
   ]
  },
  {
   "cell_type": "markdown",
   "id": "6e84e069",
   "metadata": {},
   "source": [
    "**General Instructions:**\n",
    "\n",
    "- Collaborations between students during problem-solving phase on a discussion basis is OK\n",
    "- However: individual code programming and submissions per student are required\n",
    "- Code sharing is strictly prohibited\n",
    "- We will run checks for shared code, general plagiarism and AI-generated solutions\n",
    "- Any fraud attempt will lead to an auto fail of the entire course\n",
    "- Do not use any additional packages except for those provided in the task templates\n",
    "- Please use Julia Version 1.10.x to ensure compatibility\n",
    "- Please only write between the `#--- YOUR CODE STARTS HERE ---#` and `#--- YOUR CODE ENDS HERE ---#` comments\n",
    "- Please do not delete, add any cells or overwrite cells other than the solution cells (**Tip:** If you use a jupyerhub IDE, you should not be able to add or delete cells and write in the non-solution cells by default)"
   ]
  },
  {
   "cell_type": "code",
   "execution_count": 1,
   "id": "b54c210a-bf64-4411-be3d-90d4e81cd43d",
   "metadata": {
    "ExecuteTime": {
     "end_time": "2024-12-16T13:11:54.420000+01:00",
     "start_time": "2024-12-16T12:11:45.655Z"
    },
    "deletable": false,
    "editable": false,
    "nbgrader": {
     "cell_type": "code",
     "checksum": "14412890205080676c6cd129a7a1e6d3",
     "grade": false,
     "grade_id": "cell-25df1cc193999e91",
     "locked": true,
     "schema_version": 3,
     "solution": false,
     "task": false
    },
    "tags": []
   },
   "outputs": [],
   "source": [
    "using OrdinaryDiffEq\n",
    "using LinearAlgebra\n",
    "using Optim\n",
    "using LaTeXStrings\n",
    "using MAT"
   ]
  },
  {
   "cell_type": "markdown",
   "id": "5b947fa3-109e-4279-8b8a-f213df1d8f61",
   "metadata": {
    "deletable": false,
    "editable": false,
    "nbgrader": {
     "cell_type": "markdown",
     "checksum": "1f17ba4cef96c3de9caca7019dfe3df4",
     "grade": false,
     "grade_id": "cell-73fb26ac6342c0d3",
     "locked": true,
     "schema_version": 3,
     "solution": false,
     "task": false
    },
    "tags": []
   },
   "source": [
    "## Task 1: Parameter identification of the double compound pendulum - (5 points)"
   ]
  },
  {
   "cell_type": "markdown",
   "id": "35568dbc-c492-4fee-989c-50a637d7cb43",
   "metadata": {
    "deletable": false,
    "editable": false,
    "nbgrader": {
     "cell_type": "markdown",
     "checksum": "fe34b74e7afc6b79bd25c023ff943fea",
     "grade": false,
     "grade_id": "cell-7fd1c53045e2437f",
     "locked": true,
     "schema_version": 3,
     "solution": false,
     "task": false
    },
    "tags": []
   },
   "source": [
    "The goal of this exercise is to perform parameter identification for a non-linear dynamic system. As a system, we consider the double component pendulum ([Source](https://en.wikipedia.org/wiki/Double_pendulum)), which is shown in the following figure.\n",
    "\n",
    "<img src=\"./double_pendulum.png\" alt=\"Double pendulum image\" width=\"600\"/>\n",
    "\n",
    "This system consists of two pendulums connected in series, each with its own mass and length (in contrast to the mathematical pendulum where only point masses at the pole tips were assumed!).\n",
    "\n",
    "In order to obtain the equations of motion and thus the necessary ODEs, we want to utilize Lagragian mechanics ([Source](https://en.wikipedia.org/wiki/Lagrangian_mechanics)). Unlike Newtonian mechanics, which relies on forces and accelerations, Lagrangian mechanics focuses on the concept of energy and utilizes a mathematical function called the Lagrangian. The fundamental principle underlying Lagrangian mechanics is the principle of stationary action. The action $S$ is defined as the integral of the Lagrangian over time, and the path taken by a system between two points in its configuration space is the one for which the action is stationary:\n",
    "\n",
    "\\begin{equation}\n",
    "S = \\int_{t_1}^{t_2} L(q, \\dot{q}, t) \\mathrm{d}t . \\tag{1} \n",
    "\\end{equation}\n",
    "\n",
    "where $q$ represents the generalized coordinates of the system, $\\dot{q}$ is the corresponding generalized velocity and $t$ is time. The equations of motion are then obtained by applying the Euler-Lagrange equation:\n",
    "\n",
    "\\begin{equation}\n",
    "\\frac{\\mathrm{d}}{\\mathrm{d}t}\\left(\\frac{\\partial L}{\\partial \\dot{q}}\\right) - \\frac{\\partial L}{\\partial q} = 0 . \\tag{2} \n",
    "\\end{equation}\n",
    "\n",
    "This equation is derived from the principle of stationary action and provides a concise expression for the dynamics of the system.\n",
    "The Lagrangian, denoted by $L$, is defined as the difference between the kinetic and potential energies of a system:\n",
    "\n",
    "\\begin{equation}\n",
    "L=T-V .\\tag{3} \n",
    "\\end{equation}\n",
    "\n",
    "To specify the kinetic energies $T$ and potential energies $V$ for this system, we need to define the generalized coordinates. Let $\\theta_1$ and $\\theta_2$ represent the angles of the first and second pendulum joints, respectively. The corresponding generalized coordinates are $q_1 = \\theta_1$ and $q_2 = \\theta_2$.\n",
    "\n"
   ]
  },
  {
   "cell_type": "markdown",
   "id": "5430e00a-9d15-4be9-a9bc-2c45e406ff47",
   "metadata": {
    "deletable": false,
    "editable": false,
    "nbgrader": {
     "cell_type": "markdown",
     "checksum": "2ff95c5a7599edec87dc8a5d28af68bf",
     "grade": false,
     "grade_id": "cell-af9629b8803a086a",
     "locked": true,
     "schema_version": 3,
     "solution": false,
     "task": false
    },
    "tags": []
   },
   "source": [
    "In the following, the ODEs of the double pendulum are to be determined. The derivation of the ODEs is carried out step by step, with tests being used to verify the equations determined. "
   ]
  },
  {
   "cell_type": "markdown",
   "id": "171e819e-1e73-47bf-8c59-ee022a3870b0",
   "metadata": {
    "deletable": false,
    "editable": false,
    "nbgrader": {
     "cell_type": "markdown",
     "checksum": "cd6e81e412c8d5a6022715b51ad0fd9c",
     "grade": false,
     "grade_id": "cell-a395f949d2aa61d4",
     "locked": true,
     "schema_version": 3,
     "solution": false,
     "task": false
    },
    "tags": []
   },
   "source": [
    "### **a)** Determining the potential energy of the system - (1 point)"
   ]
  },
  {
   "cell_type": "markdown",
   "id": "adc9137b-2345-49d7-b13d-bee693443557",
   "metadata": {
    "deletable": false,
    "editable": false,
    "nbgrader": {
     "cell_type": "markdown",
     "checksum": "2fe48512dcbdf6973bedb717696aa257",
     "grade": false,
     "grade_id": "cell-6d2565aad9810656",
     "locked": true,
     "schema_version": 3,
     "solution": false,
     "task": false
    },
    "tags": []
   },
   "source": [
    "In this system, $V$ is the sum of the potential energies of the two poles.\n",
    "\n",
    "**Hint 1:** Potential energy measured at the center of gravity $s$ of a body with a mass $m$:\n",
    "$$\n",
    "\\begin{align}\n",
    "V = gms\n",
    "\\end{align}\n",
    "$$\n",
    "\n",
    "**Hint 2:** Note the geometric arrangement of the system. In the upper equilibrium, the system has maximum potential energy; in the lower equilibrium, the system has negative potential energy."
   ]
  },
  {
   "cell_type": "code",
   "execution_count": 2,
   "id": "5a1ff3c9-c84f-4066-ab18-8a13799cfda4",
   "metadata": {
    "ExecuteTime": {
     "end_time": "2024-12-16T13:19:55.792000+01:00",
     "start_time": "2024-12-16T12:19:54.507Z"
    },
    "deletable": false,
    "nbgrader": {
     "cell_type": "code",
     "checksum": "93490d191cd1991d6cbb2d0b790af164",
     "grade": false,
     "grade_id": "cell-90371b7dea63bfc6",
     "locked": false,
     "schema_version": 3,
     "solution": true,
     "task": false
    },
    "tags": []
   },
   "outputs": [
    {
     "data": {
      "text/plain": [
       "V (generic function with 1 method)"
      ]
     },
     "metadata": {},
     "output_type": "display_data"
    }
   ],
   "source": [
    "function V(q)\n",
    "    \"\"\"\n",
    "    Computes the potential energy of a two-link pendulum system.\n",
    "\n",
    "    Args:\n",
    "        q: Vector of joint angles for the two-link pendulum, shape (2).\n",
    "\n",
    "    Returns:\n",
    "        Float64: Potential energy of the system.\n",
    "    \"\"\"\n",
    "    g = 9.81\n",
    "    m_1 = 1\n",
    "    m_2 = 1\n",
    "    l_1 = 2\n",
    "    l_2 = 2\n",
    "\n",
    "    @assert size(q) == (2,)\n",
    "    #--- YOUR CODE STARTS HERE ---#\n",
    "    theta_1, theta_2 = q[1], q[2]\n",
    "    \n",
    "    x1 = 0.5 * l_1 * sin(theta_1)\n",
    "    y1 = -0.5 * l_1 * cos(theta_1)\n",
    "\n",
    "    x2 = l_2 * (sin(theta_1) + 0.5 * sin(theta_2))\n",
    "    y2 = -l_2 * (cos(theta_1) + 0.5 * cos(theta_2))\n",
    "\n",
    "    V = g * m_1 * y1 + g * m_2 * y2\n",
    "    return V\n",
    "    #--- YOUR CODE ENDS HERE ---#\n",
    "end"
   ]
  },
  {
   "cell_type": "code",
   "execution_count": 3,
   "id": "f491a1b8-5157-4dfe-80bb-749d61846001",
   "metadata": {
    "ExecuteTime": {
     "end_time": "2024-12-16T13:19:55.908000+01:00",
     "start_time": "2024-12-16T12:19:54.654Z"
    },
    "deletable": false,
    "editable": false,
    "nbgrader": {
     "cell_type": "code",
     "checksum": "43aa4f51cd78ca16b10909b6760a0c69",
     "grade": false,
     "grade_id": "cell-663d3edfc05aebc1",
     "locked": true,
     "schema_version": 3,
     "solution": false,
     "task": false
    },
    "tags": []
   },
   "outputs": [
    {
     "name": "stdout",
     "output_type": "stream",
     "text": [
      "V: -16.1154284047833\n"
     ]
    }
   ],
   "source": [
    "q = [0.5, 3.0]\n",
    "\n",
    "println(\"V: $(V(q))\")\n",
    "\n",
    "@assert isapprox(V(q), -16.1154284047833, atol=1e-5, rtol=0) # evaluation at a single point as help for students for hard check "
   ]
  },
  {
   "cell_type": "code",
   "execution_count": 4,
   "id": "bc4dd702-ece7-4ae1-9bf9-7209dfe983a1",
   "metadata": {
    "ExecuteTime": {
     "end_time": "2024-12-16T13:19:55.961000+01:00",
     "start_time": "2024-12-16T12:19:54.816Z"
    },
    "deletable": false,
    "editable": false,
    "nbgrader": {
     "cell_type": "code",
     "checksum": "45c81e843be827a70aca940a2f511273",
     "grade": true,
     "grade_id": "cell-af7e64ddcf6dc1b3",
     "locked": true,
     "points": 1,
     "schema_version": 3,
     "solution": false,
     "task": false
    },
    "tags": []
   },
   "outputs": [],
   "source": [
    "# Please leave this cell as its is"
   ]
  },
  {
   "cell_type": "markdown",
   "id": "9d4fc71c-c4a0-4dca-b428-62b0959243c6",
   "metadata": {
    "deletable": false,
    "editable": false,
    "nbgrader": {
     "cell_type": "markdown",
     "checksum": "2ca387aa982202d3e7eb4108fb41e479",
     "grade": false,
     "grade_id": "cell-e4e920de4ee0cc1d",
     "locked": true,
     "schema_version": 3,
     "solution": false,
     "task": false
    },
    "tags": []
   },
   "source": [
    "### **b)** Determining the kinetic energy of the system - (1 point)"
   ]
  },
  {
   "cell_type": "markdown",
   "id": "c5b4f5e7-44ca-4d87-8cd9-84c936d0c6fb",
   "metadata": {
    "deletable": false,
    "editable": false,
    "nbgrader": {
     "cell_type": "markdown",
     "checksum": "cf5620cc53e829545dcff39461699b61",
     "grade": false,
     "grade_id": "cell-06ed6e53a6e35671",
     "locked": true,
     "schema_version": 3,
     "solution": false,
     "task": false
    },
    "tags": []
   },
   "source": [
    "The kinetic energy $T$ of the system is the sum of the translational and rotational energies of the bodies.\n",
    "\n",
    "**Hint 1:** Kinetic energy of a single body measured at its center of gravity $s = [x_s\\;y_s]$:\n",
    "$$\n",
    "\\begin{align}\n",
    "T = \\frac{1}{2}m|v_s|^2 + \\frac{1}{2}J\\omega^2,\n",
    "\\end{align}\n",
    "$$\n",
    "with $v_s = \\frac{\\mathrm{d}}{\\mathrm{d}t}[x_s\\; y_s]^\\top$ and $\\omega = \\frac{\\mathrm{d}}{\\mathrm{d}t}\\theta$.\n",
    "\n",
    "**Hint 2:** Calculate $v_s$ first and, therefore, represent $[x_s\\; y_s]^\\top$ by the joints' angles. \n",
    "\n",
    "**Hint 3:** Inertia of a pole with mass $m$ and length $l$: $J_{\\mathrm{pole}} =\\frac{1}{12}ml^2$."
   ]
  },
  {
   "cell_type": "code",
   "execution_count": 5,
   "id": "d690d915-96ae-49de-b88a-8868cebc8eed",
   "metadata": {
    "ExecuteTime": {
     "end_time": "2024-12-16T13:19:55.980000+01:00",
     "start_time": "2024-12-16T12:19:55.271Z"
    },
    "deletable": false,
    "nbgrader": {
     "cell_type": "code",
     "checksum": "f8a7988cb91e27cb8ac84165aa3f25ca",
     "grade": false,
     "grade_id": "cell-e8d98549cd9a7edf",
     "locked": false,
     "schema_version": 3,
     "solution": true,
     "task": false
    },
    "tags": []
   },
   "outputs": [
    {
     "data": {
      "text/plain": [
       "T (generic function with 1 method)"
      ]
     },
     "metadata": {},
     "output_type": "display_data"
    }
   ],
   "source": [
    "function T(q, q_p)\n",
    "    \"\"\"\n",
    "    T(q, q_p)\n",
    "\n",
    "    Computes the kinetic energy of a two-link pendulum system.\n",
    "\n",
    "    Args:\n",
    "        q: Vector of joint angles for the two-link pendulum, shape (2).\n",
    "        q_p: Vector of joint angular velocities, shape (2).\n",
    "\n",
    "    Returns:\n",
    "        float64: Kinetic energy of the system.\n",
    "    \"\"\"\n",
    "    g = 9.81\n",
    "    m_1 = 1\n",
    "    m_2 = 1\n",
    "    l_1 = 2\n",
    "    l_2 = 2\n",
    "\n",
    "    @assert size(q) == (2,)\n",
    "    @assert size(q_p) == (2,)\n",
    "\n",
    "    #--- YOUR CODE STARTS HERE ---#\n",
    "    theta_1, theta_2 = q[1], q[2]\n",
    "    theta_1_dot, theta_2_dot = q_p[1], q_p[2]\n",
    "\n",
    "    v1_sq = 0.25 * l_1^2 * theta_1_dot^2 \n",
    "    v2_sq = l_2^2 * (theta_1_dot^2 + 0.25 * theta_2_dot^2 + theta_1_dot * theta_2_dot * cos(theta_1 - theta_2))\n",
    "\n",
    "    J_1 = 1/12 * m_1 * l_1^2\n",
    "    J_2 = 1/12 * m_2 * l_2^2\n",
    "\n",
    "    T = 0.5 * m_1 * v1_sq + 0.5 * m_2 * v2_sq + 0.5 * J_1 * theta_1_dot^2 + 0.5 * J_2 * theta_2_dot^2\n",
    "    return T\n",
    "    #--- YOUR CODE ENDS HERE ---#\n",
    "end"
   ]
  },
  {
   "cell_type": "code",
   "execution_count": 6,
   "id": "231d878a-7aac-4f89-827a-661f60c56b09",
   "metadata": {
    "ExecuteTime": {
     "end_time": "2024-12-16T13:19:56.156000+01:00",
     "start_time": "2024-12-16T12:19:55.422Z"
    },
    "deletable": false,
    "editable": false,
    "nbgrader": {
     "cell_type": "code",
     "checksum": "ddaee117eb35a91f8f72f43886d417e1",
     "grade": false,
     "grade_id": "cell-0448f6304127fb34",
     "locked": true,
     "schema_version": 3,
     "solution": false,
     "task": false
    },
    "tags": []
   },
   "outputs": [
    {
     "name": "stdout",
     "output_type": "stream",
     "text": [
      "T: 4.375163118208428\n"
     ]
    }
   ],
   "source": [
    "q = [0.5, 3.0]\n",
    "q_p = [0.4, -2]\n",
    "\n",
    "println(\"T: $(T(q, q_p))\")\n",
    "\n",
    "@assert isapprox(T(q, q_p), 4.375163118208428, atol=1e-5, rtol=0) # evaluation at a single point as help for students for hard check "
   ]
  },
  {
   "cell_type": "code",
   "execution_count": 7,
   "id": "f3a9302f-0039-4303-9b41-450b6b8b9ab9",
   "metadata": {
    "ExecuteTime": {
     "end_time": "2024-12-16T13:19:56.192000+01:00",
     "start_time": "2024-12-16T12:19:55.596Z"
    },
    "deletable": false,
    "editable": false,
    "nbgrader": {
     "cell_type": "code",
     "checksum": "458de2fe04e450c02e84f464cf9d11dd",
     "grade": true,
     "grade_id": "cell-4de04a72f1cc4382",
     "locked": true,
     "points": 1,
     "schema_version": 3,
     "solution": false,
     "task": false
    },
    "tags": []
   },
   "outputs": [],
   "source": [
    "# Please leave this cell as its is"
   ]
  },
  {
   "cell_type": "markdown",
   "id": "13103e57-419e-429a-8c93-974850d6f1ba",
   "metadata": {
    "deletable": false,
    "editable": false,
    "nbgrader": {
     "cell_type": "markdown",
     "checksum": "9363d93458c962087bb9dd4ae94cfce6",
     "grade": false,
     "grade_id": "cell-c932cf3c89be37bc",
     "locked": true,
     "schema_version": 3,
     "solution": false,
     "task": false
    },
    "tags": []
   },
   "source": [
    "Inserting eq. (3) into eq. (2) delivers:\n",
    "\n",
    "\\begin{equation}\n",
    "\\frac{\\partial}{\\partial \\dot{q}}\\left(\\frac{\\partial T}{\\partial \\dot{q}}\\right)^\\top \\ddot{q} - \\left( -\\frac{\\partial}{\\partial q} \\left(\\frac{\\partial T}{\\partial \\dot{q}}\\right)^\\top \\dot{q} - \\frac{\\partial}{\\partial t} \\left(\\frac{\\partial T}{\\partial \\dot{q}}\\right)^\\top + \\frac{\\partial T}{\\partial q}^\\top - \\left(\\frac{\\partial V}{\\partial q}\\right)^\\top \\right) = 0. \\tag{4}\n",
    "\\end{equation}\n",
    "\n",
    "We define\n",
    "\n",
    "\\begin{equation}\n",
    "M(t,q) = \\frac{\\partial}{\\partial \\dot{q}}\\left(\\frac{\\partial T}{\\partial \\dot{q}}\\right)^\\top\n",
    "\\end{equation}\n",
    "\n",
    "as the mass matrix and\n",
    "\n",
    "\\begin{equation}\n",
    "h(t,q,\\dot{q}) =  \\left( -\\frac{\\partial}{\\partial q} \\left(\\frac{\\partial T}{\\partial \\dot{q}}\\right)^\\top \\dot{q} - \\frac{\\partial}{\\partial t} \\left(\\frac{\\partial T}{\\partial \\dot{q}}\\right)^\\top + \\frac{\\partial T}{\\partial q}^\\top - \\left(\\frac{\\partial V}{\\partial q}\\right)^\\top \\right)\n",
    "\\end{equation}\n",
    "\n",
    "the h-vector, which summarizes all gyroscopic and active forces.\n",
    "We can therefore write the equation again in simplified form:\n",
    "\n",
    "\\begin{equation}\n",
    "M(t,q) \\ddot{q} - h(t,q,\\dot{q}) =  0 . \\tag{5}\n",
    "\\end{equation}"
   ]
  },
  {
   "cell_type": "markdown",
   "id": "5c9b8c85-48ff-4d55-9ad5-b32e279ec2cf",
   "metadata": {
    "deletable": false,
    "editable": false,
    "nbgrader": {
     "cell_type": "markdown",
     "checksum": "87bdfe925dcbb9f847c504742f264704",
     "grade": false,
     "grade_id": "cell-7ccf537139a7da27",
     "locked": true,
     "schema_version": 3,
     "solution": false,
     "task": false
    },
    "tags": []
   },
   "source": [
    "### **c)** Calculation $M(t,q)$ and $h(t,q,\\dot{q})$ - (2 points)\n",
    "\n",
    "**Hint:** Here you should calculate the derivatives by hand based on your results for $T$ and $V$ from the previous subtasks."
   ]
  },
  {
   "cell_type": "code",
   "execution_count": 8,
   "id": "21d42133-593d-4475-add7-5fc14a69358e",
   "metadata": {
    "ExecuteTime": {
     "end_time": "2024-12-16T13:19:56.206000+01:00",
     "start_time": "2024-12-16T12:19:56.094Z"
    },
    "deletable": false,
    "nbgrader": {
     "cell_type": "code",
     "checksum": "f32f35b5405a74685b08f8392063a838",
     "grade": false,
     "grade_id": "cell-8bdb5c2dd97c1632",
     "locked": false,
     "schema_version": 3,
     "solution": true,
     "task": false
    },
    "tags": []
   },
   "outputs": [
    {
     "data": {
      "text/plain": [
       "M (generic function with 1 method)"
      ]
     },
     "metadata": {},
     "output_type": "display_data"
    }
   ],
   "source": [
    "function M(q, m_1, m_2, l_1, l_2)\n",
    "    \"\"\"\n",
    "    Computes the mass matrix for a two-link pendulum system.\n",
    "\n",
    "    Args:\n",
    "        q: Vector of joint angles for the two-link pendulum, shape (2).\n",
    "        m_1: Mass of the first pendulum link.\n",
    "        m_2: Mass of the second pendulum link.\n",
    "        l_1: Length of the first pendulum link.\n",
    "        l_2: Length of the second pendulum link.\n",
    "\n",
    "    Returns:\n",
    "        Matrix: Mass matrix of the system, shape (2, 2).\n",
    "    \"\"\"\n",
    "    g = 9.81\n",
    "\n",
    "    @assert size(q) == (2,)\n",
    "    #--- YOUR CODE STARTS HERE ---#\n",
    "    J_1 = 1/12 * m_1 * l_1^2\n",
    "    J_2 = 1/12 * m_2 * l_2^2\n",
    "\n",
    "    theta_1, theta_2 = q[1], q[2]\n",
    "\n",
    "    m11 = 0.25 * m_1 * l_1^2 + m_2 * l_2^2 + J_1\n",
    "    m12 = 0.5 * m_2 * l_2^2 * cos(theta_1 - theta_2)\n",
    "    m21 = 0.5 * m_2 * l_2^2 * cos(theta_1 - theta_2)\n",
    "    m22 = 0.25 * m_2 * l_2^2 + J_2\n",
    "\n",
    "    mass_matrix = [m11 m12; m21 m22]\n",
    "    #--- YOUR CODE ENDS HERE ---#\n",
    "\n",
    "    @assert size(mass_matrix) == (2, 2)\n",
    "    return mass_matrix\n",
    "end"
   ]
  },
  {
   "cell_type": "code",
   "execution_count": 9,
   "id": "1188ea41-a165-4c89-a414-2ab63ea661a4",
   "metadata": {
    "ExecuteTime": {
     "end_time": "2024-12-16T13:19:57.439000+01:00",
     "start_time": "2024-12-16T12:19:56.255Z"
    },
    "deletable": false,
    "editable": false,
    "nbgrader": {
     "cell_type": "code",
     "checksum": "01be16778d8fa7d6d7bb4d29e2b6ee6a",
     "grade": false,
     "grade_id": "cell-253b9902e2b8b427",
     "locked": true,
     "schema_version": 3,
     "solution": false,
     "task": false
    },
    "tags": []
   },
   "outputs": [
    {
     "name": "stdout",
     "output_type": "stream",
     "text": [
      "M: [5.333333333333333 -1.6022872310938674; -1.6022872310938674 1.3333333333333333]\n"
     ]
    }
   ],
   "source": [
    "q = [0.5, 3.0]\n",
    "\n",
    "\n",
    "m_1 = 1\n",
    "m_2 = 1\n",
    "l_1 = 2\n",
    "l_2 = 2\n",
    "\n",
    "println(\"M: $(M(q, m_1, m_2, l_1, l_2))\")\n",
    "\n",
    "@assert isapprox(M(q, m_1, m_2, l_1, l_2), [5.333333333333333 -1.6022872310938674; -1.6022872310938674 1.3333333333333333], atol=1e-5, rtol=0) # evaluation at a single point as help for students for hard check "
   ]
  },
  {
   "cell_type": "code",
   "execution_count": 10,
   "id": "7536c96d-70d6-43f1-b753-88ca3bac48d6",
   "metadata": {
    "ExecuteTime": {
     "end_time": "2024-12-16T13:19:57.446000+01:00",
     "start_time": "2024-12-16T12:19:56.420Z"
    },
    "deletable": false,
    "editable": false,
    "nbgrader": {
     "cell_type": "code",
     "checksum": "79b72e554ad3a33edcb13da44ff03f53",
     "grade": true,
     "grade_id": "cell-6dbae397db3470ab",
     "locked": true,
     "points": 1,
     "schema_version": 3,
     "solution": false,
     "task": false
    },
    "tags": []
   },
   "outputs": [],
   "source": [
    "# Please leave this cell as its is"
   ]
  },
  {
   "cell_type": "code",
   "execution_count": 11,
   "id": "47100288-24cc-4172-96de-8e827b4b31f0",
   "metadata": {
    "ExecuteTime": {
     "end_time": "2024-12-16T13:19:57.639000+01:00",
     "start_time": "2024-12-16T12:19:56.595Z"
    },
    "deletable": false,
    "editable": false,
    "nbgrader": {
     "cell_type": "code",
     "checksum": "18f435b40ef10078ee31e9ce4f7dc609",
     "grade": true,
     "grade_id": "cell-6c0c218c9e8bea6c",
     "locked": true,
     "points": 0,
     "schema_version": 3,
     "solution": false,
     "task": false
    },
    "tags": []
   },
   "outputs": [],
   "source": [
    "# Please leave this cell as its is"
   ]
  },
  {
   "cell_type": "code",
   "execution_count": 12,
   "id": "ebcd9f9c-5532-47d2-8afb-3e600efbdb62",
   "metadata": {
    "ExecuteTime": {
     "end_time": "2024-12-16T13:19:57.659000+01:00",
     "start_time": "2024-12-16T12:19:56.765Z"
    },
    "deletable": false,
    "nbgrader": {
     "cell_type": "code",
     "checksum": "60e1d98d72c161525f717ad52374d112",
     "grade": false,
     "grade_id": "cell-bd9ee7c6e755bc13",
     "locked": false,
     "schema_version": 3,
     "solution": true,
     "task": false
    },
    "tags": []
   },
   "outputs": [
    {
     "data": {
      "text/plain": [
       "h (generic function with 1 method)"
      ]
     },
     "metadata": {},
     "output_type": "display_data"
    }
   ],
   "source": [
    "function h(q, q_p, m_1, m_2, l_1, l_2)\n",
    "    \"\"\"\n",
    "    Computes the h-vector for a two-link pendulum system.\n",
    "\n",
    "    Args:\n",
    "        q: Vector of joint angles for the two-link pendulum, shape (2).\n",
    "        q_p: Vector of joint angular velocities, shape (2).\n",
    "        m_1: Mass of the first pendulum link.\n",
    "        m_2: Mass of the second pendulum link.\n",
    "        l_1: Length of the first pendulum link.\n",
    "        l_2: Length of the second pendulum link.\n",
    "\n",
    "    Returns:\n",
    "        Vector: h-vector of the system, shape (2).\n",
    "    \"\"\"\n",
    "    g = 9.81\n",
    "\n",
    "    @assert size(q) == (2,)\n",
    "    @assert size(q_p) == (2,)\n",
    "\n",
    "    #--- YOUR CODE STARTS HERE ---#\n",
    "    theta_1, theta_2 = q[1], q[2]\n",
    "    theta_1_dot, theta_2_dot = q_p[1], q_p[2]\n",
    "\n",
    "    d11 = -0.5 * m_2 * l_2^2 * theta_2_dot * sin(theta_1 - theta_2)\n",
    "    d12 = 0.5 * m_2 * l_2^2 * theta_2_dot * sin(theta_1 - theta_2)\n",
    "    d21 = -0.5 * m_2 * l_2^2 * theta_1_dot * sin(theta_1 - theta_2)\n",
    "    d22 = 0.5 * m_2 * l_2^2 * theta_1_dot * sin(theta_1 - theta_2)\n",
    "\n",
    "    first = -[d11 d12; d21 d22] * q_p\n",
    "\n",
    "    s1 = -0.5 * m_2 * l_2^2 * theta_1_dot * theta_2_dot * sin(theta_1 - theta_2)\n",
    "    s2 = 0.5 * m_2 * l_2^2 * theta_1_dot * theta_2_dot * sin(theta_1 - theta_2)\n",
    "\n",
    "    second = [s1, s2]\n",
    "    \n",
    "    t1 = 0.5 * g * m_1 * l_1 * sin(theta_1) + g * m_2 * l_2 * sin(theta_1)\n",
    "    t2 = 0.5 * g * m_2 * l_2 * sin(theta_2)\n",
    "\n",
    "    third = [t1, t2]\n",
    "\n",
    "    h_vector = first .+ second .- third\n",
    "    #--- YOUR CODE ENDS HERE ---#\n",
    "\n",
    "    @assert size(h_vector) == (2,)\n",
    "    return h_vector\n",
    "end"
   ]
  },
  {
   "cell_type": "code",
   "execution_count": 13,
   "id": "ed56eccf-c1d2-419b-bf09-3ca659580b05",
   "metadata": {
    "ExecuteTime": {
     "end_time": "2024-12-16T13:19:58.308000+01:00",
     "start_time": "2024-12-16T12:19:56.944Z"
    },
    "deletable": false,
    "editable": false,
    "nbgrader": {
     "cell_type": "code",
     "checksum": "7b1b2afe6b81853f3a7ab4fc8c99bf74",
     "grade": false,
     "grade_id": "cell-15592b960a154e1e",
     "locked": true,
     "schema_version": 3,
     "solution": false,
     "task": false
    },
    "tags": []
   },
   "outputs": [
    {
     "name": "stdout",
     "output_type": "stream",
     "text": [
      "h: [-14.061615829593379, -2.5813315672752104]\n"
     ]
    }
   ],
   "source": [
    "q = [0.5, 3.0]\n",
    "q_p = [-1.0, 0.2]\n",
    "\n",
    "m_1 = 1\n",
    "m_2 = 1\n",
    "l_1 = 2\n",
    "l_2 = 2\n",
    "\n",
    "println(\"h: $(h(q,q_p, m_1, m_2, l_1, l_2))\")\n",
    "\n",
    "@assert isapprox(h(q, q_p, m_1, m_2, l_1, l_2), [-14.061615829593379, -2.5813315672752104], atol=1e-5, rtol=0) # evaluation at a single point as help for students for hard check "
   ]
  },
  {
   "cell_type": "code",
   "execution_count": 14,
   "id": "4178c3f9-94c1-4e1e-82b3-01dc38092fa6",
   "metadata": {
    "ExecuteTime": {
     "end_time": "2024-12-16T13:19:58.313000+01:00",
     "start_time": "2024-12-16T12:19:57.103Z"
    },
    "deletable": false,
    "editable": false,
    "nbgrader": {
     "cell_type": "code",
     "checksum": "dd87a37df963f24ab9d7df9c2ebb1045",
     "grade": true,
     "grade_id": "cell-5f4e7b4ec65c2da6",
     "locked": true,
     "points": 1,
     "schema_version": 3,
     "solution": false,
     "task": false
    },
    "tags": []
   },
   "outputs": [],
   "source": [
    "# Please leave this cell as it is"
   ]
  },
  {
   "cell_type": "code",
   "execution_count": 15,
   "id": "97873fe6-90c0-4bc6-874f-9d78db79d03f",
   "metadata": {
    "ExecuteTime": {
     "end_time": "2024-12-16T13:19:58.317000+01:00",
     "start_time": "2024-12-16T12:19:57.296Z"
    },
    "deletable": false,
    "editable": false,
    "nbgrader": {
     "cell_type": "code",
     "checksum": "5d6c042bdc7371dd994741f888021d28",
     "grade": true,
     "grade_id": "cell-b2f9f452d738dbae",
     "locked": true,
     "points": 0,
     "schema_version": 3,
     "solution": false,
     "task": false
    },
    "tags": []
   },
   "outputs": [],
   "source": [
    "# Please leave this cell as it is"
   ]
  },
  {
   "cell_type": "markdown",
   "id": "3465cc46-92f0-469a-bda6-d570189bd28e",
   "metadata": {
    "deletable": false,
    "editable": false,
    "nbgrader": {
     "cell_type": "markdown",
     "checksum": "7ea0607f3a34832c32c0e60923eae029",
     "grade": false,
     "grade_id": "cell-8598663caff38ef4",
     "locked": true,
     "schema_version": 3,
     "solution": false,
     "task": false
    },
    "tags": []
   },
   "source": [
    "By rearranging eq. (5), we obtain\n",
    "\n",
    "\\begin{equation}\n",
    "\\ddot{q} =  M(t,q)^{-1}h(t,q,\\dot{q}) \\tag{6},\n",
    "\\end{equation}\n",
    "\n",
    "which is now to be converted into the state-space form in the last step.\n",
    "The following state vector is introduced for this purpose:\n",
    "\n",
    "\\begin{equation}\n",
    "x =  [\\theta_1\\;\\theta_2\\;\\dot{\\theta_1}\\;\\dot{\\theta_2}]^\\top.\n",
    "\\end{equation}\n",
    "\n",
    "Which in turn results in the following state-space equation:\n",
    "\n",
    "\\begin{equation}\n",
    "\\dot{x} =  [\\dot{q}\\;\\ddot{q}]^\\top = [\\dot{q}\\;M(t,q)^{-1}h(t,q,\\dot{q})]^\\top = f(x,t).\n",
    "\\end{equation}"
   ]
  },
  {
   "cell_type": "markdown",
   "id": "bee3a1d5-018e-4def-94c5-665106593fc1",
   "metadata": {
    "deletable": false,
    "editable": false,
    "nbgrader": {
     "cell_type": "markdown",
     "checksum": "edc61ceb20c18840ed7e14a8f01fdab2",
     "grade": false,
     "grade_id": "cell-a50788dc5a00c8ff",
     "locked": true,
     "schema_version": 3,
     "solution": false,
     "task": false
    },
    "tags": []
   },
   "source": [
    "### **d)** Convert the equation of motion to the state-space representation - (1 point)"
   ]
  },
  {
   "cell_type": "code",
   "execution_count": 16,
   "id": "850bfb01-7715-47fa-a729-adb107515fb0",
   "metadata": {
    "ExecuteTime": {
     "end_time": "2024-12-16T13:19:58.333000+01:00",
     "start_time": "2024-12-16T12:19:57.815Z"
    },
    "deletable": false,
    "nbgrader": {
     "cell_type": "code",
     "checksum": "39cc866c0a414bf7376aaee670a414f7",
     "grade": false,
     "grade_id": "cell-9f8774f3ec16b9f4",
     "locked": false,
     "schema_version": 3,
     "solution": true,
     "task": false
    },
    "tags": []
   },
   "outputs": [
    {
     "data": {
      "text/plain": [
       "double_pendulum! (generic function with 1 method)"
      ]
     },
     "metadata": {},
     "output_type": "display_data"
    }
   ],
   "source": [
    "function double_pendulum!(dx, x, p, t)\n",
    "    \"\"\"\n",
    "    Computes the derivatives of the state vector `x` for a double pendulum system.\n",
    "\n",
    "    Args:\n",
    "        dx: Vector to store the computed derivatives.\n",
    "        x: State vector containing the generalized coordinates and their derivatives.\n",
    "            - x[1]: Angle Θ₁ (first pendulum)\n",
    "            - x[2]: Angle Θ₂ (second pendulum)\n",
    "            - x[3]: Angular velocity ω₁ (first pendulum)\n",
    "            - x[4]: Angular velocity ω₂ (second pendulum)\n",
    "        p: Parameters vector containing the lengths of the pendulum arms.\n",
    "            - p[1]: Length of the first pendulum arm (l₁)\n",
    "            - p[2]: Length of the second pendulum arm (l₂)\n",
    "        t: Current time (not used in the function).\n",
    "\n",
    "    Returns:\n",
    "        Vector: Computed derivatives of the state vector `x`.\n",
    "            - dx[1]: Angular velocity ω₁ (first pendulum)\n",
    "            - dx[2]: Angular velocity ω₂ (second pendulum)\n",
    "            - dx[3]: Angular acceleration ω₁' (first pendulum)\n",
    "            - dx[4]: Angular acceleration ω₂' (second pendulum)\n",
    "    \"\"\"\n",
    "\n",
    "    g = 9.81\n",
    "    m_1 = 1\n",
    "    m_2 = 0.5\n",
    "    l_1, l_2 = p\n",
    "\n",
    "    @assert size(x) == (4,)\n",
    "    @assert length(p) == 2\n",
    "\n",
    "    # generalized coordinates\n",
    "    q = x[1:2]\n",
    "    q_p = x[3:4]\n",
    "\n",
    "    #--- YOUR CODE STARTS HERE ---#\n",
    "    q_pp = inv(M(q, m_1, m_2, l_1, l_2)) * h(q, q_p, m_1, m_2, l_1, l_2)\n",
    "\n",
    "    dx[1] = q_p[1]\n",
    "    dx[2] = q_p[2]\n",
    "    dx[3] = q_pp[1]\n",
    "    dx[4] = q_pp[2]\n",
    "    #--- YOUR CODE ENDS HERE ---#\n",
    "end"
   ]
  },
  {
   "cell_type": "code",
   "execution_count": 17,
   "id": "2e46c127-66b2-46a8-aa55-ba0dbae9612d",
   "metadata": {
    "ExecuteTime": {
     "end_time": "2024-12-16T13:20:05.320000+01:00",
     "start_time": "2024-12-16T12:19:57.993Z"
    },
    "deletable": false,
    "editable": false,
    "nbgrader": {
     "cell_type": "code",
     "checksum": "a6187945afae1d97112443909d108703",
     "grade": false,
     "grade_id": "cell-6120bd20947a4563",
     "locked": true,
     "schema_version": 3,
     "solution": false,
     "task": false
    },
    "tags": []
   },
   "outputs": [],
   "source": [
    "x0 = [π / 2, π / 2, 0, 0]\n",
    "p = [1, 1]\n",
    "tspan = [0, 0.1]\n",
    "dt = 1e-3\n",
    "prob = ODEProblem(double_pendulum!, x0, tspan, p);\n",
    "sol = solve(prob, Tsit5(), saveat=dt);\n",
    "\n",
    "t, x = sol.t, sol.u\n",
    "x = reduce(hcat, x)\n",
    "\n",
    "@assert isapprox(x[:, end], [1.5039951673202, 1.5973123079743048, -1.3326403676290886, 0.5208390338127351], atol=1e-3, rtol=0) # evaluation at a single point as help for students for hard check"
   ]
  },
  {
   "cell_type": "code",
   "execution_count": 18,
   "id": "15fd93c3-6050-450d-91fb-576dd398794c",
   "metadata": {
    "ExecuteTime": {
     "end_time": "2024-12-16T13:20:05.667000+01:00",
     "start_time": "2024-12-16T12:19:58.174Z"
    },
    "deletable": false,
    "editable": false,
    "nbgrader": {
     "cell_type": "code",
     "checksum": "9d6d38bb37dbe21e9ac0aee10ae46568",
     "grade": true,
     "grade_id": "cell-c18fe3eebc724d6c",
     "locked": true,
     "points": 1,
     "schema_version": 3,
     "solution": false,
     "task": false
    },
    "tags": []
   },
   "outputs": [],
   "source": [
    "# Please leave this cell as its is"
   ]
  },
  {
   "cell_type": "code",
   "execution_count": 19,
   "id": "16b4ae97-3b4c-4325-bd23-368fb58e0a68",
   "metadata": {
    "ExecuteTime": {
     "end_time": "2024-12-16T13:20:05.671000+01:00",
     "start_time": "2024-12-16T12:19:58.357Z"
    },
    "deletable": false,
    "editable": false,
    "nbgrader": {
     "cell_type": "code",
     "checksum": "b166781cdc3495695842357c4c1fb18b",
     "grade": true,
     "grade_id": "cell-58393ad0982b1474",
     "locked": true,
     "points": 0,
     "schema_version": 3,
     "solution": false,
     "task": false
    },
    "tags": []
   },
   "outputs": [],
   "source": [
    "# Please leave this cell as its is"
   ]
  },
  {
   "cell_type": "markdown",
   "id": "ceee3459-c6f6-4737-95eb-3dc36363ac62",
   "metadata": {
    "deletable": false,
    "editable": false,
    "nbgrader": {
     "cell_type": "markdown",
     "checksum": "f4bd7f69ef23e0d3d6fe8ef0db3bd709",
     "grade": false,
     "grade_id": "cell-b2f81ec4dd871eb0",
     "locked": true,
     "schema_version": 3,
     "solution": false,
     "task": false
    },
    "tags": []
   },
   "source": [
    "First, we generate our ground truth data, for example from a test bench of the system to be idendified. We assume that there only additive, uncorrelated and normally distributed measurement noise."
   ]
  },
  {
   "cell_type": "code",
   "execution_count": 20,
   "id": "7c6298eb-cac0-4f42-9455-3d2e5192d04b",
   "metadata": {
    "ExecuteTime": {
     "end_time": "2024-12-16T13:20:05.688000+01:00",
     "start_time": "2024-12-16T12:19:58.721Z"
    },
    "deletable": false,
    "editable": false,
    "nbgrader": {
     "cell_type": "code",
     "checksum": "51fbcc4683c90408341b0e4441dec3f6",
     "grade": false,
     "grade_id": "cell-37fa3ac77969fdf7",
     "locked": true,
     "schema_version": 3,
     "solution": false,
     "task": false
    },
    "tags": []
   },
   "outputs": [
    {
     "data": {
      "text/plain": [
       "gen_measurement (generic function with 1 method)"
      ]
     },
     "metadata": {},
     "output_type": "display_data"
    }
   ],
   "source": [
    "function gen_measurement(ode_function, x0, tspan, dt, σ)\n",
    "    \"\"\"\n",
    "    Generates measurement data for a simulated system trajectory.\n",
    "\n",
    "    Args:\n",
    "        ode_function: Function representing the ordinary differential equations (ODEs) of the system dynamics.\n",
    "        x0: Initial state vector of the system, shape (n_states).\n",
    "        tspan: Tuple (t_start, t_end) specifying the time frame for simulation.\n",
    "        dt: Time step for saving the simulation results.\n",
    "        σ: Standard deviation of the measurement noise.\n",
    "\n",
    "    Returns:\n",
    "        Tuple: The resulting trajectory `x` and the noisy measurements `y`.\n",
    "        - x: State trajectory matrix of size (n_states, n_timepoints).\n",
    "        - y: Noisy measurements matrix of size (n_measurement_states, n_timepoints).\n",
    "    \"\"\"\n",
    "    p_true = (0.5, 2) # ground truth\n",
    "\n",
    "    @assert size(x0) == (4,)\n",
    "\n",
    "    prob = ODEProblem(ode_function, x0, tspan, p_true)\n",
    "    sol = solve(prob, Tsit5(), saveat=dt)\n",
    "\n",
    "    t, x = sol.t, sol.u\n",
    "    x = reduce(hcat, x)\n",
    "\n",
    "    @assert size(x) == (4, length(t))\n",
    "\n",
    "    # define and add measurement noise\n",
    "    R = σ^2 * I(2)\n",
    "    y = x[1:2, :] + R * randn(2, size(x)[2])\n",
    "\n",
    "    return (x, y)\n",
    "end"
   ]
  },
  {
   "cell_type": "markdown",
   "id": "b55385fc-0591-4923-b70f-903e3d8d3b01",
   "metadata": {
    "deletable": false,
    "editable": false,
    "nbgrader": {
     "cell_type": "markdown",
     "checksum": "99c75064c0e3add3b952aeba892cf2ed",
     "grade": false,
     "grade_id": "cell-461e224a4876c513",
     "locked": true,
     "schema_version": 3,
     "solution": false,
     "task": false
    },
    "tags": []
   },
   "source": [
    "## Task 2 - Implementation of a function that simulates an experiment - (2 points)"
   ]
  },
  {
   "cell_type": "markdown",
   "id": "3660902b-8c70-4e16-8777-4b55a30bb9b6",
   "metadata": {
    "deletable": false,
    "editable": false,
    "nbgrader": {
     "cell_type": "markdown",
     "checksum": "70bac78b95b2ed6fc723318cc916e7b4",
     "grade": false,
     "grade_id": "cell-c6cd1022dc9b316c",
     "locked": true,
     "schema_version": 3,
     "solution": false,
     "task": false
    },
    "tags": []
   },
   "source": [
    "In order to estimate the parameters, a function is to be added which carries out a whole simulation with the estimated parameters. Use a standard ODE solver `Tsit5()` to simulate a state trajecory based on an arbitrary initial state."
   ]
  },
  {
   "cell_type": "code",
   "execution_count": 21,
   "id": "d2f0d2c5-2d25-4e3a-801d-57c130fffd99",
   "metadata": {
    "ExecuteTime": {
     "end_time": "2024-12-16T13:20:05.705000+01:00",
     "start_time": "2024-12-16T12:19:59.281Z"
    },
    "deletable": false,
    "nbgrader": {
     "cell_type": "code",
     "checksum": "d13aa962c5fd28911e8f6bc21c18890f",
     "grade": false,
     "grade_id": "cell-459798172a450bf7",
     "locked": false,
     "schema_version": 3,
     "solution": true,
     "task": false
    },
    "tags": []
   },
   "outputs": [
    {
     "data": {
      "text/plain": [
       "sim_exp (generic function with 1 method)"
      ]
     },
     "metadata": {},
     "output_type": "display_data"
    }
   ],
   "source": [
    "function sim_exp(ode_function, x0, tspan, dt, p)\n",
    "    \"\"\"\n",
    "    Generates simulation data for a given system and simulation parameters.\n",
    "\n",
    "    Args:\n",
    "        ode_function: Function representing the ordinary differential equations (ODEs) of the system dynamics.\n",
    "        x0: Initial state vector of the system, shape (n_states).\n",
    "        tspan: Tuple (t_start, t_end) specifying the time frame for simulation.\n",
    "        dt: Time step for saving the simulation results.\n",
    "        p: Parameter vector containing system-specific parameters.\n",
    "\n",
    "    Returns:\n",
    "        Tuple: The resulting trajectory `x` and the simulated measurements `y`.\n",
    "        - x: State trajectory matrix of size (n_states, n_timepoints).\n",
    "        - y: Simulated measurements matrix of size (n_measurement_states, n_timepoints).\n",
    "    \"\"\"\n",
    "\n",
    "    @assert size(x0) == (4,)\n",
    "\n",
    "    #--- YOUR CODE STARTS HERE ---#\n",
    "    prob = ODEProblem(ode_function, x0, tspan, p)\n",
    "    sol = solve(prob, Tsit5(), saveat=dt)\n",
    "    t, x = sol.t, sol.u\n",
    "    x = reduce(hcat, x)\n",
    "    #--- YOUR CODE ENDS HERE ---#\n",
    "\n",
    "    @assert size(x) == (4, length(t))\n",
    "\n",
    "    y = x[1:2, :]\n",
    "    return (x, y)\n",
    "end"
   ]
  },
  {
   "cell_type": "code",
   "execution_count": 22,
   "id": "04d89e67-92da-4d30-9d0d-e9a3710aa40e",
   "metadata": {
    "ExecuteTime": {
     "end_time": "2024-12-16T13:20:07.518000+01:00",
     "start_time": "2024-12-16T12:19:59.470Z"
    },
    "deletable": false,
    "editable": false,
    "nbgrader": {
     "cell_type": "code",
     "checksum": "e4510660db31aa77ff6e3fac9329834d",
     "grade": false,
     "grade_id": "cell-cbbc26febee01952",
     "locked": true,
     "schema_version": 3,
     "solution": false,
     "task": false
    },
    "tags": []
   },
   "outputs": [
    {
     "name": "stdout",
     "output_type": "stream",
     "text": [
      "y_hat: [1.5039951673199368, 1.5973123079750016]\n"
     ]
    }
   ],
   "source": [
    "x0 = [π / 2, π / 2, 0, 0]\n",
    "tspan = [0, 0.1]\n",
    "dt = 1e-3\n",
    "p = [1.0, 1.0]\n",
    "\n",
    "x_hat, y_hat = sim_exp(double_pendulum!, x0, tspan, dt, p)\n",
    "\n",
    "@assert size(y_hat) == (2, 101)\n",
    "\n",
    "println(\"y_hat: $(y_hat[:,end])\")\n",
    "@assert isapprox(y_hat[:, end], [1.5039951673202, 1.5973123079743048], atol=1e-5, rtol=0)"
   ]
  },
  {
   "cell_type": "code",
   "execution_count": 23,
   "id": "a513d146-663c-4123-8b8b-47169786b881",
   "metadata": {
    "ExecuteTime": {
     "end_time": "2024-12-16T13:20:07.522000+01:00",
     "start_time": "2024-12-16T12:19:59.659Z"
    },
    "deletable": false,
    "editable": false,
    "nbgrader": {
     "cell_type": "code",
     "checksum": "dd7217397a33185d6e8fab54a721a2be",
     "grade": true,
     "grade_id": "cell-d7eeeb9ec939bcce",
     "locked": true,
     "points": 2,
     "schema_version": 3,
     "solution": false,
     "task": false
    },
    "tags": []
   },
   "outputs": [],
   "source": [
    "# Please leave this cell as its is"
   ]
  },
  {
   "cell_type": "code",
   "execution_count": 24,
   "id": "fa0005b1-449b-454e-81d5-1c1c322ec908",
   "metadata": {
    "ExecuteTime": {
     "end_time": "2024-12-16T13:20:07.525000+01:00",
     "start_time": "2024-12-16T12:19:59.832Z"
    },
    "deletable": false,
    "editable": false,
    "nbgrader": {
     "cell_type": "code",
     "checksum": "b98c230cb1e968ba29173c3db93a68dc",
     "grade": true,
     "grade_id": "cell-7983186b5fb92c5e",
     "locked": true,
     "points": 0,
     "schema_version": 3,
     "solution": false,
     "task": false
    },
    "tags": []
   },
   "outputs": [],
   "source": [
    "# Please leave this cell as its is"
   ]
  },
  {
   "cell_type": "markdown",
   "id": "593fdf90-5941-4e10-9986-7180e8b1ea55",
   "metadata": {
    "deletable": false,
    "editable": false,
    "nbgrader": {
     "cell_type": "markdown",
     "checksum": "ee1d0e7ea003594af42597c67200435e",
     "grade": false,
     "grade_id": "cell-c7a10ac2bfde5fa8",
     "locked": true,
     "schema_version": 3,
     "solution": false,
     "task": false
    },
    "tags": []
   },
   "source": [
    "## Task 3: Solve an identification problem for unknown pendulum length values - (1 point)"
   ]
  },
  {
   "cell_type": "markdown",
   "id": "5b8f0784-a09c-4609-be2a-db2bccd37d3e",
   "metadata": {
    "deletable": false,
    "editable": false,
    "nbgrader": {
     "cell_type": "markdown",
     "checksum": "5c2a2f89d250806f4cdd7b40fd93f2d2",
     "grade": false,
     "grade_id": "cell-2fe9098bf07049a7",
     "locked": true,
     "schema_version": 3,
     "solution": false,
     "task": false
    },
    "tags": []
   },
   "source": [
    "We assume that we have ideal structural knowledge regarding the double pendulum dynamics, but lack the length information of the two poles. Hence, we want to set up an optimization problem, which identifies the poles' length. First, a cost function must be defined for this purpose.\n",
    "\n",
    "### **a)** Write a function to compute the MSE. - (0.5 points)"
   ]
  },
  {
   "cell_type": "code",
   "execution_count": 25,
   "id": "ddd6e2cb-e014-451a-bb3e-5b436883802a",
   "metadata": {
    "ExecuteTime": {
     "end_time": "2024-12-16T13:20:07.541000+01:00",
     "start_time": "2024-12-16T12:20:00.331Z"
    },
    "deletable": false,
    "nbgrader": {
     "cell_type": "code",
     "checksum": "98ab74d092e96fa30e78ceb62959637b",
     "grade": false,
     "grade_id": "cell-2ba689499adc024f",
     "locked": false,
     "schema_version": 3,
     "solution": true,
     "task": false
    },
    "tags": []
   },
   "outputs": [
    {
     "data": {
      "text/plain": [
       "mse (generic function with 1 method)"
      ]
     },
     "metadata": {},
     "output_type": "display_data"
    }
   ],
   "source": [
    "function mse(y, y_hat)\n",
    "    \"\"\"\n",
    "    Computes the Mean Squared Error (MSE) between two matrices or vectors.\n",
    "\n",
    "    Args:\n",
    "        y: Matrix or vector of actual values.\n",
    "        y_hat: Matrix or vector of predicted values.\n",
    "\n",
    "    Returns:\n",
    "        Float64: Mean Squared Error between `y` and `y_hat`.\n",
    "    \"\"\"\n",
    "    #--- YOUR CODE STARTS HERE ---#\n",
    "    diff = sum((y .- y_hat).^2)\n",
    "    diff /= size(y, 2)\n",
    "\n",
    "    return diff\n",
    "    #--- YOUR CODE ENDS HERE ---#\n",
    "end"
   ]
  },
  {
   "cell_type": "code",
   "execution_count": 26,
   "id": "a2dc93da-dc2b-47d2-9b4b-d447e7e5b9ff",
   "metadata": {
    "ExecuteTime": {
     "end_time": "2024-12-16T13:20:08.215000+01:00",
     "start_time": "2024-12-16T12:20:00.518Z"
    },
    "deletable": false,
    "editable": false,
    "nbgrader": {
     "cell_type": "code",
     "checksum": "d486a07e10a7ca2dc3f32e6b3f6bbdc3",
     "grade": false,
     "grade_id": "cell-731e2290cc2875ae",
     "locked": true,
     "schema_version": 3,
     "solution": false,
     "task": false
    },
    "tags": []
   },
   "outputs": [
    {
     "name": "stdout",
     "output_type": "stream",
     "text": [
      "l: 8.0\n"
     ]
    }
   ],
   "source": [
    "y = ones(2, 5)\n",
    "y_hat = 3 * ones(2, 5)\n",
    "l = mse(y, y_hat)\n",
    "\n",
    "@assert length(l) == 1\n",
    "\n",
    "println(\"l: $(l)\")\n",
    "@assert isapprox(l, 8.0, atol=1e-5, rtol=0)"
   ]
  },
  {
   "cell_type": "code",
   "execution_count": 27,
   "id": "d00fda9b-3d68-4787-b4be-acb91c157698",
   "metadata": {
    "ExecuteTime": {
     "end_time": "2024-12-16T13:20:08.339000+01:00",
     "start_time": "2024-12-16T12:20:00.712Z"
    },
    "deletable": false,
    "editable": false,
    "nbgrader": {
     "cell_type": "code",
     "checksum": "4005fcfc1c9b6d761bbb681ce396b4c3",
     "grade": true,
     "grade_id": "cell-c3d10594c584375d",
     "locked": true,
     "points": 0.5,
     "schema_version": 3,
     "solution": false,
     "task": false
    },
    "tags": []
   },
   "outputs": [],
   "source": [
    "# Please leave this cell as its is"
   ]
  },
  {
   "cell_type": "code",
   "execution_count": 28,
   "id": "0fb0375d-d78b-456c-84a2-8d30ae132418",
   "metadata": {
    "ExecuteTime": {
     "end_time": "2024-12-16T13:20:08.341000+01:00",
     "start_time": "2024-12-16T12:20:00.894Z"
    },
    "deletable": false,
    "editable": false,
    "nbgrader": {
     "cell_type": "code",
     "checksum": "f8ee6307a11778bf3ac56ea577466f0a",
     "grade": true,
     "grade_id": "cell-94f67ebff6fc45be",
     "locked": true,
     "points": 0,
     "schema_version": 3,
     "solution": false,
     "task": false
    },
    "tags": []
   },
   "outputs": [],
   "source": [
    "# Please leave this cell as its is"
   ]
  },
  {
   "cell_type": "markdown",
   "id": "8c77033b-0494-4835-8e78-4a97322c90d8",
   "metadata": {
    "deletable": false,
    "editable": false,
    "nbgrader": {
     "cell_type": "markdown",
     "checksum": "bd9677cf47fa40d242bdd4fe90b6c96f",
     "grade": false,
     "grade_id": "cell-5ee1b202b96aa2ea",
     "locked": true,
     "schema_version": 3,
     "solution": false,
     "task": false
    },
    "tags": []
   },
   "source": [
    "### **b)** Set up the objective function for the simulation case - (0.5 points)"
   ]
  },
  {
   "cell_type": "code",
   "execution_count": 29,
   "id": "cd4ab0a2-1828-45ed-b08d-2e65afbf5a23",
   "metadata": {
    "ExecuteTime": {
     "end_time": "2024-12-16T13:20:08.361000+01:00",
     "start_time": "2024-12-16T12:20:01.257Z"
    },
    "deletable": false,
    "nbgrader": {
     "cell_type": "code",
     "checksum": "c1c422c7113422ddf966ae84af281f21",
     "grade": false,
     "grade_id": "cell-307e29f39bf87b6c",
     "locked": false,
     "schema_version": 3,
     "solution": true,
     "task": false
    },
    "tags": []
   },
   "outputs": [
    {
     "data": {
      "text/plain": [
       "simulation_objective (generic function with 1 method)"
      ]
     },
     "metadata": {},
     "output_type": "display_data"
    }
   ],
   "source": [
    "function simulation_objective(p; y_mes=y_mes, ode_func=double_pendulum!, x0=x0, tspan=tspan, dt=dt)\n",
    "    \"\"\"\n",
    "    Computes the MSE loss value for a simulation-based optimization problem.\n",
    "\n",
    "    Args:\n",
    "        p: Parameter vector to be optimized.\n",
    "        y_mes: Matrix of measured data to compare against simulation results (default: y_mes).\n",
    "        ode_func: Function representing the ordinary differential equations (ODEs) of the system dynamics (default: double_pendulum!).\n",
    "        x0: Initial state vector of the system (default: x0).\n",
    "        tspan: Tuple (t_start, t_end) specifying the time frame for simulation (default: tspan).\n",
    "        dt: Time step for saving the simulation results (default: dt).\n",
    "\n",
    "    Returns:\n",
    "        Float64: Objective value representing the mean squared error between measured and simulated data.\n",
    "    \"\"\"\n",
    "    #--- YOUR CODE STARTS HERE ---#\n",
    "    x_sim, y_sim = sim_exp(ode_func, x0, tspan, dt, p)\n",
    "    return mse(y_sim, y_mes)\n",
    "    #--- YOUR CODE ENDS HERE ---#\n",
    "end"
   ]
  },
  {
   "cell_type": "code",
   "execution_count": 30,
   "id": "a848bb41-402d-4a51-a726-d3a9e9d45a68",
   "metadata": {
    "ExecuteTime": {
     "end_time": "2024-12-16T13:20:12.332000+01:00",
     "start_time": "2024-12-16T12:20:01.448Z"
    },
    "deletable": false,
    "editable": false,
    "nbgrader": {
     "cell_type": "code",
     "checksum": "8a8d07625f6468ebad99086e86cd03d5",
     "grade": true,
     "grade_id": "cell-05760d6bfb558178",
     "locked": true,
     "points": 0.5,
     "schema_version": 3,
     "solution": false,
     "task": false
    },
    "tags": []
   },
   "outputs": [],
   "source": [
    "# Please leave this cell as its is"
   ]
  },
  {
   "cell_type": "code",
   "execution_count": 31,
   "id": "250c53c7-a0b1-4ebf-b55a-3ecc111aeed7",
   "metadata": {
    "ExecuteTime": {
     "end_time": "2024-12-16T13:20:12.337000+01:00",
     "start_time": "2024-12-16T12:20:01.632Z"
    },
    "deletable": false,
    "editable": false,
    "nbgrader": {
     "cell_type": "code",
     "checksum": "2426ea7fd6361e6a5d311d4b9031438f",
     "grade": true,
     "grade_id": "cell-b3e000daee62c907",
     "locked": true,
     "points": 0,
     "schema_version": 3,
     "solution": false,
     "task": false
    },
    "tags": []
   },
   "outputs": [],
   "source": [
    "# Please leave this cell as its is"
   ]
  },
  {
   "cell_type": "markdown",
   "id": "a40e2bd4-85f4-42a6-bc09-83d9f6e6c280",
   "metadata": {
    "deletable": false,
    "editable": false,
    "nbgrader": {
     "cell_type": "markdown",
     "checksum": "84cb9a11b9934cc9174d79cc60e11418",
     "grade": false,
     "grade_id": "cell-c2451299064989ce",
     "locked": true,
     "schema_version": 3,
     "solution": false,
     "task": false
    },
    "tags": []
   },
   "source": [
    "Based on identification framework, we utilize the Optim.jl package to solve for the pendulum length. This is provided as a executation-ready code, which you can play around with in the following. As we have generated the ground truth data using the above simulation ourselves, you can compare the found results for the length values and check if you have implemented everything correctly. This last step of configuring and executing the optimization is not graded, but serves as a baseline for the next task. "
   ]
  },
  {
   "cell_type": "code",
   "execution_count": 32,
   "id": "4ac9480b-3fb1-42ba-8694-c6d739bc0034",
   "metadata": {
    "ExecuteTime": {
     "end_time": "2024-12-16T13:20:26.699000+01:00",
     "start_time": "2024-12-16T12:20:02.015Z"
    },
    "deletable": false,
    "editable": false,
    "nbgrader": {
     "cell_type": "code",
     "checksum": "b3434d1d258c1705b1e3fff6a37e6971",
     "grade": false,
     "grade_id": "cell-816dfc0ba647b585",
     "locked": true,
     "schema_version": 3,
     "solution": false,
     "task": false
    },
    "tags": []
   },
   "outputs": [
    {
     "name": "stdout",
     "output_type": "stream",
     "text": [
      " * Status: success\n",
      "\n",
      " * Candidate solution\n",
      "    Final objective value:     1.605721e-01\n",
      "\n",
      " * Found with\n",
      "    Algorithm:     Gradient Descent\n",
      "\n",
      " * Convergence measures\n",
      "    |x - x'|               = 7.14e-11 ≤ 1.0e-05\n",
      "    |x - x'|/|x'|          = 3.17e-11 ≰ 0.0e+00\n",
      "    |f(x) - f(x')|         = 9.16e-08 ≰ 0.0e+00\n",
      "    |f(x) - f(x')|/|f(x')| = 5.71e-07 ≰ 0.0e+00\n",
      "    |g(x)|                 = 1.02e-01 ≰ 1.0e-08\n",
      "\n",
      " * Work counters\n",
      "    Seconds run:   0  (vs limit Inf)\n",
      "    Iterations:    11\n",
      "    f(x) calls:    114\n",
      "    ∇f(x) calls:   114\n",
      "Optimal Parameters: [1.8360447062700427, 2.2524879011357886]\n"
     ]
    }
   ],
   "source": [
    "p_init = [0.7, 1.7] # initial guess of length values\n",
    "x0 = [π / 2, 0, 0, 0]\n",
    "tspan = (0, 2)\n",
    "dt = 1e-3\n",
    "\n",
    "σ = 0.1 # measurement noise config\n",
    "solver = GradientDescent() # you can also define other solvers\n",
    "options = Optim.Options(x_tol=1e-5)\n",
    "\n",
    "_, y_mes = gen_measurement(double_pendulum!, x0, tspan, dt, σ)\n",
    "\n",
    "result = optimize(p -> simulation_objective(p, y_mes=y_mes, ode_func=double_pendulum!, x0=x0, tspan=tspan, dt=dt), p_init, solver, options)\n",
    "\n",
    "# Print the result\n",
    "print(result)\n",
    "\n",
    "# print optimal parameters\n",
    "optimal_parameters = Optim.minimizer(result)\n",
    "println(\"Optimal Parameters: \", optimal_parameters)\n",
    "\n",
    "@assert size(optimal_parameters) == (2,)"
   ]
  },
  {
   "cell_type": "markdown",
   "id": "402d52b0-af62-4604-a011-4d78716bbe45",
   "metadata": {
    "deletable": false,
    "editable": false,
    "nbgrader": {
     "cell_type": "markdown",
     "checksum": "44223dcfd4d91681f12ce5197cadb00b",
     "grade": false,
     "grade_id": "cell-fb30ffbfc3e28164",
     "locked": true,
     "schema_version": 3,
     "solution": false,
     "task": false
    },
    "tags": []
   },
   "source": [
    "**Hint:** Try changing the variance of the measurement noise and also try other solvers. Gradient descent works well for convex problems, but if the cost landscape is very nonlinear, it needs a good initialization, therefore global algorithms are better suited for problems where you don't have a good initial guess. The `Optim.jl` package comes with various solvers which you can find [here](https://julianlsolvers.github.io/Optim.jl/stable/#)."
   ]
  },
  {
   "cell_type": "markdown",
   "id": "fd433afd-e978-4feb-95d2-ef1770881818",
   "metadata": {
    "deletable": false,
    "editable": false,
    "nbgrader": {
     "cell_type": "markdown",
     "checksum": "13a7c36a13c6f71eb8abc81d6613b6de",
     "grade": false,
     "grade_id": "cell-268c58e4ea725e3c",
     "locked": true,
     "schema_version": 3,
     "solution": false,
     "task": false
    },
    "tags": []
   },
   "source": [
    "## Task 4: Solve an identification task on testbench data - (2 points)"
   ]
  },
  {
   "cell_type": "markdown",
   "id": "0b6294fa-d27e-497e-bcd5-9182543eee33",
   "metadata": {
    "deletable": false,
    "editable": false,
    "nbgrader": {
     "cell_type": "markdown",
     "checksum": "304c33ecd63cf88418fb3c8a27b49c6d",
     "grade": false,
     "grade_id": "cell-53a3137d98d6d914",
     "locked": true,
     "schema_version": 3,
     "solution": false,
     "task": false
    },
    "tags": []
   },
   "source": [
    "In the previous part of the task, we generated the simulation data and presented the toolchain that can be used to solve the problem. In this subtask, measurement data from a double pendulum test rig is now read in so that the true length values are unknown to you in this subtask. Use the existing toolchain to estimate the pole lengths of the pendulum. Your specific solution path is not set in stone as we will only check for the found pendulum length values, which should deviate less than 5 % from the (unknown) ground truth values.\n",
    "\n",
    "**Hint #1:** The search area can be limited to a range of $[0.1, 3.0]$ for both parameters.\n",
    "\n",
    "**Hint #2:** You can compare the final loss value after training with the successful identification from the above subtasks to get an idea if the found results in task 4) are feasible or not."
   ]
  },
  {
   "cell_type": "code",
   "execution_count": 33,
   "id": "90f2b770-c4ae-494e-b09e-d81a025fbf56",
   "metadata": {
    "ExecuteTime": {
     "end_time": "2024-12-16T13:20:29.577000+01:00",
     "start_time": "2024-12-16T12:20:03.038Z"
    },
    "deletable": false,
    "editable": false,
    "nbgrader": {
     "cell_type": "code",
     "checksum": "c59c894a0655654815a1487dc87b309b",
     "grade": false,
     "grade_id": "cell-aadaf408e9e828f8",
     "locked": true,
     "schema_version": 3,
     "solution": false,
     "task": false
    },
    "tags": []
   },
   "outputs": [],
   "source": [
    "data_1 = matopen(\"data_task_4.mat\");\n",
    "x_mes = read(data_1, \"x\");\n",
    "y_mes = read(data_1, \"y\");"
   ]
  },
  {
   "cell_type": "code",
   "execution_count": null,
   "id": "6877b5a2",
   "metadata": {},
   "outputs": [
    {
     "name": "stdout",
     "output_type": "stream",
     "text": [
      " * Status: success\n",
      "\n",
      " * Candidate solution\n",
      "    Final objective value:     4.127437e+00\n",
      "\n",
      " * Found with\n",
      "    Algorithm:     Gradient Descent\n",
      "\n",
      " * Convergence measures\n",
      "    |x - x'|               = 0.00e+00 ≤ 1.0e-05\n",
      "    |x - x'|/|x'|          = 0.00e+00 ≤ 0.0e+00\n",
      "    |f(x) - f(x')|         = 0.00e+00 ≤ 0.0e+00\n",
      "    |f(x) - f(x')|/|f(x')| = 0.00e+00 ≤ 0.0e+00\n",
      "    |g(x)|                 = 1.98e-04 ≰ 1.0e-08\n",
      "\n",
      " * Work counters\n",
      "    Seconds run:   0  (vs limit Inf)\n",
      "    Iterations:    71\n",
      "    f(x) calls:    226\n",
      "    ∇f(x) calls:   226\n",
      "Optimal Parameters: [3.65089492860048, 2.841194432503199]\n"
     ]
    }
   ],
   "source": [
    "p_init = NaN\n",
    "tspan = (0, 1)\n",
    "dt = 1e-3\n",
    "x0 = NaN\n",
    "solver = NaN\n",
    "optimal_parameters = NaN\n",
    "\n",
    "#--- YOUR CODE STARTS HERE ---#\n",
    "p_init = [1.0, 1.0] # initial guess of length values\n",
    "x0 = [π / 2, 0, 0, 0]\n",
    "σ = 0.1 # measurement noise config\n",
    "solver = GradientDescent() \n",
    "options = Optim.Options(x_tol=1e-5)\n",
    "result = optimize(p -> simulation_objective(p, y_mes=y_mes, ode_func=double_pendulum!, x0=x0, tspan=tspan, dt=dt), p_init, solver, options)\n",
    "\n",
    "# Print the result\n",
    "print(result)\n",
    "\n",
    "# print optimal parameters\n",
    "optimal_parameters = Optim.minimizer(result)\n",
    "\n",
    "@assert size(optimal_parameters) == (2,)\n",
    "#--- YOUR CODE ENDS HERE ---#\n",
    "\n",
    "println(\"Optimal Parameters: \", optimal_parameters)"
   ]
  },
  {
   "cell_type": "code",
   "execution_count": 35,
   "id": "bb4d9658-699f-4878-9f6a-711231d99106",
   "metadata": {
    "ExecuteTime": {
     "end_time": "2024-12-16T13:20:37.676000+01:00",
     "start_time": "2024-12-16T12:20:03.419Z"
    },
    "deletable": false,
    "editable": false,
    "nbgrader": {
     "cell_type": "code",
     "checksum": "3aa4bb3172a9bc504c1330b3ea8a04b1",
     "grade": true,
     "grade_id": "cell-8e4a4a6dc8e7b1ef",
     "locked": true,
     "points": 2,
     "schema_version": 3,
     "solution": false,
     "task": false
    },
    "tags": []
   },
   "outputs": [],
   "source": [
    "@assert size(optimal_parameters) == (2,)\n"
   ]
  },
  {
   "cell_type": "code",
   "execution_count": 36,
   "id": "cbac289a-e2b9-4c83-93e9-7c28a958ef3a",
   "metadata": {},
   "outputs": [],
   "source": []
  }
 ],
 "metadata": {
  "kernelspec": {
   "display_name": "Julia 1.11.1",
   "language": "julia",
   "name": "julia-1.11"
  },
  "language_info": {
   "file_extension": ".jl",
   "mimetype": "application/julia",
   "name": "julia",
   "version": "1.11.1"
  }
 },
 "nbformat": 4,
 "nbformat_minor": 5
}
