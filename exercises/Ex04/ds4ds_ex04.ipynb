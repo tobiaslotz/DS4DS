{
 "cells": [
  {
   "cell_type": "markdown",
   "id": "fe19c683-a77d-4414-8d24-58a8f69e098e",
   "metadata": {
    "deletable": false,
    "editable": false,
    "nbgrader": {
     "cell_type": "markdown",
     "checksum": "fdd4071f8be6711859fcfa1cb05d1a11",
     "grade": false,
     "grade_id": "cell-d5e6df18ab7316ee",
     "locked": true,
     "schema_version": 3,
     "solution": false,
     "task": false
    },
    "tags": []
   },
   "source": [
    "# DS4DS Homework Exercise Sheet 04"
   ]
  },
  {
   "cell_type": "markdown",
   "id": "15c1382e-7b89-4f89-93cd-b1c633ae1c63",
   "metadata": {
    "deletable": false,
    "editable": false,
    "nbgrader": {
     "cell_type": "markdown",
     "checksum": "3d72a453f43a74682839931adce1c386",
     "grade": false,
     "grade_id": "cell-789fff049843e433",
     "locked": true,
     "schema_version": 3,
     "solution": false,
     "task": false
    },
    "tags": []
   },
   "source": [
    "### Task 1: Least Squares Linear Approximation - (2 points)"
   ]
  },
  {
   "cell_type": "markdown",
   "id": "605ebda2-ab08-41ec-87cc-e47b9ffc069d",
   "metadata": {
    "deletable": false,
    "editable": false,
    "nbgrader": {
     "cell_type": "markdown",
     "checksum": "c5e3eccde88961b9d8818256dba4ae5c",
     "grade": false,
     "grade_id": "cell-85e5b8dd6a07349f",
     "locked": true,
     "schema_version": 3,
     "solution": false,
     "task": false
    },
    "tags": []
   },
   "source": [
    "The measurements shown in the figure below were gathered from an unknown process.\n",
    "\n",
    "<img src=\"measurements_updated.png\" alt=\"measurements\" width=\"400\"/>\n",
    "\n",
    "However, we can assume a linear relationship between the measurements $y$ and the inputs $u$ for the underlying process\n",
    "\n",
    "$$\n",
    "\\begin{align}\n",
    "    y[k] = w_0 + w_1 u[k]\n",
    "\\end{align}.\n",
    "$$\n",
    "\n",
    "Your task is to identify the parameter vector $$\\boldsymbol{w} = \\begin{bmatrix} w_0\\\\ w_1\\end{bmatrix} $$ using the least squares approach shown in the lecture.\n",
    "\n",
    "**Note:** You can solve this problem using either pen and paper or Julia. Place your calculated values for $w_0$ and $w_1$ into the variables below.\n",
    "\n",
    "**Tip:** Think about the role of the two parameters you have acquired. Do they make sense for the data? Is there a way to visualize your result?"
   ]
  },
  {
   "cell_type": "code",
   "execution_count": 43,
   "id": "f4384dde-a77b-4613-943d-cf7ee1f344eb",
   "metadata": {
    "ExecuteTime": {
     "end_time": "2024-11-04T13:05:50.036000+01:00",
     "start_time": "2024-11-04T12:05:45.385Z"
    },
    "deletable": false,
    "nbgrader": {
     "cell_type": "code",
     "checksum": "80f3c3fa577ba3e2a919a7940264c968",
     "grade": false,
     "grade_id": "cell-2f711984831d75f9",
     "locked": false,
     "schema_version": 3,
     "solution": true,
     "task": false
    },
    "tags": []
   },
   "outputs": [
    {
     "name": "stdout",
     "output_type": "stream",
     "text": [
      "w_0: 0.6666666666666665   w_1: 1.0\n"
     ]
    }
   ],
   "source": [
    "w_0 = NaN\n",
    "w_1 = NaN\n",
    "\n",
    "#--- YOUR CODE STARTS HERE ---#\n",
    "using LinearAlgebra\n",
    "\n",
    "u = [1, 2, 3]\n",
    "y = [2, 2, 4]\n",
    "\n",
    "u_mean = 2\n",
    "y_mean = 8 / 3\n",
    "\n",
    "numerator = 0\n",
    "denominator = 0 \n",
    "for i = 1:3\n",
    "    numerator += (u[i] - u_mean) * (y[i] - y_mean)\n",
    "    denominator += (u[i] - u_mean)^2\n",
    "end\n",
    "\n",
    "w_1 = numerator / denominator\n",
    "w_0 = y_mean - w_1 * u_mean\n",
    "\n",
    "println(\"w_0: \", w_0, \"   w_1: \", w_1)\n",
    "#--- YOUR CODE ENDS HERE ---#"
   ]
  },
  {
   "cell_type": "markdown",
   "id": "ec93b860",
   "metadata": {},
   "source": [
    "### Results\n",
    "$w_0$ is the value at which the estimated line intersects the y-axis. <br>\n",
    "$w_1$ is the slope of the line. <br> <br>\n",
    "\n",
    "Considering the given datapoints, the estimated parameter values seem reasonable. This can also be seen in the visualization below. The line lies in between the $3$ datapoints, slightly skewd towards the $2$ Datapoints that lie above it.\n",
    "### Visualization:"
   ]
  },
  {
   "cell_type": "code",
   "execution_count": 63,
   "id": "e890f6f0",
   "metadata": {},
   "outputs": [
    {
     "data": {
      "image/png": "[encoded data removed]",
      "image/svg+xml": [
       "<?xml version=\"1.0\" encoding=\"utf-8\"?>\n",
       "<svg xmlns=\"http://www.w3.org/2000/svg\" xmlns:xlink=\"http://www.w3.org/1999/xlink\" width=\"600\" height=\"400\" viewBox=\"0 0 2400 1600\">\n",
       "<defs>\n",
       "  <clipPath id=\"clip680\">\n",
       "    <rect x=\"0\" y=\"0\" width=\"2400\" height=\"1600\"/>\n",
       "  </clipPath>\n",
       "</defs>\n",
       "<path clip-path=\"url(#clip680)\" d=\"M0 1600 L2400 1600 L2400 0 L0 0  Z\" fill=\"#ffffff\" fill-rule=\"evenodd\" fill-opacity=\"1\"/>\n",
       "<defs>\n",
       "  <clipPath id=\"clip681\">\n",
       "    <rect x=\"480\" y=\"0\" width=\"1681\" height=\"1600\"/>\n",
       "  </clipPath>\n",
       "</defs>\n",
       "<path clip-path=\"url(#clip680)\" d=\"M112.177 1486.45 L2352.76 1486.45 L2352.76 123.472 L112.177 123.472  Z\" fill=\"#ffffff\" fill-rule=\"evenodd\" fill-opacity=\"1\"/>\n",
       "<defs>\n",
       "  <clipPath id=\"clip682\">\n",
       "    <rect x=\"112\" y=\"123\" width=\"2242\" height=\"1364\"/>\n",
       "  </clipPath>\n",
       "</defs>\n",
       "<polyline clip-path=\"url(#clip682)\" style=\"stroke:#000000; stroke-linecap:round; stroke-linejoin:round; stroke-width:2; stroke-opacity:0.1; fill:none\" points=\"175.59,1486.45 175.59,123.472 \"/>\n",
       "<polyline clip-path=\"url(#clip682)\" style=\"stroke:#000000; stroke-linecap:round; stroke-linejoin:round; stroke-width:2; stroke-opacity:0.1; fill:none\" points=\"598.34,1486.45 598.34,123.472 \"/>\n",
       "<polyline clip-path=\"url(#clip682)\" style=\"stroke:#000000; stroke-linecap:round; stroke-linejoin:round; stroke-width:2; stroke-opacity:0.1; fill:none\" points=\"1021.09,1486.45 1021.09,123.472 \"/>\n",
       "<polyline clip-path=\"url(#clip682)\" style=\"stroke:#000000; stroke-linecap:round; stroke-linejoin:round; stroke-width:2; stroke-opacity:0.1; fill:none\" points=\"1443.84,1486.45 1443.84,123.472 \"/>\n",
       "<polyline clip-path=\"url(#clip682)\" style=\"stroke:#000000; stroke-linecap:round; stroke-linejoin:round; stroke-width:2; stroke-opacity:0.1; fill:none\" points=\"1866.59,1486.45 1866.59,123.472 \"/>\n",
       "<polyline clip-path=\"url(#clip682)\" style=\"stroke:#000000; stroke-linecap:round; stroke-linejoin:round; stroke-width:2; stroke-opacity:0.1; fill:none\" points=\"2289.34,1486.45 2289.34,123.472 \"/>\n",
       "<polyline clip-path=\"url(#clip682)\" style=\"stroke:#000000; stroke-linecap:round; stroke-linejoin:round; stroke-width:2; stroke-opacity:0.1; fill:none\" points=\"112.177,1362.15 2352.76,1362.15 \"/>\n",
       "<polyline clip-path=\"url(#clip682)\" style=\"stroke:#000000; stroke-linecap:round; stroke-linejoin:round; stroke-width:2; stroke-opacity:0.1; fill:none\" points=\"112.177,1104.99 2352.76,1104.99 \"/>\n",
       "<polyline clip-path=\"url(#clip682)\" style=\"stroke:#000000; stroke-linecap:round; stroke-linejoin:round; stroke-width:2; stroke-opacity:0.1; fill:none\" points=\"112.177,847.821 2352.76,847.821 \"/>\n",
       "<polyline clip-path=\"url(#clip682)\" style=\"stroke:#000000; stroke-linecap:round; stroke-linejoin:round; stroke-width:2; stroke-opacity:0.1; fill:none\" points=\"112.177,590.656 2352.76,590.656 \"/>\n",
       "<polyline clip-path=\"url(#clip682)\" style=\"stroke:#000000; stroke-linecap:round; stroke-linejoin:round; stroke-width:2; stroke-opacity:0.1; fill:none\" points=\"112.177,333.49 2352.76,333.49 \"/>\n",
       "<polyline clip-path=\"url(#clip680)\" style=\"stroke:#000000; stroke-linecap:round; stroke-linejoin:round; stroke-width:4; stroke-opacity:1; fill:none\" points=\"112.177,1486.45 2352.76,1486.45 \"/>\n",
       "<polyline clip-path=\"url(#clip680)\" style=\"stroke:#000000; stroke-linecap:round; stroke-linejoin:round; stroke-width:4; stroke-opacity:1; fill:none\" points=\"175.59,1486.45 175.59,1467.55 \"/>\n",
       "<polyline clip-path=\"url(#clip680)\" style=\"stroke:#000000; stroke-linecap:round; stroke-linejoin:round; stroke-width:4; stroke-opacity:1; fill:none\" points=\"598.34,1486.45 598.34,1467.55 \"/>\n",
       "<polyline clip-path=\"url(#clip680)\" style=\"stroke:#000000; stroke-linecap:round; stroke-linejoin:round; stroke-width:4; stroke-opacity:1; fill:none\" points=\"1021.09,1486.45 1021.09,1467.55 \"/>\n",
       "<polyline clip-path=\"url(#clip680)\" style=\"stroke:#000000; stroke-linecap:round; stroke-linejoin:round; stroke-width:4; stroke-opacity:1; fill:none\" points=\"1443.84,1486.45 1443.84,1467.55 \"/>\n",
       "<polyline clip-path=\"url(#clip680)\" style=\"stroke:#000000; stroke-linecap:round; stroke-linejoin:round; stroke-width:4; stroke-opacity:1; fill:none\" points=\"1866.59,1486.45 1866.59,1467.55 \"/>\n",
       "<polyline clip-path=\"url(#clip680)\" style=\"stroke:#000000; stroke-linecap:round; stroke-linejoin:round; stroke-width:4; stroke-opacity:1; fill:none\" points=\"2289.34,1486.45 2289.34,1467.55 \"/>\n",
       "<path clip-path=\"url(#clip680)\" d=\"M175.59 1517.37 Q171.979 1517.37 170.15 1520.93 Q168.344 1524.47 168.344 1531.6 Q168.344 1538.71 170.15 1542.27 Q171.979 1545.82 175.59 1545.82 Q179.224 1545.82 181.03 1542.27 Q182.858 1538.71 182.858 1531.6 Q182.858 1524.47 181.03 1520.93 Q179.224 1517.37 175.59 1517.37 M175.59 1513.66 Q181.4 1513.66 184.455 1518.27 Q187.534 1522.85 187.534 1531.6 Q187.534 1540.33 184.455 1544.94 Q181.4 1549.52 175.59 1549.52 Q169.78 1549.52 166.701 1544.94 Q163.645 1540.33 163.645 1531.6 Q163.645 1522.85 166.701 1518.27 Q169.78 1513.66 175.59 1513.66 Z\" fill=\"#000000\" fill-rule=\"nonzero\" fill-opacity=\"1\" /><path clip-path=\"url(#clip680)\" d=\"M588.722 1544.91 L596.361 1544.91 L596.361 1518.55 L588.051 1520.21 L588.051 1515.95 L596.315 1514.29 L600.991 1514.29 L600.991 1544.91 L608.63 1544.91 L608.63 1548.85 L588.722 1548.85 L588.722 1544.91 Z\" fill=\"#000000\" fill-rule=\"nonzero\" fill-opacity=\"1\" /><path clip-path=\"url(#clip680)\" d=\"M1015.74 1544.91 L1032.06 1544.91 L1032.06 1548.85 L1010.12 1548.85 L1010.12 1544.91 Q1012.78 1542.16 1017.36 1537.53 Q1021.97 1532.88 1023.15 1531.53 Q1025.4 1529.01 1026.28 1527.27 Q1027.18 1525.51 1027.18 1523.82 Q1027.18 1521.07 1025.23 1519.33 Q1023.31 1517.6 1020.21 1517.6 Q1018.01 1517.6 1015.56 1518.36 Q1013.13 1519.13 1010.35 1520.68 L1010.35 1515.95 Q1013.17 1514.82 1015.63 1514.24 Q1018.08 1513.66 1020.12 1513.66 Q1025.49 1513.66 1028.68 1516.35 Q1031.88 1519.03 1031.88 1523.52 Q1031.88 1525.65 1031.07 1527.57 Q1030.28 1529.47 1028.17 1532.07 Q1027.6 1532.74 1024.49 1535.95 Q1021.39 1539.15 1015.74 1544.91 Z\" fill=\"#000000\" fill-rule=\"nonzero\" fill-opacity=\"1\" /><path clip-path=\"url(#clip680)\" d=\"M1448.09 1530.21 Q1451.45 1530.93 1453.32 1533.2 Q1455.22 1535.47 1455.22 1538.8 Q1455.22 1543.92 1451.7 1546.72 Q1448.18 1549.52 1441.7 1549.52 Q1439.52 1549.52 1437.21 1549.08 Q1434.92 1548.66 1432.46 1547.81 L1432.46 1543.29 Q1434.41 1544.43 1436.72 1545.01 Q1439.04 1545.58 1441.56 1545.58 Q1445.96 1545.58 1448.25 1543.85 Q1450.57 1542.11 1450.57 1538.8 Q1450.57 1535.75 1448.41 1534.03 Q1446.28 1532.3 1442.46 1532.3 L1438.44 1532.3 L1438.44 1528.45 L1442.65 1528.45 Q1446.1 1528.45 1447.93 1527.09 Q1449.76 1525.7 1449.76 1523.11 Q1449.76 1520.45 1447.86 1519.03 Q1445.98 1517.6 1442.46 1517.6 Q1440.54 1517.6 1438.34 1518.01 Q1436.15 1518.43 1433.51 1519.31 L1433.51 1515.14 Q1436.17 1514.4 1438.48 1514.03 Q1440.82 1513.66 1442.88 1513.66 Q1448.21 1513.66 1451.31 1516.09 Q1454.41 1518.5 1454.41 1522.62 Q1454.41 1525.49 1452.77 1527.48 Q1451.12 1529.45 1448.09 1530.21 Z\" fill=\"#000000\" fill-rule=\"nonzero\" fill-opacity=\"1\" /><path clip-path=\"url(#clip680)\" d=\"M1869.6 1518.36 L1857.8 1536.81 L1869.6 1536.81 L1869.6 1518.36 M1868.37 1514.29 L1874.25 1514.29 L1874.25 1536.81 L1879.19 1536.81 L1879.19 1540.7 L1874.25 1540.7 L1874.25 1548.85 L1869.6 1548.85 L1869.6 1540.7 L1854 1540.7 L1854 1536.19 L1868.37 1514.29 Z\" fill=\"#000000\" fill-rule=\"nonzero\" fill-opacity=\"1\" /><path clip-path=\"url(#clip680)\" d=\"M2279.62 1514.29 L2297.98 1514.29 L2297.98 1518.22 L2283.9 1518.22 L2283.9 1526.7 Q2284.92 1526.35 2285.94 1526.19 Q2286.96 1526 2287.98 1526 Q2293.76 1526 2297.14 1529.17 Q2300.52 1532.34 2300.52 1537.76 Q2300.52 1543.34 2297.05 1546.44 Q2293.58 1549.52 2287.26 1549.52 Q2285.08 1549.52 2282.82 1549.15 Q2280.57 1548.78 2278.16 1548.04 L2278.16 1543.34 Q2280.25 1544.47 2282.47 1545.03 Q2284.69 1545.58 2287.17 1545.58 Q2291.17 1545.58 2293.51 1543.48 Q2295.85 1541.37 2295.85 1537.76 Q2295.85 1534.15 2293.51 1532.04 Q2291.17 1529.94 2287.17 1529.94 Q2285.29 1529.94 2283.42 1530.35 Q2281.57 1530.77 2279.62 1531.65 L2279.62 1514.29 Z\" fill=\"#000000\" fill-rule=\"nonzero\" fill-opacity=\"1\" /><polyline clip-path=\"url(#clip680)\" style=\"stroke:#000000; stroke-linecap:round; stroke-linejoin:round; stroke-width:4; stroke-opacity:1; fill:none\" points=\"112.177,1486.45 112.177,123.472 \"/>\n",
       "<polyline clip-path=\"url(#clip680)\" style=\"stroke:#000000; stroke-linecap:round; stroke-linejoin:round; stroke-width:4; stroke-opacity:1; fill:none\" points=\"112.177,1362.15 131.075,1362.15 \"/>\n",
       "<polyline clip-path=\"url(#clip680)\" style=\"stroke:#000000; stroke-linecap:round; stroke-linejoin:round; stroke-width:4; stroke-opacity:1; fill:none\" points=\"112.177,1104.99 131.075,1104.99 \"/>\n",
       "<polyline clip-path=\"url(#clip680)\" style=\"stroke:#000000; stroke-linecap:round; stroke-linejoin:round; stroke-width:4; stroke-opacity:1; fill:none\" points=\"112.177,847.821 131.075,847.821 \"/>\n",
       "<polyline clip-path=\"url(#clip680)\" style=\"stroke:#000000; stroke-linecap:round; stroke-linejoin:round; stroke-width:4; stroke-opacity:1; fill:none\" points=\"112.177,590.656 131.075,590.656 \"/>\n",
       "<polyline clip-path=\"url(#clip680)\" style=\"stroke:#000000; stroke-linecap:round; stroke-linejoin:round; stroke-width:4; stroke-opacity:1; fill:none\" points=\"112.177,333.49 131.075,333.49 \"/>\n",
       "<path clip-path=\"url(#clip680)\" d=\"M56.2699 1375.5 L63.9087 1375.5 L63.9087 1349.13 L55.5986 1350.8 L55.5986 1346.54 L63.8624 1344.87 L68.5383 1344.87 L68.5383 1375.5 L76.1772 1375.5 L76.1772 1379.43 L56.2699 1379.43 L56.2699 1375.5 Z\" fill=\"#000000\" fill-rule=\"nonzero\" fill-opacity=\"1\" /><path clip-path=\"url(#clip680)\" d=\"M59.8578 1118.33 L76.1772 1118.33 L76.1772 1122.27 L54.2328 1122.27 L54.2328 1118.33 Q56.8949 1115.58 61.4782 1110.95 Q66.0846 1106.29 67.2652 1104.95 Q69.5105 1102.43 70.3902 1100.69 Q71.2929 1098.93 71.2929 1097.24 Q71.2929 1094.49 69.3485 1092.75 Q67.4272 1091.02 64.3254 1091.02 Q62.1263 1091.02 59.6726 1091.78 Q57.2421 1092.54 54.4643 1094.09 L54.4643 1089.37 Q57.2884 1088.24 59.7421 1087.66 Q62.1958 1087.08 64.2328 1087.08 Q69.6031 1087.08 72.7976 1089.77 Q75.992 1092.45 75.992 1096.94 Q75.992 1099.07 75.1818 1100.99 Q74.3948 1102.89 72.2883 1105.48 Q71.7096 1106.16 68.6078 1109.37 Q65.5059 1112.57 59.8578 1118.33 Z\" fill=\"#000000\" fill-rule=\"nonzero\" fill-opacity=\"1\" /><path clip-path=\"url(#clip680)\" d=\"M69.0476 846.467 Q72.404 847.184 74.279 849.453 Q76.1772 851.721 76.1772 855.055 Q76.1772 860.17 72.6587 862.971 Q69.1402 865.772 62.6587 865.772 Q60.4828 865.772 58.168 865.332 Q55.8764 864.916 53.4227 864.059 L53.4227 859.545 Q55.3671 860.68 57.6819 861.258 Q59.9967 861.837 62.5198 861.837 Q66.918 861.837 69.2096 860.101 Q71.5244 858.365 71.5244 855.055 Q71.5244 851.999 69.3717 850.286 Q67.242 848.55 63.4226 848.55 L59.3949 848.55 L59.3949 844.707 L63.6078 844.707 Q67.0569 844.707 68.8855 843.342 Q70.7142 841.953 70.7142 839.36 Q70.7142 836.698 68.8161 835.286 Q66.9411 833.851 63.4226 833.851 Q61.5013 833.851 59.3023 834.268 Q57.1032 834.684 54.4643 835.564 L54.4643 831.397 Q57.1264 830.657 59.4412 830.286 Q61.7791 829.916 63.8393 829.916 Q69.1633 829.916 72.2652 832.346 Q75.367 834.754 75.367 838.874 Q75.367 841.745 73.7235 843.735 Q72.08 845.703 69.0476 846.467 Z\" fill=\"#000000\" fill-rule=\"nonzero\" fill-opacity=\"1\" /><path clip-path=\"url(#clip680)\" d=\"M66.5939 577.45 L54.7884 595.899 L66.5939 595.899 L66.5939 577.45 M65.367 573.376 L71.2466 573.376 L71.2466 595.899 L76.1772 595.899 L76.1772 599.788 L71.2466 599.788 L71.2466 607.936 L66.5939 607.936 L66.5939 599.788 L50.9921 599.788 L50.9921 595.274 L65.367 573.376 Z\" fill=\"#000000\" fill-rule=\"nonzero\" fill-opacity=\"1\" /><path clip-path=\"url(#clip680)\" d=\"M55.2745 316.21 L73.6309 316.21 L73.6309 320.146 L59.5569 320.146 L59.5569 328.618 Q60.5754 328.271 61.5939 328.108 Q62.6124 327.923 63.6309 327.923 Q69.418 327.923 72.7976 331.095 Q76.1772 334.266 76.1772 339.682 Q76.1772 345.261 72.705 348.363 Q69.2328 351.442 62.9134 351.442 Q60.7374 351.442 58.4689 351.071 Q56.2236 350.701 53.8162 349.96 L53.8162 345.261 Q55.8995 346.395 58.1217 346.951 Q60.3439 347.507 62.8208 347.507 Q66.8254 347.507 69.1633 345.4 Q71.5013 343.294 71.5013 339.682 Q71.5013 336.071 69.1633 333.965 Q66.8254 331.858 62.8208 331.858 Q60.9458 331.858 59.0708 332.275 Q57.2189 332.692 55.2745 333.571 L55.2745 316.21 Z\" fill=\"#000000\" fill-rule=\"nonzero\" fill-opacity=\"1\" /><path clip-path=\"url(#clip680)\" d=\"M946.533 12.096 L954.716 12.096 L954.716 65.6895 L984.166 65.6895 L984.166 72.576 L946.533 72.576 L946.533 12.096 Z\" fill=\"#000000\" fill-rule=\"nonzero\" fill-opacity=\"1\" /><path clip-path=\"url(#clip680)\" d=\"M1029.78 48.0275 L1029.78 51.6733 L995.509 51.6733 Q995.995 59.3701 1000.13 63.421 Q1004.3 67.4314 1011.71 67.4314 Q1016.01 67.4314 1020.02 66.3781 Q1024.07 65.3249 1028.04 63.2184 L1028.04 70.267 Q1024.03 71.9684 1019.81 72.8596 Q1015.6 73.7508 1011.27 73.7508 Q1000.41 73.7508 994.051 67.4314 Q987.731 61.1119 987.731 50.3365 Q987.731 39.1965 993.727 32.6746 Q999.762 26.1121 1009.97 26.1121 Q1019.13 26.1121 1024.43 32.0264 Q1029.78 37.9003 1029.78 48.0275 M1022.33 45.84 Q1022.24 39.7232 1018.88 36.0774 Q1015.56 32.4315 1010.05 32.4315 Q1003.81 32.4315 1000.05 35.9558 Q996.319 39.4801 995.752 45.8805 L1022.33 45.84 Z\" fill=\"#000000\" fill-rule=\"nonzero\" fill-opacity=\"1\" /><path clip-path=\"url(#clip680)\" d=\"M1062.63 49.7694 Q1053.6 49.7694 1050.12 51.8354 Q1046.63 53.9013 1046.63 58.8839 Q1046.63 62.8538 1049.22 65.2034 Q1051.86 67.5124 1056.35 67.5124 Q1062.55 67.5124 1066.28 63.1374 Q1070.05 58.7219 1070.05 51.4303 L1070.05 49.7694 L1062.63 49.7694 M1077.5 46.6907 L1077.5 72.576 L1070.05 72.576 L1070.05 65.6895 Q1067.49 69.8214 1063.69 71.8063 Q1059.88 73.7508 1054.37 73.7508 Q1047.4 73.7508 1043.27 69.8619 Q1039.18 65.9325 1039.18 59.3701 Q1039.18 51.7138 1044.28 47.825 Q1049.43 43.9361 1059.59 43.9361 L1070.05 43.9361 L1070.05 43.2069 Q1070.05 38.0623 1066.64 35.2672 Q1063.28 32.4315 1057.16 32.4315 Q1053.27 32.4315 1049.59 33.3632 Q1045.9 34.295 1042.5 36.1584 L1042.5 29.2718 Q1046.59 27.692 1050.44 26.9223 Q1054.29 26.1121 1057.93 26.1121 Q1067.78 26.1121 1072.64 31.2163 Q1077.5 36.3204 1077.5 46.6907 Z\" fill=\"#000000\" fill-rule=\"nonzero\" fill-opacity=\"1\" /><path clip-path=\"url(#clip680)\" d=\"M1121.78 28.5427 L1121.78 35.5912 Q1118.62 33.9709 1115.21 33.1607 Q1111.81 32.3505 1108.16 32.3505 Q1102.61 32.3505 1099.82 34.0519 Q1097.07 35.7533 1097.07 39.156 Q1097.07 41.7486 1099.05 43.2475 Q1101.03 44.7058 1107.03 46.0426 L1109.58 46.6097 Q1117.52 48.3111 1120.84 51.4303 Q1124.21 54.509 1124.21 60.0587 Q1124.21 66.3781 1119.18 70.0644 Q1114.2 73.7508 1105.45 73.7508 Q1101.8 73.7508 1097.83 73.0216 Q1093.91 72.3329 1089.53 70.9151 L1089.53 63.2184 Q1093.66 65.3654 1097.67 66.4591 Q1101.68 67.5124 1105.61 67.5124 Q1110.88 67.5124 1113.71 65.73 Q1116.55 63.9071 1116.55 60.6258 Q1116.55 57.5877 1114.48 55.9673 Q1112.46 54.3469 1105.53 52.8481 L1102.94 52.2405 Q1096.01 50.7821 1092.93 47.7845 Q1089.85 44.7463 1089.85 39.4801 Q1089.85 33.0797 1094.39 29.5959 Q1098.93 26.1121 1107.27 26.1121 Q1111.41 26.1121 1115.05 26.7198 Q1118.7 27.3274 1121.78 28.5427 Z\" fill=\"#000000\" fill-rule=\"nonzero\" fill-opacity=\"1\" /><path clip-path=\"url(#clip680)\" d=\"M1143.45 14.324 L1143.45 27.2059 L1158.8 27.2059 L1158.8 32.9987 L1143.45 32.9987 L1143.45 57.6282 Q1143.45 63.1779 1144.95 64.7578 Q1146.49 66.3376 1151.14 66.3376 L1158.8 66.3376 L1158.8 72.576 L1151.14 72.576 Q1142.52 72.576 1139.23 69.3758 Q1135.95 66.1351 1135.95 57.6282 L1135.95 32.9987 L1130.49 32.9987 L1130.49 27.2059 L1135.95 27.2059 L1135.95 14.324 L1143.45 14.324 Z\" fill=\"#000000\" fill-rule=\"nonzero\" fill-opacity=\"1\" /><path clip-path=\"url(#clip680)\" d=\"M1231.56 14.0809 L1231.56 22.0612 Q1226.9 19.8332 1222.76 18.7395 Q1218.63 17.6457 1214.78 17.6457 Q1208.1 17.6457 1204.45 20.2383 Q1200.85 22.8309 1200.85 27.611 Q1200.85 31.6214 1203.24 33.6873 Q1205.67 35.7128 1212.39 36.9686 L1217.34 37.9813 Q1226.49 39.7232 1230.83 44.1387 Q1235.2 48.5136 1235.2 55.8863 Q1235.2 64.6767 1229.29 69.2137 Q1223.41 73.7508 1212.03 73.7508 Q1207.74 73.7508 1202.87 72.7785 Q1198.05 71.8063 1192.87 69.9024 L1192.87 61.4765 Q1197.85 64.2716 1202.63 65.6895 Q1207.41 67.1073 1212.03 67.1073 Q1219.04 67.1073 1222.85 64.3527 Q1226.65 61.598 1226.65 56.4939 Q1226.65 52.0379 1223.9 49.5264 Q1221.18 47.0148 1214.95 45.759 L1209.96 44.7868 Q1200.81 42.9639 1196.72 39.075 Q1192.63 35.1862 1192.63 28.2591 Q1192.63 20.2383 1198.26 15.6203 Q1203.93 11.0023 1213.85 11.0023 Q1218.11 11.0023 1222.52 11.7719 Q1226.94 12.5416 1231.56 14.0809 Z\" fill=\"#000000\" fill-rule=\"nonzero\" fill-opacity=\"1\" /><path clip-path=\"url(#clip680)\" d=\"M1252.09 49.9314 Q1252.09 58.1548 1255.46 62.8538 Q1258.86 67.5124 1264.77 67.5124 Q1270.69 67.5124 1274.09 62.8538 Q1277.49 58.1548 1277.49 49.9314 Q1277.49 41.7081 1274.09 37.0496 Q1270.69 32.3505 1264.77 32.3505 Q1258.86 32.3505 1255.46 37.0496 Q1252.09 41.7081 1252.09 49.9314 M1277.49 65.7705 Q1275.14 69.8214 1271.54 71.8063 Q1267.97 73.7508 1262.95 73.7508 Q1254.73 73.7508 1249.54 67.1883 Q1244.4 60.6258 1244.4 49.9314 Q1244.4 39.2371 1249.54 32.6746 Q1254.73 26.1121 1262.95 26.1121 Q1267.97 26.1121 1271.54 28.0971 Q1275.14 30.0415 1277.49 34.0924 L1277.49 27.2059 L1284.95 27.2059 L1284.95 89.8329 L1277.49 89.8329 L1277.49 65.7705 Z\" fill=\"#000000\" fill-rule=\"nonzero\" fill-opacity=\"1\" /><path clip-path=\"url(#clip680)\" d=\"M1299.53 54.671 L1299.53 27.2059 L1306.98 27.2059 L1306.98 54.3874 Q1306.98 60.8284 1309.49 64.0691 Q1312.01 67.2693 1317.03 67.2693 Q1323.07 67.2693 1326.55 63.421 Q1330.07 59.5726 1330.07 52.9291 L1330.07 27.2059 L1337.53 27.2059 L1337.53 72.576 L1330.07 72.576 L1330.07 65.6084 Q1327.36 69.7404 1323.75 71.7658 Q1320.19 73.7508 1315.45 73.7508 Q1307.63 73.7508 1303.58 68.8897 Q1299.53 64.0286 1299.53 54.671 M1318.28 26.1121 L1318.28 26.1121 Z\" fill=\"#000000\" fill-rule=\"nonzero\" fill-opacity=\"1\" /><path clip-path=\"url(#clip680)\" d=\"M1373.5 49.7694 Q1364.47 49.7694 1360.98 51.8354 Q1357.5 53.9013 1357.5 58.8839 Q1357.5 62.8538 1360.09 65.2034 Q1362.72 67.5124 1367.22 67.5124 Q1373.42 67.5124 1377.14 63.1374 Q1380.91 58.7219 1380.91 51.4303 L1380.91 49.7694 L1373.5 49.7694 M1388.37 46.6907 L1388.37 72.576 L1380.91 72.576 L1380.91 65.6895 Q1378.36 69.8214 1374.55 71.8063 Q1370.74 73.7508 1365.23 73.7508 Q1358.27 73.7508 1354.14 69.8619 Q1350.04 65.9325 1350.04 59.3701 Q1350.04 51.7138 1355.15 47.825 Q1360.29 43.9361 1370.46 43.9361 L1380.91 43.9361 L1380.91 43.2069 Q1380.91 38.0623 1377.51 35.2672 Q1374.15 32.4315 1368.03 32.4315 Q1364.14 32.4315 1360.45 33.3632 Q1356.77 34.295 1353.37 36.1584 L1353.37 29.2718 Q1357.46 27.692 1361.31 26.9223 Q1365.15 26.1121 1368.8 26.1121 Q1378.64 26.1121 1383.5 31.2163 Q1388.37 36.3204 1388.37 46.6907 Z\" fill=\"#000000\" fill-rule=\"nonzero\" fill-opacity=\"1\" /><path clip-path=\"url(#clip680)\" d=\"M1430.01 34.1734 Q1428.75 33.4443 1427.25 33.1202 Q1425.8 32.7556 1424.01 32.7556 Q1417.69 32.7556 1414.29 36.8875 Q1410.93 40.9789 1410.93 48.6757 L1410.93 72.576 L1403.43 72.576 L1403.43 27.2059 L1410.93 27.2059 L1410.93 34.2544 Q1413.28 30.1225 1417.05 28.1376 Q1420.81 26.1121 1426.2 26.1121 Q1426.97 26.1121 1427.9 26.2337 Q1428.83 26.3147 1429.97 26.5172 L1430.01 34.1734 Z\" fill=\"#000000\" fill-rule=\"nonzero\" fill-opacity=\"1\" /><path clip-path=\"url(#clip680)\" d=\"M1474.81 48.0275 L1474.81 51.6733 L1440.54 51.6733 Q1441.03 59.3701 1445.16 63.421 Q1449.33 67.4314 1456.74 67.4314 Q1461.04 67.4314 1465.05 66.3781 Q1469.1 65.3249 1473.07 63.2184 L1473.07 70.267 Q1469.06 71.9684 1464.85 72.8596 Q1460.63 73.7508 1456.3 73.7508 Q1445.44 73.7508 1439.08 67.4314 Q1432.76 61.1119 1432.76 50.3365 Q1432.76 39.1965 1438.76 32.6746 Q1444.79 26.1121 1455 26.1121 Q1464.16 26.1121 1469.46 32.0264 Q1474.81 37.9003 1474.81 48.0275 M1467.36 45.84 Q1467.28 39.7232 1463.91 36.0774 Q1460.59 32.4315 1455.08 32.4315 Q1448.85 32.4315 1445.08 35.9558 Q1441.35 39.4801 1440.78 45.8805 L1467.36 45.84 Z\" fill=\"#000000\" fill-rule=\"nonzero\" fill-opacity=\"1\" /><path clip-path=\"url(#clip680)\" d=\"M1515.97 28.5427 L1515.97 35.5912 Q1512.81 33.9709 1509.41 33.1607 Q1506 32.3505 1502.36 32.3505 Q1496.81 32.3505 1494.01 34.0519 Q1491.26 35.7533 1491.26 39.156 Q1491.26 41.7486 1493.24 43.2475 Q1495.23 44.7058 1501.22 46.0426 L1503.78 46.6097 Q1511.72 48.3111 1515.04 51.4303 Q1518.4 54.509 1518.4 60.0587 Q1518.4 66.3781 1513.38 70.0644 Q1508.39 73.7508 1499.64 73.7508 Q1496 73.7508 1492.03 73.0216 Q1488.1 72.3329 1483.72 70.9151 L1483.72 63.2184 Q1487.86 65.3654 1491.87 66.4591 Q1495.88 67.5124 1499.81 67.5124 Q1505.07 67.5124 1507.91 65.73 Q1510.74 63.9071 1510.74 60.6258 Q1510.74 57.5877 1508.68 55.9673 Q1506.65 54.3469 1499.72 52.8481 L1497.13 52.2405 Q1490.21 50.7821 1487.13 47.7845 Q1484.05 44.7463 1484.05 39.4801 Q1484.05 33.0797 1488.58 29.5959 Q1493.12 26.1121 1501.47 26.1121 Q1505.6 26.1121 1509.24 26.7198 Q1512.89 27.3274 1515.97 28.5427 Z\" fill=\"#000000\" fill-rule=\"nonzero\" fill-opacity=\"1\" /><circle clip-path=\"url(#clip682)\" cx=\"598.34\" cy=\"1104.99\" r=\"14.4\" fill=\"#009af9\" fill-rule=\"evenodd\" fill-opacity=\"1\" stroke=\"#000000\" stroke-opacity=\"1\" stroke-width=\"3.2\"/>\n",
       "<circle clip-path=\"url(#clip682)\" cx=\"1021.09\" cy=\"1104.99\" r=\"14.4\" fill=\"#009af9\" fill-rule=\"evenodd\" fill-opacity=\"1\" stroke=\"#000000\" stroke-opacity=\"1\" stroke-width=\"3.2\"/>\n",
       "<circle clip-path=\"url(#clip682)\" cx=\"1443.84\" cy=\"590.656\" r=\"14.4\" fill=\"#009af9\" fill-rule=\"evenodd\" fill-opacity=\"1\" stroke=\"#000000\" stroke-opacity=\"1\" stroke-width=\"3.2\"/>\n",
       "<polyline clip-path=\"url(#clip682)\" style=\"stroke:#ff0000; stroke-linecap:round; stroke-linejoin:round; stroke-width:4; stroke-opacity:1; fill:none\" points=\"175.59,1447.87 286.84,1380.2 398.09,1312.52 509.34,1244.85 620.591,1177.17 731.841,1109.5 843.091,1041.82 954.341,974.148 1065.59,906.473 1176.84,838.798 1288.09,771.122 1399.34,703.447 1510.59,635.772 1621.84,568.097 1733.09,500.422 1844.34,432.747 1955.59,365.072 2066.84,297.397 2178.09,229.722 2289.34,162.047 \"/>\n",
       "<path clip-path=\"url(#clip680)\" d=\"M186.863 324.425 L737.702 324.425 L737.702 168.905 L186.863 168.905  Z\" fill=\"#ffffff\" fill-rule=\"evenodd\" fill-opacity=\"1\"/>\n",
       "<polyline clip-path=\"url(#clip680)\" style=\"stroke:#000000; stroke-linecap:round; stroke-linejoin:round; stroke-width:4; stroke-opacity:1; fill:none\" points=\"186.863,324.425 737.702,324.425 737.702,168.905 186.863,168.905 186.863,324.425 \"/>\n",
       "<circle clip-path=\"url(#clip680)\" cx=\"286.444\" cy=\"220.745\" r=\"20.48\" fill=\"#009af9\" fill-rule=\"evenodd\" fill-opacity=\"1\" stroke=\"#000000\" stroke-opacity=\"1\" stroke-width=\"4.55111\"/>\n",
       "<path clip-path=\"url(#clip680)\" d=\"M390.702 207.307 L390.702 234.182 L396.35 234.182 Q403.502 234.182 406.813 230.941 Q410.146 227.701 410.146 220.71 Q410.146 213.766 406.813 210.548 Q403.502 207.307 396.35 207.307 L390.702 207.307 M386.026 203.465 L395.632 203.465 Q405.678 203.465 410.377 207.654 Q415.076 211.821 415.076 220.71 Q415.076 229.645 410.354 233.835 Q405.632 238.025 395.632 238.025 L386.026 238.025 L386.026 203.465 Z\" fill=\"#000000\" fill-rule=\"nonzero\" fill-opacity=\"1\" /><path clip-path=\"url(#clip680)\" d=\"M434.127 224.992 Q428.965 224.992 426.975 226.173 Q424.984 227.353 424.984 230.201 Q424.984 232.469 426.465 233.812 Q427.97 235.131 430.539 235.131 Q434.081 235.131 436.211 232.631 Q438.363 230.108 438.363 225.941 L438.363 224.992 L434.127 224.992 M442.623 223.233 L442.623 238.025 L438.363 238.025 L438.363 234.089 Q436.905 236.451 434.729 237.585 Q432.553 238.696 429.405 238.696 Q425.424 238.696 423.063 236.474 Q420.725 234.228 420.725 230.478 Q420.725 226.103 423.641 223.881 Q426.581 221.659 432.391 221.659 L438.363 221.659 L438.363 221.242 Q438.363 218.303 436.419 216.705 Q434.498 215.085 431.002 215.085 Q428.78 215.085 426.674 215.617 Q424.567 216.15 422.623 217.215 L422.623 213.279 Q424.961 212.377 427.16 211.937 Q429.359 211.474 431.442 211.474 Q437.067 211.474 439.845 214.391 Q442.623 217.307 442.623 223.233 Z\" fill=\"#000000\" fill-rule=\"nonzero\" fill-opacity=\"1\" /><path clip-path=\"url(#clip680)\" d=\"M455.609 204.738 L455.609 212.099 L464.382 212.099 L464.382 215.409 L455.609 215.409 L455.609 229.483 Q455.609 232.654 456.465 233.557 Q457.345 234.46 460.007 234.46 L464.382 234.46 L464.382 238.025 L460.007 238.025 Q455.076 238.025 453.201 236.196 Q451.326 234.344 451.326 229.483 L451.326 215.409 L448.201 215.409 L448.201 212.099 L451.326 212.099 L451.326 204.738 L455.609 204.738 Z\" fill=\"#000000\" fill-rule=\"nonzero\" fill-opacity=\"1\" /><path clip-path=\"url(#clip680)\" d=\"M481.766 224.992 Q476.604 224.992 474.613 226.173 Q472.622 227.353 472.622 230.201 Q472.622 232.469 474.104 233.812 Q475.609 235.131 478.178 235.131 Q481.72 235.131 483.849 232.631 Q486.002 230.108 486.002 225.941 L486.002 224.992 L481.766 224.992 M490.261 223.233 L490.261 238.025 L486.002 238.025 L486.002 234.089 Q484.544 236.451 482.368 237.585 Q480.192 238.696 477.044 238.696 Q473.062 238.696 470.701 236.474 Q468.363 234.228 468.363 230.478 Q468.363 226.103 471.28 223.881 Q474.22 221.659 480.03 221.659 L486.002 221.659 L486.002 221.242 Q486.002 218.303 484.058 216.705 Q482.136 215.085 478.641 215.085 Q476.419 215.085 474.312 215.617 Q472.206 216.15 470.261 217.215 L470.261 213.279 Q472.599 212.377 474.798 211.937 Q476.997 211.474 479.081 211.474 Q484.706 211.474 487.483 214.391 Q490.261 217.307 490.261 223.233 Z\" fill=\"#000000\" fill-rule=\"nonzero\" fill-opacity=\"1\" /><path clip-path=\"url(#clip680)\" d=\"M503.155 234.136 L503.155 247.886 L498.872 247.886 L498.872 212.099 L503.155 212.099 L503.155 216.034 Q504.497 213.719 506.534 212.608 Q508.594 211.474 511.442 211.474 Q516.164 211.474 519.104 215.224 Q522.067 218.974 522.067 225.085 Q522.067 231.196 519.104 234.946 Q516.164 238.696 511.442 238.696 Q508.594 238.696 506.534 237.585 Q504.497 236.451 503.155 234.136 M517.645 225.085 Q517.645 220.386 515.701 217.724 Q513.78 215.039 510.4 215.039 Q507.02 215.039 505.076 217.724 Q503.155 220.386 503.155 225.085 Q503.155 229.784 505.076 232.469 Q507.02 235.131 510.4 235.131 Q513.78 235.131 515.701 232.469 Q517.645 229.784 517.645 225.085 Z\" fill=\"#000000\" fill-rule=\"nonzero\" fill-opacity=\"1\" /><path clip-path=\"url(#clip680)\" d=\"M539.173 215.085 Q535.747 215.085 533.756 217.77 Q531.766 220.432 531.766 225.085 Q531.766 229.738 533.733 232.423 Q535.724 235.085 539.173 235.085 Q542.576 235.085 544.567 232.4 Q546.557 229.715 546.557 225.085 Q546.557 220.478 544.567 217.793 Q542.576 215.085 539.173 215.085 M539.173 211.474 Q544.729 211.474 547.9 215.085 Q551.071 218.696 551.071 225.085 Q551.071 231.451 547.9 235.085 Q544.729 238.696 539.173 238.696 Q533.594 238.696 530.423 235.085 Q527.275 231.451 527.275 225.085 Q527.275 218.696 530.423 215.085 Q533.594 211.474 539.173 211.474 Z\" fill=\"#000000\" fill-rule=\"nonzero\" fill-opacity=\"1\" /><path clip-path=\"url(#clip680)\" d=\"M558.131 212.099 L562.39 212.099 L562.39 238.025 L558.131 238.025 L558.131 212.099 M558.131 202.006 L562.39 202.006 L562.39 207.4 L558.131 207.4 L558.131 202.006 Z\" fill=\"#000000\" fill-rule=\"nonzero\" fill-opacity=\"1\" /><path clip-path=\"url(#clip680)\" d=\"M592.853 222.377 L592.853 238.025 L588.594 238.025 L588.594 222.515 Q588.594 218.835 587.159 217.006 Q585.724 215.178 582.853 215.178 Q579.404 215.178 577.414 217.377 Q575.423 219.576 575.423 223.372 L575.423 238.025 L571.14 238.025 L571.14 212.099 L575.423 212.099 L575.423 216.127 Q576.951 213.789 579.011 212.631 Q581.094 211.474 583.802 211.474 Q588.27 211.474 590.562 214.252 Q592.853 217.006 592.853 222.377 Z\" fill=\"#000000\" fill-rule=\"nonzero\" fill-opacity=\"1\" /><path clip-path=\"url(#clip680)\" d=\"M605.562 204.738 L605.562 212.099 L614.335 212.099 L614.335 215.409 L605.562 215.409 L605.562 229.483 Q605.562 232.654 606.418 233.557 Q607.298 234.46 609.96 234.46 L614.335 234.46 L614.335 238.025 L609.96 238.025 Q605.029 238.025 603.154 236.196 Q601.279 234.344 601.279 229.483 L601.279 215.409 L598.154 215.409 L598.154 212.099 L601.279 212.099 L601.279 204.738 L605.562 204.738 Z\" fill=\"#000000\" fill-rule=\"nonzero\" fill-opacity=\"1\" /><path clip-path=\"url(#clip680)\" d=\"M636.464 212.863 L636.464 216.891 Q634.659 215.965 632.714 215.502 Q630.77 215.039 628.686 215.039 Q625.515 215.039 623.918 216.011 Q622.344 216.983 622.344 218.928 Q622.344 220.409 623.478 221.265 Q624.612 222.099 628.038 222.863 L629.497 223.187 Q634.034 224.159 635.932 225.941 Q637.853 227.701 637.853 230.872 Q637.853 234.483 634.983 236.589 Q632.135 238.696 627.136 238.696 Q625.052 238.696 622.784 238.279 Q620.538 237.886 618.038 237.076 L618.038 232.677 Q620.399 233.904 622.691 234.529 Q624.983 235.131 627.228 235.131 Q630.237 235.131 631.858 234.113 Q633.478 233.071 633.478 231.196 Q633.478 229.46 632.298 228.534 Q631.14 227.608 627.182 226.752 L625.7 226.404 Q621.742 225.571 619.983 223.858 Q618.224 222.122 618.224 219.113 Q618.224 215.455 620.816 213.465 Q623.409 211.474 628.177 211.474 Q630.538 211.474 632.622 211.821 Q634.705 212.168 636.464 212.863 Z\" fill=\"#000000\" fill-rule=\"nonzero\" fill-opacity=\"1\" /><polyline clip-path=\"url(#clip680)\" style=\"stroke:#ff0000; stroke-linecap:round; stroke-linejoin:round; stroke-width:4; stroke-opacity:1; fill:none\" points=\"211.758,272.585 361.13,272.585 \"/>\n",
       "<path clip-path=\"url(#clip680)\" d=\"M386.026 255.305 L390.702 255.305 L390.702 285.929 L407.53 285.929 L407.53 289.865 L386.026 289.865 L386.026 255.305 Z\" fill=\"#000000\" fill-rule=\"nonzero\" fill-opacity=\"1\" /><path clip-path=\"url(#clip680)\" d=\"M433.595 275.837 L433.595 277.92 L414.012 277.92 Q414.289 282.318 416.651 284.633 Q419.035 286.925 423.271 286.925 Q425.725 286.925 428.016 286.323 Q430.331 285.721 432.6 284.517 L432.6 288.545 Q430.308 289.517 427.9 290.027 Q425.493 290.536 423.016 290.536 Q416.813 290.536 413.178 286.925 Q409.567 283.314 409.567 277.156 Q409.567 270.791 412.993 267.064 Q416.442 263.314 422.275 263.314 Q427.507 263.314 430.539 266.693 Q433.595 270.05 433.595 275.837 M429.336 274.587 Q429.289 271.092 427.368 269.008 Q425.47 266.925 422.322 266.925 Q418.757 266.925 416.604 268.939 Q414.475 270.953 414.151 274.61 L429.336 274.587 Z\" fill=\"#000000\" fill-rule=\"nonzero\" fill-opacity=\"1\" /><path clip-path=\"url(#clip680)\" d=\"M452.368 276.832 Q447.206 276.832 445.215 278.013 Q443.224 279.193 443.224 282.041 Q443.224 284.309 444.706 285.652 Q446.211 286.971 448.78 286.971 Q452.322 286.971 454.451 284.471 Q456.604 281.948 456.604 277.781 L456.604 276.832 L452.368 276.832 M460.863 275.073 L460.863 289.865 L456.604 289.865 L456.604 285.929 Q455.146 288.291 452.97 289.425 Q450.794 290.536 447.646 290.536 Q443.664 290.536 441.303 288.314 Q438.965 286.068 438.965 282.318 Q438.965 277.943 441.882 275.721 Q444.822 273.499 450.632 273.499 L456.604 273.499 L456.604 273.082 Q456.604 270.143 454.66 268.545 Q452.738 266.925 449.243 266.925 Q447.021 266.925 444.914 267.457 Q442.808 267.99 440.863 269.055 L440.863 265.119 Q443.201 264.217 445.4 263.777 Q447.599 263.314 449.683 263.314 Q455.308 263.314 458.085 266.231 Q460.863 269.147 460.863 275.073 Z\" fill=\"#000000\" fill-rule=\"nonzero\" fill-opacity=\"1\" /><path clip-path=\"url(#clip680)\" d=\"M486.164 264.703 L486.164 268.731 Q484.358 267.805 482.414 267.342 Q480.47 266.879 478.386 266.879 Q475.215 266.879 473.618 267.851 Q472.044 268.823 472.044 270.768 Q472.044 272.249 473.178 273.105 Q474.312 273.939 477.738 274.703 L479.196 275.027 Q483.733 275.999 485.632 277.781 Q487.553 279.541 487.553 282.712 Q487.553 286.323 484.683 288.429 Q481.835 290.536 476.835 290.536 Q474.752 290.536 472.484 290.119 Q470.238 289.726 467.738 288.916 L467.738 284.517 Q470.099 285.744 472.391 286.369 Q474.683 286.971 476.928 286.971 Q479.937 286.971 481.558 285.953 Q483.178 284.911 483.178 283.036 Q483.178 281.3 481.997 280.374 Q480.84 279.448 476.882 278.592 L475.4 278.244 Q471.442 277.411 469.683 275.698 Q467.923 273.962 467.923 270.953 Q467.923 267.295 470.516 265.305 Q473.109 263.314 477.877 263.314 Q480.238 263.314 482.321 263.661 Q484.405 264.008 486.164 264.703 Z\" fill=\"#000000\" fill-rule=\"nonzero\" fill-opacity=\"1\" /><path clip-path=\"url(#clip680)\" d=\"M498.548 256.578 L498.548 263.939 L507.321 263.939 L507.321 267.249 L498.548 267.249 L498.548 281.323 Q498.548 284.494 499.405 285.397 Q500.284 286.3 502.946 286.3 L507.321 286.3 L507.321 289.865 L502.946 289.865 Q498.016 289.865 496.141 288.036 Q494.266 286.184 494.266 281.323 L494.266 267.249 L491.141 267.249 L491.141 263.939 L494.266 263.939 L494.266 256.578 L498.548 256.578 Z\" fill=\"#000000\" fill-rule=\"nonzero\" fill-opacity=\"1\" /><path clip-path=\"url(#clip680)\" d=\"M548.895 256.439 L548.895 260.999 Q546.233 259.726 543.872 259.101 Q541.511 258.476 539.312 258.476 Q535.492 258.476 533.409 259.957 Q531.349 261.439 531.349 264.17 Q531.349 266.462 532.715 267.643 Q534.104 268.8 537.946 269.518 L540.77 270.096 Q546.002 271.092 548.479 273.615 Q550.979 276.115 550.979 280.328 Q550.979 285.351 547.599 287.943 Q544.242 290.536 537.738 290.536 Q535.284 290.536 532.506 289.98 Q529.752 289.425 526.789 288.337 L526.789 283.522 Q529.636 285.119 532.367 285.929 Q535.099 286.74 537.738 286.74 Q541.742 286.74 543.918 285.166 Q546.094 283.592 546.094 280.675 Q546.094 278.129 544.52 276.693 Q542.969 275.258 539.404 274.541 L536.557 273.985 Q531.326 272.943 528.988 270.721 Q526.65 268.499 526.65 264.541 Q526.65 259.957 529.868 257.319 Q533.108 254.68 538.779 254.68 Q541.21 254.68 543.733 255.119 Q546.256 255.559 548.895 256.439 Z\" fill=\"#000000\" fill-rule=\"nonzero\" fill-opacity=\"1\" /><path clip-path=\"url(#clip680)\" d=\"M560.631 276.925 Q560.631 281.624 562.553 284.309 Q564.497 286.971 567.877 286.971 Q571.256 286.971 573.201 284.309 Q575.145 281.624 575.145 276.925 Q575.145 272.226 573.201 269.564 Q571.256 266.879 567.877 266.879 Q564.497 266.879 562.553 269.564 Q560.631 272.226 560.631 276.925 M575.145 285.976 Q573.802 288.291 571.742 289.425 Q569.705 290.536 566.835 290.536 Q562.136 290.536 559.173 286.786 Q556.233 283.036 556.233 276.925 Q556.233 270.814 559.173 267.064 Q562.136 263.314 566.835 263.314 Q569.705 263.314 571.742 264.448 Q573.802 265.559 575.145 267.874 L575.145 263.939 L579.404 263.939 L579.404 299.726 L575.145 299.726 L575.145 285.976 Z\" fill=\"#000000\" fill-rule=\"nonzero\" fill-opacity=\"1\" /><path clip-path=\"url(#clip680)\" d=\"M587.738 279.633 L587.738 263.939 L591.997 263.939 L591.997 279.471 Q591.997 283.152 593.432 285.004 Q594.867 286.832 597.738 286.832 Q601.187 286.832 603.177 284.633 Q605.191 282.434 605.191 278.638 L605.191 263.939 L609.45 263.939 L609.45 289.865 L605.191 289.865 L605.191 285.883 Q603.64 288.244 601.58 289.402 Q599.543 290.536 596.835 290.536 Q592.367 290.536 590.052 287.758 Q587.738 284.98 587.738 279.633 M598.455 263.314 L598.455 263.314 Z\" fill=\"#000000\" fill-rule=\"nonzero\" fill-opacity=\"1\" /><path clip-path=\"url(#clip680)\" d=\"M630.006 276.832 Q624.844 276.832 622.853 278.013 Q620.862 279.193 620.862 282.041 Q620.862 284.309 622.344 285.652 Q623.848 286.971 626.418 286.971 Q629.96 286.971 632.089 284.471 Q634.242 281.948 634.242 277.781 L634.242 276.832 L630.006 276.832 M638.501 275.073 L638.501 289.865 L634.242 289.865 L634.242 285.929 Q632.784 288.291 630.608 289.425 Q628.432 290.536 625.284 290.536 Q621.302 290.536 618.941 288.314 Q616.603 286.068 616.603 282.318 Q616.603 277.943 619.52 275.721 Q622.46 273.499 628.27 273.499 L634.242 273.499 L634.242 273.082 Q634.242 270.143 632.298 268.545 Q630.376 266.925 626.881 266.925 Q624.659 266.925 622.552 267.457 Q620.446 267.99 618.501 269.055 L618.501 265.119 Q620.839 264.217 623.038 263.777 Q625.237 263.314 627.321 263.314 Q632.946 263.314 635.723 266.231 Q638.501 269.147 638.501 275.073 Z\" fill=\"#000000\" fill-rule=\"nonzero\" fill-opacity=\"1\" /><path clip-path=\"url(#clip680)\" d=\"M662.297 267.92 Q661.58 267.504 660.723 267.318 Q659.89 267.11 658.871 267.11 Q655.26 267.11 653.316 269.471 Q651.395 271.809 651.395 276.207 L651.395 289.865 L647.112 289.865 L647.112 263.939 L651.395 263.939 L651.395 267.967 Q652.737 265.606 654.89 264.471 Q657.043 263.314 660.121 263.314 Q660.561 263.314 661.094 263.383 Q661.626 263.43 662.274 263.545 L662.297 267.92 Z\" fill=\"#000000\" fill-rule=\"nonzero\" fill-opacity=\"1\" /><path clip-path=\"url(#clip680)\" d=\"M687.899 275.837 L687.899 277.92 L668.316 277.92 Q668.594 282.318 670.955 284.633 Q673.339 286.925 677.575 286.925 Q680.029 286.925 682.32 286.323 Q684.635 285.721 686.904 284.517 L686.904 288.545 Q684.612 289.517 682.205 290.027 Q679.797 290.536 677.32 290.536 Q671.117 290.536 667.483 286.925 Q663.871 283.314 663.871 277.156 Q663.871 270.791 667.297 267.064 Q670.746 263.314 676.58 263.314 Q681.811 263.314 684.844 266.693 Q687.899 270.05 687.899 275.837 M683.64 274.587 Q683.594 271.092 681.672 269.008 Q679.774 266.925 676.626 266.925 Q673.061 266.925 670.908 268.939 Q668.779 270.953 668.455 274.61 L683.64 274.587 Z\" fill=\"#000000\" fill-rule=\"nonzero\" fill-opacity=\"1\" /><path clip-path=\"url(#clip680)\" d=\"M711.417 264.703 L711.417 268.731 Q709.612 267.805 707.667 267.342 Q705.723 266.879 703.64 266.879 Q700.468 266.879 698.871 267.851 Q697.297 268.823 697.297 270.768 Q697.297 272.249 698.431 273.105 Q699.566 273.939 702.992 274.703 L704.45 275.027 Q708.987 275.999 710.885 277.781 Q712.806 279.541 712.806 282.712 Q712.806 286.323 709.936 288.429 Q707.089 290.536 702.089 290.536 Q700.005 290.536 697.737 290.119 Q695.492 289.726 692.992 288.916 L692.992 284.517 Q695.353 285.744 697.644 286.369 Q699.936 286.971 702.181 286.971 Q705.191 286.971 706.811 285.953 Q708.431 284.911 708.431 283.036 Q708.431 281.3 707.251 280.374 Q706.093 279.448 702.135 278.592 L700.654 278.244 Q696.695 277.411 694.936 275.698 Q693.177 273.962 693.177 270.953 Q693.177 267.295 695.769 265.305 Q698.362 263.314 703.13 263.314 Q705.492 263.314 707.575 263.661 Q709.658 264.008 711.417 264.703 Z\" fill=\"#000000\" fill-rule=\"nonzero\" fill-opacity=\"1\" /></svg>\n"
      ],
      "text/html": [
       "<?xml version=\"1.0\" encoding=\"utf-8\"?>\n",
       "<svg xmlns=\"http://www.w3.org/2000/svg\" xmlns:xlink=\"http://www.w3.org/1999/xlink\" width=\"600\" height=\"400\" viewBox=\"0 0 2400 1600\">\n",
       "<defs>\n",
       "  <clipPath id=\"clip730\">\n",
       "    <rect x=\"0\" y=\"0\" width=\"2400\" height=\"1600\"/>\n",
       "  </clipPath>\n",
       "</defs>\n",
       "<path clip-path=\"url(#clip730)\" d=\"M0 1600 L2400 1600 L2400 0 L0 0  Z\" fill=\"#ffffff\" fill-rule=\"evenodd\" fill-opacity=\"1\"/>\n",
       "<defs>\n",
       "  <clipPath id=\"clip731\">\n",
       "    <rect x=\"480\" y=\"0\" width=\"1681\" height=\"1600\"/>\n",
       "  </clipPath>\n",
       "</defs>\n",
       "<path clip-path=\"url(#clip730)\" d=\"M112.177 1486.45 L2352.76 1486.45 L2352.76 123.472 L112.177 123.472  Z\" fill=\"#ffffff\" fill-rule=\"evenodd\" fill-opacity=\"1\"/>\n",
       "<defs>\n",
       "  <clipPath id=\"clip732\">\n",
       "    <rect x=\"112\" y=\"123\" width=\"2242\" height=\"1364\"/>\n",
       "  </clipPath>\n",
       "</defs>\n",
       "<polyline clip-path=\"url(#clip732)\" style=\"stroke:#000000; stroke-linecap:round; stroke-linejoin:round; stroke-width:2; stroke-opacity:0.1; fill:none\" points=\"175.59,1486.45 175.59,123.472 \"/>\n",
       "<polyline clip-path=\"url(#clip732)\" style=\"stroke:#000000; stroke-linecap:round; stroke-linejoin:round; stroke-width:2; stroke-opacity:0.1; fill:none\" points=\"598.34,1486.45 598.34,123.472 \"/>\n",
       "<polyline clip-path=\"url(#clip732)\" style=\"stroke:#000000; stroke-linecap:round; stroke-linejoin:round; stroke-width:2; stroke-opacity:0.1; fill:none\" points=\"1021.09,1486.45 1021.09,123.472 \"/>\n",
       "<polyline clip-path=\"url(#clip732)\" style=\"stroke:#000000; stroke-linecap:round; stroke-linejoin:round; stroke-width:2; stroke-opacity:0.1; fill:none\" points=\"1443.84,1486.45 1443.84,123.472 \"/>\n",
       "<polyline clip-path=\"url(#clip732)\" style=\"stroke:#000000; stroke-linecap:round; stroke-linejoin:round; stroke-width:2; stroke-opacity:0.1; fill:none\" points=\"1866.59,1486.45 1866.59,123.472 \"/>\n",
       "<polyline clip-path=\"url(#clip732)\" style=\"stroke:#000000; stroke-linecap:round; stroke-linejoin:round; stroke-width:2; stroke-opacity:0.1; fill:none\" points=\"2289.34,1486.45 2289.34,123.472 \"/>\n",
       "<polyline clip-path=\"url(#clip732)\" style=\"stroke:#000000; stroke-linecap:round; stroke-linejoin:round; stroke-width:2; stroke-opacity:0.1; fill:none\" points=\"112.177,1362.15 2352.76,1362.15 \"/>\n",
       "<polyline clip-path=\"url(#clip732)\" style=\"stroke:#000000; stroke-linecap:round; stroke-linejoin:round; stroke-width:2; stroke-opacity:0.1; fill:none\" points=\"112.177,1104.99 2352.76,1104.99 \"/>\n",
       "<polyline clip-path=\"url(#clip732)\" style=\"stroke:#000000; stroke-linecap:round; stroke-linejoin:round; stroke-width:2; stroke-opacity:0.1; fill:none\" points=\"112.177,847.821 2352.76,847.821 \"/>\n",
       "<polyline clip-path=\"url(#clip732)\" style=\"stroke:#000000; stroke-linecap:round; stroke-linejoin:round; stroke-width:2; stroke-opacity:0.1; fill:none\" points=\"112.177,590.656 2352.76,590.656 \"/>\n",
       "<polyline clip-path=\"url(#clip732)\" style=\"stroke:#000000; stroke-linecap:round; stroke-linejoin:round; stroke-width:2; stroke-opacity:0.1; fill:none\" points=\"112.177,333.49 2352.76,333.49 \"/>\n",
       "<polyline clip-path=\"url(#clip730)\" style=\"stroke:#000000; stroke-linecap:round; stroke-linejoin:round; stroke-width:4; stroke-opacity:1; fill:none\" points=\"112.177,1486.45 2352.76,1486.45 \"/>\n",
       "<polyline clip-path=\"url(#clip730)\" style=\"stroke:#000000; stroke-linecap:round; stroke-linejoin:round; stroke-width:4; stroke-opacity:1; fill:none\" points=\"175.59,1486.45 175.59,1467.55 \"/>\n",
       "<polyline clip-path=\"url(#clip730)\" style=\"stroke:#000000; stroke-linecap:round; stroke-linejoin:round; stroke-width:4; stroke-opacity:1; fill:none\" points=\"598.34,1486.45 598.34,1467.55 \"/>\n",
       "<polyline clip-path=\"url(#clip730)\" style=\"stroke:#000000; stroke-linecap:round; stroke-linejoin:round; stroke-width:4; stroke-opacity:1; fill:none\" points=\"1021.09,1486.45 1021.09,1467.55 \"/>\n",
       "<polyline clip-path=\"url(#clip730)\" style=\"stroke:#000000; stroke-linecap:round; stroke-linejoin:round; stroke-width:4; stroke-opacity:1; fill:none\" points=\"1443.84,1486.45 1443.84,1467.55 \"/>\n",
       "<polyline clip-path=\"url(#clip730)\" style=\"stroke:#000000; stroke-linecap:round; stroke-linejoin:round; stroke-width:4; stroke-opacity:1; fill:none\" points=\"1866.59,1486.45 1866.59,1467.55 \"/>\n",
       "<polyline clip-path=\"url(#clip730)\" style=\"stroke:#000000; stroke-linecap:round; stroke-linejoin:round; stroke-width:4; stroke-opacity:1; fill:none\" points=\"2289.34,1486.45 2289.34,1467.55 \"/>\n",
       "<path clip-path=\"url(#clip730)\" d=\"M175.59 1517.37 Q171.979 1517.37 170.15 1520.93 Q168.344 1524.47 168.344 1531.6 Q168.344 1538.71 170.15 1542.27 Q171.979 1545.82 175.59 1545.82 Q179.224 1545.82 181.03 1542.27 Q182.858 1538.71 182.858 1531.6 Q182.858 1524.47 181.03 1520.93 Q179.224 1517.37 175.59 1517.37 M175.59 1513.66 Q181.4 1513.66 184.455 1518.27 Q187.534 1522.85 187.534 1531.6 Q187.534 1540.33 184.455 1544.94 Q181.4 1549.52 175.59 1549.52 Q169.78 1549.52 166.701 1544.94 Q163.645 1540.33 163.645 1531.6 Q163.645 1522.85 166.701 1518.27 Q169.78 1513.66 175.59 1513.66 Z\" fill=\"#000000\" fill-rule=\"nonzero\" fill-opacity=\"1\" /><path clip-path=\"url(#clip730)\" d=\"M588.722 1544.91 L596.361 1544.91 L596.361 1518.55 L588.051 1520.21 L588.051 1515.95 L596.315 1514.29 L600.991 1514.29 L600.991 1544.91 L608.63 1544.91 L608.63 1548.85 L588.722 1548.85 L588.722 1544.91 Z\" fill=\"#000000\" fill-rule=\"nonzero\" fill-opacity=\"1\" /><path clip-path=\"url(#clip730)\" d=\"M1015.74 1544.91 L1032.06 1544.91 L1032.06 1548.85 L1010.12 1548.85 L1010.12 1544.91 Q1012.78 1542.16 1017.36 1537.53 Q1021.97 1532.88 1023.15 1531.53 Q1025.4 1529.01 1026.28 1527.27 Q1027.18 1525.51 1027.18 1523.82 Q1027.18 1521.07 1025.23 1519.33 Q1023.31 1517.6 1020.21 1517.6 Q1018.01 1517.6 1015.56 1518.36 Q1013.13 1519.13 1010.35 1520.68 L1010.35 1515.95 Q1013.17 1514.82 1015.63 1514.24 Q1018.08 1513.66 1020.12 1513.66 Q1025.49 1513.66 1028.68 1516.35 Q1031.88 1519.03 1031.88 1523.52 Q1031.88 1525.65 1031.07 1527.57 Q1030.28 1529.47 1028.17 1532.07 Q1027.6 1532.74 1024.49 1535.95 Q1021.39 1539.15 1015.74 1544.91 Z\" fill=\"#000000\" fill-rule=\"nonzero\" fill-opacity=\"1\" /><path clip-path=\"url(#clip730)\" d=\"M1448.09 1530.21 Q1451.45 1530.93 1453.32 1533.2 Q1455.22 1535.47 1455.22 1538.8 Q1455.22 1543.92 1451.7 1546.72 Q1448.18 1549.52 1441.7 1549.52 Q1439.52 1549.52 1437.21 1549.08 Q1434.92 1548.66 1432.46 1547.81 L1432.46 1543.29 Q1434.41 1544.43 1436.72 1545.01 Q1439.04 1545.58 1441.56 1545.58 Q1445.96 1545.58 1448.25 1543.85 Q1450.57 1542.11 1450.57 1538.8 Q1450.57 1535.75 1448.41 1534.03 Q1446.28 1532.3 1442.46 1532.3 L1438.44 1532.3 L1438.44 1528.45 L1442.65 1528.45 Q1446.1 1528.45 1447.93 1527.09 Q1449.76 1525.7 1449.76 1523.11 Q1449.76 1520.45 1447.86 1519.03 Q1445.98 1517.6 1442.46 1517.6 Q1440.54 1517.6 1438.34 1518.01 Q1436.15 1518.43 1433.51 1519.31 L1433.51 1515.14 Q1436.17 1514.4 1438.48 1514.03 Q1440.82 1513.66 1442.88 1513.66 Q1448.21 1513.66 1451.31 1516.09 Q1454.41 1518.5 1454.41 1522.62 Q1454.41 1525.49 1452.77 1527.48 Q1451.12 1529.45 1448.09 1530.21 Z\" fill=\"#000000\" fill-rule=\"nonzero\" fill-opacity=\"1\" /><path clip-path=\"url(#clip730)\" d=\"M1869.6 1518.36 L1857.8 1536.81 L1869.6 1536.81 L1869.6 1518.36 M1868.37 1514.29 L1874.25 1514.29 L1874.25 1536.81 L1879.19 1536.81 L1879.19 1540.7 L1874.25 1540.7 L1874.25 1548.85 L1869.6 1548.85 L1869.6 1540.7 L1854 1540.7 L1854 1536.19 L1868.37 1514.29 Z\" fill=\"#000000\" fill-rule=\"nonzero\" fill-opacity=\"1\" /><path clip-path=\"url(#clip730)\" d=\"M2279.62 1514.29 L2297.98 1514.29 L2297.98 1518.22 L2283.9 1518.22 L2283.9 1526.7 Q2284.92 1526.35 2285.94 1526.19 Q2286.96 1526 2287.98 1526 Q2293.76 1526 2297.14 1529.17 Q2300.52 1532.34 2300.52 1537.76 Q2300.52 1543.34 2297.05 1546.44 Q2293.58 1549.52 2287.26 1549.52 Q2285.08 1549.52 2282.82 1549.15 Q2280.57 1548.78 2278.16 1548.04 L2278.16 1543.34 Q2280.25 1544.47 2282.47 1545.03 Q2284.69 1545.58 2287.17 1545.58 Q2291.17 1545.58 2293.51 1543.48 Q2295.85 1541.37 2295.85 1537.76 Q2295.85 1534.15 2293.51 1532.04 Q2291.17 1529.94 2287.17 1529.94 Q2285.29 1529.94 2283.42 1530.35 Q2281.57 1530.77 2279.62 1531.65 L2279.62 1514.29 Z\" fill=\"#000000\" fill-rule=\"nonzero\" fill-opacity=\"1\" /><polyline clip-path=\"url(#clip730)\" style=\"stroke:#000000; stroke-linecap:round; stroke-linejoin:round; stroke-width:4; stroke-opacity:1; fill:none\" points=\"112.177,1486.45 112.177,123.472 \"/>\n",
       "<polyline clip-path=\"url(#clip730)\" style=\"stroke:#000000; stroke-linecap:round; stroke-linejoin:round; stroke-width:4; stroke-opacity:1; fill:none\" points=\"112.177,1362.15 131.075,1362.15 \"/>\n",
       "<polyline clip-path=\"url(#clip730)\" style=\"stroke:#000000; stroke-linecap:round; stroke-linejoin:round; stroke-width:4; stroke-opacity:1; fill:none\" points=\"112.177,1104.99 131.075,1104.99 \"/>\n",
       "<polyline clip-path=\"url(#clip730)\" style=\"stroke:#000000; stroke-linecap:round; stroke-linejoin:round; stroke-width:4; stroke-opacity:1; fill:none\" points=\"112.177,847.821 131.075,847.821 \"/>\n",
       "<polyline clip-path=\"url(#clip730)\" style=\"stroke:#000000; stroke-linecap:round; stroke-linejoin:round; stroke-width:4; stroke-opacity:1; fill:none\" points=\"112.177,590.656 131.075,590.656 \"/>\n",
       "<polyline clip-path=\"url(#clip730)\" style=\"stroke:#000000; stroke-linecap:round; stroke-linejoin:round; stroke-width:4; stroke-opacity:1; fill:none\" points=\"112.177,333.49 131.075,333.49 \"/>\n",
       "<path clip-path=\"url(#clip730)\" d=\"M56.2699 1375.5 L63.9087 1375.5 L63.9087 1349.13 L55.5986 1350.8 L55.5986 1346.54 L63.8624 1344.87 L68.5383 1344.87 L68.5383 1375.5 L76.1772 1375.5 L76.1772 1379.43 L56.2699 1379.43 L56.2699 1375.5 Z\" fill=\"#000000\" fill-rule=\"nonzero\" fill-opacity=\"1\" /><path clip-path=\"url(#clip730)\" d=\"M59.8578 1118.33 L76.1772 1118.33 L76.1772 1122.27 L54.2328 1122.27 L54.2328 1118.33 Q56.8949 1115.58 61.4782 1110.95 Q66.0846 1106.29 67.2652 1104.95 Q69.5105 1102.43 70.3902 1100.69 Q71.2929 1098.93 71.2929 1097.24 Q71.2929 1094.49 69.3485 1092.75 Q67.4272 1091.02 64.3254 1091.02 Q62.1263 1091.02 59.6726 1091.78 Q57.2421 1092.54 54.4643 1094.09 L54.4643 1089.37 Q57.2884 1088.24 59.7421 1087.66 Q62.1958 1087.08 64.2328 1087.08 Q69.6031 1087.08 72.7976 1089.77 Q75.992 1092.45 75.992 1096.94 Q75.992 1099.07 75.1818 1100.99 Q74.3948 1102.89 72.2883 1105.48 Q71.7096 1106.16 68.6078 1109.37 Q65.5059 1112.57 59.8578 1118.33 Z\" fill=\"#000000\" fill-rule=\"nonzero\" fill-opacity=\"1\" /><path clip-path=\"url(#clip730)\" d=\"M69.0476 846.467 Q72.404 847.184 74.279 849.453 Q76.1772 851.721 76.1772 855.055 Q76.1772 860.17 72.6587 862.971 Q69.1402 865.772 62.6587 865.772 Q60.4828 865.772 58.168 865.332 Q55.8764 864.916 53.4227 864.059 L53.4227 859.545 Q55.3671 860.68 57.6819 861.258 Q59.9967 861.837 62.5198 861.837 Q66.918 861.837 69.2096 860.101 Q71.5244 858.365 71.5244 855.055 Q71.5244 851.999 69.3717 850.286 Q67.242 848.55 63.4226 848.55 L59.3949 848.55 L59.3949 844.707 L63.6078 844.707 Q67.0569 844.707 68.8855 843.342 Q70.7142 841.953 70.7142 839.36 Q70.7142 836.698 68.8161 835.286 Q66.9411 833.851 63.4226 833.851 Q61.5013 833.851 59.3023 834.268 Q57.1032 834.684 54.4643 835.564 L54.4643 831.397 Q57.1264 830.657 59.4412 830.286 Q61.7791 829.916 63.8393 829.916 Q69.1633 829.916 72.2652 832.346 Q75.367 834.754 75.367 838.874 Q75.367 841.745 73.7235 843.735 Q72.08 845.703 69.0476 846.467 Z\" fill=\"#000000\" fill-rule=\"nonzero\" fill-opacity=\"1\" /><path clip-path=\"url(#clip730)\" d=\"M66.5939 577.45 L54.7884 595.899 L66.5939 595.899 L66.5939 577.45 M65.367 573.376 L71.2466 573.376 L71.2466 595.899 L76.1772 595.899 L76.1772 599.788 L71.2466 599.788 L71.2466 607.936 L66.5939 607.936 L66.5939 599.788 L50.9921 599.788 L50.9921 595.274 L65.367 573.376 Z\" fill=\"#000000\" fill-rule=\"nonzero\" fill-opacity=\"1\" /><path clip-path=\"url(#clip730)\" d=\"M55.2745 316.21 L73.6309 316.21 L73.6309 320.146 L59.5569 320.146 L59.5569 328.618 Q60.5754 328.271 61.5939 328.108 Q62.6124 327.923 63.6309 327.923 Q69.418 327.923 72.7976 331.095 Q76.1772 334.266 76.1772 339.682 Q76.1772 345.261 72.705 348.363 Q69.2328 351.442 62.9134 351.442 Q60.7374 351.442 58.4689 351.071 Q56.2236 350.701 53.8162 349.96 L53.8162 345.261 Q55.8995 346.395 58.1217 346.951 Q60.3439 347.507 62.8208 347.507 Q66.8254 347.507 69.1633 345.4 Q71.5013 343.294 71.5013 339.682 Q71.5013 336.071 69.1633 333.965 Q66.8254 331.858 62.8208 331.858 Q60.9458 331.858 59.0708 332.275 Q57.2189 332.692 55.2745 333.571 L55.2745 316.21 Z\" fill=\"#000000\" fill-rule=\"nonzero\" fill-opacity=\"1\" /><path clip-path=\"url(#clip730)\" d=\"M946.533 12.096 L954.716 12.096 L954.716 65.6895 L984.166 65.6895 L984.166 72.576 L946.533 72.576 L946.533 12.096 Z\" fill=\"#000000\" fill-rule=\"nonzero\" fill-opacity=\"1\" /><path clip-path=\"url(#clip730)\" d=\"M1029.78 48.0275 L1029.78 51.6733 L995.509 51.6733 Q995.995 59.3701 1000.13 63.421 Q1004.3 67.4314 1011.71 67.4314 Q1016.01 67.4314 1020.02 66.3781 Q1024.07 65.3249 1028.04 63.2184 L1028.04 70.267 Q1024.03 71.9684 1019.81 72.8596 Q1015.6 73.7508 1011.27 73.7508 Q1000.41 73.7508 994.051 67.4314 Q987.731 61.1119 987.731 50.3365 Q987.731 39.1965 993.727 32.6746 Q999.762 26.1121 1009.97 26.1121 Q1019.13 26.1121 1024.43 32.0264 Q1029.78 37.9003 1029.78 48.0275 M1022.33 45.84 Q1022.24 39.7232 1018.88 36.0774 Q1015.56 32.4315 1010.05 32.4315 Q1003.81 32.4315 1000.05 35.9558 Q996.319 39.4801 995.752 45.8805 L1022.33 45.84 Z\" fill=\"#000000\" fill-rule=\"nonzero\" fill-opacity=\"1\" /><path clip-path=\"url(#clip730)\" d=\"M1062.63 49.7694 Q1053.6 49.7694 1050.12 51.8354 Q1046.63 53.9013 1046.63 58.8839 Q1046.63 62.8538 1049.22 65.2034 Q1051.86 67.5124 1056.35 67.5124 Q1062.55 67.5124 1066.28 63.1374 Q1070.05 58.7219 1070.05 51.4303 L1070.05 49.7694 L1062.63 49.7694 M1077.5 46.6907 L1077.5 72.576 L1070.05 72.576 L1070.05 65.6895 Q1067.49 69.8214 1063.69 71.8063 Q1059.88 73.7508 1054.37 73.7508 Q1047.4 73.7508 1043.27 69.8619 Q1039.18 65.9325 1039.18 59.3701 Q1039.18 51.7138 1044.28 47.825 Q1049.43 43.9361 1059.59 43.9361 L1070.05 43.9361 L1070.05 43.2069 Q1070.05 38.0623 1066.64 35.2672 Q1063.28 32.4315 1057.16 32.4315 Q1053.27 32.4315 1049.59 33.3632 Q1045.9 34.295 1042.5 36.1584 L1042.5 29.2718 Q1046.59 27.692 1050.44 26.9223 Q1054.29 26.1121 1057.93 26.1121 Q1067.78 26.1121 1072.64 31.2163 Q1077.5 36.3204 1077.5 46.6907 Z\" fill=\"#000000\" fill-rule=\"nonzero\" fill-opacity=\"1\" /><path clip-path=\"url(#clip730)\" d=\"M1121.78 28.5427 L1121.78 35.5912 Q1118.62 33.9709 1115.21 33.1607 Q1111.81 32.3505 1108.16 32.3505 Q1102.61 32.3505 1099.82 34.0519 Q1097.07 35.7533 1097.07 39.156 Q1097.07 41.7486 1099.05 43.2475 Q1101.03 44.7058 1107.03 46.0426 L1109.58 46.6097 Q1117.52 48.3111 1120.84 51.4303 Q1124.21 54.509 1124.21 60.0587 Q1124.21 66.3781 1119.18 70.0644 Q1114.2 73.7508 1105.45 73.7508 Q1101.8 73.7508 1097.83 73.0216 Q1093.91 72.3329 1089.53 70.9151 L1089.53 63.2184 Q1093.66 65.3654 1097.67 66.4591 Q1101.68 67.5124 1105.61 67.5124 Q1110.88 67.5124 1113.71 65.73 Q1116.55 63.9071 1116.55 60.6258 Q1116.55 57.5877 1114.48 55.9673 Q1112.46 54.3469 1105.53 52.8481 L1102.94 52.2405 Q1096.01 50.7821 1092.93 47.7845 Q1089.85 44.7463 1089.85 39.4801 Q1089.85 33.0797 1094.39 29.5959 Q1098.93 26.1121 1107.27 26.1121 Q1111.41 26.1121 1115.05 26.7198 Q1118.7 27.3274 1121.78 28.5427 Z\" fill=\"#000000\" fill-rule=\"nonzero\" fill-opacity=\"1\" /><path clip-path=\"url(#clip730)\" d=\"M1143.45 14.324 L1143.45 27.2059 L1158.8 27.2059 L1158.8 32.9987 L1143.45 32.9987 L1143.45 57.6282 Q1143.45 63.1779 1144.95 64.7578 Q1146.49 66.3376 1151.14 66.3376 L1158.8 66.3376 L1158.8 72.576 L1151.14 72.576 Q1142.52 72.576 1139.23 69.3758 Q1135.95 66.1351 1135.95 57.6282 L1135.95 32.9987 L1130.49 32.9987 L1130.49 27.2059 L1135.95 27.2059 L1135.95 14.324 L1143.45 14.324 Z\" fill=\"#000000\" fill-rule=\"nonzero\" fill-opacity=\"1\" /><path clip-path=\"url(#clip730)\" d=\"M1231.56 14.0809 L1231.56 22.0612 Q1226.9 19.8332 1222.76 18.7395 Q1218.63 17.6457 1214.78 17.6457 Q1208.1 17.6457 1204.45 20.2383 Q1200.85 22.8309 1200.85 27.611 Q1200.85 31.6214 1203.24 33.6873 Q1205.67 35.7128 1212.39 36.9686 L1217.34 37.9813 Q1226.49 39.7232 1230.83 44.1387 Q1235.2 48.5136 1235.2 55.8863 Q1235.2 64.6767 1229.29 69.2137 Q1223.41 73.7508 1212.03 73.7508 Q1207.74 73.7508 1202.87 72.7785 Q1198.05 71.8063 1192.87 69.9024 L1192.87 61.4765 Q1197.85 64.2716 1202.63 65.6895 Q1207.41 67.1073 1212.03 67.1073 Q1219.04 67.1073 1222.85 64.3527 Q1226.65 61.598 1226.65 56.4939 Q1226.65 52.0379 1223.9 49.5264 Q1221.18 47.0148 1214.95 45.759 L1209.96 44.7868 Q1200.81 42.9639 1196.72 39.075 Q1192.63 35.1862 1192.63 28.2591 Q1192.63 20.2383 1198.26 15.6203 Q1203.93 11.0023 1213.85 11.0023 Q1218.11 11.0023 1222.52 11.7719 Q1226.94 12.5416 1231.56 14.0809 Z\" fill=\"#000000\" fill-rule=\"nonzero\" fill-opacity=\"1\" /><path clip-path=\"url(#clip730)\" d=\"M1252.09 49.9314 Q1252.09 58.1548 1255.46 62.8538 Q1258.86 67.5124 1264.77 67.5124 Q1270.69 67.5124 1274.09 62.8538 Q1277.49 58.1548 1277.49 49.9314 Q1277.49 41.7081 1274.09 37.0496 Q1270.69 32.3505 1264.77 32.3505 Q1258.86 32.3505 1255.46 37.0496 Q1252.09 41.7081 1252.09 49.9314 M1277.49 65.7705 Q1275.14 69.8214 1271.54 71.8063 Q1267.97 73.7508 1262.95 73.7508 Q1254.73 73.7508 1249.54 67.1883 Q1244.4 60.6258 1244.4 49.9314 Q1244.4 39.2371 1249.54 32.6746 Q1254.73 26.1121 1262.95 26.1121 Q1267.97 26.1121 1271.54 28.0971 Q1275.14 30.0415 1277.49 34.0924 L1277.49 27.2059 L1284.95 27.2059 L1284.95 89.8329 L1277.49 89.8329 L1277.49 65.7705 Z\" fill=\"#000000\" fill-rule=\"nonzero\" fill-opacity=\"1\" /><path clip-path=\"url(#clip730)\" d=\"M1299.53 54.671 L1299.53 27.2059 L1306.98 27.2059 L1306.98 54.3874 Q1306.98 60.8284 1309.49 64.0691 Q1312.01 67.2693 1317.03 67.2693 Q1323.07 67.2693 1326.55 63.421 Q1330.07 59.5726 1330.07 52.9291 L1330.07 27.2059 L1337.53 27.2059 L1337.53 72.576 L1330.07 72.576 L1330.07 65.6084 Q1327.36 69.7404 1323.75 71.7658 Q1320.19 73.7508 1315.45 73.7508 Q1307.63 73.7508 1303.58 68.8897 Q1299.53 64.0286 1299.53 54.671 M1318.28 26.1121 L1318.28 26.1121 Z\" fill=\"#000000\" fill-rule=\"nonzero\" fill-opacity=\"1\" /><path clip-path=\"url(#clip730)\" d=\"M1373.5 49.7694 Q1364.47 49.7694 1360.98 51.8354 Q1357.5 53.9013 1357.5 58.8839 Q1357.5 62.8538 1360.09 65.2034 Q1362.72 67.5124 1367.22 67.5124 Q1373.42 67.5124 1377.14 63.1374 Q1380.91 58.7219 1380.91 51.4303 L1380.91 49.7694 L1373.5 49.7694 M1388.37 46.6907 L1388.37 72.576 L1380.91 72.576 L1380.91 65.6895 Q1378.36 69.8214 1374.55 71.8063 Q1370.74 73.7508 1365.23 73.7508 Q1358.27 73.7508 1354.14 69.8619 Q1350.04 65.9325 1350.04 59.3701 Q1350.04 51.7138 1355.15 47.825 Q1360.29 43.9361 1370.46 43.9361 L1380.91 43.9361 L1380.91 43.2069 Q1380.91 38.0623 1377.51 35.2672 Q1374.15 32.4315 1368.03 32.4315 Q1364.14 32.4315 1360.45 33.3632 Q1356.77 34.295 1353.37 36.1584 L1353.37 29.2718 Q1357.46 27.692 1361.31 26.9223 Q1365.15 26.1121 1368.8 26.1121 Q1378.64 26.1121 1383.5 31.2163 Q1388.37 36.3204 1388.37 46.6907 Z\" fill=\"#000000\" fill-rule=\"nonzero\" fill-opacity=\"1\" /><path clip-path=\"url(#clip730)\" d=\"M1430.01 34.1734 Q1428.75 33.4443 1427.25 33.1202 Q1425.8 32.7556 1424.01 32.7556 Q1417.69 32.7556 1414.29 36.8875 Q1410.93 40.9789 1410.93 48.6757 L1410.93 72.576 L1403.43 72.576 L1403.43 27.2059 L1410.93 27.2059 L1410.93 34.2544 Q1413.28 30.1225 1417.05 28.1376 Q1420.81 26.1121 1426.2 26.1121 Q1426.97 26.1121 1427.9 26.2337 Q1428.83 26.3147 1429.97 26.5172 L1430.01 34.1734 Z\" fill=\"#000000\" fill-rule=\"nonzero\" fill-opacity=\"1\" /><path clip-path=\"url(#clip730)\" d=\"M1474.81 48.0275 L1474.81 51.6733 L1440.54 51.6733 Q1441.03 59.3701 1445.16 63.421 Q1449.33 67.4314 1456.74 67.4314 Q1461.04 67.4314 1465.05 66.3781 Q1469.1 65.3249 1473.07 63.2184 L1473.07 70.267 Q1469.06 71.9684 1464.85 72.8596 Q1460.63 73.7508 1456.3 73.7508 Q1445.44 73.7508 1439.08 67.4314 Q1432.76 61.1119 1432.76 50.3365 Q1432.76 39.1965 1438.76 32.6746 Q1444.79 26.1121 1455 26.1121 Q1464.16 26.1121 1469.46 32.0264 Q1474.81 37.9003 1474.81 48.0275 M1467.36 45.84 Q1467.28 39.7232 1463.91 36.0774 Q1460.59 32.4315 1455.08 32.4315 Q1448.85 32.4315 1445.08 35.9558 Q1441.35 39.4801 1440.78 45.8805 L1467.36 45.84 Z\" fill=\"#000000\" fill-rule=\"nonzero\" fill-opacity=\"1\" /><path clip-path=\"url(#clip730)\" d=\"M1515.97 28.5427 L1515.97 35.5912 Q1512.81 33.9709 1509.41 33.1607 Q1506 32.3505 1502.36 32.3505 Q1496.81 32.3505 1494.01 34.0519 Q1491.26 35.7533 1491.26 39.156 Q1491.26 41.7486 1493.24 43.2475 Q1495.23 44.7058 1501.22 46.0426 L1503.78 46.6097 Q1511.72 48.3111 1515.04 51.4303 Q1518.4 54.509 1518.4 60.0587 Q1518.4 66.3781 1513.38 70.0644 Q1508.39 73.7508 1499.64 73.7508 Q1496 73.7508 1492.03 73.0216 Q1488.1 72.3329 1483.72 70.9151 L1483.72 63.2184 Q1487.86 65.3654 1491.87 66.4591 Q1495.88 67.5124 1499.81 67.5124 Q1505.07 67.5124 1507.91 65.73 Q1510.74 63.9071 1510.74 60.6258 Q1510.74 57.5877 1508.68 55.9673 Q1506.65 54.3469 1499.72 52.8481 L1497.13 52.2405 Q1490.21 50.7821 1487.13 47.7845 Q1484.05 44.7463 1484.05 39.4801 Q1484.05 33.0797 1488.58 29.5959 Q1493.12 26.1121 1501.47 26.1121 Q1505.6 26.1121 1509.24 26.7198 Q1512.89 27.3274 1515.97 28.5427 Z\" fill=\"#000000\" fill-rule=\"nonzero\" fill-opacity=\"1\" /><circle clip-path=\"url(#clip732)\" cx=\"598.34\" cy=\"1104.99\" r=\"14.4\" fill=\"#009af9\" fill-rule=\"evenodd\" fill-opacity=\"1\" stroke=\"#000000\" stroke-opacity=\"1\" stroke-width=\"3.2\"/>\n",
       "<circle clip-path=\"url(#clip732)\" cx=\"1021.09\" cy=\"1104.99\" r=\"14.4\" fill=\"#009af9\" fill-rule=\"evenodd\" fill-opacity=\"1\" stroke=\"#000000\" stroke-opacity=\"1\" stroke-width=\"3.2\"/>\n",
       "<circle clip-path=\"url(#clip732)\" cx=\"1443.84\" cy=\"590.656\" r=\"14.4\" fill=\"#009af9\" fill-rule=\"evenodd\" fill-opacity=\"1\" stroke=\"#000000\" stroke-opacity=\"1\" stroke-width=\"3.2\"/>\n",
       "<polyline clip-path=\"url(#clip732)\" style=\"stroke:#ff0000; stroke-linecap:round; stroke-linejoin:round; stroke-width:4; stroke-opacity:1; fill:none\" points=\"175.59,1447.87 286.84,1380.2 398.09,1312.52 509.34,1244.85 620.591,1177.17 731.841,1109.5 843.091,1041.82 954.341,974.148 1065.59,906.473 1176.84,838.798 1288.09,771.122 1399.34,703.447 1510.59,635.772 1621.84,568.097 1733.09,500.422 1844.34,432.747 1955.59,365.072 2066.84,297.397 2178.09,229.722 2289.34,162.047 \"/>\n",
       "<path clip-path=\"url(#clip730)\" d=\"M186.863 324.425 L737.702 324.425 L737.702 168.905 L186.863 168.905  Z\" fill=\"#ffffff\" fill-rule=\"evenodd\" fill-opacity=\"1\"/>\n",
       "<polyline clip-path=\"url(#clip730)\" style=\"stroke:#000000; stroke-linecap:round; stroke-linejoin:round; stroke-width:4; stroke-opacity:1; fill:none\" points=\"186.863,324.425 737.702,324.425 737.702,168.905 186.863,168.905 186.863,324.425 \"/>\n",
       "<circle clip-path=\"url(#clip730)\" cx=\"286.444\" cy=\"220.745\" r=\"20.48\" fill=\"#009af9\" fill-rule=\"evenodd\" fill-opacity=\"1\" stroke=\"#000000\" stroke-opacity=\"1\" stroke-width=\"4.55111\"/>\n",
       "<path clip-path=\"url(#clip730)\" d=\"M390.702 207.307 L390.702 234.182 L396.35 234.182 Q403.502 234.182 406.813 230.941 Q410.146 227.701 410.146 220.71 Q410.146 213.766 406.813 210.548 Q403.502 207.307 396.35 207.307 L390.702 207.307 M386.026 203.465 L395.632 203.465 Q405.678 203.465 410.377 207.654 Q415.076 211.821 415.076 220.71 Q415.076 229.645 410.354 233.835 Q405.632 238.025 395.632 238.025 L386.026 238.025 L386.026 203.465 Z\" fill=\"#000000\" fill-rule=\"nonzero\" fill-opacity=\"1\" /><path clip-path=\"url(#clip730)\" d=\"M434.127 224.992 Q428.965 224.992 426.975 226.173 Q424.984 227.353 424.984 230.201 Q424.984 232.469 426.465 233.812 Q427.97 235.131 430.539 235.131 Q434.081 235.131 436.211 232.631 Q438.363 230.108 438.363 225.941 L438.363 224.992 L434.127 224.992 M442.623 223.233 L442.623 238.025 L438.363 238.025 L438.363 234.089 Q436.905 236.451 434.729 237.585 Q432.553 238.696 429.405 238.696 Q425.424 238.696 423.063 236.474 Q420.725 234.228 420.725 230.478 Q420.725 226.103 423.641 223.881 Q426.581 221.659 432.391 221.659 L438.363 221.659 L438.363 221.242 Q438.363 218.303 436.419 216.705 Q434.498 215.085 431.002 215.085 Q428.78 215.085 426.674 215.617 Q424.567 216.15 422.623 217.215 L422.623 213.279 Q424.961 212.377 427.16 211.937 Q429.359 211.474 431.442 211.474 Q437.067 211.474 439.845 214.391 Q442.623 217.307 442.623 223.233 Z\" fill=\"#000000\" fill-rule=\"nonzero\" fill-opacity=\"1\" /><path clip-path=\"url(#clip730)\" d=\"M455.609 204.738 L455.609 212.099 L464.382 212.099 L464.382 215.409 L455.609 215.409 L455.609 229.483 Q455.609 232.654 456.465 233.557 Q457.345 234.46 460.007 234.46 L464.382 234.46 L464.382 238.025 L460.007 238.025 Q455.076 238.025 453.201 236.196 Q451.326 234.344 451.326 229.483 L451.326 215.409 L448.201 215.409 L448.201 212.099 L451.326 212.099 L451.326 204.738 L455.609 204.738 Z\" fill=\"#000000\" fill-rule=\"nonzero\" fill-opacity=\"1\" /><path clip-path=\"url(#clip730)\" d=\"M481.766 224.992 Q476.604 224.992 474.613 226.173 Q472.622 227.353 472.622 230.201 Q472.622 232.469 474.104 233.812 Q475.609 235.131 478.178 235.131 Q481.72 235.131 483.849 232.631 Q486.002 230.108 486.002 225.941 L486.002 224.992 L481.766 224.992 M490.261 223.233 L490.261 238.025 L486.002 238.025 L486.002 234.089 Q484.544 236.451 482.368 237.585 Q480.192 238.696 477.044 238.696 Q473.062 238.696 470.701 236.474 Q468.363 234.228 468.363 230.478 Q468.363 226.103 471.28 223.881 Q474.22 221.659 480.03 221.659 L486.002 221.659 L486.002 221.242 Q486.002 218.303 484.058 216.705 Q482.136 215.085 478.641 215.085 Q476.419 215.085 474.312 215.617 Q472.206 216.15 470.261 217.215 L470.261 213.279 Q472.599 212.377 474.798 211.937 Q476.997 211.474 479.081 211.474 Q484.706 211.474 487.483 214.391 Q490.261 217.307 490.261 223.233 Z\" fill=\"#000000\" fill-rule=\"nonzero\" fill-opacity=\"1\" /><path clip-path=\"url(#clip730)\" d=\"M503.155 234.136 L503.155 247.886 L498.872 247.886 L498.872 212.099 L503.155 212.099 L503.155 216.034 Q504.497 213.719 506.534 212.608 Q508.594 211.474 511.442 211.474 Q516.164 211.474 519.104 215.224 Q522.067 218.974 522.067 225.085 Q522.067 231.196 519.104 234.946 Q516.164 238.696 511.442 238.696 Q508.594 238.696 506.534 237.585 Q504.497 236.451 503.155 234.136 M517.645 225.085 Q517.645 220.386 515.701 217.724 Q513.78 215.039 510.4 215.039 Q507.02 215.039 505.076 217.724 Q503.155 220.386 503.155 225.085 Q503.155 229.784 505.076 232.469 Q507.02 235.131 510.4 235.131 Q513.78 235.131 515.701 232.469 Q517.645 229.784 517.645 225.085 Z\" fill=\"#000000\" fill-rule=\"nonzero\" fill-opacity=\"1\" /><path clip-path=\"url(#clip730)\" d=\"M539.173 215.085 Q535.747 215.085 533.756 217.77 Q531.766 220.432 531.766 225.085 Q531.766 229.738 533.733 232.423 Q535.724 235.085 539.173 235.085 Q542.576 235.085 544.567 232.4 Q546.557 229.715 546.557 225.085 Q546.557 220.478 544.567 217.793 Q542.576 215.085 539.173 215.085 M539.173 211.474 Q544.729 211.474 547.9 215.085 Q551.071 218.696 551.071 225.085 Q551.071 231.451 547.9 235.085 Q544.729 238.696 539.173 238.696 Q533.594 238.696 530.423 235.085 Q527.275 231.451 527.275 225.085 Q527.275 218.696 530.423 215.085 Q533.594 211.474 539.173 211.474 Z\" fill=\"#000000\" fill-rule=\"nonzero\" fill-opacity=\"1\" /><path clip-path=\"url(#clip730)\" d=\"M558.131 212.099 L562.39 212.099 L562.39 238.025 L558.131 238.025 L558.131 212.099 M558.131 202.006 L562.39 202.006 L562.39 207.4 L558.131 207.4 L558.131 202.006 Z\" fill=\"#000000\" fill-rule=\"nonzero\" fill-opacity=\"1\" /><path clip-path=\"url(#clip730)\" d=\"M592.853 222.377 L592.853 238.025 L588.594 238.025 L588.594 222.515 Q588.594 218.835 587.159 217.006 Q585.724 215.178 582.853 215.178 Q579.404 215.178 577.414 217.377 Q575.423 219.576 575.423 223.372 L575.423 238.025 L571.14 238.025 L571.14 212.099 L575.423 212.099 L575.423 216.127 Q576.951 213.789 579.011 212.631 Q581.094 211.474 583.802 211.474 Q588.27 211.474 590.562 214.252 Q592.853 217.006 592.853 222.377 Z\" fill=\"#000000\" fill-rule=\"nonzero\" fill-opacity=\"1\" /><path clip-path=\"url(#clip730)\" d=\"M605.562 204.738 L605.562 212.099 L614.335 212.099 L614.335 215.409 L605.562 215.409 L605.562 229.483 Q605.562 232.654 606.418 233.557 Q607.298 234.46 609.96 234.46 L614.335 234.46 L614.335 238.025 L609.96 238.025 Q605.029 238.025 603.154 236.196 Q601.279 234.344 601.279 229.483 L601.279 215.409 L598.154 215.409 L598.154 212.099 L601.279 212.099 L601.279 204.738 L605.562 204.738 Z\" fill=\"#000000\" fill-rule=\"nonzero\" fill-opacity=\"1\" /><path clip-path=\"url(#clip730)\" d=\"M636.464 212.863 L636.464 216.891 Q634.659 215.965 632.714 215.502 Q630.77 215.039 628.686 215.039 Q625.515 215.039 623.918 216.011 Q622.344 216.983 622.344 218.928 Q622.344 220.409 623.478 221.265 Q624.612 222.099 628.038 222.863 L629.497 223.187 Q634.034 224.159 635.932 225.941 Q637.853 227.701 637.853 230.872 Q637.853 234.483 634.983 236.589 Q632.135 238.696 627.136 238.696 Q625.052 238.696 622.784 238.279 Q620.538 237.886 618.038 237.076 L618.038 232.677 Q620.399 233.904 622.691 234.529 Q624.983 235.131 627.228 235.131 Q630.237 235.131 631.858 234.113 Q633.478 233.071 633.478 231.196 Q633.478 229.46 632.298 228.534 Q631.14 227.608 627.182 226.752 L625.7 226.404 Q621.742 225.571 619.983 223.858 Q618.224 222.122 618.224 219.113 Q618.224 215.455 620.816 213.465 Q623.409 211.474 628.177 211.474 Q630.538 211.474 632.622 211.821 Q634.705 212.168 636.464 212.863 Z\" fill=\"#000000\" fill-rule=\"nonzero\" fill-opacity=\"1\" /><polyline clip-path=\"url(#clip730)\" style=\"stroke:#ff0000; stroke-linecap:round; stroke-linejoin:round; stroke-width:4; stroke-opacity:1; fill:none\" points=\"211.758,272.585 361.13,272.585 \"/>\n",
       "<path clip-path=\"url(#clip730)\" d=\"M386.026 255.305 L390.702 255.305 L390.702 285.929 L407.53 285.929 L407.53 289.865 L386.026 289.865 L386.026 255.305 Z\" fill=\"#000000\" fill-rule=\"nonzero\" fill-opacity=\"1\" /><path clip-path=\"url(#clip730)\" d=\"M433.595 275.837 L433.595 277.92 L414.012 277.92 Q414.289 282.318 416.651 284.633 Q419.035 286.925 423.271 286.925 Q425.725 286.925 428.016 286.323 Q430.331 285.721 432.6 284.517 L432.6 288.545 Q430.308 289.517 427.9 290.027 Q425.493 290.536 423.016 290.536 Q416.813 290.536 413.178 286.925 Q409.567 283.314 409.567 277.156 Q409.567 270.791 412.993 267.064 Q416.442 263.314 422.275 263.314 Q427.507 263.314 430.539 266.693 Q433.595 270.05 433.595 275.837 M429.336 274.587 Q429.289 271.092 427.368 269.008 Q425.47 266.925 422.322 266.925 Q418.757 266.925 416.604 268.939 Q414.475 270.953 414.151 274.61 L429.336 274.587 Z\" fill=\"#000000\" fill-rule=\"nonzero\" fill-opacity=\"1\" /><path clip-path=\"url(#clip730)\" d=\"M452.368 276.832 Q447.206 276.832 445.215 278.013 Q443.224 279.193 443.224 282.041 Q443.224 284.309 444.706 285.652 Q446.211 286.971 448.78 286.971 Q452.322 286.971 454.451 284.471 Q456.604 281.948 456.604 277.781 L456.604 276.832 L452.368 276.832 M460.863 275.073 L460.863 289.865 L456.604 289.865 L456.604 285.929 Q455.146 288.291 452.97 289.425 Q450.794 290.536 447.646 290.536 Q443.664 290.536 441.303 288.314 Q438.965 286.068 438.965 282.318 Q438.965 277.943 441.882 275.721 Q444.822 273.499 450.632 273.499 L456.604 273.499 L456.604 273.082 Q456.604 270.143 454.66 268.545 Q452.738 266.925 449.243 266.925 Q447.021 266.925 444.914 267.457 Q442.808 267.99 440.863 269.055 L440.863 265.119 Q443.201 264.217 445.4 263.777 Q447.599 263.314 449.683 263.314 Q455.308 263.314 458.085 266.231 Q460.863 269.147 460.863 275.073 Z\" fill=\"#000000\" fill-rule=\"nonzero\" fill-opacity=\"1\" /><path clip-path=\"url(#clip730)\" d=\"M486.164 264.703 L486.164 268.731 Q484.358 267.805 482.414 267.342 Q480.47 266.879 478.386 266.879 Q475.215 266.879 473.618 267.851 Q472.044 268.823 472.044 270.768 Q472.044 272.249 473.178 273.105 Q474.312 273.939 477.738 274.703 L479.196 275.027 Q483.733 275.999 485.632 277.781 Q487.553 279.541 487.553 282.712 Q487.553 286.323 484.683 288.429 Q481.835 290.536 476.835 290.536 Q474.752 290.536 472.484 290.119 Q470.238 289.726 467.738 288.916 L467.738 284.517 Q470.099 285.744 472.391 286.369 Q474.683 286.971 476.928 286.971 Q479.937 286.971 481.558 285.953 Q483.178 284.911 483.178 283.036 Q483.178 281.3 481.997 280.374 Q480.84 279.448 476.882 278.592 L475.4 278.244 Q471.442 277.411 469.683 275.698 Q467.923 273.962 467.923 270.953 Q467.923 267.295 470.516 265.305 Q473.109 263.314 477.877 263.314 Q480.238 263.314 482.321 263.661 Q484.405 264.008 486.164 264.703 Z\" fill=\"#000000\" fill-rule=\"nonzero\" fill-opacity=\"1\" /><path clip-path=\"url(#clip730)\" d=\"M498.548 256.578 L498.548 263.939 L507.321 263.939 L507.321 267.249 L498.548 267.249 L498.548 281.323 Q498.548 284.494 499.405 285.397 Q500.284 286.3 502.946 286.3 L507.321 286.3 L507.321 289.865 L502.946 289.865 Q498.016 289.865 496.141 288.036 Q494.266 286.184 494.266 281.323 L494.266 267.249 L491.141 267.249 L491.141 263.939 L494.266 263.939 L494.266 256.578 L498.548 256.578 Z\" fill=\"#000000\" fill-rule=\"nonzero\" fill-opacity=\"1\" /><path clip-path=\"url(#clip730)\" d=\"M548.895 256.439 L548.895 260.999 Q546.233 259.726 543.872 259.101 Q541.511 258.476 539.312 258.476 Q535.492 258.476 533.409 259.957 Q531.349 261.439 531.349 264.17 Q531.349 266.462 532.715 267.643 Q534.104 268.8 537.946 269.518 L540.77 270.096 Q546.002 271.092 548.479 273.615 Q550.979 276.115 550.979 280.328 Q550.979 285.351 547.599 287.943 Q544.242 290.536 537.738 290.536 Q535.284 290.536 532.506 289.98 Q529.752 289.425 526.789 288.337 L526.789 283.522 Q529.636 285.119 532.367 285.929 Q535.099 286.74 537.738 286.74 Q541.742 286.74 543.918 285.166 Q546.094 283.592 546.094 280.675 Q546.094 278.129 544.52 276.693 Q542.969 275.258 539.404 274.541 L536.557 273.985 Q531.326 272.943 528.988 270.721 Q526.65 268.499 526.65 264.541 Q526.65 259.957 529.868 257.319 Q533.108 254.68 538.779 254.68 Q541.21 254.68 543.733 255.119 Q546.256 255.559 548.895 256.439 Z\" fill=\"#000000\" fill-rule=\"nonzero\" fill-opacity=\"1\" /><path clip-path=\"url(#clip730)\" d=\"M560.631 276.925 Q560.631 281.624 562.553 284.309 Q564.497 286.971 567.877 286.971 Q571.256 286.971 573.201 284.309 Q575.145 281.624 575.145 276.925 Q575.145 272.226 573.201 269.564 Q571.256 266.879 567.877 266.879 Q564.497 266.879 562.553 269.564 Q560.631 272.226 560.631 276.925 M575.145 285.976 Q573.802 288.291 571.742 289.425 Q569.705 290.536 566.835 290.536 Q562.136 290.536 559.173 286.786 Q556.233 283.036 556.233 276.925 Q556.233 270.814 559.173 267.064 Q562.136 263.314 566.835 263.314 Q569.705 263.314 571.742 264.448 Q573.802 265.559 575.145 267.874 L575.145 263.939 L579.404 263.939 L579.404 299.726 L575.145 299.726 L575.145 285.976 Z\" fill=\"#000000\" fill-rule=\"nonzero\" fill-opacity=\"1\" /><path clip-path=\"url(#clip730)\" d=\"M587.738 279.633 L587.738 263.939 L591.997 263.939 L591.997 279.471 Q591.997 283.152 593.432 285.004 Q594.867 286.832 597.738 286.832 Q601.187 286.832 603.177 284.633 Q605.191 282.434 605.191 278.638 L605.191 263.939 L609.45 263.939 L609.45 289.865 L605.191 289.865 L605.191 285.883 Q603.64 288.244 601.58 289.402 Q599.543 290.536 596.835 290.536 Q592.367 290.536 590.052 287.758 Q587.738 284.98 587.738 279.633 M598.455 263.314 L598.455 263.314 Z\" fill=\"#000000\" fill-rule=\"nonzero\" fill-opacity=\"1\" /><path clip-path=\"url(#clip730)\" d=\"M630.006 276.832 Q624.844 276.832 622.853 278.013 Q620.862 279.193 620.862 282.041 Q620.862 284.309 622.344 285.652 Q623.848 286.971 626.418 286.971 Q629.96 286.971 632.089 284.471 Q634.242 281.948 634.242 277.781 L634.242 276.832 L630.006 276.832 M638.501 275.073 L638.501 289.865 L634.242 289.865 L634.242 285.929 Q632.784 288.291 630.608 289.425 Q628.432 290.536 625.284 290.536 Q621.302 290.536 618.941 288.314 Q616.603 286.068 616.603 282.318 Q616.603 277.943 619.52 275.721 Q622.46 273.499 628.27 273.499 L634.242 273.499 L634.242 273.082 Q634.242 270.143 632.298 268.545 Q630.376 266.925 626.881 266.925 Q624.659 266.925 622.552 267.457 Q620.446 267.99 618.501 269.055 L618.501 265.119 Q620.839 264.217 623.038 263.777 Q625.237 263.314 627.321 263.314 Q632.946 263.314 635.723 266.231 Q638.501 269.147 638.501 275.073 Z\" fill=\"#000000\" fill-rule=\"nonzero\" fill-opacity=\"1\" /><path clip-path=\"url(#clip730)\" d=\"M662.297 267.92 Q661.58 267.504 660.723 267.318 Q659.89 267.11 658.871 267.11 Q655.26 267.11 653.316 269.471 Q651.395 271.809 651.395 276.207 L651.395 289.865 L647.112 289.865 L647.112 263.939 L651.395 263.939 L651.395 267.967 Q652.737 265.606 654.89 264.471 Q657.043 263.314 660.121 263.314 Q660.561 263.314 661.094 263.383 Q661.626 263.43 662.274 263.545 L662.297 267.92 Z\" fill=\"#000000\" fill-rule=\"nonzero\" fill-opacity=\"1\" /><path clip-path=\"url(#clip730)\" d=\"M687.899 275.837 L687.899 277.92 L668.316 277.92 Q668.594 282.318 670.955 284.633 Q673.339 286.925 677.575 286.925 Q680.029 286.925 682.32 286.323 Q684.635 285.721 686.904 284.517 L686.904 288.545 Q684.612 289.517 682.205 290.027 Q679.797 290.536 677.32 290.536 Q671.117 290.536 667.483 286.925 Q663.871 283.314 663.871 277.156 Q663.871 270.791 667.297 267.064 Q670.746 263.314 676.58 263.314 Q681.811 263.314 684.844 266.693 Q687.899 270.05 687.899 275.837 M683.64 274.587 Q683.594 271.092 681.672 269.008 Q679.774 266.925 676.626 266.925 Q673.061 266.925 670.908 268.939 Q668.779 270.953 668.455 274.61 L683.64 274.587 Z\" fill=\"#000000\" fill-rule=\"nonzero\" fill-opacity=\"1\" /><path clip-path=\"url(#clip730)\" d=\"M711.417 264.703 L711.417 268.731 Q709.612 267.805 707.667 267.342 Q705.723 266.879 703.64 266.879 Q700.468 266.879 698.871 267.851 Q697.297 268.823 697.297 270.768 Q697.297 272.249 698.431 273.105 Q699.566 273.939 702.992 274.703 L704.45 275.027 Q708.987 275.999 710.885 277.781 Q712.806 279.541 712.806 282.712 Q712.806 286.323 709.936 288.429 Q707.089 290.536 702.089 290.536 Q700.005 290.536 697.737 290.119 Q695.492 289.726 692.992 288.916 L692.992 284.517 Q695.353 285.744 697.644 286.369 Q699.936 286.971 702.181 286.971 Q705.191 286.971 706.811 285.953 Q708.431 284.911 708.431 283.036 Q708.431 281.3 707.251 280.374 Q706.093 279.448 702.135 278.592 L700.654 278.244 Q696.695 277.411 694.936 275.698 Q693.177 273.962 693.177 270.953 Q693.177 267.295 695.769 265.305 Q698.362 263.314 703.13 263.314 Q705.492 263.314 707.575 263.661 Q709.658 264.008 711.417 264.703 Z\" fill=\"#000000\" fill-rule=\"nonzero\" fill-opacity=\"1\" /></svg>\n"
      ]
     },
     "metadata": {},
     "output_type": "display_data"
    }
   ],
   "source": [
    "using Plots\n",
    "\n",
    "x_axis = LinRange(0.0, 5.0, 20)\n",
    "lsq = w_1 * collect(x_axis) .+ w_0 \n",
    "p1 = plot(u, y, st=:scatter, title=\"Least Squares\", label=\"Datapoints\")\n",
    "plot!(p1, x_axis, lsq, c=:red, label=\"Least Squares\")"
   ]
  },
  {
   "cell_type": "code",
   "execution_count": 64,
   "id": "eb3f8606-d2ac-4bfd-b1b8-098f3a0927de",
   "metadata": {
    "ExecuteTime": {
     "end_time": "2024-11-04T13:05:51.186000+01:00",
     "start_time": "2024-11-04T12:05:50.590Z"
    },
    "deletable": false,
    "editable": false,
    "nbgrader": {
     "cell_type": "code",
     "checksum": "a545c9285e98818e41451ef5fe17e15a",
     "grade": true,
     "grade_id": "cell-b24199f2e9388d9c",
     "locked": true,
     "points": 1,
     "schema_version": 3,
     "solution": false,
     "task": false
    },
    "tags": []
   },
   "outputs": [],
   "source": [
    "@assert isnan(w_0) == false \"Your value for w_0 is NaN\"\n",
    "\n",
    "# please leave this cell as it is\n"
   ]
  },
  {
   "cell_type": "code",
   "execution_count": 65,
   "id": "7d840411-760f-4232-b942-abbcfffbdc11",
   "metadata": {
    "ExecuteTime": {
     "end_time": "2024-11-04T13:05:51.986000+01:00",
     "start_time": "2024-11-04T12:05:51.530Z"
    },
    "deletable": false,
    "editable": false,
    "nbgrader": {
     "cell_type": "code",
     "checksum": "35deff0527fd4b038f2ca07b21c46fed",
     "grade": true,
     "grade_id": "cell-fee1dd5999288431",
     "locked": true,
     "points": 1,
     "schema_version": 3,
     "solution": false,
     "task": false
    },
    "tags": []
   },
   "outputs": [],
   "source": [
    "@assert isnan(w_1) == false \"Your value for w_1 is NaN\"\n",
    "\n",
    "# please leave this cell as it is\n"
   ]
  },
  {
   "cell_type": "markdown",
   "id": "532b43c9-b58f-4d6a-884f-1638206b6e11",
   "metadata": {
    "deletable": false,
    "editable": false,
    "nbgrader": {
     "cell_type": "markdown",
     "checksum": "85c5b273dc8d14e1c0788f08f9be7739",
     "grade": false,
     "grade_id": "cell-ecdbb22fa332a2d2",
     "locked": true,
     "schema_version": 3,
     "solution": false,
     "task": false
    },
    "tags": []
   },
   "source": [
    "### Task 2: Parameter Estimation of the DC Motor - (5 points)"
   ]
  },
  {
   "cell_type": "markdown",
   "id": "96e76f85-e03c-4f72-9ac1-183a99d23866",
   "metadata": {
    "deletable": false,
    "editable": false,
    "nbgrader": {
     "cell_type": "markdown",
     "checksum": "c3e0c362a34efb431821219aa9bba63d",
     "grade": false,
     "grade_id": "cell-d0c18497b0f2abf1",
     "locked": true,
     "schema_version": 3,
     "solution": false,
     "task": false
    },
    "tags": []
   },
   "source": [
    "The electrical behaviour of the DC motor in steady state is characterized by the following static equation\n",
    "\n",
    "$$\n",
    "\\begin{align}\n",
    "    i_s = u_s \\frac{1}{R_s} - \\omega \\frac{\\Psi_E}{R_s}\n",
    "\\end{align}\n",
    "$$\n",
    "\n",
    "where $u_s$ is the voltage provided by a power supply, $\\omega$ is the rotation speed which is set by a mechanical load machine, $R_s$ and $\\Psi_E$ are unknown values and $i_s$ is the current that can be measured after the motor reached steady-state operation. For the whole task, you can assume that $u_s$ and $\\omega$ are perfectly known, while the measured values for $i_s$ are affected by bias-free, additive, Gaussian noise."
   ]
  },
  {
   "cell_type": "markdown",
   "id": "6d21ee27-6b47-401d-a2f6-62ea20202c11",
   "metadata": {
    "deletable": false,
    "editable": false,
    "nbgrader": {
     "cell_type": "markdown",
     "checksum": "6cad8455963b1f65a43d77698be5d1dd",
     "grade": false,
     "grade_id": "cell-2ec2dff2e45e6f61",
     "locked": true,
     "schema_version": 3,
     "solution": false,
     "task": false
    },
    "tags": []
   },
   "source": [
    "**a)** Consider the system described above. Assign each of the equation components to the different elements of the least squares problem. For this, map each of the components in the cell below to one of the following classes: **- (0.5 points)**\n",
    "- class **1**: Measurements $\\boldsymbol{y}$\n",
    "- class **2**: Regressors $\\boldsymbol{z}$\n",
    "- class **3**: Parameters $\\boldsymbol{w}$ (this is the letter $\\boldsymbol{w}$ for the parameter vector not to be confused with the greek symbol $\\omega$ for the angular velocity)"
   ]
  },
  {
   "cell_type": "code",
   "execution_count": 70,
   "id": "c16cf878-9279-4240-a8e7-556bac3e0442",
   "metadata": {
    "ExecuteTime": {
     "end_time": "2024-11-04T13:05:53.538000+01:00",
     "start_time": "2024-11-04T12:05:53.092Z"
    },
    "deletable": false,
    "nbgrader": {
     "cell_type": "code",
     "checksum": "081722e796e30f04118b4019ed4e65f3",
     "grade": false,
     "grade_id": "cell-6d3f3c8637b1dd1f",
     "locked": false,
     "schema_version": 3,
     "solution": true,
     "task": false
    },
    "tags": []
   },
   "outputs": [
    {
     "data": {
      "text/plain": [
       "3"
      ]
     },
     "metadata": {},
     "output_type": "display_data"
    }
   ],
   "source": [
    "# choose 1,2 or 3\n",
    "\n",
    "class_i_s = 1\n",
    "class_u_s = 2\n",
    "class_one_over_R_s = 3  # i.e. 1/R_s\n",
    "class_omega = 2\n",
    "class_minus_Psi_E_over_R_s = 3  # i.e. - Psi_E/R_s\n",
    "\n",
    "#--- YOUR CODE STARTS HERE ---#\n",
    "\n",
    "#--- YOUR CODE ENDS HERE ---#"
   ]
  },
  {
   "cell_type": "code",
   "execution_count": 72,
   "id": "f8a4a19e-4775-42c6-97f7-f31fcc58dbea",
   "metadata": {
    "ExecuteTime": {
     "end_time": "2024-11-04T13:05:54.193000+01:00",
     "start_time": "2024-11-04T12:05:53.740Z"
    },
    "deletable": false,
    "editable": false,
    "nbgrader": {
     "cell_type": "code",
     "checksum": "f5c047674bd3f09d9a6b6a9bdc9d5afb",
     "grade": true,
     "grade_id": "cell-18008ded3921637c",
     "locked": true,
     "points": 0.5,
     "schema_version": 3,
     "solution": false,
     "task": false
    },
    "tags": []
   },
   "outputs": [],
   "source": [
    "@assert 1 <= class_i_s <= 3  \n",
    "@assert 1 <= class_u_s <= 3  \n",
    "@assert 1 <= class_one_over_R_s <= 3  \n",
    "@assert 1 <= class_omega <= 3  \n",
    "@assert 1 <= class_minus_Psi_E_over_R_s <= 3  \n",
    "\n",
    "# please leave this cell as it is\n"
   ]
  },
  {
   "cell_type": "markdown",
   "id": "4ba8c5d7-f488-40f7-b1af-3920ea899349",
   "metadata": {
    "deletable": false,
    "editable": false,
    "nbgrader": {
     "cell_type": "markdown",
     "checksum": "4308b04d512aa7f3adc9900bff75a403",
     "grade": false,
     "grade_id": "cell-398dcd2ce3502998",
     "locked": true,
     "schema_version": 3,
     "solution": false,
     "task": false
    },
    "tags": []
   },
   "source": [
    "**b)** Implement the function below to calculate the parameters $\\boldsymbol{w}$ from the regressor matrix $\\boldsymbol{Z}$ and the measurement vector $\\boldsymbol{y}$ using the ordinary least squares approach from the lecture. **- (1 point)**\n",
    "\n",
    "**Hint**: This is not specific to the system at hand."
   ]
  },
  {
   "cell_type": "code",
   "execution_count": 73,
   "id": "a33098f6-c833-47e9-a742-e1a24896ab81",
   "metadata": {
    "ExecuteTime": {
     "end_time": "2024-11-04T13:05:55.238000+01:00",
     "start_time": "2024-11-04T12:05:54.796Z"
    },
    "deletable": false,
    "nbgrader": {
     "cell_type": "code",
     "checksum": "ad36a379a9c9bbcda9fd29ade85eb9c6",
     "grade": false,
     "grade_id": "cell-7a395d03c399fb11",
     "locked": false,
     "schema_version": 3,
     "solution": true,
     "task": false
    },
    "tags": []
   },
   "outputs": [],
   "source": [
    "function parameter_calculation_OLS(Z, y)\n",
    "    \"\"\"\n",
    "    Args:\n",
    "        Z: regressor matrix with shape (n_measurements, n_regressors)\n",
    "        y: measurement_vector with shape (n_measurements)\n",
    "    \n",
    "    Returns:\n",
    "        The parameter vector w with shape (n_parameters)\n",
    "    \"\"\"\n",
    "    \n",
    "    #--- YOUR CODE STARTS HERE ---#\n",
    "    w = inv(Z' * Z) * Z' * y\n",
    "    #--- YOUR CODE ENDS HERE ---#\n",
    "    return w\n",
    "end;"
   ]
  },
  {
   "cell_type": "code",
   "execution_count": 74,
   "id": "0872386c-6f46-46a4-b210-0b1e7d5ab764",
   "metadata": {
    "ExecuteTime": {
     "end_time": "2024-11-04T13:05:56.279000+01:00",
     "start_time": "2024-11-04T12:05:55.016Z"
    },
    "deletable": false,
    "editable": false,
    "nbgrader": {
     "cell_type": "code",
     "checksum": "b9343d0f4346b14b491500d16181b6ea",
     "grade": true,
     "grade_id": "cell-afe2c2a7f1fc95be",
     "locked": true,
     "points": 1,
     "schema_version": 3,
     "solution": false,
     "task": false
    },
    "tags": []
   },
   "outputs": [],
   "source": [
    "@assert isa(parameter_calculation_OLS, Function)\n",
    "\n",
    "# please leave this cell as it is\n"
   ]
  },
  {
   "cell_type": "code",
   "execution_count": null,
   "id": "652642b7",
   "metadata": {
    "ExecuteTime": {
     "end_time": "2024-11-04T13:05:57.506000+01:00",
     "start_time": "2024-11-04T12:05:56.521Z"
    },
    "deletable": false,
    "editable": false,
    "nbgrader": {
     "cell_type": "code",
     "checksum": "36d13b879b574b122efee51177fb0aa1",
     "grade": true,
     "grade_id": "cell-23d6592d2175e406",
     "locked": true,
     "points": 0,
     "schema_version": 3,
     "solution": false,
     "task": false
    }
   },
   "outputs": [],
   "source": [
    "# please leave this cell as it is\n"
   ]
  },
  {
   "cell_type": "markdown",
   "id": "bd4472f7-2986-49fb-9a82-4edeecb5a42e",
   "metadata": {
    "deletable": false,
    "editable": false,
    "nbgrader": {
     "cell_type": "markdown",
     "checksum": "2f1081f51d6c6751cf0d5f42aa725254",
     "grade": false,
     "grade_id": "cell-1da0bbfa432b7441",
     "locked": true,
     "schema_version": 3,
     "solution": false,
     "task": false
    },
    "tags": []
   },
   "source": [
    "**c)** Use the function implemented in subtask b) and the given data for $u_s$, $\\omega$ and $i_s$ to estimate values for $a = \\frac{1}{R_s}$ and $b = -\\frac{\\Psi_E}{R_s}$. Put your results for $a$ and $b$ into the variables below. **- (1 point)**"
   ]
  },
  {
   "cell_type": "code",
   "execution_count": null,
   "id": "cfa99467-4cca-47b2-b099-fec3f24c6690",
   "metadata": {
    "ExecuteTime": {
     "end_time": "2024-11-04T13:06:01.182000+01:00",
     "start_time": "2024-11-04T12:05:57.007Z"
    },
    "deletable": false,
    "editable": false,
    "nbgrader": {
     "cell_type": "code",
     "checksum": "e3d375efe409396a30fd3fbe587a4979",
     "grade": false,
     "grade_id": "cell-56c8e6af3bcdb641",
     "locked": true,
     "schema_version": 3,
     "solution": false,
     "task": false
    },
    "tags": []
   },
   "outputs": [],
   "source": [
    "using MAT\n",
    "\n",
    "data_task_2 = matopen(\"data_task_2.mat\")\n",
    "\n",
    "# read data\n",
    "u_s = read(data_task_2, \"u_s\"); # 100 x 1\n",
    "omega = read(data_task_2, \"omega\"); # 100 x 1\n",
    "i_s = read(data_task_2, \"i\");"
   ]
  },
  {
   "cell_type": "code",
   "execution_count": 96,
   "id": "90ac1b19-30a4-45f7-b775-6ab566f6a220",
   "metadata": {
    "ExecuteTime": {
     "end_time": "2024-11-04T13:06:02.356000+01:00",
     "start_time": "2024-11-04T12:05:57.177Z"
    },
    "deletable": false,
    "nbgrader": {
     "cell_type": "code",
     "checksum": "64165e120ebf5c024c0aa1867a4402e3",
     "grade": false,
     "grade_id": "cell-fb932c68d8a13b80",
     "locked": false,
     "schema_version": 3,
     "solution": true,
     "task": false
    },
    "tags": []
   },
   "outputs": [
    {
     "data": {
      "text/plain": [
       "-0.043177661496966266"
      ]
     },
     "metadata": {},
     "output_type": "display_data"
    }
   ],
   "source": [
    "# variables for you to overwrite\n",
    "a = NaN\n",
    "b = NaN\n",
    "\n",
    "#--- YOUR CODE STARTS HERE ---#\n",
    "Z = cat(u_s, omega, dims=2)\n",
    "w = parameter_calculation_OLS(Z, i_s)\n",
    "\n",
    "a = w[1]\n",
    "b = w[2]\n",
    "#--- YOUR CODE ENDS HERE ---#"
   ]
  },
  {
   "cell_type": "code",
   "execution_count": 97,
   "id": "2888745e-a266-427d-9919-02ab0dbec31e",
   "metadata": {
    "ExecuteTime": {
     "end_time": "2024-11-04T13:06:02.372000+01:00",
     "start_time": "2024-11-04T12:05:57.422Z"
    },
    "deletable": false,
    "editable": false,
    "nbgrader": {
     "cell_type": "code",
     "checksum": "f4c7046f6ac2d13629a0fb5594626d9c",
     "grade": true,
     "grade_id": "cell-eec824a224d98d41",
     "locked": true,
     "points": 1,
     "schema_version": 3,
     "solution": false,
     "task": false
    },
    "tags": []
   },
   "outputs": [],
   "source": [
    "@assert isnan(a) == false \"Your value for a is NaN\"\n",
    "@assert isnan(b) == false \"Your value for b is NaN\"\n",
    "\n",
    "@assert a > 0 \"The resistance must be positive by physical constraints, that is, 'a' must be positive\"\n",
    "@assert b < 0 \"The resistance and the flux linkage must be positive, that is, 'b' must be negative\"\n",
    "\n",
    "# please leave this cell as it is\n"
   ]
  },
  {
   "cell_type": "code",
   "execution_count": null,
   "id": "992e2b43",
   "metadata": {
    "ExecuteTime": {
     "end_time": "2024-11-04T13:06:02.432000+01:00",
     "start_time": "2024-11-04T12:05:57.919Z"
    },
    "deletable": false,
    "editable": false,
    "nbgrader": {
     "cell_type": "code",
     "checksum": "b36bea7f2142d4b4f44dc0e6f22a9911",
     "grade": true,
     "grade_id": "cell-3b7f861ee03b4c2b",
     "locked": true,
     "points": 0,
     "schema_version": 3,
     "solution": false,
     "task": false
    }
   },
   "outputs": [],
   "source": [
    "# please leave this cell as it is\n"
   ]
  },
  {
   "cell_type": "markdown",
   "id": "3325cd24-777d-4ccf-8c19-2e1356cf6fbc",
   "metadata": {
    "deletable": false,
    "editable": false,
    "nbgrader": {
     "cell_type": "markdown",
     "checksum": "b009a8bc9689f6e77d1d6aa28c10ce12",
     "grade": false,
     "grade_id": "cell-0c8d5caf400c0428",
     "locked": true,
     "schema_version": 3,
     "solution": false,
     "task": false
    },
    "tags": []
   },
   "source": [
    "**d)** Implement a function to compute estimations for $R_s$ and $\\Psi_E$ based on $a$ and $b$. **- (0.5 points)**"
   ]
  },
  {
   "cell_type": "code",
   "execution_count": 98,
   "id": "92467cea-53cf-4788-a49f-87c74261522a",
   "metadata": {
    "ExecuteTime": {
     "end_time": "2024-11-04T13:06:02.434000+01:00",
     "start_time": "2024-11-04T12:05:58.868Z"
    },
    "deletable": false,
    "nbgrader": {
     "cell_type": "code",
     "checksum": "f96d96692c0711083321d5e98bbfad1c",
     "grade": false,
     "grade_id": "cell-de734069667417d5",
     "locked": false,
     "schema_version": 3,
     "solution": true,
     "task": false
    },
    "tags": []
   },
   "outputs": [],
   "source": [
    "function compute_Rs_Psi_E(a, b)\n",
    "\n",
    "    #--- YOUR CODE STARTS HERE ---#\n",
    "    R_s = 1 / a\n",
    "    Psi_E = b * (-R_s)\n",
    "    #--- YOUR CODE ENDS HERE ---#\n",
    "\n",
    "    return R_s, Psi_E\n",
    "end;"
   ]
  },
  {
   "cell_type": "code",
   "execution_count": null,
   "id": "f35158ad-2335-42da-bdd0-19f46f2a47c1",
   "metadata": {
    "ExecuteTime": {
     "end_time": "2024-11-04T13:06:02.459000+01:00",
     "start_time": "2024-11-04T12:05:59.496Z"
    },
    "deletable": false,
    "editable": false,
    "nbgrader": {
     "cell_type": "code",
     "checksum": "87fc40bd0ea5fbf6f175ea7b50797d5d",
     "grade": true,
     "grade_id": "cell-73c4a9a074fd3837",
     "locked": true,
     "points": 0.5,
     "schema_version": 3,
     "solution": false,
     "task": false
    },
    "tags": []
   },
   "outputs": [],
   "source": [
    "# please leave this cell as it is\n"
   ]
  },
  {
   "cell_type": "markdown",
   "id": "c072af20-a0c6-4bca-8fa3-06eea82cbda3",
   "metadata": {
    "deletable": false,
    "editable": false,
    "nbgrader": {
     "cell_type": "markdown",
     "checksum": "7d94d846ff578ec7d17e9299e69dc205",
     "grade": false,
     "grade_id": "cell-2af6e38f0a8ce981",
     "locked": true,
     "schema_version": 3,
     "solution": false,
     "task": false
    },
    "tags": []
   },
   "source": [
    "**e)** Analyse the accuracy of your parameter estimates. For this, take into consideration that the measured values for $i_{s}$, that you loaded from the file, are affected by bias-free, additive, Gaussian noise:\n",
    "\n",
    "$$\n",
    "\\begin{align}\n",
    "i_{s} = i_{s, true} + \\nu \\quad \\mathrm{with} \\, \\nu \\sim \\mathcal{N}(0, \\sigma_n^2).\n",
    "\\end{align}\n",
    "$$"
   ]
  },
  {
   "cell_type": "markdown",
   "id": "1786a591-0303-4e52-b3fc-0800dd3e5cf9",
   "metadata": {
    "deletable": false,
    "editable": false,
    "nbgrader": {
     "cell_type": "markdown",
     "checksum": "6666d51a7fa7a3325cc61e1de0c3ca92",
     "grade": false,
     "grade_id": "cell-db5caa876960ff18",
     "locked": true,
     "schema_version": 3,
     "solution": false,
     "task": false
    },
    "tags": []
   },
   "source": [
    "i) Estimate the corrected sample variance of $\\nu$ from the measurements for $i_s$, that you were given, and your estimate $\\hat{i}_s$, that is based on the estimated parameters. **- (0.5 points)**"
   ]
  },
  {
   "cell_type": "code",
   "execution_count": 124,
   "id": "688c9571-33fc-46d4-8dcb-6f7b8535b5a2",
   "metadata": {
    "ExecuteTime": {
     "end_time": "2024-11-04T13:06:03.135000+01:00",
     "start_time": "2024-11-04T12:06:00.791Z"
    },
    "deletable": false,
    "nbgrader": {
     "cell_type": "code",
     "checksum": "be6d7f1f04eb6cfcabf5fca64673ab2b",
     "grade": false,
     "grade_id": "cell-58f9cd149f44ba50",
     "locked": false,
     "schema_version": 3,
     "solution": true,
     "task": false
    },
    "tags": []
   },
   "outputs": [
    {
     "data": {
      "text/plain": [
       "156.14699388273493"
      ]
     },
     "metadata": {},
     "output_type": "display_data"
    }
   ],
   "source": [
    "var_nu = NaN\n",
    "\n",
    "#--- YOUR CODE STARTS HERE ---#\n",
    "i_hats = w[1] * u_s + w[2] * omega  # predictions\n",
    "\n",
    "# parameter initialization\n",
    "N = 100\n",
    "var_i_s = 0\n",
    "var_i_hats = 0\n",
    "mean_i_s = 0\n",
    "mean_i_hats = 0\n",
    "\n",
    "# calculate sample means\n",
    "for i = 1:100\n",
    "    mean_i_s += i_s[i]\n",
    "    mean_i_hats += i_hats[i]\n",
    "\n",
    "end\n",
    "mean_i_s /= N\n",
    "mean_i_hats /= N\n",
    "\n",
    "# calculate sample variances (corrected)\n",
    "for i = 1:100\n",
    "    var_i_s += (i_s[i] - mean_i_s)^2\n",
    "    var_i_hats += (i_hats[i] - mean_i_hats)^2\n",
    "\n",
    "end\n",
    "var_i_s /= (N - 1)\n",
    "var_i_hats /= (N - 1)\n",
    "\n",
    "\n",
    "# not sure which one to chose here, decided on the var for ̂  i_hat.\n",
    "var_nu = var_i_hats\n",
    "#--- YOUR CODE ENDS HERE ---#"
   ]
  },
  {
   "cell_type": "code",
   "execution_count": 127,
   "id": "8fb270c1-6aff-4328-89e6-385be099d413",
   "metadata": {
    "ExecuteTime": {
     "end_time": "2024-11-04T13:06:03.138000+01:00",
     "start_time": "2024-11-04T12:06:01.040Z"
    },
    "deletable": false,
    "editable": false,
    "nbgrader": {
     "cell_type": "code",
     "checksum": "e28b357d99b1fb74c3727d42fe106ca2",
     "grade": true,
     "grade_id": "cell-005a85dce295b7a4",
     "locked": true,
     "points": 0.5,
     "schema_version": 3,
     "solution": false,
     "task": false
    },
    "tags": []
   },
   "outputs": [],
   "source": [
    "@assert isnan(var_nu) == false \"Your value for the variance of nu is not a number.\"\n",
    "@assert var_nu > 0 \"A variance is always positive.\"\n",
    "\n",
    "# please leave this cell as it is\n"
   ]
  },
  {
   "cell_type": "markdown",
   "id": "eef7590f-6d4e-452c-8334-95d684dba215",
   "metadata": {
    "deletable": false,
    "editable": false,
    "nbgrader": {
     "cell_type": "markdown",
     "checksum": "a7454bc862181665fef7b5f2c93af394",
     "grade": false,
     "grade_id": "cell-490f557a366b1263",
     "locked": true,
     "schema_version": 3,
     "solution": false,
     "task": false
    },
    "tags": []
   },
   "source": [
    "ii) Implement the function below to estimate the covariance matrix of the parameter vector $\\boldsymbol{w}$ based on the noise variance $\\sigma_n^2$ and the regressor matrix $\\boldsymbol{Z}$ **- (0.5 points)**"
   ]
  },
  {
   "cell_type": "code",
   "execution_count": 128,
   "id": "1d2b6169-d125-4b3e-99c6-d3efa729e21a",
   "metadata": {
    "ExecuteTime": {
     "end_time": "2024-11-04T13:06:03.139000+01:00",
     "start_time": "2024-11-04T12:06:01.772Z"
    },
    "deletable": false,
    "nbgrader": {
     "cell_type": "code",
     "checksum": "8c43362d67a86c7ae63dcf50521ab9fa",
     "grade": false,
     "grade_id": "cell-1123100767a66d44",
     "locked": false,
     "schema_version": 3,
     "solution": true,
     "task": false
    },
    "tags": []
   },
   "outputs": [],
   "source": [
    "function estimate_covariance_matrix(var_nu, Z)\n",
    "    \"\"\"\n",
    "    Args:\n",
    "        var_nu: variance of the noise process\n",
    "        Z: regressor matrix with shape (n_measurements, n_regressors)\n",
    "\n",
    "    Returns:\n",
    "        covariance matrix of w\n",
    "    \"\"\"\n",
    "    \n",
    "    #--- YOUR CODE STARTS HERE ---#\n",
    "    cov_w = var_nu * inv(Z' * Z)\n",
    "    #--- YOUR CODE ENDS HERE ---#\n",
    "\n",
    "    return cov_w\n",
    "end;"
   ]
  },
  {
   "cell_type": "code",
   "execution_count": null,
   "id": "1c625d5e-7443-4d02-97e5-e4bf2cffbbed",
   "metadata": {
    "ExecuteTime": {
     "end_time": "2024-11-04T13:06:05.220000+01:00",
     "start_time": "2024-11-04T12:06:02.032Z"
    },
    "deletable": false,
    "editable": false,
    "nbgrader": {
     "cell_type": "code",
     "checksum": "a25fcdfa24cda86ac0799b7c606e4923",
     "grade": true,
     "grade_id": "cell-ebe32496af8bba27",
     "locked": true,
     "points": 0.5,
     "schema_version": 3,
     "solution": false,
     "task": false
    },
    "tags": []
   },
   "outputs": [],
   "source": [
    "# please leave this cell as it is\n"
   ]
  },
  {
   "cell_type": "markdown",
   "id": "dc50395e-c4de-41e1-b7b2-4e2f0509700a",
   "metadata": {
    "deletable": false,
    "editable": false,
    "nbgrader": {
     "cell_type": "markdown",
     "checksum": "33207b6f87b921cc82ce8045aaaf78c3",
     "grade": false,
     "grade_id": "cell-e78a16f512486d0a",
     "locked": true,
     "schema_version": 3,
     "solution": false,
     "task": false
    },
    "tags": []
   },
   "source": [
    "iii) Evaluate the coefficient of determination for the regression problem (see https://en.wikipedia.org/wiki/Coefficient_of_determination). **- (1 point)**\n",
    "\n",
    "$$\n",
    "\\begin{align}\n",
    "    R^2 = 1 - \\frac{\\sum_i{(y_i - \\hat{y}_i)^2}}{\\sum_i{(y_i - \\bar{y})^2}}\n",
    "\\end{align}\n",
    "$$"
   ]
  },
  {
   "cell_type": "code",
   "execution_count": 130,
   "id": "ce59ccdd-8fcf-4dff-b720-b7958a547d3d",
   "metadata": {
    "ExecuteTime": {
     "end_time": "2024-11-04T13:06:05.408000+01:00",
     "start_time": "2024-11-04T12:06:02.448Z"
    },
    "deletable": false,
    "nbgrader": {
     "cell_type": "code",
     "checksum": "8e7420c40867a037c56a5a731edeea51",
     "grade": false,
     "grade_id": "cell-b0cecce9d9deca39",
     "locked": false,
     "schema_version": 3,
     "solution": true,
     "task": false
    },
    "tags": []
   },
   "outputs": [
    {
     "data": {
      "text/plain": [
       "0.9827234782875744"
      ]
     },
     "metadata": {},
     "output_type": "display_data"
    }
   ],
   "source": [
    "R_squared = NaN  # put your solution into this variable\n",
    "\n",
    "#--- YOUR CODE STARTS HERE ---#\n",
    "num = 0\n",
    "denom = 0\n",
    "for i = 1:100\n",
    "    num += (i_s[i] - i_hats[i])^2\n",
    "    denom += (i_s[i] - mean_i_s)^2\n",
    "end\n",
    "\n",
    "R_squared = 1 - (num / denom)\n",
    "#--- YOUR CODE ENDS HERE ---#"
   ]
  },
  {
   "cell_type": "code",
   "execution_count": 131,
   "id": "c411dc83-3be6-47e9-927e-e040992cbaf7",
   "metadata": {
    "ExecuteTime": {
     "end_time": "2024-11-04T13:06:05.410000+01:00",
     "start_time": "2024-11-04T12:06:02.828Z"
    },
    "deletable": false,
    "editable": false,
    "nbgrader": {
     "cell_type": "code",
     "checksum": "8ac438d5339cd5ec22f2179c54d1d2ec",
     "grade": true,
     "grade_id": "cell-5fe000009068f83d",
     "locked": true,
     "points": 1,
     "schema_version": 3,
     "solution": false,
     "task": false
    },
    "tags": []
   },
   "outputs": [],
   "source": [
    "@assert isnan(R_squared) == false \"Your value for the coefficient of determination is not a number.\"\n",
    "\n",
    "# please leave this cell as it is\n"
   ]
  },
  {
   "cell_type": "markdown",
   "id": "12b7c09e-8654-4dcb-972b-269315bafe2d",
   "metadata": {
    "deletable": false,
    "editable": false,
    "nbgrader": {
     "cell_type": "markdown",
     "checksum": "37e10502eb383f11f054116c388bc2fb",
     "grade": false,
     "grade_id": "cell-535b366bf3284cd2",
     "locked": true,
     "schema_version": 3,
     "solution": false,
     "task": false
    },
    "tags": []
   },
   "source": [
    "### Task 3: Estimate Polynom Coefficients - (3 points)"
   ]
  },
  {
   "cell_type": "markdown",
   "id": "65a92cb5-af14-4470-a608-04562f467b34",
   "metadata": {
    "deletable": false,
    "editable": false,
    "nbgrader": {
     "cell_type": "markdown",
     "checksum": "dbdb531c922a02892ff43f07319249e9",
     "grade": false,
     "grade_id": "cell-f7008b9f5becb337",
     "locked": true,
     "schema_version": 3,
     "solution": false,
     "task": false
    },
    "tags": []
   },
   "source": [
    "The given data was produced using a polynomial of the form\n",
    "\n",
    "\n",
    "$$\n",
    "\\begin{align}\n",
    "    y = w_0 + x \\cdot w_1 + \\dots + x^p \\cdot w_p\n",
    "\\end{align}\n",
    "$$\n",
    "\n",
    "with an unknown degree $p$.\n",
    "\n",
    "Below you are given data for the inputs $x$ and the outputs $y$. On the one hand you are given training data you will use for the identification of coefficients (estimation of a model) and validation data\n",
    "that is used to evaluate the generalization performance of your model. All of the data for the measurements $y$ is affected by bias-free, additive, Gaussian noise, i.e., the values you are given below do not fully follow the formula given above, but instead\n",
    "\n",
    "$$\n",
    "\\begin{align}\n",
    "    y = w_0 + x \\cdot w_1 + \\dots + x^p \\cdot w_p + \\nu \\quad \\mathrm{with} \\, \\nu \\sim \\mathcal{N}(0, \\sigma_n^2).\n",
    "\\end{align}\n",
    "$$\n",
    "\n",
    "The variance of the noise process is unknown, but it is also not necessary to estimate it for completing this task."
   ]
  },
  {
   "cell_type": "code",
   "execution_count": 132,
   "id": "de8ca220-3d35-4ece-a9de-a5f64c8fd7ba",
   "metadata": {
    "ExecuteTime": {
     "end_time": "2024-11-04T13:06:05.416000+01:00",
     "start_time": "2024-11-04T12:06:04.200Z"
    },
    "deletable": false,
    "editable": false,
    "nbgrader": {
     "cell_type": "code",
     "checksum": "097975e72e2d753ba6ff842cb316eab0",
     "grade": false,
     "grade_id": "cell-42a812ba81a50655",
     "locked": true,
     "schema_version": 3,
     "solution": false,
     "task": false
    },
    "tags": []
   },
   "outputs": [],
   "source": [
    "using MAT\n",
    "data_task_3 = matopen(\"data_task_3.mat\");"
   ]
  },
  {
   "cell_type": "code",
   "execution_count": 133,
   "id": "3baee800-e3e1-4498-bb71-fc1c129e8544",
   "metadata": {
    "ExecuteTime": {
     "end_time": "2024-11-04T13:06:05.629000+01:00",
     "start_time": "2024-11-04T12:06:04.715Z"
    },
    "deletable": false,
    "editable": false,
    "nbgrader": {
     "cell_type": "code",
     "checksum": "b078d1b6d93e7a122bc2cad9b1666a5e",
     "grade": false,
     "grade_id": "cell-ed5de15dff57df4f",
     "locked": true,
     "schema_version": 3,
     "solution": false,
     "task": false
    },
    "tags": []
   },
   "outputs": [],
   "source": [
    "# training data\n",
    "x_training = read(data_task_3, \"x_training\")[1, :];\n",
    "y_training = read(data_task_3, \"y_training\")[1, :];\n",
    " \n",
    "# validation data\n",
    "x_validation = read(data_task_3, \"x_validation\")[1, :];\n",
    "y_validation = read(data_task_3, \"y_validation\")[1, :];"
   ]
  },
  {
   "cell_type": "markdown",
   "id": "aca684ae-0eea-453f-a341-00ec30d38c24",
   "metadata": {
    "deletable": false,
    "editable": false,
    "nbgrader": {
     "cell_type": "markdown",
     "checksum": "73a32723db92d33887a177286b2d714c",
     "grade": false,
     "grade_id": "cell-b369812990fb1575",
     "locked": true,
     "schema_version": 3,
     "solution": false,
     "task": false
    },
    "tags": []
   },
   "source": [
    "**a)** Consider the regression problem of the form:\n",
    "\n",
    "$$\n",
    "\\begin{align}\n",
    "    \\boldsymbol{y} = \\boldsymbol{Z} \\cdot \\boldsymbol{w}  + \\boldsymbol{\\nu}.\n",
    "\\end{align}\n",
    "$$\n",
    "\n",
    "Implement the function below to compute the regressor matrix $\\boldsymbol{Z}$ for the polynom coefficient estimation problem described above. The function takes the input data $\\boldsymbol{x}$ and the degree of the polynom $p$ as inputs. **- (0.5 points)**\n",
    "\n",
    "**Example:** If $p=2$, we get a model until the 2nd polynomial degree\n",
    "\n",
    "$$\n",
    "\\begin{align}\n",
    "    y = w_0 + x \\cdot w_1 + x^2 \\cdot w_2\n",
    "\\end{align}\n",
    "$$\n",
    "\n",
    "which results in the regressor vector\n",
    "\n",
    "$$\n",
    "\\begin{align}\n",
    "    \\boldsymbol{z} = \\begin{bmatrix} 1 & x & x^2 \\end{bmatrix}.\n",
    "\\end{align}\n",
    "$$\n",
    "\n",
    "With an input vector $\\boldsymbol{x} = \\begin{bmatrix} 1 & 2 & 3 \\end{bmatrix}$ this results in the regressor matrix\n",
    "\n",
    "$$\n",
    "\\begin{align}\n",
    "    \\boldsymbol{Z} = \\begin{bmatrix}\n",
    "        1 & 1 & 1 \\\\\n",
    "        1 & 2 & 4 \\\\\n",
    "        1 & 3 & 9 \\\\\n",
    "    \\end{bmatrix}.\n",
    "\\end{align}\n",
    "$$\n",
    "\n"
   ]
  },
  {
   "cell_type": "code",
   "execution_count": 160,
   "id": "978de4c9-a712-4676-9a84-7a58132203e9",
   "metadata": {
    "ExecuteTime": {
     "end_time": "2024-11-04T13:06:09.798000+01:00",
     "start_time": "2024-11-04T12:06:09.081Z"
    },
    "deletable": false,
    "nbgrader": {
     "cell_type": "code",
     "checksum": "b1eb5eb8ddea7d95ac6ead1a81736683",
     "grade": false,
     "grade_id": "cell-ef3d22676d057b8e",
     "locked": false,
     "schema_version": 3,
     "solution": true,
     "task": false
    },
    "tags": []
   },
   "outputs": [
    {
     "data": {
      "text/plain": [
       "regressor_matrix (generic function with 1 method)"
      ]
     },
     "metadata": {},
     "output_type": "display_data"
    }
   ],
   "source": [
    "function regressor_matrix(x, p)\n",
    "    \"\"\"\n",
    "    Args:\n",
    "        x: Input data\n",
    "        p: Degree of the polynomial\n",
    "    \n",
    "    Returns:\n",
    "        Regressor matrix Z with shape (length(x), p+1)\n",
    "    \"\"\"\n",
    "    \n",
    "    #--- YOUR CODE STARTS HERE ---#\n",
    "    Z = zeros(length(x), p+1)\n",
    "    for i = 0:p\n",
    "        Z[:,i+1] = x.^i\n",
    "    end\n",
    "    #--- YOUR CODE ENDS HERE ---#\n",
    "\n",
    "    return Z\n",
    "end"
   ]
  },
  {
   "cell_type": "code",
   "execution_count": 147,
   "id": "b00268c2-a928-478b-ba16-c0a2e78d8cdc",
   "metadata": {
    "ExecuteTime": {
     "end_time": "2024-11-04T13:06:10.110000+01:00",
     "start_time": "2024-11-04T12:06:09.284Z"
    },
    "deletable": false,
    "editable": false,
    "nbgrader": {
     "cell_type": "code",
     "checksum": "52ce7ffdbf26165b5990001df4f2f811",
     "grade": true,
     "grade_id": "cell-4075f6537a5a6334",
     "locked": true,
     "points": 0.5,
     "schema_version": 3,
     "solution": false,
     "task": false
    },
    "tags": []
   },
   "outputs": [],
   "source": [
    "@assert isa(regressor_matrix, Function)\n",
    "\n",
    "# please leave this cell as it is\n"
   ]
  },
  {
   "cell_type": "code",
   "execution_count": null,
   "id": "913f7c35",
   "metadata": {
    "ExecuteTime": {
     "end_time": "2024-11-04T13:06:10.112000+01:00",
     "start_time": "2024-11-04T12:06:09.478Z"
    },
    "deletable": false,
    "editable": false,
    "nbgrader": {
     "cell_type": "code",
     "checksum": "4c8704348ed05105f42273deb158899b",
     "grade": true,
     "grade_id": "cell-a7e659c0a88fbb76",
     "locked": true,
     "points": 0,
     "schema_version": 3,
     "solution": false,
     "task": false
    }
   },
   "outputs": [],
   "source": [
    "# please leave this cell as it is\n"
   ]
  },
  {
   "cell_type": "markdown",
   "id": "e8d45c80-9587-49ef-b10d-f93c73656c8f",
   "metadata": {
    "deletable": false,
    "editable": false,
    "nbgrader": {
     "cell_type": "markdown",
     "checksum": "d48fa6793053b03fc08b01a0325b1368",
     "grade": false,
     "grade_id": "cell-a6bb1f83a24e453c",
     "locked": true,
     "schema_version": 3,
     "solution": false,
     "task": false
    },
    "tags": []
   },
   "source": [
    "**b)** Write the computation of the parameter estimation using OLS as a function of the input data $\\boldsymbol{x}$, the output data $\\boldsymbol{y}$ and the degree of the polynomial $p$. Your goal is to find the parameters $\\boldsymbol{w}$ for the polynom of degree $p$. Use the function for the computation of the regression matrix that was asked for in subtask a) **- (0.5 points)**"
   ]
  },
  {
   "cell_type": "code",
   "execution_count": 163,
   "id": "f033671c-cc9d-458b-9073-063444ac2a51",
   "metadata": {
    "ExecuteTime": {
     "end_time": "2024-11-04T13:06:10.763000+01:00",
     "start_time": "2024-11-04T12:06:10.299Z"
    },
    "deletable": false,
    "nbgrader": {
     "cell_type": "code",
     "checksum": "006a0112ed455e4a6b6282dfa092e62f",
     "grade": false,
     "grade_id": "cell-be54ff5be59de6b8",
     "locked": false,
     "schema_version": 3,
     "solution": true,
     "task": false
    },
    "tags": []
   },
   "outputs": [
    {
     "data": {
      "text/plain": [
       "compute_parameter_estimation (generic function with 1 method)"
      ]
     },
     "metadata": {},
     "output_type": "display_data"
    }
   ],
   "source": [
    "function compute_parameter_estimation(x, y, p)\n",
    "    \"\"\"\n",
    "    Args:\n",
    "        x: Input data\n",
    "        y: Output data\n",
    "        p: Degree of the polynomial\n",
    "    \n",
    "    Returns:\n",
    "        parameter vector w with shape (p+1)\n",
    "    \"\"\"\n",
    "    \n",
    "    #--- YOUR CODE STARTS HERE ---#\n",
    "    Z = regressor_matrix(x, p)\n",
    "    w = parameter_calculation_OLS(Z, y)\n",
    "    #--- YOUR CODE ENDS HERE ---#\n",
    "\n",
    "    return w\n",
    "end"
   ]
  },
  {
   "cell_type": "code",
   "execution_count": null,
   "id": "731336be-67b9-4f27-88e0-d6c0bfcd97df",
   "metadata": {
    "ExecuteTime": {
     "end_time": "2024-11-04T13:06:11.071000+01:00",
     "start_time": "2024-11-04T12:06:10.520Z"
    },
    "deletable": false,
    "editable": false,
    "nbgrader": {
     "cell_type": "code",
     "checksum": "7b56f0aa46d8033f3a09d749081be6ba",
     "grade": true,
     "grade_id": "cell-1446419df57805ac",
     "locked": true,
     "points": 0.5,
     "schema_version": 3,
     "solution": false,
     "task": false
    },
    "tags": []
   },
   "outputs": [],
   "source": [
    "@assert isa(compute_parameter_estimation, Function)\n",
    "\n",
    "# please leave this cell as it is\n"
   ]
  },
  {
   "cell_type": "code",
   "execution_count": null,
   "id": "dd110c81",
   "metadata": {
    "ExecuteTime": {
     "end_time": "2024-11-04T13:06:11.367000+01:00",
     "start_time": "2024-11-04T12:06:10.924Z"
    },
    "deletable": false,
    "editable": false,
    "nbgrader": {
     "cell_type": "code",
     "checksum": "d34f9e85780e6f2472463ba8cf5d6aaf",
     "grade": true,
     "grade_id": "cell-36a02ed893a4bb07",
     "locked": true,
     "points": 0,
     "schema_version": 3,
     "solution": false,
     "task": false
    }
   },
   "outputs": [],
   "source": [
    "# please leave this cell as it is\n"
   ]
  },
  {
   "cell_type": "markdown",
   "id": "21f48c3d-ec1f-4e20-bb2d-18516f88f81e",
   "metadata": {
    "deletable": false,
    "editable": false,
    "nbgrader": {
     "cell_type": "markdown",
     "checksum": "d9ce5bea76471abc364fce378c39630b",
     "grade": false,
     "grade_id": "cell-06958b98358b31a0",
     "locked": true,
     "schema_version": 3,
     "solution": false,
     "task": false
    },
    "tags": []
   },
   "source": [
    "**c)** Your goal now is to find the fit onto the training data that best generalizes to the validation data. **- (2 points)**\n",
    "\n",
    "For this:\n",
    "- iterate over the degree of the polynomial $p$,\n",
    "- find the parameter vector $\\boldsymbol{w}_p$ based on the training data $\\boldsymbol{x}_{training}$ and $\\boldsymbol{y}_{training}$,\n",
    "- compute the estimates $\\hat{\\boldsymbol{y}}$ using $\\boldsymbol{w}_p$ and $\\boldsymbol{x}_{validation}$, and\n",
    "- compare the estimates $\\hat{\\boldsymbol{y}}$ with $\\boldsymbol{y}_{validation}$ using the given error function."
   ]
  },
  {
   "cell_type": "code",
   "execution_count": 148,
   "id": "19ee272a-7c78-45e2-b910-86fad7a19713",
   "metadata": {
    "ExecuteTime": {
     "end_time": "2024-11-04T13:06:11.780000+01:00",
     "start_time": "2024-11-04T12:06:11.319Z"
    },
    "deletable": false,
    "editable": false,
    "nbgrader": {
     "cell_type": "code",
     "checksum": "9c57c5de9980e54616faca00e463eea6",
     "grade": false,
     "grade_id": "cell-7d3a95206d66724b",
     "locked": true,
     "schema_version": 3,
     "solution": false,
     "task": false
    },
    "tags": []
   },
   "outputs": [
    {
     "data": {
      "text/plain": [
       "error_function (generic function with 1 method)"
      ]
     },
     "metadata": {},
     "output_type": "display_data"
    }
   ],
   "source": [
    "function error_function(a, b)\n",
    "    \"\"\"Computes the error between the two input vectors.\"\"\"\n",
    "\n",
    "    @assert length(a) == length(b)\n",
    "    @assert ndims(a) == ndims(b) == 1\n",
    "    \n",
    "    N = length(a)\n",
    "    return sqrt(1/N * sum((a-b).^2))\n",
    "end"
   ]
  },
  {
   "cell_type": "markdown",
   "id": "6fb57aa7-60b3-4bd6-a289-77d7f42b8beb",
   "metadata": {
    "deletable": false,
    "editable": false,
    "nbgrader": {
     "cell_type": "markdown",
     "checksum": "6ed08ec44dcea769601b73f7ad72a854",
     "grade": false,
     "grade_id": "cell-46617abcd47b1f7b",
     "locked": true,
     "schema_version": 3,
     "solution": false,
     "task": false
    },
    "tags": []
   },
   "source": [
    "Find a polynomial model with **an error below $10$** according to the steps described above and report its degree in the variable $p_{sol}$ below. \n",
    "\n",
    "**Hint 1:** $p_{sol} \\in [0, 10]$\n",
    "\n",
    "**Hint 2:** Multiple degrees for the polynomial produce an error that is low enough. "
   ]
  },
  {
   "cell_type": "code",
   "execution_count": 194,
   "id": "cb00bd60-3ee0-4774-9463-42e3a8c87fba",
   "metadata": {
    "ExecuteTime": {
     "end_time": "2024-11-04T13:06:12.635000+01:00",
     "start_time": "2024-11-04T12:06:11.986Z"
    },
    "deletable": false,
    "nbgrader": {
     "cell_type": "code",
     "checksum": "3fbda03e16b88a74dddf111b6ae6b6c3",
     "grade": false,
     "grade_id": "cell-de7a80003acab8b5",
     "locked": false,
     "schema_version": 3,
     "solution": true,
     "task": false
    },
    "tags": []
   },
   "outputs": [
    {
     "name": "stdout",
     "output_type": "stream",
     "text": [
      "A polynomial of degree 3 achieves an error < 10"
     ]
    }
   ],
   "source": [
    "p_sol = NaN\n",
    "\n",
    "#--- YOUR CODE STARTS HERE ---#\n",
    "for i = 0:10\n",
    "    Z_val = regressor_matrix(x_validation, i)\n",
    "    w = compute_parameter_estimation(x_training, y_training, i)\n",
    "    w = reshape(w, (length(w), 1))\n",
    "    y_hat =  Z_val * w\n",
    "    error = error_function(y_validation, y_hat[:,1])\n",
    "    if error < 10\n",
    "        p_sol = i\n",
    "        break\n",
    "    end\n",
    "end\n",
    "print(\"A polynomial of degree \", p_sol, \" achieves an error < 10\")\n",
    "#--- YOUR CODE ENDS HERE ---#"
   ]
  },
  {
   "cell_type": "code",
   "execution_count": 192,
   "id": "793a599f-1fd7-4693-ae01-1d69ae9629b4",
   "metadata": {
    "ExecuteTime": {
     "end_time": "2024-11-04T13:06:13.582000+01:00",
     "start_time": "2024-11-04T12:06:13.138Z"
    },
    "deletable": false,
    "editable": false,
    "nbgrader": {
     "cell_type": "code",
     "checksum": "9e5162454536b7e2f1acb76d8847d1be",
     "grade": true,
     "grade_id": "cell-fefbefb113ecb7c9",
     "locked": true,
     "points": 2,
     "schema_version": 3,
     "solution": false,
     "task": false
    },
    "tags": []
   },
   "outputs": [],
   "source": [
    "@assert isnan(p_sol) == false \"Your value for the p_final is not a number.\"\n",
    "@assert 0 <= p_sol <= 10\n",
    "\n",
    "# please leave this cell as it is\n"
   ]
  },
  {
   "cell_type": "markdown",
   "id": "6dca854b-64c7-45ab-b2b9-9178debe6f1d",
   "metadata": {
    "deletable": false,
    "editable": false,
    "nbgrader": {
     "cell_type": "markdown",
     "checksum": "6e5acf3049c5a18055140fda27a8154f",
     "grade": false,
     "grade_id": "cell-d120e5958a9f7150",
     "locked": true,
     "schema_version": 3,
     "solution": false,
     "task": false
    },
    "tags": []
   },
   "source": [
    "**For the interested (no extra points or credit):** Plot the estimates of the model, the training data and the validation data for each value of $p \\in [0, 10]$. Why is the highest degree of freedom not necessarily the best choice? What effect that you might know from the context of machine learning can be seen here?\n",
    "\n",
    "Please remove your plotting commands from the notebook before submission. Thank you!"
   ]
  },
  {
   "cell_type": "code",
   "execution_count": null,
   "id": "857081b1-b2fe-4a88-a606-ec11cec84154",
   "metadata": {},
   "outputs": [],
   "source": []
  }
 ],
 "metadata": {
  "kernelspec": {
   "display_name": "Julia 1.11.1",
   "language": "julia",
   "name": "julia-1.11"
  },
  "language_info": {
   "file_extension": ".jl",
   "mimetype": "application/julia",
   "name": "julia",
   "version": "1.11.1"
  }
 },
 "nbformat": 4,
 "nbformat_minor": 5
}
