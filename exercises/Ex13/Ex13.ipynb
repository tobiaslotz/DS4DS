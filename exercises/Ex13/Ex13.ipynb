{
 "cells": [
  {
   "cell_type": "markdown",
   "id": "abe57838",
   "metadata": {
    "deletable": false,
    "editable": false,
    "nbgrader": {
     "cell_type": "markdown",
     "checksum": "75f0121c881c429da503c7e0b3016869",
     "grade": false,
     "grade_id": "cell-8e66c2ee8fe15900",
     "locked": true,
     "schema_version": 3,
     "solution": false,
     "task": false
    }
   },
   "source": [
    "# Exercise 13: SINDy "
   ]
  },
  {
   "cell_type": "markdown",
   "id": "66a56f15",
   "metadata": {
    "deletable": false,
    "editable": false,
    "nbgrader": {
     "cell_type": "markdown",
     "checksum": "a7c9bdb34c19c07190b4b10c5c0b2a9c",
     "grade": false,
     "grade_id": "cell-26aa31d0c09be250",
     "locked": true,
     "schema_version": 3,
     "solution": false,
     "task": false
    }
   },
   "source": [
    "**General Instructions:**\n",
    "\n",
    "- Collaborations between students during problem-solving phase on a discussion basis is OK\n",
    "- However: individual code programming and submissions per student are required\n",
    "- Code sharing is strictly prohibited\n",
    "- We will run checks for shared code, general plagiarism and AI-generated solutions\n",
    "- Any fraud attempt will lead to an auto fail of the entire course\n",
    "- Do not use any additional packages except for those provided in the task templates\n",
    "- Please use Julia Version 1.10.x to ensure compatibility\n",
    "- Please only write between the `#--- YOUR CODE STARTS HERE ---#` and `#--- YOUR CODE ENDS HERE ---#` comments\n",
    "- Please do not delete, add any cells or overwrite cells other than the solution cells (**Tip:** If you use a jupyerhub IDE, you should not be able to add or delete cells and write in the non-solution cells by default)"
   ]
  },
  {
   "cell_type": "markdown",
   "id": "aae5349b-b21b-4380-bf63-aba6410f2ac3",
   "metadata": {
    "deletable": false,
    "editable": false,
    "nbgrader": {
     "cell_type": "markdown",
     "checksum": "30cd22b36aada66613d7b5309deeb3fc",
     "grade": false,
     "grade_id": "cell-dec1a8096714cde5",
     "locked": true,
     "schema_version": 3,
     "solution": false,
     "task": false
    },
    "tags": []
   },
   "source": [
    "\n",
    "In this exercise, we will identify a partial differential equation (PDE) from data. This means that we use the SINDy algorithm with a dictionary that contains typical terms as they can be found in PDEs. For a detailed introduction, see the following article: https://www.pnas.org/doi/10.1073/pnas.1517384113\n",
    "\n",
    "Note: To simplify the notation, we are going to use the following abbreviations: \n",
    "\n",
    "$$x_t = \\frac{\\partial x}{\\partial t}, \\quad x_{ss} = \\frac{\\partial^2 x}{\\partial s^2}, \\quad \\ldots $$ \n",
    "\n",
    "The goal is to identify a PDE of the form \n",
    "\n",
    "$$\n",
    "x_t = f(x, x_s, x_{ss}, x^2, x x_s, x_s x_{ss}, \\ldots),\n",
    "\\qquad\n",
    "\\text{(PDE)}\n",
    "$$ \n",
    "\n",
    "where the highest-order of derivatives in space is 2, i.e., $x_{ss}$."
   ]
  },
  {
   "cell_type": "markdown",
   "id": "0518cc24",
   "metadata": {
    "deletable": false,
    "editable": false,
    "nbgrader": {
     "cell_type": "markdown",
     "checksum": "4a55fec8c821ac50ecd665687e5b5d47",
     "grade": false,
     "grade_id": "cell-c225b515d60d9c0a",
     "locked": true,
     "schema_version": 3,
     "solution": false,
     "task": false
    }
   },
   "source": [
    "**Use the given data matrix $\\mathbf X\\in\\mathbb{R}^{N \\times n}$ for the identification, where $N=26$ is the number of time steps, and $n=51$ is the number of points in space.**\n",
    "We import the matrix as `X` below:"
   ]
  },
  {
   "cell_type": "code",
   "execution_count": null,
   "id": "696ef036-e645-4b6c-a2ea-69e522bef24c",
   "metadata": {
    "ExecuteTime": {
     "end_time": "2025-01-20T17:51:37.018000+01:00",
     "start_time": "2025-01-20T16:51:36.972Z"
    },
    "deletable": false,
    "editable": false,
    "nbgrader": {
     "cell_type": "code",
     "checksum": "85c4b85c5a57e8e1f9f22480485cade6",
     "grade": false,
     "grade_id": "cell-d33780f1ead110c5",
     "locked": true,
     "schema_version": 3,
     "solution": false,
     "task": false
    },
    "tags": []
   },
   "outputs": [],
   "source": [
    "import Random\n",
    "using MAT\n",
    "using LinearAlgebra\n",
    "file = matopen(\"pde.mat\")\n",
    "X = read(file, \"pde\") |> transpose  # we flatten the matrix later on, so orientation does not really matter\n",
    "                                    # `transpose` makes it adhere to the article\n",
    "close(file)\n",
    "\n",
    "dt = 0.005\n",
    "ds = 0.1"
   ]
  },
  {
   "cell_type": "markdown",
   "id": "721aae55-0ab3-4c24-8b7e-2bca1f442fea",
   "metadata": {
    "deletable": false,
    "editable": false,
    "nbgrader": {
     "cell_type": "markdown",
     "checksum": "0125308ae777fe83a9533b537b73362a",
     "grade": false,
     "grade_id": "cell-fec5327259d748c0",
     "locked": true,
     "schema_version": 3,
     "solution": false,
     "task": false
    },
    "tags": []
   },
   "source": [
    "![](pde_visualization.png)"
   ]
  },
  {
   "cell_type": "markdown",
   "id": "f104b00a",
   "metadata": {
    "deletable": false,
    "editable": false,
    "nbgrader": {
     "cell_type": "markdown",
     "checksum": "c2b0724905d6d6c80d5d81b3745fefe8",
     "grade": false,
     "grade_id": "cell-e6739cbeaad67d7a",
     "locked": true,
     "schema_version": 3,
     "solution": false,
     "task": false
    }
   },
   "source": [
    "## Exercise a)"
   ]
  },
  {
   "cell_type": "markdown",
   "id": "125ebd1d-2b75-4c77-a328-f7b7c3a997f8",
   "metadata": {
    "deletable": false,
    "editable": false,
    "nbgrader": {
     "cell_type": "markdown",
     "checksum": "eb4dfe74ba52f55ed2007c66d59c0c8e",
     "grade": false,
     "grade_id": "cell-ff70b8ac4efa94db",
     "locked": true,
     "schema_version": 3,
     "solution": false,
     "task": false
    },
    "tags": []
   },
   "source": [
    "a) To set up the dictionary $\\mathbf \\Psi(x)$, we first need to calculate the partial derivatives of the state $x$ with respect to time and space, i.e., $x_t$, $x_s$ and $x_{ss}$.  \n",
    "Compute these numerically, using central differences. Do not use an extra package for this, but rather do it “manually”, with discretization sizes `dt` and `ds`. \n",
    "Store the derivative values appropriate matrices $\\mathbf X_t$, $\\mathbf X_s$ and $\\mathbf X_{ss}$.\n",
    "Also note that you need only compute the derivatives for interior points.\n",
    "E.g., the matrix $\\mathbf X_t$ will have size ${(N-2) \\times (n-2)}$. - (1.5 points)"
   ]
  },
  {
   "cell_type": "code",
   "execution_count": null,
   "id": "d8bd6c13-f3a1-4c22-bdf1-a37710586677",
   "metadata": {
    "ExecuteTime": {
     "end_time": "2025-01-20T17:51:37.081000+01:00",
     "start_time": "2025-01-20T16:51:36.973Z"
    },
    "deletable": false,
    "nbgrader": {
     "cell_type": "code",
     "checksum": "3ffcefe8f3b32c5cea21b47ce5d62705",
     "grade": false,
     "grade_id": "cell-90d8768c915d6fb3",
     "locked": false,
     "schema_version": 3,
     "solution": true,
     "task": false
    },
    "tags": []
   },
   "outputs": [],
   "source": [
    "Xt = nothing\n",
    "Xs = nothing\n",
    "Xss = nothing\n",
    "\n",
    "#--- YOUR CODE STARTS HERE ---#\n",
    "\n",
    "#--- YOUR CODE ENDS HERE ---#"
   ]
  },
  {
   "cell_type": "code",
   "execution_count": null,
   "id": "3265b76c-cab7-4904-8686-add9d96c2a09",
   "metadata": {
    "ExecuteTime": {
     "end_time": "2025-01-20T17:51:37.143000+01:00",
     "start_time": "2025-01-20T16:51:36.974Z"
    },
    "deletable": false,
    "editable": false,
    "nbgrader": {
     "cell_type": "code",
     "checksum": "708bac65fb495cd879d512ad45222802",
     "grade": true,
     "grade_id": "cell-e24e4ce24367bef8",
     "locked": true,
     "points": 1.5,
     "schema_version": 3,
     "solution": false,
     "task": false
    },
    "tags": []
   },
   "outputs": [],
   "source": [
    "@assert size(Xt) == (24, 49)\n",
    "@assert size(Xs) == (24, 49)\n",
    "@assert size(Xss) == (24, 49)\n"
   ]
  },
  {
   "cell_type": "markdown",
   "id": "4ec59c96",
   "metadata": {
    "deletable": false,
    "editable": false,
    "nbgrader": {
     "cell_type": "markdown",
     "checksum": "b3432c3b1999b9213bd55be54fed509d",
     "grade": false,
     "grade_id": "cell-1c9e04c812142df2",
     "locked": true,
     "schema_version": 3,
     "solution": false,
     "task": false
    }
   },
   "source": [
    "## Exercise b)"
   ]
  },
  {
   "cell_type": "markdown",
   "id": "2e5f1f16-5d0d-4849-9e0a-9c754a6b88ec",
   "metadata": {
    "deletable": false,
    "editable": false,
    "nbgrader": {
     "cell_type": "markdown",
     "checksum": "2d9f1afe177a657e5da51946e44316ab",
     "grade": false,
     "grade_id": "cell-ea452a10e23db6f7",
     "locked": true,
     "schema_version": 3,
     "solution": false,
     "task": false
    },
    "tags": []
   },
   "source": [
    "b) Flatten the data matrices `X`, `Xt`, etc. into long vectors of size $ (N-2) (n-2)$.\n",
    "For `X`, remove boundary points beforehand. - (1 point)"
   ]
  },
  {
   "cell_type": "code",
   "execution_count": null,
   "id": "3fd3afa6-04de-440a-ab5b-3b16a296ca74",
   "metadata": {
    "ExecuteTime": {
     "end_time": "2025-01-20T17:51:37.147000+01:00",
     "start_time": "2025-01-20T16:51:36.975Z"
    },
    "deletable": false,
    "nbgrader": {
     "cell_type": "code",
     "checksum": "d46b607b3486cff4eafbb0bf0ba7375f",
     "grade": false,
     "grade_id": "cell-a514a9ac35feb0ae",
     "locked": false,
     "schema_version": 3,
     "solution": true,
     "task": false
    }
   },
   "outputs": [],
   "source": [
    "X_flat = nothing\n",
    "Xt_flat = nothing\n",
    "Xs_flat = nothing\n",
    "Xss_flat = nothing\n",
    "\n",
    "#--- YOUR CODE STARTS HERE ---#\n",
    "\n",
    "#--- YOUR CODE ENDS HERE ---#"
   ]
  },
  {
   "cell_type": "code",
   "execution_count": null,
   "id": "54bab0e5-d296-4d29-ab31-b5c819b6edf7",
   "metadata": {
    "ExecuteTime": {
     "end_time": "2025-01-20T17:51:37.171000+01:00",
     "start_time": "2025-01-20T16:51:36.976Z"
    },
    "deletable": false,
    "editable": false,
    "nbgrader": {
     "cell_type": "code",
     "checksum": "9667e31824473a2636f76e4c97120224",
     "grade": true,
     "grade_id": "cell-cc3cc22f6cad11c1",
     "locked": true,
     "points": 1,
     "schema_version": 3,
     "solution": false,
     "task": false
    },
    "tags": []
   },
   "outputs": [],
   "source": [
    "@assert size(X_flat) == (1176,)\n",
    "@assert size(Xt_flat) == (1176,)\n",
    "@assert size(Xs_flat) == (1176,)\n",
    "@assert size(Xss_flat) == (1176,)\n"
   ]
  },
  {
   "cell_type": "markdown",
   "id": "67ec5eab",
   "metadata": {
    "ExecuteTime": {
     "end_time": "2025-01-20T10:49:27.701000+01:00",
     "start_time": "2025-01-20T09:49:27.685Z"
    },
    "deletable": false,
    "editable": false,
    "nbgrader": {
     "cell_type": "markdown",
     "checksum": "a5cd76e0e5131405771182f47a635f5f",
     "grade": false,
     "grade_id": "cell-dcc510aa201452b2",
     "locked": true,
     "schema_version": 3,
     "solution": false,
     "task": false
    }
   },
   "source": [
    "## Exercise c)"
   ]
  },
  {
   "cell_type": "markdown",
   "id": "6e61db53-c3ab-4024-90d3-ede599fcec8a",
   "metadata": {
    "deletable": false,
    "editable": false,
    "nbgrader": {
     "cell_type": "markdown",
     "checksum": "6c2fb30cd746dfeef2f9671474f3e088",
     "grade": false,
     "grade_id": "cell-1ed9c4377445d3e9",
     "locked": true,
     "schema_version": 3,
     "solution": false,
     "task": false
    },
    "tags": []
   },
   "source": [
    "c) Create a feature matrix $\\mathbf \\Psi$ of possible right-hand side terms using all terms up to order two.\n",
    "That is, the column-layout is as follows:\n",
    "$$ \\mathbf \\Psi = [\n",
    "    \\mathbf 1, \n",
    "    \\mathbf X, \n",
    "    \\mathbf X_s, \n",
    "    \\mathbf X_{ss}, \n",
    "    \\mathbf X^2, \n",
    "    \\mathbf X \\cdot \\mathbf X_s, \n",
    "    \\mathbf X \\cdot \\mathbf X_{ss}, \n",
    "    \\mathbf X_s^2, \n",
    "    \\mathbf X_s \\cdot \\mathbf X_{ss}, \n",
    "    \\mathbf X_{ss}^2]\n",
    "    .\n",
    "$$ \n",
    "(1.5 points)"
   ]
  },
  {
   "cell_type": "code",
   "execution_count": null,
   "id": "c82b4d0e-3814-4738-aee6-d2b772f625b3",
   "metadata": {
    "ExecuteTime": {
     "end_time": "2025-01-20T17:51:37.174000+01:00",
     "start_time": "2025-01-20T16:51:36.977Z"
    },
    "deletable": false,
    "nbgrader": {
     "cell_type": "code",
     "checksum": "fdb635cb9a871f98d9910ab58a4de872",
     "grade": false,
     "grade_id": "cell-140bd9d8a3ecfd82",
     "locked": false,
     "schema_version": 3,
     "solution": true,
     "task": false
    },
    "tags": []
   },
   "outputs": [],
   "source": [
    "function Psi(X_flat, Xs_flat, Xss_flat)\n",
    "    #--- YOUR CODE STARTS HERE ---#\n",
    "    \n",
    "    #--- YOUR CODE ENDS HERE ---#\n",
    "    return psi\n",
    "end;"
   ]
  },
  {
   "cell_type": "code",
   "execution_count": null,
   "id": "6dde5c29-d6ef-47f6-8d40-271275630f1b",
   "metadata": {
    "ExecuteTime": {
     "end_time": "2025-01-20T17:51:37.875000+01:00",
     "start_time": "2025-01-20T16:51:36.978Z"
    },
    "deletable": false,
    "editable": false,
    "nbgrader": {
     "cell_type": "code",
     "checksum": "59c131ee2562d10f02bc53c934d3e852",
     "grade": true,
     "grade_id": "cell-6ec6f4b5b5e77467",
     "locked": true,
     "points": 1.5,
     "schema_version": 3,
     "solution": false,
     "task": false
    },
    "tags": []
   },
   "outputs": [],
   "source": [
    "psi = Psi(X_flat, Xs_flat, Xss_flat)\n",
    "@assert size(psi) == (1176, 10)"
   ]
  },
  {
   "cell_type": "markdown",
   "id": "53769bc5",
   "metadata": {
    "deletable": false,
    "editable": false,
    "nbgrader": {
     "cell_type": "markdown",
     "checksum": "cbfe0f57674f69b98117164bda713106",
     "grade": false,
     "grade_id": "cell-a67a07cee3490ea8",
     "locked": true,
     "schema_version": 3,
     "solution": false,
     "task": false
    }
   },
   "source": [
    "## Exercise d)"
   ]
  },
  {
   "cell_type": "markdown",
   "id": "9c0ffc7a-4b92-4b4b-adf4-950444c25555",
   "metadata": {
    "deletable": false,
    "editable": false,
    "nbgrader": {
     "cell_type": "markdown",
     "checksum": "dda2f03b89ebb924e9d30bfc81d61ab8",
     "grade": false,
     "grade_id": "cell-0aa094e820058075",
     "locked": true,
     "schema_version": 3,
     "solution": false,
     "task": false
    },
    "tags": []
   },
   "source": [
    "d) Use the thresholding algorithm from the lecture to identify the PDE that created the data set $\\mathbf X$. - (4 points)"
   ]
  },
  {
   "cell_type": "markdown",
   "id": "dec49d0b",
   "metadata": {
    "deletable": false,
    "editable": false,
    "nbgrader": {
     "cell_type": "markdown",
     "checksum": "914de52447caeebf12c83846b1e411f5",
     "grade": false,
     "grade_id": "cell-b67de9a7cb231be5",
     "locked": true,
     "schema_version": 3,
     "solution": false,
     "task": false
    }
   },
   "source": [
    "First, assume that $\\mathbf Y$ is a column vector with target data and $\\mathbf Z$ is a basis matrix of suitable size.\n",
    "Further, let $\\mathbf w$ be the coefficient vector that we want to find, and $λ$ a real regularization parameter.\n",
    "With LASSO we can solve\n",
    "$$\n",
    "\\min_{\\mathbf w \\in ℝ^q} \n",
    "\\left(\n",
    "\\underbrace{\\| \\mathbf Y - \\mathbf Z \\mathbf w \\|_2^2}_{\\mathcal L_{\\text{reg}}(\\mathbf w)} \n",
    "+\n",
    "\\underbrace{λ \\|\\mathbf w\\|_1}_{\\mathcal L_{\\text{sparse}}(\\mathbf w)}\n",
    "\\right)\n",
    ".\n",
    "$$\n",
    "In this notebook, we takle LASSO by means of **coordinate descent**.\n",
    "That is, we cyclically sweep over the parameters (i.e., the entries in $\\mathbf w$) to optimize the combined loss function with respect to this single parameter whilst keeping all other weights fixed.\n",
    "The optimal $w_j$ can be found by ensuring that $0$ is contained in the subgradient of the loss function.\n",
    "\n",
    "It can be shown that\n",
    "$$\n",
    "\\frac{\\partial \\mathcal L_{\\text{reg}}}{\\partial w_j} = \n",
    "2\n",
    "\\left(\n",
    "-~\n",
    "\\underbrace{\n",
    "\\sum_{i=1}^{N_{\\mathbf Y}}\n",
    "\\left(\n",
    "    z_{i,j} \n",
    "        \\left(\n",
    "            y_i - \\sum_{k\\ne j} z_{i,k} w_k\n",
    "        \\right)\n",
    "\\right)\n",
    "}_{ρ_j}\n",
    "+\n",
    "w_j\n",
    "\\underbrace{\n",
    "\\sum_{i=1}^{N_{\\mathbf Y}}\n",
    "   z_{i,j}^2\n",
    "}_{φ_j}\n",
    "\\right)\n",
    "=\n",
    "2(-ρ_j + w_j φ_j)\n",
    ",\n",
    "$$\n",
    "and\n",
    "$$\n",
    "\\frac{\\partial \\mathcal L_{\\text{sparse}}}{\\partial w_j}\n",
    "=\n",
    "\\begin{cases}\n",
    "    -λ, &\\text{if $w_j < 0$,}\\\\\n",
    "    [-λ, λ] & \\text{if $w_j = 0$},\\\\\n",
    "    λ  &\\text{if $w_j > 0$.}\n",
    "\\end{cases}\n",
    "$$\n",
    "From this, three cases for finding the optimal value $w_j$ are derived:\n",
    "$$\n",
    "w_j =\n",
    "\\begin{cases}\n",
    "    \\frac{ ρ_j + \\frac{λ}{2} }{φ_j} & \\text{if $ρ_j < - \\frac{λ}{2}$,}\\\\\n",
    "    0 & \\text{ if $ρ_j \\in \\left[-\\frac{λ}{2}, \\frac{λ}{2}\\right]$,}\\\\\n",
    "    \\frac{ ρ_j - \\frac{λ}{2} }{φ_j} & \\text{if $ρ_j > \\frac{λ}{2}$.}\n",
    "\\end{cases}\n",
    "$$"
   ]
  },
  {
   "cell_type": "markdown",
   "id": "3abd14a3",
   "metadata": {
    "deletable": false,
    "editable": false,
    "nbgrader": {
     "cell_type": "markdown",
     "checksum": "ceb4d0f14d74b8786bcb019233688286",
     "grade": false,
     "grade_id": "cell-34e4f0be789de107",
     "locked": true,
     "schema_version": 3,
     "solution": false,
     "task": false
    }
   },
   "source": [
    "### Task 1 (0.5 + 0.5 points)\n",
    "\n",
    "Complete the following functions to\n",
    "* compute the values $ρ_j$ and $φ_j$ given vector $\\mathbf Y$ and matrix $\\mathbf Z$ and index $j$.\n",
    "* return the optimal value $w_j$, if we addionally provide $λ>0$."
   ]
  },
  {
   "cell_type": "code",
   "execution_count": null,
   "id": "464a528a",
   "metadata": {
    "ExecuteTime": {
     "end_time": "2025-01-20T17:51:37.878000+01:00",
     "start_time": "2025-01-20T16:51:36.979Z"
    },
    "deletable": false,
    "nbgrader": {
     "cell_type": "code",
     "checksum": "227ac80143925d75c2b4e4c6512b3287",
     "grade": false,
     "grade_id": "cell-6de788356a4729b4",
     "locked": false,
     "schema_version": 3,
     "solution": true,
     "task": false
    }
   },
   "outputs": [],
   "source": [
    "function calc_rho_phi(Z::AbstractMatrix, Y::AbstractVector, w::AbstractVector, j::Integer)\n",
    "    rho_j = phi_j = nothing\n",
    "\n",
    "    #--- YOUR CODE STARTS HERE ---#\n",
    "    \n",
    "    #--- YOUR CODE ENDS HERE ---#\n",
    "    return rho_j, phi_j\n",
    "end;"
   ]
  },
  {
   "cell_type": "code",
   "execution_count": null,
   "id": "674b09d9",
   "metadata": {
    "ExecuteTime": {
     "end_time": "2025-01-20T17:51:37.968000+01:00",
     "start_time": "2025-01-20T16:51:36.979Z"
    },
    "deletable": false,
    "editable": false,
    "nbgrader": {
     "cell_type": "code",
     "checksum": "cd29ca64b410f117028454f74d23fe5f",
     "grade": true,
     "grade_id": "cell-543b0f1b1f0ee71a",
     "locked": true,
     "points": 0.5,
     "schema_version": 3,
     "solution": false,
     "task": false
    }
   },
   "outputs": [],
   "source": [
    "let\n",
    "    Random.seed!(1234)\n",
    "    \n",
    "    Z = rand(3, 2)\n",
    "    w = rand(2)\n",
    "    Y = rand(3)\n",
    "    \n",
    "    rho, phi = calc_rho_phi(Z, Y, w, 1)\n",
    "    @assert rho isa Real\n",
    "    @assert phi isa Real\n",
    "    \n",
    "    @assert isapprox(rho, 0.24372423119974812; rtol=1e-4)\n",
    "    @assert isapprox(phi, 0.4554981037149115; rtol=1e-4)\n",
    "    \n",
    "end"
   ]
  },
  {
   "cell_type": "code",
   "execution_count": null,
   "id": "00935278",
   "metadata": {
    "ExecuteTime": {
     "end_time": "2025-01-20T17:51:37.970000+01:00",
     "start_time": "2025-01-20T16:51:36.980Z"
    },
    "deletable": false,
    "nbgrader": {
     "cell_type": "code",
     "checksum": "816184795fe9b36edd77a4506dfda722",
     "grade": false,
     "grade_id": "cell-c500fff9c3ef0d61",
     "locked": false,
     "schema_version": 3,
     "solution": true,
     "task": false
    }
   },
   "outputs": [],
   "source": [
    "function opt_wj(Z::AbstractMatrix, Y::AbstractVector, w::AbstractVector, j::Integer, λ::Real)\n",
    "    w_j_opt = nothing\n",
    "    \n",
    "    #--- YOUR CODE STARTS HERE ---#\n",
    "    \n",
    "    #--- YOUR CODE ENDS HERE ---#\n",
    "    \n",
    "    return w_j_opt\n",
    "end;"
   ]
  },
  {
   "cell_type": "code",
   "execution_count": null,
   "id": "8adf92fd",
   "metadata": {
    "ExecuteTime": {
     "end_time": "2025-01-20T17:51:37.988000+01:00",
     "start_time": "2025-01-20T16:51:36.981Z"
    },
    "deletable": false,
    "editable": false,
    "nbgrader": {
     "cell_type": "code",
     "checksum": "c7127ea2e2cb9ac88a2670c8cc309cc9",
     "grade": true,
     "grade_id": "cell-5a4d9c9079ad00cb",
     "locked": true,
     "points": 0.5,
     "schema_version": 3,
     "solution": false,
     "task": false
    }
   },
   "outputs": [],
   "source": [
    "let\n",
    "    Random.seed!(1234)\n",
    "    \n",
    "    Z = rand(3, 2)\n",
    "    w = rand(2)\n",
    "    Y = rand(3)\n",
    "    w_j_opt = opt_wj(Z, Y, w, 1, 0.1)\n",
    "    @assert w_j_opt > 0\n",
    "    \n",
    "end"
   ]
  },
  {
   "cell_type": "markdown",
   "id": "232ca538",
   "metadata": {
    "deletable": false,
    "editable": false,
    "nbgrader": {
     "cell_type": "markdown",
     "checksum": "77c44f937139e22eed0c5965e1a1534b",
     "grade": false,
     "grade_id": "cell-00a0d0b5447a84c2",
     "locked": true,
     "schema_version": 3,
     "solution": false,
     "task": false
    }
   },
   "source": [
    "### Task 2 ( 1 point)\n",
    "Implement LASSO with Coordinate Descent by completing the cell below.\n",
    "\n",
    "In iteration $k$, perform coordinate descent for all entries.\n",
    "Stop, if $\\|\\mathbf w^{(k)} - \\mathbf w^{(k-1)}\\|_2 \\leq ε_{\\text{rel}} \\|\\mathbf w^{(k-1)}\\|_2$ or if the maximum number of iterations is reached."
   ]
  },
  {
   "cell_type": "code",
   "execution_count": null,
   "id": "1afb5c33",
   "metadata": {
    "ExecuteTime": {
     "end_time": "2025-01-20T17:51:37.992000+01:00",
     "start_time": "2025-01-20T16:51:36.981Z"
    },
    "deletable": false,
    "nbgrader": {
     "cell_type": "code",
     "checksum": "711cf9af6adf99289cc5551cb520c344",
     "grade": false,
     "grade_id": "cell-d6610a89304982b3",
     "locked": false,
     "schema_version": 3,
     "solution": true,
     "task": false
    }
   },
   "outputs": [],
   "source": [
    "function LASSO!(\n",
    "        ## modify `w` in place\n",
    "        w::AbstractVector,\n",
    "        ## do not modify these:\n",
    "        Z::AbstractMatrix, Y::AbstractVector, λ::Real;\n",
    "        ## parameters:\n",
    "        tol_rel = 1e-5,\n",
    "        max_iter = 100_000\n",
    ")\n",
    "    #--- YOUR CODE STARTS HERE ---#\n",
    "    \n",
    "    #--- YOUR CODE ENDS HERE ---#\n",
    "    \n",
    "    return w\n",
    "end;"
   ]
  },
  {
   "cell_type": "code",
   "execution_count": null,
   "id": "61d4e7dd",
   "metadata": {
    "ExecuteTime": {
     "end_time": "2025-01-20T17:51:38.396000+01:00",
     "start_time": "2025-01-20T16:51:36.982Z"
    },
    "deletable": false,
    "editable": false,
    "nbgrader": {
     "cell_type": "code",
     "checksum": "2e8fb8910afb2a311ec045b52d29ecbf",
     "grade": true,
     "grade_id": "cell-80b1204ed996ccc7",
     "locked": true,
     "points": 1,
     "schema_version": 3,
     "solution": false,
     "task": false
    }
   },
   "outputs": [],
   "source": [
    "let\n",
    "    ## quickly generate a testset for polynomial fitting\n",
    "    f(x) = sum( x.^2 )\n",
    "    X = -2 .+ 4 .* rand(2, 10)\n",
    "    q = 6\n",
    "    Z = [\n",
    "        ones(10);; X[1, :];; X[2, :];; X[1, :] .* X[2, :];; X[1,:] .^2;; X[2, :].^2 ]\n",
    "    Y = mapreduce(f, vcat, eachcol(X))\n",
    "    ## initialize parameter vector\n",
    "    w = Vector{Float64}(undef, q)\n",
    "    ## call LASSO!\n",
    "    LASSO!(w, Z, Y, 1e-3; tol_rel = 1e-6)\n",
    "    \n",
    "    ## if the algorithm did nothing that is completely weird, the parameters should not have large magnitude:\n",
    "    @assert all( abs(wj) <= 2 for wj = w)\n",
    "    \n",
    "end"
   ]
  },
  {
   "cell_type": "markdown",
   "id": "2b5c8cc3",
   "metadata": {
    "ExecuteTime": {
     "end_time": "2025-01-20T13:31:35.225000+01:00",
     "start_time": "2025-01-20T12:31:35.112Z"
    },
    "deletable": false,
    "editable": false,
    "nbgrader": {
     "cell_type": "markdown",
     "checksum": "4a2367b032d6148ffbadf59e34f7cbe8",
     "grade": false,
     "grade_id": "cell-b5cd9aa3b9edea31",
     "locked": true,
     "schema_version": 3,
     "solution": false,
     "task": false
    }
   },
   "source": [
    "### Task 3 (1 point)\n",
    "Finally, implement the alternating thresholding scheme.\n",
    "To this end, apply `LASSO!` to those entries of $\\mathbf w$ indexed by `I_nz`, the **n**on-**z**ero entries.\n",
    "For initialization, use the ridge regression solution\n",
    "$$\n",
    "\\mathbf w_0 = \\left(\\mathbf Z^\\intercal \\mathbf Z + λ \\mathbf I\\right)^{-1} \\mathbf Z^\\intercal \\mathbf Y.\n",
    "$$\n",
    "In iteration $\\ell$, first update `I_nz`. \n",
    "An entry of $\\mathbf w^{(\\ell)}$ is deemed to be zero, if its absolute value is below the threshold parameter `th`.\n",
    "In addition to setting `I_nz`, also actually set corresponding the entries of $\\mathbf w^{(\\ell)}$ to exactly equal `0`.  \n",
    "Then call `LASSO!` with stopping parameters `max_iter_lasso` and `rel_tol_lasso`.\n",
    "Beware! We have implemented `LASSO!` to modify the parameter vector in-place.\n",
    "Be sure to use views or perform copies accordingly!!\n",
    "\n",
    "Again, implement a relative stopping criterion and respect the keyword-argument `max_iter`."
   ]
  },
  {
   "cell_type": "code",
   "execution_count": null,
   "id": "8e782933-7ce3-4aed-a733-8ed8967a99cd",
   "metadata": {
    "ExecuteTime": {
     "end_time": "2025-01-20T17:51:38.748000+01:00",
     "start_time": "2025-01-20T16:51:36.983Z"
    },
    "deletable": false,
    "nbgrader": {
     "cell_type": "code",
     "checksum": "499d205cf98f0f2c6b112403925ec828",
     "grade": false,
     "grade_id": "cell-b7998be95cbf5b7b",
     "locked": false,
     "schema_version": 3,
     "solution": true,
     "task": false
    },
    "tags": []
   },
   "outputs": [],
   "source": [
    "function alternating_thresholding_lasso(\n",
    "        Z::AbstractMatrix, Y::AbstractVector, λ::Real;\n",
    "        max_iter = 1000,\n",
    "        tol_rel = 1e-4,\n",
    "        th = 5e-3,\n",
    "        max_iter_lasso = max_iter,\n",
    "        tol_rel_lasso = 1e-3\n",
    ")\n",
    "    @info \"\"\"\n",
    "    Parameters are\n",
    "      max_iter = $(max_iter),\n",
    "      tol_rel  = $(tol_rel),\n",
    "      th       = $(th),\n",
    "      max_iter_lasso = $(max_iter_lasso),\n",
    "      tol_rel_lasso = $(tol_rel_lasso)\"\"\"\n",
    "    \n",
    "    w = nothing\n",
    "    #--- YOUR CODE STARTS HERE ---#\n",
    "    \n",
    "    #--- YOUR CODE ENDS HERE ---#\n",
    "    return w\n",
    "end"
   ]
  },
  {
   "cell_type": "code",
   "execution_count": null,
   "id": "fdbe217c",
   "metadata": {
    "ExecuteTime": {
     "end_time": "2025-01-20T17:51:43.467000+01:00",
     "start_time": "2025-01-20T16:51:36.984Z"
    },
    "deletable": false,
    "editable": false,
    "nbgrader": {
     "cell_type": "code",
     "checksum": "9315145527fbecfe8e5e581fbc0f9d91",
     "grade": true,
     "grade_id": "cell-6b01cdfcc9952d2e",
     "locked": true,
     "points": 1,
     "schema_version": 3,
     "solution": false,
     "task": false
    }
   },
   "outputs": [],
   "source": [
    "let\n",
    "    ## quickly generate a testset for polynomial fitting\n",
    "    f(x) = sum( x.^2 )\n",
    "    X = -2 .+ 4 .* rand(2, 10)\n",
    "    q = 6\n",
    "    Z = [\n",
    "        ones(10);; X[1, :];; X[2, :];; X[1, :] .* X[2, :];; X[1,:] .^2;; X[2, :].^2 ]\n",
    "    Y = mapreduce(f, vcat, eachcol(X))\n",
    "    ## call algorithm\n",
    "    w = alternating_thresholding_lasso(\n",
    "        Z, Y, 0.001;\n",
    "        max_iter = 1000,\n",
    "        tol_rel = 1e-3,\n",
    "        th = 5e-3,\n",
    "        max_iter_lasso = 1000, # note the reduced number of lasso iterations\n",
    "        tol_rel_lasso = 1e-2   # and the coarser criterion\n",
    "    )\n",
    "    \n",
    "    ## if the algorithm did nothing that is completely weird, the parameters should not have large magnitude:\n",
    "    @assert all( abs(wj) <= 2 for wj = w)\n",
    "    \n",
    "end"
   ]
  },
  {
   "cell_type": "markdown",
   "id": "e1147ff7",
   "metadata": {
    "ExecuteTime": {
     "end_time": "2025-01-20T14:29:11.081000+01:00",
     "start_time": "2025-01-20T13:29:11.027Z"
    },
    "deletable": false,
    "editable": false,
    "nbgrader": {
     "cell_type": "markdown",
     "checksum": "dbb9abcf0b56eecacc5cc14c59421f34",
     "grade": false,
     "grade_id": "cell-670205614792e8ba",
     "locked": true,
     "schema_version": 3,
     "solution": false,
     "task": false
    }
   },
   "source": [
    "### Task 4 (1 point)\n",
    "Determine, which vectors or matrices should be used to identify the equations governing $\\text{(PDE)}$.\n",
    "Do any reshaping that is still required.\n",
    "Adhere to the column order used in previous exercises.\n",
    "Call `alternating_thresholding_lasso` with $λ = 10^{-3}$ and parameters\n",
    "```\n",
    "max_iter = 1000,\n",
    "tol_rel = 1e-3,\n",
    "th = 5e-3,\n",
    "max_iter_lasso = 1000,\n",
    "tol_rel_lasso = 1e-3\n",
    "```\n",
    "Define `w` as the optimal sparse coefficient vector."
   ]
  },
  {
   "cell_type": "code",
   "execution_count": null,
   "id": "34c3c546-b25f-456e-b4e4-8a72e9125b30",
   "metadata": {
    "ExecuteTime": {
     "end_time": "2025-01-20T17:51:58.634000+01:00",
     "start_time": "2025-01-20T16:51:58.592Z"
    },
    "deletable": false,
    "nbgrader": {
     "cell_type": "code",
     "checksum": "3ee113d4b5f842200a95fcbd8d88b730",
     "grade": false,
     "grade_id": "cell-462549fc00fe355c",
     "locked": false,
     "points": 1,
     "schema_version": 3,
     "solution": true,
     "task": false
    },
    "tags": []
   },
   "outputs": [],
   "source": [
    "lambda = w = Y = Z = nothing\n",
    "#--- YOUR CODE STARTS HERE ---#\n",
    "\n",
    "#--- YOUR CODE ENDS HERE ---#"
   ]
  },
  {
   "cell_type": "code",
   "execution_count": null,
   "id": "0548b41e-1e5a-4b0f-856f-0060c3ff37bd",
   "metadata": {
    "ExecuteTime": {
     "end_time": "2025-01-20T17:51:45.956000+01:00",
     "start_time": "2025-01-20T16:51:36.985Z"
    },
    "deletable": false,
    "editable": false,
    "nbgrader": {
     "cell_type": "code",
     "checksum": "a5390cb69c5c6269ea4dfb110dd05bf4",
     "grade": true,
     "grade_id": "cell-5d3dae5bdeb401ec",
     "locked": true,
     "points": 1,
     "schema_version": 3,
     "solution": false,
     "task": false
    },
    "tags": []
   },
   "outputs": [],
   "source": [
    "@assert length(w) == 10\n",
    "@assert lambda ≈ 0.001\n",
    "@assert Y isa AbstractVector && length(Y) == size(Z, 1)\n",
    "@assert size(Z, 2) == 10"
   ]
  },
  {
   "cell_type": "markdown",
   "id": "e191b7d5",
   "metadata": {
    "deletable": false,
    "editable": false,
    "nbgrader": {
     "cell_type": "markdown",
     "checksum": "838793512a61aefa5b61c2bedf72b4c9",
     "grade": false,
     "grade_id": "cell-861aecb46d804d84",
     "locked": true,
     "schema_version": 3,
     "solution": false,
     "task": false
    }
   },
   "source": [
    "## Exercise e)"
   ]
  },
  {
   "cell_type": "markdown",
   "id": "042a9a0e-0171-4ad5-aee1-e94fa6668244",
   "metadata": {
    "deletable": false,
    "editable": false,
    "nbgrader": {
     "cell_type": "markdown",
     "checksum": "c03370a13d2fb5dae24ea2959ee53740",
     "grade": false,
     "grade_id": "cell-053cb1e1f4077c36",
     "locked": true,
     "schema_version": 3,
     "solution": false,
     "task": false
    },
    "tags": []
   },
   "source": [
    "e) What is the name of the equation that you have found?\n",
    "Assign one of the following values to `pde`:\n",
    "\n",
    "1. The Kuramoto-Sivashinski equation \n",
    "2. The Keller-Segel model for chemotaxis \n",
    "3. The heat equation \n",
    "4. The Burgers equation \n",
    "5. The Navier-Stokes equations \n",
    "6. The wave equation \n",
    "7. The Poisson equation \n",
    "8. The Schrödinger equation \n",
    "\n",
    "(2 points)"
   ]
  },
  {
   "cell_type": "code",
   "execution_count": null,
   "id": "95054267-b921-4fcb-a9bd-de06e96410a0",
   "metadata": {
    "ExecuteTime": {
     "end_time": "2025-01-20T17:51:45.957000+01:00",
     "start_time": "2025-01-20T16:51:36.986Z"
    },
    "deletable": false,
    "nbgrader": {
     "cell_type": "code",
     "checksum": "ccd1450406ecc74a25067436a677304b",
     "grade": false,
     "grade_id": "cell-fd9903bc71d6175e",
     "locked": false,
     "schema_version": 3,
     "solution": true,
     "task": false
    },
    "tags": []
   },
   "outputs": [],
   "source": [
    "pde = nothing\n",
    "#--- YOUR CODE STARTS HERE ---#\n",
    "\n",
    "#--- YOUR CODE ENDS HERE ---#"
   ]
  },
  {
   "cell_type": "code",
   "execution_count": null,
   "id": "75d50c16-04a0-49f9-bdd4-9a28a64ab664",
   "metadata": {
    "ExecuteTime": {
     "end_time": "2025-01-20T17:51:45.959000+01:00",
     "start_time": "2025-01-20T16:51:36.987Z"
    },
    "deletable": false,
    "editable": false,
    "nbgrader": {
     "cell_type": "code",
     "checksum": "ed6aa4d6bed4c45f9790dbdc16d3a5fe",
     "grade": true,
     "grade_id": "cell-41a23bc0577ab758",
     "locked": true,
     "points": 2,
     "schema_version": 3,
     "solution": false,
     "task": false
    },
    "tags": []
   },
   "outputs": [],
   "source": [
    "#Public test\n",
    "@assert isa(pde, Number)\n",
    "@assert pde >= 1 && pde <= 8\n"
   ]
  }
 ],
 "metadata": {
  "kernelspec": {
   "display_name": "Julia 1.10.5",
   "language": "julia",
   "name": "julia-1.10"
  },
  "language_info": {
   "file_extension": ".jl",
   "mimetype": "application/julia",
   "name": "julia",
   "version": "1.10.5"
  }
 },
 "nbformat": 4,
 "nbformat_minor": 5
}
