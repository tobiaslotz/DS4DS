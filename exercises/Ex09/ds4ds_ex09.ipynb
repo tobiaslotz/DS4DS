{
 "cells": [
  {
   "cell_type": "markdown",
   "id": "5d6a5905",
   "metadata": {
    "deletable": false,
    "editable": false,
    "nbgrader": {
     "cell_type": "markdown",
     "checksum": "57e64010fb196cad53a91ce3dea3c679",
     "grade": false,
     "grade_id": "cell-848ce89d5017e2ff",
     "locked": true,
     "schema_version": 3,
     "solution": false,
     "task": false
    }
   },
   "source": [
    "**General Instructions:**\n",
    "\n",
    "- Collaborations between students during problem-solving phase on a discussion basis is OK\n",
    "- However: individual code programming and submissions per student are required\n",
    "- Code sharing is strictly prohibited\n",
    "- We will run checks for shared code, general plagiarism and AI-generated solutions\n",
    "- Any fraud attempt will lead to an auto fail of the entire course\n",
    "- Do not use any additional packages except for those provided in the task templates\n",
    "- Please use Julia Version 1.10.x to ensure compatibility\n",
    "- Please only write between the `#--- YOUR CODE STARTS HERE ---#` and `#--- YOUR CODE ENDS HERE ---#` comments\n",
    "- Please do not delete, add any cells or overwrite cells other than the solution cells (**Tip:** If you use a jupyerhub IDE, you should not be able to add or delete cells and write in the non-solution cells by default)"
   ]
  },
  {
   "cell_type": "markdown",
   "id": "e27f6026",
   "metadata": {
    "deletable": false,
    "editable": false,
    "nbgrader": {
     "cell_type": "markdown",
     "checksum": "e7ccdfbd6cc42116c17fc465243dbb9c",
     "grade": false,
     "grade_id": "cell-0b8a73b9f012165f",
     "locked": true,
     "schema_version": 3,
     "solution": false,
     "task": false
    }
   },
   "source": [
    "# Exercise Sheet 09"
   ]
  },
  {
   "cell_type": "markdown",
   "id": "a2b09f25",
   "metadata": {
    "deletable": false,
    "editable": false,
    "nbgrader": {
     "cell_type": "markdown",
     "checksum": "d5652c42f58664757dec4f551653bb5e",
     "grade": false,
     "grade_id": "cell-b4a3e0dbf9ec33e4",
     "locked": true,
     "schema_version": 3,
     "solution": false,
     "task": false
    },
    "tags": []
   },
   "source": [
    "## Recap"
   ]
  },
  {
   "cell_type": "markdown",
   "id": "e271e50a",
   "metadata": {
    "deletable": false,
    "editable": false,
    "nbgrader": {
     "cell_type": "markdown",
     "checksum": "527976b2ecd4987eae0a80c606a5e1bd",
     "grade": false,
     "grade_id": "cell-bed8bc9cd27c1ed8",
     "locked": true,
     "schema_version": 3,
     "solution": false,
     "task": false
    }
   },
   "source": [
    "### First-Order Necessecary Conditions"
   ]
  },
  {
   "cell_type": "markdown",
   "id": "c5854e1c",
   "metadata": {
    "deletable": false,
    "editable": false,
    "nbgrader": {
     "cell_type": "markdown",
     "checksum": "8c969f6384aea1d635caf8f57dae99f3",
     "grade": false,
     "grade_id": "cell-cc2ec7a4830cff6c",
     "locked": true,
     "schema_version": 3,
     "solution": false,
     "task": false
    },
    "tags": []
   },
   "source": [
    "The overall goal of this lecture series is to get a\n",
    "feeling for solving the general nonlinear problem\n",
    "$$\n",
    "\\begin{aligned}\n",
    "&\\min_{\\mathbf w\\in ℝ^q}\n",
    "  L(\\mathbf w)\n",
    "      &\\text{subject to}\\\\\n",
    "&c_i(\\mathbf w) = 0, &∀i\\in \\mathcal E,\\\\\n",
    "&c_i(\\mathbf w) ≤ 0, &∀i\\in \\mathcal I,\n",
    "\\end{aligned}\n",
    "\\tag{NL}\n",
    "$$\n",
    "where $\\mathcal E\\subset ℕ_0$ and $\\mathcal I \\subset ℕ_0$ index\n",
    "the nonlinear equality and inequality constraints.\n",
    "The so called **Lagrangian** $\\mathcal L$ of this problem is\n",
    "$$\n",
    "\\mathcal L(\\mathbf w, \\mathbf λ, \\mathbf μ)\n",
    "=\n",
    "L(\\mathbf w) + \\sum_{i \\in \\mathcal I} λ_i c_i(\\mathbf w) + \\sum_{i \\in \\mathcal E} μ_i c_i(\\mathbf w).\n",
    "$$\n",
    "Under certain conditions, the Lagrangian can be used to give\n",
    "necessary conditions for a point $\\mathbf w^*$ to be optimal for\n",
    "(NL).\n",
    "If $\\mathbf w^*$ is locally optimal, then there are multipliers $\\mathbf λ^*$\n",
    "and $\\mathbf μ^*$ such that\n",
    "$$\n",
    "\\begin{aligned}\n",
    "∇_{\\mathbf w} \\mathcal L(\\mathbf w^*, \\mathbf λ^*, \\mathbf μ^*) &= \\mathbf 0,  \\\\\n",
    "c_i(\\mathbf w^*) &= 0, & ∀i \\in \\mathcal E, \\\\\n",
    "c_i(\\mathbf w^*) &≤ 0, & ∀i \\in \\mathcal I, \\\\\n",
    "λ_i &\\geq 0, & ∀i\\in \\mathcal I,\\\\\n",
    "λ_i c_i(\\mathbf w^*) &= 0 & ∀i\\in \\mathcal I.\\\\\n",
    "\\end{aligned}\n",
    "$$\n",
    "These conditions are stated as Theorem 12.1 in “Numerical Optimization” by Nocedal,\n",
    "and are referred to as the KKT conditions.\n",
    "The last line, the complementary slackness condition,\n",
    "tells us, that the multipliers of the inactive\n",
    "inequality constraints ($c_i(\\mathbf w^*) < 0$) are zero.\n",
    "The first line can be re-written as\n",
    "$$\n",
    "\\nabla_{\\mathbf w}\n",
    "\\mathcal L(\\mathbf w^*, \\mathbf λ^*, \\mathbf μ^*)\n",
    "=\n",
    "∇L(\\mathbf w)\n",
    "+\n",
    "\\sum_{i \\in \\mathcal A(\\mathbf w^*)}\n",
    "λ_i \\nabla c_i(\\mathbf w^*)\n",
    "+\n",
    "\\sum_{i\\in \\mathcal E}\n",
    "μ_i \\nabla c_i(\\mathbf w^*)\n",
    "=\n",
    "\\mathbf 0,\n",
    "$$\n",
    "with the active constraint indices $\\mathcal A (\\mathbf w^*) = \\{i \\in \\mathcal I: c_i(\\mathbf w^*) = 0\\}$."
   ]
  },
  {
   "cell_type": "markdown",
   "id": "120fad14",
   "metadata": {
    "deletable": false,
    "editable": false,
    "nbgrader": {
     "cell_type": "markdown",
     "checksum": "f929d4106b464cca8e63ee6d994473b1",
     "grade": false,
     "grade_id": "cell-fa30f48224779737",
     "locked": true,
     "schema_version": 3,
     "solution": false,
     "task": false
    },
    "tags": []
   },
   "source": [
    "## Active-Set Method for Convex QP"
   ]
  },
  {
   "cell_type": "markdown",
   "id": "db711747",
   "metadata": {
    "deletable": false,
    "editable": false,
    "nbgrader": {
     "cell_type": "markdown",
     "checksum": "017eb5cb90936f44e5ae463f6872000b",
     "grade": false,
     "grade_id": "cell-27d5b698a2ca0dc6",
     "locked": true,
     "schema_version": 3,
     "solution": false,
     "task": false
    },
    "tags": []
   },
   "source": [
    "An important building block for solving (NL) with\n",
    "**sequential quadratic programming** (SQP) is the\n",
    "minimization of the convex quadratic problem\n",
    "$$\n",
    "\\begin{aligned}\n",
    "&\\min_{\\mathbf p \\in ℝ^q}\n",
    "  \\frac{1}{2} \\mathbf p^T \\mathbf H \\mathbf p\n",
    "+\n",
    "  \\mathbf g^T \\mathbf p,\n",
    "&\\text{subject to}\\\\\n",
    "&\\mathbf c_i^T \\mathbf p + d_i = 0,  &∀i \\in \\mathcal E, \\\\\n",
    "&\\mathbf c_i^T \\mathbf p + d_i ≤ 0,  &∀i \\in \\mathcal I,\n",
    "\\end{aligned}\n",
    "\\tag{QP}\n",
    "$$\n",
    "where $\\mathbf H$ is a square $q\\times q$ matrix and positive semi-definite,\n",
    "and $\\mathbf g$ is a vector in $ℝ^q$.\n",
    "$\\mathcal E\\subset ℕ_0$ is the index set for equality constraints,\n",
    "$\\mathcal I\\subset ℕ_0$ is the index set for inequality constraints,\n",
    "and $\\mathbf c_i, i\\in \\mathcal I\\cup \\mathcal E,$ are vectors in $ℝ^q$.\n",
    "\n",
    "To solve (NL) using SQP methods, we take an initial guess $\\mathbf w^{(0)}$ and solve problems of the form (QP) to\n",
    "obtain a step $\\mathbf p^{(\\ell)}$, resulting in updates $\\mathbf w^{(\\ell+1)} = \\mathbf w^{(\\ell)} + \\mathbf p^{(\\ell)}$.\n",
    "The matrix $\\mathbf H$ is the Hessian of $\\mathcal L(\\mathbf w^{(\\ell)})$ and $\\mathbf g$ is the loss gradient at $\\mathbf w^{(\\ell)}$.\n",
    "\n",
    "But for now, we focus on just solving (QP).\n",
    "Best forget about the outer iteration indices $(\\ell)$ …\n",
    "Given a concrete instance of (QP), we want to find optimal $\\mathbf p^*$ using the Active-Set method.\n",
    "The Active-Set method is an iterative scheme in which we start with an initial guess\n",
    "$\\mathbf p^{(0)} \\in ℝ^q$\n",
    "and again solve a sequence of sub-problems to determine some step\n",
    "$\\mathbf s^{(k)} = \\mathbf p^{(k+1)} - \\mathbf p^{(k)}$.\n",
    "Actually, we have a two-stage procedure.\n",
    "First, we obtain $\\tilde {\\mathbf s}^{(k)}$ as the optimizer of\n",
    "$$\n",
    "\\begin{aligned}\n",
    "&\\min_{\\mathbf s \\in ℝ^q}\n",
    "\\frac{1}{2} \\mathbf s^T \\mathbf H \\mathbf s\n",
    "+ \\mathbf s^T \\mathbf h^{(k)}\n",
    "&\\text{s.t.}\\\\\n",
    "&\\mathbf c_i^T \\mathbf s = 0,  &∀i \\in \\mathcal E, \\\\\n",
    "&\\mathbf c_i^T \\mathbf s = 0,  &∀i \\in \\mathcal A^{(k)}.\n",
    "\\end{aligned}\n",
    "\\tag{SP}\n",
    "$$\n",
    "Here, we have defined\n",
    "$$\n",
    "\\mathbf h^{(k)} = \\mathbf H \\mathbf p^{(k)} + \\mathbf g.\n",
    "$$\n",
    "The index set $\\mathcal A^{(k)} \\subset \\mathcal I$ is the\n",
    "iteration-dependent *working set* of active constraints at $\\mathbf p^{(k)}$:\n",
    "$$\n",
    "\\mathcal A^{(k)} = \\left\\{\n",
    "   i \\in \\mathcal I: \\mathbf c_i^T \\mathbf p^{(k)} + d_i = 0\n",
    "\\right\\}.\n",
    "$$\n",
    "In a second step, we compute a step-size (Exercise 1c) to obtain update step $\\mathbf s^{(k)}$ from $\\tilde{\\mathbf s}^{(k)}$."
   ]
  },
  {
   "cell_type": "markdown",
   "id": "8eafd648",
   "metadata": {
    "deletable": false,
    "editable": false,
    "nbgrader": {
     "cell_type": "markdown",
     "checksum": "8c1e0336dcf5f8bf5ff96c5e3c851051",
     "grade": false,
     "grade_id": "cell-09f65b50b9715a6f",
     "locked": true,
     "schema_version": 3,
     "solution": false,
     "task": false
    }
   },
   "source": [
    "\n",
    "### Exercise 1a)  (1 point)\n",
    "In the cell below, complete the code to implement a function, that identifies the active\n",
    "indices of the linear inequality constraints.\n",
    "(That is, the inequality value is between 0 and `tol`.)\n",
    "Suppose, the linear inequality constraints are given in matrix form by a matrix `C_ineq`\n",
    "and `d_ineq`, such that\n",
    "$$\n",
    "\\mathbf C_{\\text{ineq}} \\mathbf p^{(k)} + \\mathbf d_{\\text{ineq}} \\stackrel{!}{≤} \\mathbf 0,\n",
    "$$\n",
    "i.e., the rows of `C_ineq` hold the constraint vectors, and we are interested in\n",
    "a subset of the row indices. `active_indices` should return a `Vector{Int}` holding these indices."
   ]
  },
  {
   "cell_type": "code",
   "execution_count": null,
   "id": "f19f17c0",
   "metadata": {
    "ExecuteTime": {
     "end_time": "2024-12-09T11:55:30.948000+01:00",
     "start_time": "2024-12-09T10:55:30.125Z"
    },
    "deletable": false,
    "nbgrader": {
     "cell_type": "code",
     "checksum": "410a0b597434120e8d9f07b165ffb66f",
     "grade": false,
     "grade_id": "cell-1f9babaa1d8fe909",
     "locked": false,
     "schema_version": 3,
     "solution": true,
     "task": false
    },
    "tags": []
   },
   "outputs": [],
   "source": [
    "function active_indices(C_ineq, d_ineq, pk, pthrough=nothing; tol=1e-10)\n",
    "    # ignore the `pthrough` argument. it is used for grading.\n",
    "    \n",
    "    @assert size(C_ineq, 1) == length(d_ineq)\n",
    "\n",
    "    # 1) Initialize empty `Int` vector to hold active indices.\n",
    "    #--- YOUR CODE STARTS HERE ---#\n",
    "    \n",
    "    #--- YOUR CODE ENDS HERE ---#\n",
    "    \n",
    "    # 2) Evaluate constraint equation C * p + d\n",
    "    #--- YOUR CODE STARTS HERE ---#\n",
    "    \n",
    "    #--- YOUR CODE ENDS HERE ---#\n",
    "    \n",
    "    # 3) Iterate over result vector entries\n",
    "    #    a) if a value is > `tol`, throw an error, e.g., `error(\"pk is not feasible\")`\n",
    "    #    b) if *absolute* value of entry is <= `tol`, add index to index array\n",
    "    #--- YOUR CODE STARTS HERE ---#\n",
    "    \n",
    "    #--- YOUR CODE ENDS HERE ---#\n",
    "\n",
    "    # 4) return index array\n",
    "    #--- YOUR CODE STARTS HERE ---#\n",
    "    \n",
    "    #--- YOUR CODE ENDS HERE ---#\n",
    "end"
   ]
  },
  {
   "cell_type": "code",
   "execution_count": null,
   "id": "c728f521",
   "metadata": {
    "ExecuteTime": {
     "end_time": "2024-12-09T11:55:30.980000+01:00",
     "start_time": "2024-12-09T10:55:30.128Z"
    },
    "deletable": false,
    "editable": false,
    "nbgrader": {
     "cell_type": "code",
     "checksum": "2a52907406d244ae095c9c859e8cfa04",
     "grade": true,
     "grade_id": "cell-91e0f340d4209e39",
     "locked": true,
     "points": 0,
     "schema_version": 3,
     "solution": false,
     "task": false
    }
   },
   "outputs": [],
   "source": [
    "# This cell defines a patched version of `active_indices`. Don't delete it!"
   ]
  },
  {
   "cell_type": "markdown",
   "id": "9984cffb-7664-416d-90a1-25a7132bc6dd",
   "metadata": {
    "deletable": false,
    "editable": false,
    "nbgrader": {
     "cell_type": "markdown",
     "checksum": "e475651ff090a123196ab5bca227d39c",
     "grade": false,
     "grade_id": "cell-26a918a9a499684e",
     "locked": true,
     "schema_version": 3,
     "solution": false,
     "task": false
    },
    "tags": []
   },
   "source": [
    "When checking `active_indices`, we can use the `Test` library to test for exceptions:"
   ]
  },
  {
   "cell_type": "code",
   "execution_count": null,
   "id": "5fef1da5",
   "metadata": {
    "ExecuteTime": {
     "end_time": "2024-12-09T11:55:31.752000+01:00",
     "start_time": "2024-12-09T10:55:30.132Z"
    },
    "deletable": false,
    "editable": false,
    "nbgrader": {
     "cell_type": "code",
     "checksum": "6c500573059eef3838a26f80855dd6ee",
     "grade": true,
     "grade_id": "cell-512477ced7c8ab5c",
     "locked": true,
     "points": 1,
     "schema_version": 3,
     "solution": false,
     "task": false
    },
    "tags": []
   },
   "outputs": [],
   "source": [
    "import Test\n",
    "let\n",
    "    # w1 ≤ 0.5*w2\n",
    "    # w1 ≤ 1\n",
    "    C_ineq = [\n",
    "        1 -0.5;\n",
    "        1 0\n",
    "    ]\n",
    "    d_ineq = [0, -1]\n",
    "    pk = [0.5, 1]\n",
    "    Ak = active_indices(C_ineq, d_ineq, pk)\n",
    "    @assert Ak isa AbstractVector{<:Integer}\n",
    "    @assert only(Ak) == 1\n",
    "\n",
    "    pk = [2, 1]\n",
    "    Test.@test_throws Exception active_indices(C_ineq, d_ineq, pk)\n",
    "end"
   ]
  },
  {
   "cell_type": "markdown",
   "id": "a7dd0ffa",
   "metadata": {
    "deletable": false,
    "editable": false,
    "nbgrader": {
     "cell_type": "markdown",
     "checksum": "0f4b6fa1cb3cc701b2a536ef1885179a",
     "grade": false,
     "grade_id": "cell-3b7b529d51c3a391",
     "locked": true,
     "schema_version": 3,
     "solution": false,
     "task": false
    },
    "tags": []
   },
   "source": [
    "### Exercise 1b) (1 point)\n",
    "In the cell below, complete the code to implement a function, that solves the KKT\n",
    "equations for the subproblem (SP),\n",
    "$$\n",
    "\\begin{bmatrix}\n",
    "\\mathbf H & \\mathbf C_{\\mathcal A^{(k)}}^T & \\mathbf C_{\\text{eq}}^T \\\\\n",
    "\\mathbf C_{\\mathcal A^{(k)}}& \\mathbf 0 & \\mathbf 0 \\\\\n",
    "\\mathbf C_{\\text{eq}} & \\mathbf 0 & \\mathbf 0\n",
    "\\end{bmatrix}\n",
    "\\begin{bmatrix}\n",
    "\\tilde{\\mathbf s}^{(k)} \\\\\n",
    "\\mathbf λ^{(k)} \\\\\n",
    "\\mathbf μ^{(k)} \\\\\n",
    "\\end{bmatrix}\n",
    "\\stackrel{!}{=}\n",
    "\\begin{bmatrix}\n",
    "-\\mathbf h^{(k)} \\\\\n",
    "\\mathbf 0\\\\\n",
    "\\mathbf 0\n",
    "\\end{bmatrix}.\n",
    "$$\n",
    "These equations result from writing down the KKT conditions for (SP)."
   ]
  },
  {
   "cell_type": "code",
   "execution_count": null,
   "id": "a89f41e9",
   "metadata": {
    "ExecuteTime": {
     "end_time": "2024-12-09T11:55:31.784000+01:00",
     "start_time": "2024-12-09T10:55:30.136Z"
    },
    "deletable": false,
    "nbgrader": {
     "cell_type": "code",
     "checksum": "8c037aa039d50473049cbbdb1872f06f",
     "grade": false,
     "grade_id": "cell-6230ae4ebc873df2",
     "locked": false,
     "schema_version": 3,
     "solution": true,
     "task": false
    },
    "tags": []
   },
   "outputs": [],
   "source": [
    "function solve_step_problem(H, C_Ak, C_eq, hk, pthrough=nothing)\n",
    "    # ignore the `pthrough` argument. it is used for grading.\n",
    "\n",
    "    num_vars = size(H, 1)  # length of sk_tilde\n",
    "    @assert size(H, 2) == num_vars\n",
    "    @assert size(C_Ak, 2) == num_vars\n",
    "    @assert size(C_eq, 2) == num_vars\n",
    "    @assert length(hk) == num_vars\n",
    "\n",
    "    num_ineq = size(C_Ak, 1) # length of lambdak\n",
    "    num_eq = size(C_eq, 1)   # length of muk\n",
    "\n",
    "    # change `KKT` to hold the correct matrix\n",
    "    KKT = rand(num_vars + num_ineq + num_eq, num_vars + num_ineq + num_eq)\n",
    "    #--- YOUR CODE STARTS HERE ---#\n",
    "    \n",
    "    #--- YOUR CODE ENDS HERE ---#\n",
    "    \n",
    "    RHS = zeros(num_vars + num_ineq + num_eq)\n",
    "    # change `RHS` to hold the correct right-hand-side matrix\n",
    "    #--- YOUR CODE STARTS HERE ---#\n",
    "    \n",
    "    #--- YOUR CODE ENDS HERE ---#\n",
    "\n",
    "    # solve the linear equation system and set `sk`, `lambdak` and `muk`\n",
    "    # to hold the multipliers\n",
    "    sk_tilde = lambdak = muk = nothing\n",
    "    #--- YOUR CODE STARTS HERE ---#\n",
    "    \n",
    "    #--- YOUR CODE ENDS HERE ---#\n",
    "    return sk_tilde, lambdak, muk\n",
    "end"
   ]
  },
  {
   "cell_type": "code",
   "execution_count": null,
   "id": "885e3dc8",
   "metadata": {
    "ExecuteTime": {
     "end_time": "2024-12-09T11:55:31.788000+01:00",
     "start_time": "2024-12-09T10:55:30.140Z"
    },
    "deletable": false,
    "editable": false,
    "nbgrader": {
     "cell_type": "code",
     "checksum": "273c28f07396910b1838d7aa38b15053",
     "grade": true,
     "grade_id": "cell-8e381e5d7cfe7a88",
     "locked": true,
     "points": 0,
     "schema_version": 3,
     "solution": false,
     "task": false
    }
   },
   "outputs": [],
   "source": [
    "# This cell defines a patched version of `solve_step_problem`. Don't delete it!"
   ]
  },
  {
   "cell_type": "markdown",
   "id": "6c5163cf-7cd5-4f88-bd8b-33f3d9c2cfee",
   "metadata": {
    "deletable": false,
    "editable": false,
    "nbgrader": {
     "cell_type": "markdown",
     "checksum": "a61ec09612a4667e0d0605995fc17d85",
     "grade": false,
     "grade_id": "cell-d185bde3bcea83ff",
     "locked": true,
     "schema_version": 3,
     "solution": false,
     "task": false
    },
    "tags": []
   },
   "source": [
    "Below are the tests for `solve_step_problem`. We use `LinearAlgebra` to initialize `H` as the identity matrix."
   ]
  },
  {
   "cell_type": "code",
   "execution_count": null,
   "id": "0b9fd48c",
   "metadata": {
    "ExecuteTime": {
     "end_time": "2024-12-09T11:55:31.788000+01:00",
     "start_time": "2024-12-09T10:55:30.144Z"
    },
    "deletable": false,
    "editable": false,
    "nbgrader": {
     "cell_type": "code",
     "checksum": "148f8f5b560aee07499f986e198c7df6",
     "grade": false,
     "grade_id": "cell-f86aa3c3f05d98d5",
     "locked": true,
     "schema_version": 3,
     "solution": false,
     "task": false
    },
    "tags": []
   },
   "outputs": [],
   "source": [
    "import LinearAlgebra as LA"
   ]
  },
  {
   "cell_type": "code",
   "execution_count": null,
   "id": "898861af",
   "metadata": {
    "ExecuteTime": {
     "end_time": "2024-12-09T11:55:36.210000+01:00",
     "start_time": "2024-12-09T10:55:30.147Z"
    },
    "deletable": false,
    "editable": false,
    "nbgrader": {
     "cell_type": "code",
     "checksum": "825547e3f2a07a428193e199ccfe1644",
     "grade": true,
     "grade_id": "cell-1e63ab26bb8ea888",
     "locked": true,
     "points": 1,
     "schema_version": 3,
     "solution": false,
     "task": false
    },
    "tags": []
   },
   "outputs": [],
   "source": [
    "let\n",
    "    H = 1.0 .* LA.I(2)\n",
    "    C_Ak = [1 -0.5]\n",
    "    C_eq = [1 0]\n",
    "    pk = [1, 2]\n",
    "    hk = H * pk\n",
    "    sk_tilde, λk, μk = solve_step_problem(H, C_Ak, C_eq, hk)\n",
    "\n",
    "    @assert sk_tilde isa AbstractVector\n",
    "    @assert λk isa AbstractVector\n",
    "    @assert μk isa AbstractVector\n",
    "    @assert length(sk_tilde) == 2\n",
    "    @assert length(λk) == 1\n",
    "    @assert length(μk) == 1\n",
    "    # `sk_tilde` should be close to zero:\n",
    "    @assert sum(sk_tilde .^ 2) <= 1e-10\n",
    "    nothing\n",
    "end"
   ]
  },
  {
   "cell_type": "markdown",
   "id": "7a3beae6",
   "metadata": {
    "deletable": false,
    "editable": false,
    "nbgrader": {
     "cell_type": "markdown",
     "checksum": "0a42758de22695dad09a7dfc4bfdeeb3",
     "grade": false,
     "grade_id": "cell-217e9a45ec1ce103",
     "locked": true,
     "schema_version": 3,
     "solution": false,
     "task": false
    },
    "tags": []
   },
   "source": [
    "### Exercise 1c) (1.5 points)\n",
    "Once $\\tilde{\\mathbf s}^{(k)}$ is available from `solve_step_problem`,\n",
    "we need to determine a step size $α_k \\in [0, 1]$.\n",
    "$α_k$ should be as large as possible, and chosen so\n",
    "that $\\mathbf p^{(k+1)} = \\mathbf p^{(k)} + α_k \\tilde{\\mathbf s}^{(k)}$ is\n",
    "feasible for **all** the linear constraints of (QP).\n",
    "The vector $\\mathbf p^{(k+1)}$ is feasible for any $α_k$ and\n",
    "all the constraints indexed by $\\mathcal E$\n",
    "and $\\mathcal A^{(k)}$ by virtue of the KKT conditions of (SP).\n",
    "Suppose $i\\in \\mathcal I\\smallsetminus A^{(k)}$.\n",
    "If $\\mathbf c_i^T \\tilde{\\mathbf s}^{(k)} \\leq 0$, then for all $α_k \\geq 0$\n",
    "we have\n",
    "$$\n",
    "\\mathbf c_i^T(\\mathbf p^{(k)} + α_k \\tilde{\\mathbf s}^{(k)}) + d_i\n",
    "\\leq\n",
    "\\mathbf c_i^T \\mathbf p^{(k)} + d_i\n",
    "\\leq 0.\n",
    "$$\n",
    "Thus, we only have to consider the case\n",
    "$i \\in \\mathcal I\\smallsetminus \\mathcal A^{(k)}$\n",
    "and $\\mathbf c_i^T \\tilde{\\mathbf s}^{(k)} > 0$.\n",
    "In that case, we solve\n",
    "$$\n",
    "α_k\n",
    "\\leq\n",
    "\\frac{-d_i - \\mathbf c_i^T \\mathbf p^{(k)}}{\\mathbf c_i^T \\tilde{\\mathbf s}^{(k)}}.\n",
    "$$\n",
    "Implement `stepsize_and_blocking_index`\n",
    "to return the stepsize $α_k$ and a blocking index.\n",
    "Use this formula:\n",
    "$$\n",
    "α_k = \\min\n",
    "\\left\\{\n",
    "1,\n",
    "\\min_{\n",
    "    \\substack{\n",
    "        i \\in \\mathcal I\\smallsetminus \\mathcal A^{(k)},\\\\\n",
    "        \\mathbf c_i^T \\tilde{\\mathbf s}^{(k)} > 0\n",
    "    }\n",
    "}\n",
    "\\frac{-d_i - \\mathbf c_i^T \\mathbf p^{(k)}}{\\mathbf c_i^T \\tilde{\\mathbf s}^{(k)}}\n",
    "\\right\\}.\n",
    "$$\n",
    "A \"blocking index\" is an index $i\\in\\mathcal I\\smallsetminus \\mathcal A^{(k)}$ such that the expression\n",
    "of the inner $\\min$ operator is strictly smaller than $1$.\n",
    "If there is no blocking index, return the stepsize and $-1$."
   ]
  },
  {
   "cell_type": "code",
   "execution_count": null,
   "id": "5a035235",
   "metadata": {
    "ExecuteTime": {
     "end_time": "2024-12-09T11:55:36.236000+01:00",
     "start_time": "2024-12-09T10:55:30.151Z"
    },
    "deletable": false,
    "nbgrader": {
     "cell_type": "code",
     "checksum": "8e6c1cd35a9d6c3f4ae0eaf3d277815c",
     "grade": false,
     "grade_id": "cell-b0981f4b00c0721c",
     "locked": false,
     "schema_version": 3,
     "solution": true,
     "task": false
    },
    "tags": []
   },
   "outputs": [],
   "source": [
    "function stepsize_and_blocking_index(C_ineq, d_ineq, pk, sk_tilde, Ak, pthrough=nothing)\n",
    "    # ignore the `pthrough` argument. it is used for grading.\n",
    "\n",
    "    alphak = 1.0\n",
    "    j = -1\n",
    "\n",
    "    # determine correct stepsize `alphak` according to the formula above;\n",
    "    # `sk_tilde` is the unscaled step vector, `pk` are the variables,\n",
    "    # the rows of `C_ineq` hold the vectors $c_i$,\n",
    "    # and the vector `d_ineq` holds the linear constraint offsets:\n",
    "    #--- YOUR CODE STARTS HERE ---#\n",
    "    \n",
    "    #--- YOUR CODE ENDS HERE ---#\n",
    "    return alphak, j\n",
    "end"
   ]
  },
  {
   "cell_type": "code",
   "execution_count": null,
   "id": "6374d58d",
   "metadata": {
    "ExecuteTime": {
     "end_time": "2024-12-09T11:55:36.240000+01:00",
     "start_time": "2024-12-09T10:55:30.154Z"
    },
    "deletable": false,
    "editable": false,
    "nbgrader": {
     "cell_type": "code",
     "checksum": "0b27a93f4bf51cc671a569e932f4dcd9",
     "grade": true,
     "grade_id": "cell-87d0d41b99b5ccd6",
     "locked": true,
     "points": 0,
     "schema_version": 3,
     "solution": false,
     "task": false
    }
   },
   "outputs": [],
   "source": [
    "# This cell defines a patched version of `stepsize_and_blocking_index`. Don't delete it!"
   ]
  },
  {
   "cell_type": "markdown",
   "id": "63d079a0",
   "metadata": {
    "deletable": false,
    "editable": false,
    "nbgrader": {
     "cell_type": "markdown",
     "checksum": "3608b18abcd8198596c120c3a39e4237",
     "grade": false,
     "grade_id": "cell-8cf5cfd1aee83392",
     "locked": true,
     "schema_version": 3,
     "solution": false,
     "task": false
    },
    "tags": []
   },
   "source": [
    "Let's test our function:"
   ]
  },
  {
   "cell_type": "code",
   "execution_count": null,
   "id": "cd8298ed",
   "metadata": {
    "ExecuteTime": {
     "end_time": "2024-12-09T11:55:37.311000+01:00",
     "start_time": "2024-12-09T10:55:30.158Z"
    },
    "deletable": false,
    "editable": false,
    "nbgrader": {
     "cell_type": "code",
     "checksum": "08fa7dd403834309d09bb083e1ca7c81",
     "grade": true,
     "grade_id": "cell-265c0df05549a1b2",
     "locked": true,
     "points": 1.5,
     "schema_version": 3,
     "solution": false,
     "task": false
    },
    "tags": []
   },
   "outputs": [],
   "source": [
    "let\n",
    "    C_ineq = [1 -0.5]\n",
    "    d_ineq = [0,]\n",
    "\n",
    "    pk = [1.0, 2.0]\n",
    "    sk_tilde = [0.0; -2.0]\n",
    "    Ak = Int[]\n",
    "    # Check if the returned values make sense:\n",
    "    αk, j = stepsize_and_blocking_index(C_ineq, d_ineq, pk, sk_tilde, Ak)\n",
    "    @assert αk isa Real\n",
    "    @assert j isa Integer\n",
    "    @assert -1e-10 <= αk <= 1 + 1e-10\n",
    "    @assert j >= -1\n",
    "\n",
    "    # Now, we should be able to take a full step:\n",
    "    Ak = [1,]\n",
    "    sk = zeros(2)\n",
    "\n",
    "    αk, j = stepsize_and_blocking_index(C_ineq, d_ineq, pk, sk_tilde, Ak)\n",
    "    @assert αk ≈ 1\n",
    "    @assert j == -1\n",
    "end"
   ]
  },
  {
   "cell_type": "markdown",
   "id": "e04a1f31",
   "metadata": {
    "deletable": false,
    "editable": false,
    "nbgrader": {
     "cell_type": "markdown",
     "checksum": "fbc43c7a292babc550ecd63397040969",
     "grade": false,
     "grade_id": "cell-40275feb1942e57b",
     "locked": true,
     "schema_version": 3,
     "solution": false,
     "task": false
    },
    "tags": []
   },
   "source": [
    "### Exercise 1d) (1.5 + 0.5 points)\n",
    "We now have all building blocks for the Active-Set Method.\n",
    "The algorithm stops, if a step $\\mathbf s^{(k)}$ is zero\n",
    "and all multipliers $λ_i^{(k)}$ are non-negative.\n",
    "Otherwise, the working set is augmented.\n",
    "Likewise, the working set is augmented in case of a non-zero\n",
    "step with $α_k < 1$.\n",
    "Complete the marked sections in the code below:"
   ]
  },
  {
   "cell_type": "code",
   "execution_count": null,
   "id": "22d9aaca",
   "metadata": {
    "ExecuteTime": {
     "end_time": "2024-12-09T11:55:37.356000+01:00",
     "start_time": "2024-12-09T10:55:30.162Z"
    },
    "deletable": false,
    "nbgrader": {
     "cell_type": "code",
     "checksum": "6e086c3d01992b5253d0d1f6a64f741b",
     "grade": false,
     "grade_id": "cell-f474efae4b45a7ff",
     "locked": false,
     "schema_version": 3,
     "solution": true,
     "task": false
    },
    "tags": []
   },
   "outputs": [],
   "source": [
    "function solve_convex_qp(\n",
    "    H, g, C_eq, d_eq, C_ineq, d_ineq, p0, pthrough=nothing;\n",
    "    tol=1e-10, max_iter=100\n",
    ")\n",
    "    # ignore the `pthrough` argument. it is used for grading.\n",
    "\n",
    "    \n",
    "    pk = copy(p0)\n",
    "    # 1) check feasibilty of p0 with respect to equality constraints:\n",
    "    #    compute vector `r_eq` holding the equality constraint values and\n",
    "    #    check if all entries have absolute values <= tol; elsewise `error`.\n",
    "    #--- YOUR CODE STARTS HERE ---#\n",
    "    \n",
    "    #--- YOUR CODE ENDS HERE ---#\n",
    "    \n",
    "    # 2) determine active indices for `pk` with `active_indices` and store in vector `Ak`\n",
    "    # IMPORTANT: Pass `pthrough` to `active_indices`!\n",
    "    Ak = Int[]\n",
    "    #--- YOUR CODE STARTS HERE ---#\n",
    "    \n",
    "    #--- YOUR CODE ENDS HERE ---#\n",
    "\n",
    "    k = 1\n",
    "    while k <= max_iter\n",
    "        # Compute the current objective value `Lk` of (QP) at `pk`\n",
    "        Lk = Inf\n",
    "        #--- YOUR CODE STARTS HERE ---#\n",
    "        \n",
    "        #--- YOUR CODE ENDS HERE ---#\n",
    "\n",
    "        @info \"Iteration $k, L(pk)=$(Lk).\"\n",
    "\n",
    "        # extract active inequality constraint matrix\n",
    "        C_Ak = @view(C_ineq[Ak, :])\n",
    "\n",
    "        # solve SP to get step:\n",
    "        # first, compute `hk` and then call `solve_step_problem`;\n",
    "        # pass the correct constraint matrices and\n",
    "        # store results in `sk_tilde, λk, μk`.\n",
    "        # IMPORTANT: Pass `pthrough` to `solve_step_problem`!\n",
    "        hk = sk_tilde = λk = μk = nothing\n",
    "        #--- YOUR CODE STARTS HERE ---#\n",
    "        \n",
    "        #--- YOUR CODE ENDS HERE ---#\n",
    "\n",
    "        if sqrt(sum(sk_tilde .^ 2)) <= tol\n",
    "            @info \"Zero step.\"\n",
    "            # if `sk_tilde` is (nearly) zero, then see if all multipliers are non-negative\n",
    "            problem_solved = isempty(λk)\n",
    "            if !problem_solved\n",
    "                λ_min, λ_min_index = findmin(λk)\n",
    "                problem_solved = λ_min >= -tol\n",
    "            end\n",
    "            if problem_solved\n",
    "                @info \"Problem solved.\"\n",
    "                break\n",
    "            end\n",
    "            # if there are negative multipliers,\n",
    "            # remove the index corresponding to smallest index for next iteration\n",
    "            deleteat!(Ak, λ_min_index)\n",
    "        else\n",
    "            # `sk_tilde` is different from zero, compute stepsize `αk` and see if there\n",
    "            # is a blocking index `j`.\n",
    "            # If there is a blocking index, add it to `Ak` for the next iteration.\n",
    "            # IMPORTANT: Pass `pthrough` to `stepsize_and_blocking_index`!\n",
    "            #--- YOUR CODE STARTS HERE ---#\n",
    "            \n",
    "            #--- YOUR CODE ENDS HERE ---#\n",
    "            # Also, update `pk` for the next iteration:\n",
    "            #--- YOUR CODE STARTS HERE ---#\n",
    "            \n",
    "            #--- YOUR CODE ENDS HERE ---#\n",
    "        end\n",
    "        k += 1\n",
    "    end\n",
    "    return pk, k\n",
    "end"
   ]
  },
  {
   "cell_type": "markdown",
   "id": "034485fc",
   "metadata": {
    "deletable": false,
    "editable": false,
    "nbgrader": {
     "cell_type": "markdown",
     "checksum": "209bbc0f3f01cbd5e1bbc3b765f112dd",
     "grade": false,
     "grade_id": "cell-a895ed0a08c5cb13",
     "locked": true,
     "schema_version": 3,
     "solution": false,
     "task": false
    }
   },
   "source": [
    "Here is how we can test your implementation:"
   ]
  },
  {
   "cell_type": "code",
   "execution_count": null,
   "id": "2022c25b",
   "metadata": {
    "ExecuteTime": {
     "end_time": "2024-12-09T11:55:40.321000+01:00",
     "start_time": "2024-12-09T10:55:30.166Z"
    },
    "deletable": false,
    "editable": false,
    "nbgrader": {
     "cell_type": "code",
     "checksum": "6b92a3d758126eca649b0595f5a40fd7",
     "grade": false,
     "grade_id": "cell-b58bbf0acc589db1",
     "locked": true,
     "schema_version": 3,
     "solution": false,
     "task": false
    }
   },
   "outputs": [],
   "source": [
    "pthrough=nothing\n",
    "H = 1.0 .* LA.I(2)\n",
    "g = zeros(2)\n",
    "\n",
    "C_ineq = [1 -0.5]\n",
    "d_ineq = [0,]\n",
    "\n",
    "C_eq = [1 0]\n",
    "d_eq = [-1,]\n",
    "\n",
    "p0 = [1, 4]\n",
    "popt, k = solve_convex_qp(H, g, C_eq, d_eq, C_ineq, d_ineq, p0, pthrough; max_iter=10)\n",
    "@assert popt isa Vector\n",
    "@assert length(popt) == 2\n",
    "@assert k == 2\n",
    "# check that solution satisfies constraints\n",
    "@assert abs(popt[1] - 1) <= 1e-9\n",
    "@assert abs(popt[1] - 0.5 * popt[2]) <= 1e-9\n",
    "# check, if optimal value is reduced\n",
    "L(p) = 0.5 * p'H * p + g'p\n",
    "L0 = L(p0)\n",
    "Lopt = L(popt)\n",
    "@assert Lopt < L0"
   ]
  },
  {
   "cell_type": "markdown",
   "id": "9305f994",
   "metadata": {
    "deletable": false,
    "editable": false,
    "nbgrader": {
     "cell_type": "markdown",
     "checksum": "393729a4b68ecc8aa2fdee583edc3984",
     "grade": false,
     "grade_id": "cell-dd4a558e7ba5b3ac",
     "locked": true,
     "schema_version": 3,
     "solution": false,
     "task": false
    }
   },
   "source": [
    "If any of the tests failed, it could be due to an error in any of the functions\n",
    "`active_indices`, `solve_step_problem`, or `stepsize_and_blocking_index`.\n",
    "We provide patched implementations, enabled by the `pthrough` argument, so that the routine should work in the \n",
    "graded tests.\n",
    "So even if the cell below fails for you, it might run on the grading server."
   ]
  },
  {
   "cell_type": "code",
   "execution_count": null,
   "id": "d87d1000-e7a2-406b-8cfa-24637283b647",
   "metadata": {
    "ExecuteTime": {
     "end_time": "2024-12-09T11:55:40.322000+01:00",
     "start_time": "2024-12-09T10:55:30.170Z"
    },
    "deletable": false,
    "editable": false,
    "nbgrader": {
     "cell_type": "code",
     "checksum": "46f222564f02ab7b0262b729804529cb",
     "grade": false,
     "grade_id": "cell-f71f8b366a1219a7",
     "locked": true,
     "schema_version": 3,
     "solution": false,
     "task": false
    },
    "tags": []
   },
   "outputs": [],
   "source": [
    "# NBGrader does not like logging, so we disable it some times:\n",
    "import Logging"
   ]
  },
  {
   "cell_type": "code",
   "execution_count": null,
   "id": "ad386bd3-91da-4c77-b28d-3cf70d80f1a6",
   "metadata": {
    "ExecuteTime": {
     "end_time": "2024-12-09T11:55:41.355000+01:00",
     "start_time": "2024-12-09T10:55:30.173Z"
    },
    "deletable": false,
    "editable": false,
    "nbgrader": {
     "cell_type": "code",
     "checksum": "dca42353eea13ea241c5f9e59de7d470",
     "grade": true,
     "grade_id": "cell-c6f988b7a30df7d2",
     "locked": true,
     "points": 1.5,
     "schema_version": 3,
     "solution": false,
     "task": false
    },
    "tags": []
   },
   "outputs": [],
   "source": [
    "let pthrough = Val(true);\n",
    "    Logging.with_logger(Logging.NullLogger()) do\n",
    "        H = 1.0 .* LA.I(2)\n",
    "        g = zeros(2)\n",
    "\n",
    "        C_ineq = [1 -0.5]\n",
    "        d_ineq = [0,]\n",
    "\n",
    "        C_eq = [1 0]\n",
    "        d_eq = [-1,]\n",
    "\n",
    "        p0 = [1, 4]\n",
    "        popt, k = solve_convex_qp(H, g, C_eq, d_eq, C_ineq, d_ineq, p0, pthrough; max_iter=10)\n",
    "        @assert popt isa Vector\n",
    "        @assert length(popt) == 2\n",
    "        @assert k == 2\n",
    "        # check that solution satisfies constraints\n",
    "        @assert abs(popt[1] - 1) <= 1e-9\n",
    "        @assert abs(popt[1] - 0.5 * popt[2]) <= 1e-9\n",
    "        # check, if optimal value is reduced\n",
    "        L(p) = 0.5 * p'H * p + g'p\n",
    "        L0 = L(p0)\n",
    "        Lopt = L(popt)\n",
    "        @assert Lopt < L0\n",
    "\n",
    "    end\n",
    "end"
   ]
  },
  {
   "cell_type": "markdown",
   "id": "5db2104c",
   "metadata": {
    "deletable": false,
    "editable": false,
    "nbgrader": {
     "cell_type": "markdown",
     "checksum": "e7ea339530d1ec6db67ac9ddf2081625",
     "grade": false,
     "grade_id": "cell-d9618331183b7f09",
     "locked": true,
     "schema_version": 3,
     "solution": false,
     "task": false
    },
    "tags": []
   },
   "source": [
    "In the cell below, we can see if you successfully disallow infeasible points:"
   ]
  },
  {
   "cell_type": "code",
   "execution_count": null,
   "id": "6185c1e9",
   "metadata": {
    "ExecuteTime": {
     "end_time": "2024-12-09T11:55:42.949000+01:00",
     "start_time": "2024-12-09T10:55:30.177Z"
    },
    "deletable": false,
    "editable": false,
    "nbgrader": {
     "cell_type": "code",
     "checksum": "0427a862d4a490fdfcc55cf90ff6feba",
     "grade": true,
     "grade_id": "cell-29df28bd7c0c2b03",
     "locked": true,
     "points": 0.5,
     "schema_version": 3,
     "solution": false,
     "task": false
    },
    "tags": []
   },
   "outputs": [],
   "source": [
    "let\n",
    "    # same setup as before:\n",
    "    H = 1.0 .* LA.I(2)\n",
    "    g = zeros(2)\n",
    "    C_ineq = [1 -0.5]\n",
    "    d_ineq = [0,]\n",
    "    C_eq = [1 0]\n",
    "    d_eq = [-1,]\n",
    "\n",
    "    p0 = [2, 1]\n",
    "\n",
    "    Test.@test_throws Exception solve_convex_qp(H, g, C_eq, d_eq, C_ineq, d_ineq, p0; max_iter=10)\n",
    "end"
   ]
  },
  {
   "cell_type": "markdown",
   "id": "27f32709",
   "metadata": {
    "deletable": false,
    "editable": false,
    "nbgrader": {
     "cell_type": "markdown",
     "checksum": "c8dd715409aae24627262f6b9c26720c",
     "grade": false,
     "grade_id": "cell-3c5d36c819c4347c",
     "locked": true,
     "schema_version": 3,
     "solution": false,
     "task": false
    },
    "tags": []
   },
   "source": [
    "## JuMP for Linear and Quadratic Programming"
   ]
  },
  {
   "cell_type": "markdown",
   "id": "d02b0805",
   "metadata": {
    "deletable": false,
    "editable": false,
    "nbgrader": {
     "cell_type": "markdown",
     "checksum": "261c75648548ac1fc3b59f54b95d144e",
     "grade": false,
     "grade_id": "cell-cca28fb5a0a1c13b",
     "locked": true,
     "schema_version": 3,
     "solution": false,
     "task": false
    },
    "tags": []
   },
   "source": [
    "The [`JuMP` package](https://jump.dev/JuMP.jl/stable/) provides a unified syntax to\n",
    "define problems with linear or quadratic constraints.\n",
    "It also supports automatic re-formulation of problems to suit the needs of\n",
    "the various solvers that are supported.\n",
    "[The list of solvers](https://jump.dev/JuMP.jl/stable/installation/#Supported-solvers) is\n",
    "pretty extensive, and the ability to switch between them so easily is one of the\n",
    "main reasons why `JuMP` is very popular with practitioners in the fields of optimization\n",
    "and optimal control.\n",
    "\n",
    "If we were to write an actual SQP algorithm, and did not want to bother with\n",
    "the Active-Set-Method subroutine ourselves, we could use `JuMP` to solve the sub-problems.\n",
    "In exercise 2a) you are going to use `JuMP` and the solver `COSMO` to solve the following\n",
    "problem:\n",
    "$$\n",
    "\\begin{alignedat}{3}\n",
    "&\\min_{\\mathbf p\\in ℝ^2}\n",
    "   (p_1 - 1)^2 + (p_2 - 2.5)^2\n",
    "&& &&\\text{subject to}\\\\\n",
    "&-p_1 + 2 p_2 - 2 &&≤ 0,\\\\\n",
    "&+p_1 + 2 p_2 - 6 &&≤ 0,\\\\\n",
    "&+p_1 - 2 p_2 - 2 &&≤ 0,\\\\\n",
    "&+p_1 && \\geq 0,\\\\\n",
    "&+p_2 && \\geq 0.\\\\\n",
    "\\end{alignedat}\n",
    "\\tag{P}\n",
    "$$"
   ]
  },
  {
   "cell_type": "markdown",
   "id": "a556f086-8ac8-435b-ab07-5070f70dbeb5",
   "metadata": {
    "deletable": false,
    "editable": false,
    "nbgrader": {
     "cell_type": "markdown",
     "checksum": "9c5a66bc34d6cd7a0d805ea8d0e45417",
     "grade": false,
     "grade_id": "cell-f3bd5af8de4ac717",
     "locked": true,
     "schema_version": 3,
     "solution": false,
     "task": false
    },
    "tags": []
   },
   "source": [
    "![problem plot](fig_cosmo.png)"
   ]
  },
  {
   "cell_type": "markdown",
   "id": "65782152",
   "metadata": {
    "deletable": false,
    "editable": false,
    "nbgrader": {
     "cell_type": "markdown",
     "checksum": "c38a2ae4fd55115e3316f7d6f1ca3e9f",
     "grade": false,
     "grade_id": "cell-b4a2629dcabd8ffe",
     "locked": true,
     "schema_version": 3,
     "solution": false,
     "task": false
    },
    "tags": []
   },
   "source": [
    "### Exercise 2a) (0.5 + 0.5 + 1 points)\n",
    "Below is a function to solve the problem (P) using `JuMP`.\n",
    "However, there are 5 mistakes in the code.\n",
    "Fix them. If unsure, consult the [Tutorial.](https://jump.dev/JuMP.jl/stable/tutorials/getting_started/getting_started_with_JuMP/#Getting-started-with-JuMP)"
   ]
  },
  {
   "cell_type": "code",
   "execution_count": null,
   "id": "07242b8a",
   "metadata": {
    "ExecuteTime": {
     "end_time": "2024-12-09T11:55:45.485000+01:00",
     "start_time": "2024-12-09T10:55:30.182Z"
    },
    "deletable": false,
    "editable": false,
    "nbgrader": {
     "cell_type": "code",
     "checksum": "77eedf058ab98f294deda79cb5b7c2da",
     "grade": false,
     "grade_id": "cell-5d18c86f7afaf662",
     "locked": true,
     "schema_version": 3,
     "solution": false,
     "task": false
    },
    "tags": []
   },
   "outputs": [],
   "source": [
    "import JuMP\n",
    "import JuMP: @variable, @objective, @constraint, optimize!, Model, value\n",
    "import COSMO"
   ]
  },
  {
   "cell_type": "code",
   "execution_count": null,
   "id": "43141c3c",
   "metadata": {
    "ExecuteTime": {
     "end_time": "2024-12-09T11:56:30.982000+01:00",
     "start_time": "2024-12-09T10:55:30.185Z"
    },
    "deletable": false,
    "nbgrader": {
     "cell_type": "code",
     "checksum": "02d0cbb2a42ba28d5208c1c4fc8db902",
     "grade": false,
     "grade_id": "cell-d8fe6ab0b20f826c",
     "locked": false,
     "schema_version": 3,
     "solution": true,
     "task": false
    },
    "tags": []
   },
   "outputs": [],
   "source": [
    "p_cosmo = model = nothing\n",
    "let\n",
    "    # we are using a local scope here to be extra careful, and to avoid poluting the\n",
    "    # global scope\n",
    "    global p_cosmo, model\n",
    "    model = Model(COSMO.Optimizer)\n",
    "    @variable(model, p[1:3] .>= -1)\n",
    "\n",
    "    @objective(model, Min, (p[1] - 1)^2 + (p[2] - 2.5)^2 + p[3])\n",
    "\n",
    "    @constraint(model, -p[1] + 2 * p[2] + 2 <= 0)\n",
    "    @constraint(model, p[1] + 2 * p[2] - 6 <= 0)\n",
    "    @constraint(model, +p[1] - 2 * p[2] - 2 <= 2)\n",
    "    #--- YOUR CODE STARTS HERE ---#\n",
    "    \n",
    "    #--- YOUR CODE ENDS HERE ---#\n",
    "\n",
    "    optimize!(model)\n",
    "\n",
    "    p_cosmo = value.(p)\n",
    "    nothing\n",
    "end"
   ]
  },
  {
   "cell_type": "markdown",
   "id": "8366798a",
   "metadata": {
    "deletable": false,
    "editable": false,
    "nbgrader": {
     "cell_type": "markdown",
     "checksum": "aba6e07a7bc27d7c3948d4d44a2dd8a9",
     "grade": false,
     "grade_id": "cell-7e1e2aaa244457ec",
     "locked": true,
     "schema_version": 3,
     "solution": false,
     "task": false
    },
    "tags": []
   },
   "source": [
    "Check success:"
   ]
  },
  {
   "cell_type": "code",
   "execution_count": null,
   "id": "b278bc6a",
   "metadata": {
    "ExecuteTime": {
     "end_time": "2024-12-09T11:56:31.005000+01:00",
     "start_time": "2024-12-09T10:55:30.187Z"
    },
    "deletable": false,
    "editable": false,
    "nbgrader": {
     "cell_type": "code",
     "checksum": "1ca50ef9c80322871ab3e1cd1e5a7323",
     "grade": true,
     "grade_id": "cell-d65ee4b485b82aa6",
     "locked": true,
     "points": 0.5,
     "schema_version": 3,
     "solution": false,
     "task": false
    },
    "tags": []
   },
   "outputs": [],
   "source": [
    "@assert JuMP.termination_status(model) == JuMP.OPTIMAL"
   ]
  },
  {
   "cell_type": "markdown",
   "id": "9fa7a5ca",
   "metadata": {
    "deletable": false,
    "editable": false,
    "nbgrader": {
     "cell_type": "markdown",
     "checksum": "9019f047e35fef2b3808de2a8b3a3002",
     "grade": false,
     "grade_id": "cell-dbec3ec16dae33f7",
     "locked": true,
     "schema_version": 3,
     "solution": false,
     "task": false
    },
    "tags": []
   },
   "source": [
    "Check dimensions and constraint types:"
   ]
  },
  {
   "cell_type": "code",
   "execution_count": null,
   "id": "7947d2a4",
   "metadata": {
    "ExecuteTime": {
     "end_time": "2024-12-09T11:56:31.255000+01:00",
     "start_time": "2024-12-09T10:55:30.189Z"
    },
    "deletable": false,
    "editable": false,
    "nbgrader": {
     "cell_type": "code",
     "checksum": "a21ea6339c4ad0bf137d8a6977f19194",
     "grade": true,
     "grade_id": "cell-ecb8520065f6c735",
     "locked": true,
     "points": 0.5,
     "schema_version": 3,
     "solution": false,
     "task": false
    },
    "tags": []
   },
   "outputs": [],
   "source": [
    "@assert length(p_cosmo) == 2\n",
    "@assert JuMP.num_constraints(model; count_variable_in_set_constraints=true) == 5"
   ]
  },
  {
   "cell_type": "markdown",
   "id": "392fd31c",
   "metadata": {
    "deletable": false,
    "editable": false,
    "nbgrader": {
     "cell_type": "markdown",
     "checksum": "b2d003615b85d147e97fb05aa3ea6f9e",
     "grade": false,
     "grade_id": "cell-00879691699a6f2f",
     "locked": true,
     "schema_version": 3,
     "solution": false,
     "task": false
    }
   },
   "source": [
    "Check optimal value:"
   ]
  },
  {
   "cell_type": "code",
   "execution_count": null,
   "id": "8411175c",
   "metadata": {
    "ExecuteTime": {
     "end_time": "2024-12-09T11:56:31.498000+01:00",
     "start_time": "2024-12-09T10:55:30.191Z"
    },
    "deletable": false,
    "editable": false,
    "nbgrader": {
     "cell_type": "code",
     "checksum": "207b79542ebacf7a93ea4499818690b1",
     "grade": true,
     "grade_id": "cell-a7231d69f0a90539",
     "locked": true,
     "points": 1,
     "schema_version": 3,
     "solution": false,
     "task": false
    },
    "tags": []
   },
   "outputs": [],
   "source": [
    "let p = p_cosmo\n",
    "    @assert all(p .>= 0)\n",
    "    @assert -p[1] + 2 * p[2] - 2 <= 1e-10\n",
    "    @assert p[1] + 2 * p[2] - 6 <= 1e-10\n",
    "    @assert +p[1] - 2 * p[2] - 2 <= 1e-10\n",
    "end"
   ]
  },
  {
   "cell_type": "markdown",
   "id": "34aac0fe-883f-41bb-8ccb-8541d2eb6517",
   "metadata": {
    "deletable": false,
    "editable": false,
    "nbgrader": {
     "cell_type": "markdown",
     "checksum": "dbf1c6e9a2bbd04df847d16a5dbff8c2",
     "grade": false,
     "grade_id": "cell-5e9d68e278b418e1",
     "locked": true,
     "schema_version": 3,
     "solution": false,
     "task": false
    },
    "tags": []
   },
   "source": [
    "![problem plot](fig_cosmo2.png)"
   ]
  },
  {
   "cell_type": "markdown",
   "id": "158f9c8a",
   "metadata": {
    "deletable": false,
    "editable": false,
    "nbgrader": {
     "cell_type": "markdown",
     "checksum": "a43c4e9c223dbb3fc3e3d773f8638645",
     "grade": false,
     "grade_id": "cell-445750f4feb463cd",
     "locked": true,
     "schema_version": 3,
     "solution": false,
     "task": false
    },
    "tags": []
   },
   "source": [
    "### Exercise 2b) (1 + 1 points)\n",
    "As indicated, it is possible to use `JuMP` in many different ways.\n",
    "We could also provide the affine-linear inequality constraints with matrices.\n",
    "Set the 3 x 2 matrix `A_cosmo` and the 3-vector `b_cosmo`, so that `A_cosmo * x .<= b_cosmo`\n",
    "describes the constraints of (P) (other than the non-negativity constraints.)"
   ]
  },
  {
   "cell_type": "code",
   "execution_count": null,
   "id": "1056efe1",
   "metadata": {
    "ExecuteTime": {
     "end_time": "2024-12-09T11:56:31.569000+01:00",
     "start_time": "2024-12-09T10:55:30.193Z"
    },
    "deletable": false,
    "nbgrader": {
     "cell_type": "code",
     "checksum": "76fd3cf7a2fade3065a04f803b6fc79a",
     "grade": false,
     "grade_id": "cell-3d8f2b57ef65c61f",
     "locked": false,
     "schema_version": 3,
     "solution": true,
     "task": false
    },
    "tags": []
   },
   "outputs": [],
   "source": [
    "A_cosmo = zeros(3, 2)\n",
    "b_cosmo = zeros(3)\n",
    "#--- YOUR CODE STARTS HERE ---#\n",
    "\n",
    "#--- YOUR CODE ENDS HERE ---#"
   ]
  },
  {
   "cell_type": "markdown",
   "id": "0df16c08",
   "metadata": {
    "deletable": false,
    "editable": false,
    "nbgrader": {
     "cell_type": "markdown",
     "checksum": "59592b4e55cd50c603750b89f64fa1c2",
     "grade": false,
     "grade_id": "cell-f5825a586881e232",
     "locked": true,
     "schema_version": 3,
     "solution": false,
     "task": false
    },
    "tags": []
   },
   "source": [
    "As a quick test, we can check the previous solution:"
   ]
  },
  {
   "cell_type": "code",
   "execution_count": null,
   "id": "e0caeca6",
   "metadata": {
    "ExecuteTime": {
     "end_time": "2024-12-09T11:56:31.762000+01:00",
     "start_time": "2024-12-09T10:55:30.196Z"
    },
    "deletable": false,
    "editable": false,
    "nbgrader": {
     "cell_type": "code",
     "checksum": "81e90e5ce565e9c645b0a87214878e0e",
     "grade": true,
     "grade_id": "cell-005573f9e8dcb0a1",
     "locked": true,
     "points": 1,
     "schema_version": 3,
     "solution": false,
     "task": false
    },
    "tags": []
   },
   "outputs": [],
   "source": [
    "@assert all(A_cosmo * p_cosmo .<= b_cosmo .+ 1e-10)"
   ]
  },
  {
   "cell_type": "markdown",
   "id": "d67bfb5e",
   "metadata": {
    "deletable": false,
    "editable": false,
    "nbgrader": {
     "cell_type": "markdown",
     "checksum": "b3cbc4988bbfa7bf409765f6966a2610",
     "grade": false,
     "grade_id": "cell-23f50a4a55816c86",
     "locked": true,
     "schema_version": 3,
     "solution": false,
     "task": false
    },
    "tags": []
   },
   "source": [
    "Moreover, we can also rewrite the objective function as\n",
    "`0.5 * p' * H_cosmo * p + p'g_cosmo + c_cosmo`,\n",
    "with a 2 x 2 matrix `H_cosmo` and vector `g_cosmo` and constant `c_cosmo`:"
   ]
  },
  {
   "cell_type": "code",
   "execution_count": null,
   "id": "301b9615",
   "metadata": {
    "ExecuteTime": {
     "end_time": "2024-12-09T11:56:31.796000+01:00",
     "start_time": "2024-12-09T10:55:30.198Z"
    },
    "deletable": false,
    "nbgrader": {
     "cell_type": "code",
     "checksum": "c66cc17132d730cc81853b93185bf826",
     "grade": false,
     "grade_id": "cell-c55f2768af3d5d6b",
     "locked": false,
     "schema_version": 3,
     "solution": true,
     "task": false
    },
    "tags": []
   },
   "outputs": [],
   "source": [
    "H_cosmo = zeros(2, 2)\n",
    "g_cosmo = zeros(2)\n",
    "c_cosmo = 0\n",
    "#--- YOUR CODE STARTS HERE ---#\n",
    "\n",
    "#--- YOUR CODE ENDS HERE ---#"
   ]
  },
  {
   "cell_type": "markdown",
   "id": "cae7dec2",
   "metadata": {
    "deletable": false,
    "editable": false,
    "nbgrader": {
     "cell_type": "markdown",
     "checksum": "54399302bd9a63be6f2ab2aae5650108",
     "grade": false,
     "grade_id": "cell-b7e5693f2c672b69",
     "locked": true,
     "schema_version": 3,
     "solution": false,
     "task": false
    },
    "tags": []
   },
   "source": [
    "Check against last optimal value:"
   ]
  },
  {
   "cell_type": "code",
   "execution_count": null,
   "id": "f6d5cd30",
   "metadata": {
    "ExecuteTime": {
     "end_time": "2024-12-09T11:56:32.547000+01:00",
     "start_time": "2024-12-09T10:55:30.200Z"
    },
    "deletable": false,
    "editable": false,
    "nbgrader": {
     "cell_type": "code",
     "checksum": "3a112fe2926c5f81a2ddcc1f971dcde9",
     "grade": true,
     "grade_id": "cell-280b229a7296a2f9",
     "locked": true,
     "points": 1,
     "schema_version": 3,
     "solution": false,
     "task": false
    },
    "tags": []
   },
   "outputs": [],
   "source": [
    "@assert JuMP.objective_value(model) ≈ 0.5 * p_cosmo'H_cosmo * p_cosmo + p_cosmo'g_cosmo + c_cosmo"
   ]
  },
  {
   "cell_type": "markdown",
   "id": "ae5843e8",
   "metadata": {
    "deletable": false,
    "editable": false,
    "nbgrader": {
     "cell_type": "markdown",
     "checksum": "5313d5f775c269c7db457d32337b73a1",
     "grade": false,
     "grade_id": "cell-074e947cd61438c8",
     "locked": true,
     "schema_version": 3,
     "solution": false,
     "task": false
    }
   },
   "source": [
    "Here is how to use matrices with `JuMP`:"
   ]
  },
  {
   "cell_type": "code",
   "execution_count": null,
   "id": "32856c2d",
   "metadata": {
    "ExecuteTime": {
     "end_time": "2024-12-09T11:56:33.470000+01:00",
     "start_time": "2024-12-09T10:55:30.202Z"
    },
    "deletable": false,
    "editable": false,
    "nbgrader": {
     "cell_type": "code",
     "checksum": "70b1c05fa88288b8422bc7b7aaab578a",
     "grade": false,
     "grade_id": "cell-2ba26882d0293a53",
     "locked": true,
     "schema_version": 3,
     "solution": false,
     "task": false
    }
   },
   "outputs": [],
   "source": [
    "let\n",
    "    global H_cosmo, g_cosmo, c_cosmo\n",
    "    global A_cosmo, b_cosmo, p_cosmo\n",
    "    model = Model(COSMO.Optimizer)\n",
    "    @variable(model, p[1:2] .>= 0)\n",
    "    @objective(model, Min, 0.5 * p'H_cosmo * p + p'g_cosmo + c_cosmo)\n",
    "    @constraint(model, A_cosmo * p .<= b_cosmo)\n",
    "    optimize!(model)\n",
    "\n",
    "    p_opt = value.(p)\n",
    "    @assert p_opt ≈ p_cosmo\n",
    "end"
   ]
  },
  {
   "cell_type": "markdown",
   "id": "91fe604e",
   "metadata": {
    "deletable": false,
    "editable": false,
    "nbgrader": {
     "cell_type": "markdown",
     "checksum": "217f392fd445ce69f8578d071e235a05",
     "grade": false,
     "grade_id": "cell-607abcc34b770772",
     "locked": true,
     "schema_version": 3,
     "solution": false,
     "task": false
    },
    "tags": []
   },
   "source": [
    "### Exercise 2c) (0.5 points)\n",
    "Incidently, we have restated our problem in a form nearly suitable for our Active-Set solver\n",
    "from exercise 1.\n",
    "Augment `A_cosmo` and `b_cosmo` by including the non-negativity constraints and\n",
    "name the resulting matrix `C_ineq_as`, and the vector `b_ineq_as`:"
   ]
  },
  {
   "cell_type": "code",
   "execution_count": null,
   "id": "7f64d325",
   "metadata": {
    "ExecuteTime": {
     "end_time": "2024-12-09T11:56:33.593000+01:00",
     "start_time": "2024-12-09T10:55:30.204Z"
    },
    "deletable": false,
    "nbgrader": {
     "cell_type": "code",
     "checksum": "46d74e6507bbe3141a8ed9c7f3405698",
     "grade": false,
     "grade_id": "cell-8f445681bfb6c154",
     "locked": false,
     "schema_version": 3,
     "solution": true,
     "task": false
    },
    "tags": []
   },
   "outputs": [],
   "source": [
    "C_ineq_as = zeros(5, 2)\n",
    "b_ineq_as = zeros(5)\n",
    "#--- YOUR CODE STARTS HERE ---#\n",
    "\n",
    "#--- YOUR CODE ENDS HERE ---#"
   ]
  },
  {
   "cell_type": "markdown",
   "id": "dfc43a00",
   "metadata": {
    "deletable": false,
    "editable": false,
    "nbgrader": {
     "cell_type": "markdown",
     "checksum": "d4664dda3999c915208c354ae34b53b2",
     "grade": false,
     "grade_id": "cell-a5d3bca4c9953dfe",
     "locked": true,
     "schema_version": 3,
     "solution": false,
     "task": false
    },
    "tags": []
   },
   "source": [
    "Let's again check with the last solution:"
   ]
  },
  {
   "cell_type": "code",
   "execution_count": null,
   "id": "9a9aa8de",
   "metadata": {
    "ExecuteTime": {
     "end_time": "2024-12-09T11:56:33.900000+01:00",
     "start_time": "2024-12-09T10:55:30.206Z"
    },
    "deletable": false,
    "editable": false,
    "nbgrader": {
     "cell_type": "code",
     "checksum": "a48fa5c3649f7249b5bb9d6f9c23fedd",
     "grade": true,
     "grade_id": "cell-ef83857e52bce549",
     "locked": true,
     "points": 0.5,
     "schema_version": 3,
     "solution": false,
     "task": false
    },
    "tags": []
   },
   "outputs": [],
   "source": [
    "@assert all(C_ineq_as * p_cosmo .<= b_ineq_as .+ 1e-10 )"
   ]
  },
  {
   "cell_type": "markdown",
   "id": "f362ed20",
   "metadata": {
    "deletable": false,
    "editable": false,
    "nbgrader": {
     "cell_type": "markdown",
     "checksum": "566ce594306a7f7a1753b95c15c4fb01",
     "grade": false,
     "grade_id": "cell-373d6a93be2b1a52",
     "locked": true,
     "schema_version": 3,
     "solution": false,
     "task": false
    },
    "tags": []
   },
   "source": [
    "Finally, our solver should return the same optimum, hopefully:"
   ]
  },
  {
   "cell_type": "code",
   "execution_count": null,
   "id": "994fa123",
   "metadata": {
    "ExecuteTime": {
     "end_time": "2024-12-09T11:56:35.584000+01:00",
     "start_time": "2024-12-09T10:55:30.208Z"
    },
    "deletable": false,
    "editable": false,
    "nbgrader": {
     "cell_type": "code",
     "checksum": "30aa680b5f9866d1f1d46b342bc10aac",
     "grade": false,
     "grade_id": "cell-e27110827e0fb19e",
     "locked": true,
     "schema_version": 3,
     "solution": false,
     "task": false
    },
    "tags": []
   },
   "outputs": [],
   "source": [
    "let H = H_cosmo, g = g_cosmo, C_ineq = C_ineq_as, d_ineq = -b_ineq_as\n",
    "    global p_cosmo\n",
    "    C_eq = zeros(0, 2)\n",
    "    d_eq = []\n",
    "    p0 = ones(2)\n",
    "    p_qp = p0\n",
    "    p_qp, _ = solve_convex_qp(H, g, C_eq, d_eq, C_ineq, d_ineq, p0)\n",
    "\n",
    "    @assert p_cosmo ≈ p_qp\n",
    "end"
   ]
  }
 ],
 "metadata": {
  "kernelspec": {
   "display_name": "Julia 1.10.5",
   "language": "julia",
   "name": "julia-1.10"
  },
  "language_info": {
   "file_extension": ".jl",
   "mimetype": "application/julia",
   "name": "julia",
   "version": "1.10.5"
  }
 },
 "nbformat": 4,
 "nbformat_minor": 5
}
