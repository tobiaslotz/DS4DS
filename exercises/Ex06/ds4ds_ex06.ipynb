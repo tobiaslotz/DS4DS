{
 "cells": [
  {
   "cell_type": "markdown",
   "id": "e58719b9-bc5b-4c3e-a74c-1e84d5c7a8ea",
   "metadata": {
    "deletable": false,
    "editable": false,
    "nbgrader": {
     "cell_type": "markdown",
     "checksum": "88b183d127f32e08bff01cf919c2546f",
     "grade": false,
     "grade_id": "cell-f9b2220de66e6ce4",
     "locked": true,
     "schema_version": 3,
     "solution": false,
     "task": false
    },
    "tags": []
   },
   "source": [
    "# DS4DS Homework Exercise Sheet 6"
   ]
  },
  {
   "cell_type": "code",
   "execution_count": 1,
   "id": "20bae2f1-a202-40e0-948a-8561b6de0e24",
   "metadata": {
    "ExecuteTime": {
     "end_time": "2024-11-14T15:45:28.222000+01:00",
     "start_time": "2024-11-14T14:45:18.911Z"
    },
    "deletable": false,
    "editable": false,
    "nbgrader": {
     "cell_type": "code",
     "checksum": "a318644621b58ceea081adbf2fe25869",
     "grade": false,
     "grade_id": "cell-2d3c488ab22fdb67",
     "locked": true,
     "schema_version": 3,
     "solution": false,
     "task": false
    },
    "tags": []
   },
   "outputs": [],
   "source": [
    "using OrdinaryDiffEq\n",
    "using MAT\n",
    "using LinearAlgebra"
   ]
  },
  {
   "cell_type": "markdown",
   "id": "6031d1bf-5dbe-47d1-9835-f349680351be",
   "metadata": {
    "deletable": false,
    "editable": false,
    "nbgrader": {
     "cell_type": "markdown",
     "checksum": "b5c900c9556a82886a657b05d577cae6",
     "grade": false,
     "grade_id": "cell-e4572472d7efe9f3",
     "locked": true,
     "schema_version": 3,
     "solution": false,
     "task": false
    },
    "slideshow": {
     "slide_type": ""
    },
    "tags": []
   },
   "source": [
    "### Task 1: OLS for the nonlinear pendulum - (5 points)"
   ]
  },
  {
   "cell_type": "markdown",
   "id": "500c9bd0-a57f-4486-8445-3e2c5fbc590a",
   "metadata": {
    "deletable": false,
    "editable": false,
    "nbgrader": {
     "cell_type": "markdown",
     "checksum": "09fa7e3fc10145b08191e0541fd98f95",
     "grade": false,
     "grade_id": "cell-1f19f4f3ddf4564f",
     "locked": true,
     "schema_version": 3,
     "solution": false,
     "task": false
    },
    "tags": []
   },
   "source": [
    "We once again consider the nonlinear, frictionless pendulum that we have already seen in Exercise 02. The state-space representation of the pendulum is given by\n",
    "\n",
    "$$\n",
    "\\begin{align}\n",
    "    \\mathbf{x}(t) = \\begin{bmatrix}\\theta(t)\\\\ \\frac{\\mathrm{d}\\theta(t)}{\\mathrm{d}t} \\end{bmatrix}\n",
    "\\end{align}\n",
    "$$\n",
    "\n",
    "and\n",
    "\n",
    "$$\n",
    "\\begin{align}\n",
    "    \\frac{\\mathrm{d}\\mathbf{x}(t)}{\\mathrm{d}t} = \\begin{bmatrix}x_2(t) \\\\ -\\frac{g}{L} \\sin{(x_1(t))} \\end{bmatrix}\n",
    "\\end{align}\n",
    "$$\n",
    "\n",
    "where $g = 9.81 \\frac{\\mathrm{m}}{\\mathrm{s}^2}$ is the magnitude of the gravitational field, $L = 1 \\mathrm{m}$ is the length of the rod, $\\theta$ is the angle from the vertical axis, and $\\frac{\\mathrm{d}\\mathbf{\\theta}(t)}{\\mathrm{d}t}$ is the angular velocity."
   ]
  },
  {
   "cell_type": "code",
   "execution_count": 2,
   "id": "0884b46f-52de-4aa7-82ad-c63f6b721de0",
   "metadata": {
    "ExecuteTime": {
     "end_time": "2024-11-14T15:45:28.663000+01:00",
     "start_time": "2024-11-14T14:45:22.472Z"
    },
    "deletable": false,
    "editable": false,
    "nbgrader": {
     "cell_type": "code",
     "checksum": "60f6bd7995fc3f75ca56aabd407969fd",
     "grade": false,
     "grade_id": "cell-ee876dc796a69bca",
     "locked": true,
     "schema_version": 3,
     "solution": false,
     "task": false
    },
    "tags": []
   },
   "outputs": [],
   "source": [
    "# Model parameters defined as constants, i.e., they can be also used within function calls\n",
    "const g = 9.81; # gravity constant\n",
    "const L = 1.0; # length of pendulum"
   ]
  },
  {
   "cell_type": "markdown",
   "id": "131dedc0-6d87-427b-bd36-470a32992a4d",
   "metadata": {
    "deletable": false,
    "editable": false,
    "nbgrader": {
     "cell_type": "markdown",
     "checksum": "633ef2c1a41c1ab16649965d298fe2e0",
     "grade": false,
     "grade_id": "cell-66ffb71c568989d3",
     "locked": true,
     "schema_version": 3,
     "solution": false,
     "task": false
    },
    "slideshow": {
     "slide_type": ""
    },
    "tags": []
   },
   "source": [
    "**a)** Now we want to study the system using data. To this end, implement the function `Tsit5_ode_solver` and the function `pendulum!` (which contains the right-hand side of the ODE) outlined below. Within your solution, you are to use the `Tsit5()`-ODE Solver from the `OrdinaryDiffEq`-package. The state trajectory must be specified at the times $t=0, \\Delta t, 2 \\cdot \\Delta t \\dots$. **- (1 point)**"
   ]
  },
  {
   "cell_type": "code",
   "execution_count": 3,
   "id": "43a9f146-3986-4a10-97bf-01221fa20842",
   "metadata": {
    "ExecuteTime": {
     "end_time": "2024-11-14T15:45:29.506000+01:00",
     "start_time": "2024-11-14T14:45:26.288Z"
    },
    "deletable": false,
    "nbgrader": {
     "cell_type": "code",
     "checksum": "bf2cbf8af232fe220bca29e88af49bec",
     "grade": false,
     "grade_id": "cell-5dd5ecfb33f011c6",
     "locked": false,
     "schema_version": 3,
     "solution": true,
     "task": false
    },
    "tags": []
   },
   "outputs": [
    {
     "data": {
      "text/plain": [
       "Tsit5_ode_solver (generic function with 1 method)"
      ]
     },
     "metadata": {},
     "output_type": "display_data"
    }
   ],
   "source": [
    "# Define the ODE model shown above as a function which can be passed to a solver\n",
    "\n",
    "function pendulum!(dx, x, p, t)\n",
    "    \"\"\"Consider the examples at https://github.com/SciML/OrdinaryDiffEq.jl or examples from the lecture for guidance.\"\"\"\n",
    "\n",
    "    #--- YOUR CODE STARTS HERE ---#\n",
    "    dx[1] = x[2]\n",
    "    dx[2] = -(g / L) * sin(x[1])\n",
    "    #--- YOUR CODE ENDS HERE ---#\n",
    "\n",
    "end\n",
    "\n",
    "\n",
    "function Tsit5_ode_solver(ode_function, x0, tspan, dt)\n",
    "    \"\"\"Defines the ODE problem and solves it.\n",
    "    \n",
    "    Args:\n",
    "        ode_function: The ODE defined as a function that can be passed to the solver\n",
    "        x0: Initial state of the system\n",
    "        tspan: time-span in which the system should be evaluated (This is a tuple with two values (t_0, t_e))\n",
    "        dt: The length of each of the timesteps\n",
    "    \n",
    "    Returns:\n",
    "        t: A vector containing the time for the corresponding elements in the state trajectory\n",
    "        x: State trajectory as a Matrix in the form (n_states, N) where N is the length of the trajectory\n",
    "    \"\"\"\n",
    "# 27\n",
    "    #--- YOUR CODE STARTS HERE ---#\n",
    "    t_0, t_e = tspan\n",
    "    #N = Int((t_e - t_0) / dt) + 1\n",
    "    #t = collect((0:(N-1)) .* dt)\n",
    "    prob = ODEProblem(pendulum!, x0, tspan)\n",
    "    sol = solve(prob, Tsit5(), dt=dt, adaptive=false)\n",
    "    t = sol.t\n",
    "    x = transpose(stack(sol.u, dims=1))\n",
    "    #--- YOUR CODE ENDS HERE ---#\n",
    "\n",
    "    return t, x\n",
    "end"
   ]
  },
  {
   "cell_type": "code",
   "execution_count": 4,
   "id": "7558bbe3-04b6-4498-bbc8-fe112a7dbcef",
   "metadata": {
    "ExecuteTime": {
     "end_time": "2024-11-14T15:45:44.940000+01:00",
     "start_time": "2024-11-14T14:45:27.000Z"
    },
    "deletable": false,
    "editable": false,
    "nbgrader": {
     "cell_type": "code",
     "checksum": "a4401fa2f500b5f9a33fc8844252cd9f",
     "grade": true,
     "grade_id": "cell-dd1e260defb1f61d",
     "locked": true,
     "points": 1,
     "schema_version": 3,
     "solution": false,
     "task": false
    },
    "tags": []
   },
   "outputs": [],
   "source": [
    "@assert isa(pendulum!, Function)\n",
    "@assert isa(Tsit5_ode_solver, Function)\n",
    "\n",
    "\n",
    "# test shapes with dummy data\n",
    "t, x = Tsit5_ode_solver(pendulum!, [0, 0], (0, 4), 0.01)\n",
    "@assert size(t) == (401,)\n",
    "@assert size(x) == (2, 401)\n"
   ]
  },
  {
   "cell_type": "code",
   "execution_count": 5,
   "id": "d3c53a9d-20f9-4a5c-8491-a80e863d4bfb",
   "metadata": {
    "ExecuteTime": {
     "end_time": "2024-11-14T15:45:45.172000+01:00",
     "start_time": "2024-11-14T14:45:27.280Z"
    },
    "deletable": false,
    "editable": false,
    "nbgrader": {
     "cell_type": "code",
     "checksum": "544c8d09d432f2b45d70f50a9e06a0d9",
     "grade": true,
     "grade_id": "cell-5b1ca1dab2634f34",
     "locked": true,
     "points": 0,
     "schema_version": 3,
     "solution": false,
     "task": false
    },
    "tags": []
   },
   "outputs": [],
   "source": [
    "# please leave this cell as it is\n"
   ]
  },
  {
   "cell_type": "markdown",
   "id": "60187bd1-22c0-498d-bf76-c1beabab2c49",
   "metadata": {
    "deletable": false,
    "editable": false,
    "nbgrader": {
     "cell_type": "markdown",
     "checksum": "2b1b825114a61d721082f460363f9f45",
     "grade": false,
     "grade_id": "cell-1a5de7d81887b9e5",
     "locked": true,
     "schema_version": 3,
     "solution": false,
     "task": false
    },
    "tags": []
   },
   "source": [
    "**b)** Use the functions implemented above to simulate the system on the time horizon $[t_0, t_e] = [0 \\mathrm{s}, 2.5 \\mathrm{s}]$ with $\\Delta t = 0.01 \\mathrm{s}$ and create trajectory data for different initial conditions for $\\mathbf{x}_0$\n",
    "\n",
    "- i.)  $ \\,\\, \\mathbf{x}_{0,i} = \\begin{bmatrix}\\frac{\\pi}{9}\\\\ 0 \\end{bmatrix}$\n",
    "- ii.) $ \\, \\mathbf{x}_{0,ii} = \\begin{bmatrix}\\frac{\\pi}{4}\\\\ 0 \\end{bmatrix}$\n",
    "- iii.) $ \\mathbf{x}_{0,iii} = \\begin{bmatrix}\\frac{\\pi}{2}\\\\ 0 \\end{bmatrix}$.\n",
    "\n",
    "Find the period $T$ with which the system oscillates for the different initial conditions. To this end, find the first point $t$ when $\\theta(t) \\approx \\theta_0$ (take the point from your discrete trajectory that is closest to this value with regard to the 2-norm of the error). Save your results for $T$ in the variables $T_i$, $T_{ii}$ and $T_{iii}$ respectively. **- (1 point)**"
   ]
  },
  {
   "cell_type": "code",
   "execution_count": 6,
   "id": "5b72a88c-1cf4-4b48-ab16-bd83a48fc8e1",
   "metadata": {
    "ExecuteTime": {
     "end_time": "2024-11-14T15:45:45.760000+01:00",
     "start_time": "2024-11-14T14:45:27.640Z"
    },
    "deletable": false,
    "nbgrader": {
     "cell_type": "code",
     "checksum": "71b7b59618f9e981bd810c5ff11bd58a",
     "grade": false,
     "grade_id": "cell-e68d8e4e57d16367",
     "locked": false,
     "schema_version": 3,
     "solution": true,
     "task": false
    },
    "tags": []
   },
   "outputs": [
    {
     "data": {
      "text/plain": [
       "(2.38, [1.5707963267948966 1.570305826798857 … 1.4976140920459031 1.485147769699737; 0.0 -0.0980999976398097 … -1.197728747541993 -1.2955195618889237])"
      ]
     },
     "metadata": {},
     "output_type": "display_data"
    }
   ],
   "source": [
    "function get_T_estimate(x0)\n",
    "\n",
    "    #--- YOUR CODE STARTS HERE ---#\n",
    "    error_tol = 0.05\n",
    "    t, x = Tsit5_ode_solver(pendulum!, x0, tspan, dt)\n",
    "    min = 10000.\n",
    "    T = -1\n",
    "    for i = 5:length(t)\n",
    "        diff = sqrt((x0[1] - x[1,i])^2 + (x0[2] - x[2,i])^2)\n",
    "        if diff <= error_tol\n",
    "            min = diff\n",
    "            T = i*dt\n",
    "            break\n",
    "        end\n",
    "    end\n",
    "    #--- YOUR CODE ENDS HERE ---#\n",
    "\n",
    "    return T, x\n",
    "end\n",
    "\n",
    "\n",
    "# store your time settings in these variables\n",
    "tspan = NaN\n",
    "dt = NaN\n",
    "\n",
    "\n",
    "# store the estimated oscillation periods for the initial conditions i), ii), iii)\n",
    "T_i = NaN\n",
    "T_ii = NaN\n",
    "T_iii = NaN\n",
    "\n",
    "# store the trajectories for the initial conditions i), ii), iii)\n",
    "x_i = NaN\n",
    "x_ii = NaN\n",
    "x_iii = NaN\n",
    "\n",
    "#--- YOUR CODE STARTS HERE ---#\n",
    "tspan = (0, 2.5)\n",
    "dt = 0.01\n",
    "\n",
    "x0_i = [pi/9, 0]\n",
    "x0_ii = [pi/4, 0]\n",
    "x0_iii = [pi/2, 0]\n",
    "\n",
    "T_i, x_i = get_T_estimate(x0_i)\n",
    "T_ii, x_ii = get_T_estimate(x0_ii)\n",
    "T_iii, x_iii = get_T_estimate(x0_iii)\n",
    "#--- YOUR CODE ENDS HERE ---#"
   ]
  },
  {
   "cell_type": "code",
   "execution_count": 7,
   "id": "56d540d5-6221-4b3f-995d-42c3f830c13b",
   "metadata": {
    "ExecuteTime": {
     "end_time": "2024-11-14T15:45:45.987000+01:00",
     "start_time": "2024-11-14T14:45:28.099Z"
    },
    "deletable": false,
    "editable": false,
    "nbgrader": {
     "cell_type": "code",
     "checksum": "e2ac0fffe937e33ae8db59a0a6d9acaa",
     "grade": true,
     "grade_id": "cell-e910658e0a7c18e1",
     "locked": true,
     "points": 1,
     "schema_version": 3,
     "solution": false,
     "task": false
    },
    "tags": []
   },
   "outputs": [],
   "source": [
    "for T in [T_i, T_ii, T_iii]\n",
    "    \n",
    "    @assert isa(T, Number) \"Ensure that T is a scalar value.\"\n",
    "    \n",
    "    @assert 0 < T <= 2.5 \"Ensure that T is in the accepted value range.\"\n",
    "    @assert isapprox(T / 0.01 - round(T / 0.01), 0, rtol=0, atol=1e-7) \"Ensure that T is a multiple of the step size.\"\n",
    "end\n",
    "\n",
    "for x in [x_i, x_ii, x_iii]\n",
    "   @assert size(x) == (2, 251) \"Ensure that the state trajectory has the correct shape.\"\n",
    "end\n"
   ]
  },
  {
   "cell_type": "code",
   "execution_count": 8,
   "id": "95b324ad-6611-4bf7-a547-f9446fa9f4bd",
   "metadata": {
    "ExecuteTime": {
     "end_time": "2024-11-14T15:45:46.018000+01:00",
     "start_time": "2024-11-14T14:45:28.347Z"
    },
    "deletable": false,
    "editable": false,
    "nbgrader": {
     "cell_type": "code",
     "checksum": "0b89e125c8cf3803d9c63f2d9976261d",
     "grade": true,
     "grade_id": "cell-f3a88f0fbb9447d2",
     "locked": true,
     "points": 0,
     "schema_version": 3,
     "solution": false,
     "task": false
    },
    "tags": []
   },
   "outputs": [],
   "source": [
    "# please leave this cell as it is\n"
   ]
  },
  {
   "cell_type": "markdown",
   "id": "7439fa85-d2dc-4903-8843-7c554aeb4187",
   "metadata": {
    "deletable": false,
    "editable": false,
    "nbgrader": {
     "cell_type": "markdown",
     "checksum": "2c1f8be02d8694803b3a427c1f24a921",
     "grade": false,
     "grade_id": "cell-f9584612530a8206",
     "locked": true,
     "schema_version": 3,
     "solution": false,
     "task": false
    },
    "tags": []
   },
   "source": [
    "**c)** Use the OLS approach to identify the matrix $\\mathbf{\\tilde{A}}$ of an approximated linear system of the form $\\mathbf{x}[k+1] = \\mathbf{\\tilde{A}} \\mathbf{x}[k]$. Use your trajectories from a) and identify one matrix per trajectory. **- (0.5 points)**"
   ]
  },
  {
   "cell_type": "code",
   "execution_count": 9,
   "id": "fc287d7c-7d7d-48fd-92a4-c26ec3e835aa",
   "metadata": {
    "ExecuteTime": {
     "end_time": "2024-11-14T15:45:46.040000+01:00",
     "start_time": "2024-11-14T14:45:29.272Z"
    },
    "deletable": false,
    "nbgrader": {
     "cell_type": "code",
     "checksum": "5ed2c96c4c1ed7a77dd0d5645b5ac6ce",
     "grade": false,
     "grade_id": "cell-ff35a26cdfdb3d4d",
     "locked": false,
     "schema_version": 3,
     "solution": true,
     "task": false
    },
    "tags": []
   },
   "outputs": [
    {
     "data": {
      "text/plain": [
       "2×2 Matrix{Float64}:\n",
       " 0.999651    -0.069871\n",
       " 0.00999864   0.99961"
      ]
     },
     "metadata": {},
     "output_type": "display_data"
    }
   ],
   "source": [
    "function estimate_A_tilde_OLS(x)\n",
    "\n",
    "    #--- YOUR CODE STARTS HERE ---#\n",
    "    Y = x[:, 2:end]\n",
    "    Z = x[:, 1:end-1]\n",
    "    A_tilde = inv(Z * Z') * Z * Y'\n",
    "    #--- YOUR CODE ENDS HERE ---#\n",
    "\n",
    "    return A_tilde\n",
    "end\n",
    "\n",
    "A_tilde_i = NaN\n",
    "A_tilde_ii = NaN\n",
    "A_tilde_iii = NaN\n",
    "\n",
    "#--- YOUR CODE STARTS HERE ---#\n",
    "A_tilde_i = estimate_A_tilde_OLS(x_i)\n",
    "A_tilde_ii = estimate_A_tilde_OLS(x_ii)\n",
    "A_tilde_iii = estimate_A_tilde_OLS(x_iii)\n",
    "#--- YOUR CODE ENDS HERE ---#"
   ]
  },
  {
   "cell_type": "code",
   "execution_count": 10,
   "id": "db100893-450b-4e82-a4ed-9d26b48780cc",
   "metadata": {
    "ExecuteTime": {
     "end_time": "2024-11-14T15:45:48.084000+01:00",
     "start_time": "2024-11-14T14:45:29.709Z"
    },
    "deletable": false,
    "editable": false,
    "nbgrader": {
     "cell_type": "code",
     "checksum": "74947586a34d02baa68edefdbb690e04",
     "grade": true,
     "grade_id": "cell-573786dc21545b88",
     "locked": true,
     "points": 0.5,
     "schema_version": 3,
     "solution": false,
     "task": false
    },
    "tags": []
   },
   "outputs": [],
   "source": [
    "for A_tilde in [A_tilde_i, A_tilde_ii, A_tilde_iii]\n",
    "    @assert size(A_tilde) == (2,2)\n",
    "end\n"
   ]
  },
  {
   "cell_type": "code",
   "execution_count": 11,
   "id": "9c2c282b-85c0-4fe1-8d83-401455b9cda2",
   "metadata": {
    "ExecuteTime": {
     "end_time": "2024-11-14T15:45:48.107000+01:00",
     "start_time": "2024-11-14T14:45:30.248Z"
    },
    "deletable": false,
    "editable": false,
    "nbgrader": {
     "cell_type": "code",
     "checksum": "cb1847303da2686e0de73bc44856c7d3",
     "grade": true,
     "grade_id": "cell-9da5b61fec1b64bc",
     "locked": true,
     "points": 0,
     "schema_version": 3,
     "solution": false,
     "task": false
    },
    "tags": []
   },
   "outputs": [],
   "source": [
    "# please leave this cell as it is\n"
   ]
  },
  {
   "cell_type": "markdown",
   "id": "58cbf709-3f1e-45c5-ab68-eb87e2991666",
   "metadata": {
    "deletable": false,
    "editable": false,
    "nbgrader": {
     "cell_type": "markdown",
     "checksum": "4e97429c1c286022775666664e2f670a",
     "grade": false,
     "grade_id": "cell-6788d2f3fc01d38f",
     "locked": true,
     "schema_version": 3,
     "solution": false,
     "task": false
    },
    "tags": []
   },
   "source": [
    "**d)** Approximate the eigenfrequencies $\\omega$ of the system for the three initial conditions given above using the $\\mathbf{\\tilde{A}}$ matrices. Then use these frequencies to approximate the oscillating periods $\\tilde{T}$ of the learned linear systems. **- (1 point)**"
   ]
  },
  {
   "cell_type": "code",
   "execution_count": 12,
   "id": "cb1d8a73-914f-47c6-a8a0-f9460210dbb7",
   "metadata": {
    "ExecuteTime": {
     "end_time": "2024-11-14T15:45:50.080000+01:00",
     "start_time": "2024-11-14T14:45:31.704Z"
    },
    "deletable": false,
    "nbgrader": {
     "cell_type": "code",
     "checksum": "f6df8971427752a74bc59f36845826fe",
     "grade": false,
     "grade_id": "cell-a415ce6932a0d356",
     "locked": false,
     "schema_version": 3,
     "solution": true,
     "task": false
    },
    "tags": []
   },
   "outputs": [
    {
     "ename": "UndefVarError",
     "evalue": "UndefVarError: `N` not defined in `Main`\nSuggestion: check for spelling errors or missing imports.",
     "output_type": "error",
     "traceback": [
      "UndefVarError: `N` not defined in `Main`\n",
      "Suggestion: check for spelling errors or missing imports.\n",
      "\n",
      "Stacktrace:\n",
      " [1] top-level scope\n",
      "   @ ~/Uni/DS4DS/exercises/Ex06/jl_notebook_cell_df34fa98e69747e1a8f8a730347b8e2f_X24sZmlsZQ==.jl:23"
     ]
    }
   ],
   "source": [
    "function calculate_frequency(A_tilde)\n",
    "\n",
    "    #--- YOUR CODE STARTS HERE ---#\n",
    "    omega = abs.(imag(log.(eigvals(A_tilde)) / dt))[1]\n",
    "    #--- YOUR CODE ENDS HERE ---#\n",
    "\n",
    "    return omega\n",
    "end\n",
    "\n",
    "omega_i = NaN\n",
    "omega_ii = NaN\n",
    "omega_iii = NaN\n",
    "\n",
    "T_tilde_i = NaN\n",
    "T_tilde_ii = NaN\n",
    "T_tilde_iii = NaN\n",
    "\n",
    "#--- YOUR CODE STARTS HERE ---#\n",
    "omega_i = calculate_frequency(A_tilde_i)\n",
    "omega_ii = calculate_frequency(A_tilde_ii)\n",
    "omega_iii = calculate_frequency(A_tilde_iii)\n",
    "\n",
    "for i = 1:N\n",
    "    count_i = 0\n",
    "    if abs(sin(omega_i * i*dt)) < 0.01\n",
    "        T_tilde_i = i*dt\n",
    "        count_i += 1\n",
    "        if count_i == 2\n",
    "            break\n",
    "        end\n",
    "    end\n",
    "end\n",
    "\n",
    "for i = 1:N\n",
    "    count_ii = 0\n",
    "    if abs(sin(omega_ii * i*dt)) < 0.01\n",
    "        T_tilde_ii = i*dt\n",
    "        count_ii += 1\n",
    "        if count_ii == 2\n",
    "            break\n",
    "        end\n",
    "    end\n",
    "end\n",
    "\n",
    "for i = 1:N\n",
    "    count_iii = 0\n",
    "    if abs(sin(omega_iii * i*dt)) < 0.01\n",
    "        T_tilde_iii = i*dt\n",
    "        count_iii += 1\n",
    "        if count_iii == 2\n",
    "            break\n",
    "        end\n",
    "    end\n",
    "end\n",
    "#--- YOUR CODE ENDS HERE ---#"
   ]
  },
  {
   "cell_type": "code",
   "execution_count": 13,
   "id": "29bc764e-b252-4049-92de-f83c23817ff6",
   "metadata": {
    "ExecuteTime": {
     "end_time": "2024-11-14T15:45:50.125000+01:00",
     "start_time": "2024-11-14T14:45:32.136Z"
    },
    "deletable": false,
    "editable": false,
    "nbgrader": {
     "cell_type": "code",
     "checksum": "ea3b1c97c0256dae3145c30620a9f522",
     "grade": true,
     "grade_id": "cell-ce62d382accf0bff",
     "locked": true,
     "points": 0.5,
     "schema_version": 3,
     "solution": false,
     "task": false
    },
    "tags": []
   },
   "outputs": [],
   "source": [
    "for omega in [omega_i, omega_ii, omega_iii]\n",
    "    @assert isa(omega, Number) \"The frequency is a scalar.\"\n",
    "    @assert omega > 0 \"The frequency is positive.\"\n",
    "end\n"
   ]
  },
  {
   "cell_type": "code",
   "execution_count": 14,
   "id": "d58ba1f2-8bb9-4083-8ab8-566e9792293f",
   "metadata": {
    "ExecuteTime": {
     "end_time": "2024-11-14T15:45:50.151000+01:00",
     "start_time": "2024-11-14T14:45:32.498Z"
    },
    "deletable": false,
    "editable": false,
    "nbgrader": {
     "cell_type": "code",
     "checksum": "3ad8ef40bef428153b26e92f5bbff3b8",
     "grade": true,
     "grade_id": "cell-37edc02615353738",
     "locked": true,
     "points": 0.5,
     "schema_version": 3,
     "solution": false,
     "task": false
    },
    "tags": []
   },
   "outputs": [
    {
     "ename": "AssertionError",
     "evalue": "AssertionError: The oscillation period is positive.",
     "output_type": "error",
     "traceback": [
      "AssertionError: The oscillation period is positive.\n",
      "\n",
      "Stacktrace:\n",
      " [1] top-level scope\n",
      "   @ ~/Uni/DS4DS/exercises/Ex06/jl_notebook_cell_df34fa98e69747e1a8f8a730347b8e2f_X26sZmlsZQ==.jl:3"
     ]
    }
   ],
   "source": [
    "for T in [T_tilde_i, T_tilde_ii, T_tilde_iii]\n",
    "    @assert isa(T, Number) \"The oscillation period is a scalar.\"\n",
    "    @assert T > 0 \"The oscillation period is positive.\"\n",
    "end\n"
   ]
  },
  {
   "cell_type": "code",
   "execution_count": 15,
   "id": "18691102-515c-4941-8fe4-e13616e82da4",
   "metadata": {
    "ExecuteTime": {
     "end_time": "2024-11-14T15:45:50.153000+01:00",
     "start_time": "2024-11-14T14:45:32.696Z"
    },
    "deletable": false,
    "editable": false,
    "nbgrader": {
     "cell_type": "code",
     "checksum": "9c02ce42c685ac46853e41fb01ed4e68",
     "grade": true,
     "grade_id": "cell-f26571b007cfc4d6",
     "locked": true,
     "points": 0,
     "schema_version": 3,
     "solution": false,
     "task": false
    },
    "tags": []
   },
   "outputs": [],
   "source": [
    "# please leave this cell as it is\n"
   ]
  },
  {
   "cell_type": "markdown",
   "id": "e62eb17e-5f0b-48ac-913c-21c7b42991d2",
   "metadata": {
    "deletable": false,
    "editable": false,
    "nbgrader": {
     "cell_type": "markdown",
     "checksum": "52884b191b1fb7ae0e0c2cf1c643b88b",
     "grade": false,
     "grade_id": "cell-14f5f99a01fe7353",
     "locked": true,
     "schema_version": 3,
     "solution": false,
     "task": false
    },
    "tags": []
   },
   "source": [
    "**e)** Determine the relative error between the estimates for the oscillating periods from subtask b) and d). Consider the value from b) to be the truth. **- (0.5 points)**"
   ]
  },
  {
   "cell_type": "code",
   "execution_count": 16,
   "id": "39ea9b19-a236-43f1-a125-e27d555c9961",
   "metadata": {
    "ExecuteTime": {
     "end_time": "2024-11-14T15:45:50.262000+01:00",
     "start_time": "2024-11-14T14:45:33.472Z"
    },
    "deletable": false,
    "nbgrader": {
     "cell_type": "code",
     "checksum": "82f78b5fea7c291e7a28c80c20a22a4f",
     "grade": false,
     "grade_id": "cell-0df35e3679ab6c86",
     "locked": false,
     "schema_version": 3,
     "solution": true,
     "task": false
    },
    "tags": []
   },
   "outputs": [
    {
     "data": {
      "text/plain": [
       "NaN"
      ]
     },
     "metadata": {},
     "output_type": "display_data"
    }
   ],
   "source": [
    "rel_error_i = NaN\n",
    "rel_error_ii = NaN\n",
    "rel_error_iii = NaN\n",
    "\n",
    "#--- YOUR CODE STARTS HERE ---#\n",
    "rel_error_i = (T_tilde_i - T_i) / T_i\n",
    "rel_error_ii = (T_tilde_ii - T_ii) / T_ii\n",
    "rel_error_iii = (T_tilde_iii - T_iii) / T_iii\n",
    "#--- YOUR CODE ENDS HERE ---#"
   ]
  },
  {
   "cell_type": "code",
   "execution_count": 17,
   "id": "f1f204f0-951a-4a9f-a3be-53c339eb7801",
   "metadata": {
    "ExecuteTime": {
     "end_time": "2024-11-14T15:45:50.288000+01:00",
     "start_time": "2024-11-14T14:45:33.983Z"
    },
    "deletable": false,
    "editable": false,
    "nbgrader": {
     "cell_type": "code",
     "checksum": "c10fdce9e0718000d9ac3dd33dcf755e",
     "grade": true,
     "grade_id": "cell-9b6ca9a2aa4c8929",
     "locked": true,
     "points": 0.5,
     "schema_version": 3,
     "solution": false,
     "task": false
    },
    "tags": []
   },
   "outputs": [],
   "source": [
    "# please leave this cell as it is\n"
   ]
  },
  {
   "cell_type": "markdown",
   "id": "b3fa9c41-b56c-4606-bca1-d83f5a156986",
   "metadata": {
    "deletable": false,
    "editable": false,
    "nbgrader": {
     "cell_type": "markdown",
     "checksum": "42ac1c34552f18f1947e89cba3cbdf1b",
     "grade": false,
     "grade_id": "cell-d0d0394bccd172ce",
     "locked": true,
     "schema_version": 3,
     "solution": false,
     "task": false
    },
    "tags": []
   },
   "source": [
    "**f)** Use the estimated matrices from c) to predict the system behavior for the three different initial conditions over the same timespan as before. Compute the MSE between the true trajectory and the linear approximation. **- (1 point)**\n",
    "\n",
    "The MSE is defined as\n",
    "\n",
    "$$\n",
    "\\begin{align}\n",
    "    \\mathrm{MSE}(\\begin{bmatrix}\\mathbf{x}[1] & \\dots & \\mathbf{x}[N]\\end{bmatrix}, \\begin{bmatrix}\\mathbf{\\tilde{x}}[1] & \\dots & \\mathbf{\\tilde{x}}[N]\\end{bmatrix}) \n",
    "    = \\frac{1}{N} \\sum_{k=1}^N \\| \\mathbf{x}[k] - \\mathbf{\\tilde{x}}[k] \\|_2^2\n",
    "\\end{align}.\n",
    "$$"
   ]
  },
  {
   "cell_type": "code",
   "execution_count": 18,
   "id": "fb6c6a22-587d-4820-9f68-548d315a3bdb",
   "metadata": {
    "ExecuteTime": {
     "end_time": "2024-11-14T15:45:50.524000+01:00",
     "start_time": "2024-11-14T14:45:34.744Z"
    },
    "deletable": false,
    "nbgrader": {
     "cell_type": "code",
     "checksum": "6f2efc1a9e57d81d46c105c678671bb8",
     "grade": false,
     "grade_id": "cell-a01d1b492401122c",
     "locked": false,
     "schema_version": 3,
     "solution": true,
     "task": false
    },
    "tags": []
   },
   "outputs": [
    {
     "data": {
      "text/plain": [
       "0.23505113510143033"
      ]
     },
     "metadata": {},
     "output_type": "display_data"
    }
   ],
   "source": [
    "trajectory_MSE_i = NaN\n",
    "trajectory_MSE_ii = NaN\n",
    "trajectory_MSE_iii = NaN\n",
    "\n",
    "#--- YOUR CODE STARTS HERE ---#\n",
    "x_tilde_i = A_tilde_i * [[pi/9, 0] x_i[:,1:end-1]]\n",
    "x_tilde_ii = A_tilde_ii * [[pi/4, 0] x_ii[:,1:end-1]]\n",
    "x_tilde_iii = A_tilde_iii * [[pi/2, 0] x_iii[:,1:end-1]]\n",
    "\n",
    "trajectory_MSE_i = 0\n",
    "trajectory_MSE_ii = 0\n",
    "trajectory_MSE_iii = 0\n",
    "\n",
    "N = size(x_tilde_i)[2]\n",
    "\n",
    "for i = 1:N\n",
    "    trajectory_MSE_i += sqrt((x_i[1, i] - x_tilde_i[1, i])^2 + (x_i[2, i] - x_tilde_i[2, i])^2)\n",
    "    trajectory_MSE_ii += sqrt((x_ii[1, i] - x_tilde_ii[1, i])^2 + (x_ii[2, i] - x_tilde_ii[2, i])^2)\n",
    "    trajectory_MSE_iii += sqrt((x_iii[1, i] - x_tilde_iii[1, i])^2 + (x_iii[2, i] - x_tilde_iii[2, i])^2)\n",
    "end\n",
    "\n",
    "trajectory_MSE_i /= N\n",
    "trajectory_MSE_ii /= N\n",
    "trajectory_MSE_iii /= N\n",
    "#--- YOUR CODE ENDS HERE ---#"
   ]
  },
  {
   "cell_type": "code",
   "execution_count": 19,
   "id": "a5c40a61-2e25-4e5a-95da-47b4a68dc48f",
   "metadata": {
    "ExecuteTime": {
     "end_time": "2024-11-14T15:45:50.563000+01:00",
     "start_time": "2024-11-14T14:45:35.063Z"
    },
    "deletable": false,
    "editable": false,
    "nbgrader": {
     "cell_type": "code",
     "checksum": "6c6d3c84945e053598544bb22897dcae",
     "grade": true,
     "grade_id": "cell-229ee2e81bfe22be",
     "locked": true,
     "points": 1,
     "schema_version": 3,
     "solution": false,
     "task": false
    },
    "tags": []
   },
   "outputs": [],
   "source": [
    "for trajectory_MSE in [trajectory_MSE_i, trajectory_MSE_ii, trajectory_MSE_iii]\n",
    "    @assert size(trajectory_MSE) == ()  \"The trajectory MSE is a scalar.\"\n",
    "end\n"
   ]
  },
  {
   "cell_type": "markdown",
   "id": "857381ee-491c-4e8d-80fe-313c714720a1",
   "metadata": {
    "deletable": false,
    "editable": false,
    "nbgrader": {
     "cell_type": "markdown",
     "checksum": "c56144b0f0de1b08b58e6cc5f72c5b79",
     "grade": false,
     "grade_id": "cell-a41f97598f7f3f37",
     "locked": true,
     "schema_version": 3,
     "solution": false,
     "task": false
    },
    "tags": []
   },
   "source": [
    "## 2) DMD of the flow past a cylinder - (5 points)\n",
    "\n",
    "Perform a DMD analysis on the vortex shedding data set. This phenomenon occurs frequently in nature, when a fluid hits a bluff body (see, e.g., the following NASA video on cloud patterns: https://www.youtube.com/watch?v=SawKLWT1bDA). The data set consists of 50 snapshots (with $\\Delta t = 0.1$) of the absolute velocity of a fluid entering from the left and flowing around a cylinder. Each snapshot contains velocity measurements on a $449 x 199$ grid. In vectorized form, this leads to a data matrix $Z \\in \\mathbb{R}^{89351 \\times 50}$."
   ]
  },
  {
   "cell_type": "code",
   "execution_count": 20,
   "id": "9d6b14d7-1b2c-44f5-813a-824203362dfa",
   "metadata": {
    "ExecuteTime": {
     "end_time": "2024-11-14T15:45:57.370000+01:00",
     "start_time": "2024-11-14T14:45:36.471Z"
    },
    "deletable": false,
    "editable": false,
    "nbgrader": {
     "cell_type": "code",
     "checksum": "2818a210f0a6bfacb3155584c5bcacea",
     "grade": false,
     "grade_id": "cell-c21903106896438c",
     "locked": true,
     "schema_version": 3,
     "solution": false,
     "task": false
    },
    "tags": []
   },
   "outputs": [],
   "source": [
    "# load the data\n",
    "data = matread(\"VortexShedding.mat\")\n",
    "data = data[\"Z\"];"
   ]
  },
  {
   "cell_type": "markdown",
   "id": "0314e53f-fd8f-4abf-8222-1e398ee00db6",
   "metadata": {
    "deletable": false,
    "editable": false,
    "nbgrader": {
     "cell_type": "markdown",
     "checksum": "41a277aa127c394fdaf8caf44a8d6379",
     "grade": false,
     "grade_id": "cell-3c238167cdfb0628",
     "locked": true,
     "schema_version": 3,
     "solution": false,
     "task": false
    },
    "tags": []
   },
   "source": [
    "You may use this code to produce an example plot of the initial state:\n",
    "```\n",
    "display(heatmap(reshape(data[:, 1], 199, 449), aspect_ratio=1, color=:auto, title=\"Initial state\"))\n",
    "```\n",
    "**Please remove your plotting commands before submisson!**\n",
    "\n",
    "<img src=\"./initial_state.png\" alt=\"initial_state\" width=\"800\"/>\n",
    "\n",
    "Additionally, if you want to take a closer look at the data, there is an animation of the data as a gif in the exercise folder."
   ]
  },
  {
   "cell_type": "markdown",
   "id": "fa7d7018-3b76-45f8-9bc4-d40f82badd1f",
   "metadata": {
    "deletable": false,
    "editable": false,
    "nbgrader": {
     "cell_type": "markdown",
     "checksum": "5be9f385425f10fa3c57ca00d685af40",
     "grade": false,
     "grade_id": "cell-4a24c5ce87a7c830",
     "locked": true,
     "schema_version": 3,
     "solution": false,
     "task": false
    },
    "tags": []
   },
   "source": [
    "### Task a) - (1 point)\n",
    "Decompose the data matrix into the two time-shifted versions $Z$ and $Z’$ and compute a singular value decomposition of $Z$. Store the 10 largest singular values $\\sigma$ in a separate array."
   ]
  },
  {
   "cell_type": "code",
   "execution_count": 21,
   "id": "f787056e-b32f-457e-8e52-ff11add2d265",
   "metadata": {
    "ExecuteTime": {
     "end_time": "2024-11-14T15:46:02.206000+01:00",
     "start_time": "2024-11-14T14:45:37.687Z"
    },
    "deletable": false,
    "nbgrader": {
     "cell_type": "code",
     "checksum": "6f020bd0a9387ea2a43cf58041111465",
     "grade": false,
     "grade_id": "cell-6da7f06514653bb5",
     "locked": false,
     "schema_version": 3,
     "solution": true,
     "task": false
    },
    "tags": []
   },
   "outputs": [
    {
     "data": {
      "text/plain": [
       "10-element Vector{Float32}:\n",
       " 3389.3948\n",
       "  338.71133\n",
       "  330.96008\n",
       "  115.889626\n",
       "  113.969765\n",
       "   38.848377\n",
       "   38.727436\n",
       "   29.540396\n",
       "   28.96133\n",
       "   10.872071"
      ]
     },
     "metadata": {},
     "output_type": "display_data"
    }
   ],
   "source": [
    "largest10singularValues = NaN\n",
    "\n",
    "#--- YOUR CODE STARTS HERE ---#\n",
    "Z_base = data[:, 1:end-1]\n",
    "Z_shift = data[:, 2:end]\n",
    "U, S, V = svd(Z_base)\n",
    "largest10singularValues = S[1:10]\n",
    "#--- YOUR CODE ENDS HERE ---#"
   ]
  },
  {
   "cell_type": "code",
   "execution_count": 22,
   "id": "88a2db96-803c-424a-9449-f67c4dee83d1",
   "metadata": {
    "ExecuteTime": {
     "end_time": "2024-11-14T15:46:05.046000+01:00",
     "start_time": "2024-11-14T14:45:38.063Z"
    },
    "deletable": false,
    "editable": false,
    "nbgrader": {
     "cell_type": "code",
     "checksum": "c5d858cd97106b1a966f0b6d7847fa83",
     "grade": true,
     "grade_id": "cell-69dfeede7a851a01",
     "locked": true,
     "points": 1,
     "schema_version": 3,
     "solution": false,
     "task": false
    },
    "tags": []
   },
   "outputs": [],
   "source": [
    "@assert length(largest10singularValues) == 10\n",
    "@assert size(Z_base,2) == size(data,2)-1\n",
    "@assert size(Z_shift,2) == size(data,2)-1\n"
   ]
  },
  {
   "cell_type": "markdown",
   "id": "6c5852f7-75bc-44c3-86b0-8ba702be078f",
   "metadata": {
    "deletable": false,
    "editable": false,
    "nbgrader": {
     "cell_type": "markdown",
     "checksum": "7157926fb188f89cfe96bf459d33fda2",
     "grade": false,
     "grade_id": "cell-e8950319f01137d4",
     "locked": true,
     "schema_version": 3,
     "solution": false,
     "task": false
    },
    "tags": []
   },
   "source": [
    "### Task b) - (2 x 0.5 point)\n",
    "How many singular vectors are at least required to reconstruct 1) 90% and 2) 99% of the original information? (_Hint: Take a look at the singular values_)"
   ]
  },
  {
   "cell_type": "code",
   "execution_count": 23,
   "id": "10c5f9f9-9201-4133-9073-55f4bc13fb6b",
   "metadata": {
    "ExecuteTime": {
     "end_time": "2024-11-14T15:46:05.409000+01:00",
     "start_time": "2024-11-14T14:45:41.792Z"
    },
    "deletable": false,
    "nbgrader": {
     "cell_type": "code",
     "checksum": "5ac3f89298227082a6fe05d734f223f5",
     "grade": false,
     "grade_id": "cell-1b1fe6385493619a",
     "locked": false,
     "schema_version": 3,
     "solution": true,
     "task": false
    },
    "tags": []
   },
   "outputs": [],
   "source": [
    "r_90 = nothing\n",
    "r_99 = nothing\n",
    "\n",
    "#--- YOUR CODE STARTS HERE ---#\n",
    "total = sum(S)\n",
    "current = 0\n",
    "r_90 = 1\n",
    "r_99 = 1\n",
    "for i = 1:length(S)\n",
    "    current += S[i]\n",
    "    if current / total < 0.9\n",
    "        r_90 += 1\n",
    "    end\n",
    "    if current / total < 0.99\n",
    "        r_99 += 1\n",
    "    end\n",
    "end\n",
    "#--- YOUR CODE ENDS HERE ---#"
   ]
  },
  {
   "cell_type": "code",
   "execution_count": 24,
   "id": "beafcb1b-79d0-4cb0-9190-e4a7b60be9c1",
   "metadata": {
    "ExecuteTime": {
     "end_time": "2024-11-14T15:46:05.439000+01:00",
     "start_time": "2024-11-14T14:45:44.476Z"
    },
    "deletable": false,
    "editable": false,
    "nbgrader": {
     "cell_type": "code",
     "checksum": "2855ba714bc563a3bf495466a9ac4f58",
     "grade": true,
     "grade_id": "cell-5abe3de317f0030f",
     "locked": true,
     "points": 0.5,
     "schema_version": 3,
     "solution": false,
     "task": false
    },
    "tags": []
   },
   "outputs": [],
   "source": [
    "@assert isa(r_90, Number)\n"
   ]
  },
  {
   "cell_type": "code",
   "execution_count": 25,
   "id": "351f4c23-69cf-404d-b333-06e2a2507282",
   "metadata": {
    "ExecuteTime": {
     "end_time": "2024-11-14T15:46:05.441000+01:00",
     "start_time": "2024-11-14T14:45:45.780Z"
    },
    "deletable": false,
    "editable": false,
    "nbgrader": {
     "cell_type": "code",
     "checksum": "8b78ed4b26ba23d2ea456f0d7e4ac213",
     "grade": true,
     "grade_id": "cell-689db2daed2c20c7",
     "locked": true,
     "points": 0.5,
     "schema_version": 3,
     "solution": false,
     "task": false
    },
    "tags": []
   },
   "outputs": [],
   "source": [
    "@assert isa(r_99, Number)\n"
   ]
  },
  {
   "cell_type": "markdown",
   "id": "ade8be8e-4886-4cb5-8340-71870c18952e",
   "metadata": {
    "deletable": false,
    "editable": false,
    "nbgrader": {
     "cell_type": "markdown",
     "checksum": "dfb95af72104e8873e9a8e7661054331",
     "grade": false,
     "grade_id": "cell-7ee46fec8411c769",
     "locked": true,
     "schema_version": 3,
     "solution": false,
     "task": false
    },
    "tags": []
   },
   "source": [
    "### Task c) - (1 point)\n",
    "Identify a linear model with system matrix $\\tilde{A}$ from the data via dynamic mode decomposition. Set the rank of the reduced DMD method to $r=20$."
   ]
  },
  {
   "cell_type": "code",
   "execution_count": 45,
   "id": "70db4429-3a91-4aed-83a6-fe4633af2ef9",
   "metadata": {
    "ExecuteTime": {
     "end_time": "2024-11-14T15:46:06.512000+01:00",
     "start_time": "2024-11-14T14:45:49.367Z"
    },
    "deletable": false,
    "nbgrader": {
     "cell_type": "code",
     "checksum": "3669f0e9076b8259d8402f5aa9beb29c",
     "grade": false,
     "grade_id": "cell-ead3dcf0fd8a67f4",
     "locked": false,
     "schema_version": 3,
     "solution": true,
     "task": false
    },
    "tags": []
   },
   "outputs": [
    {
     "data": {
      "text/plain": [
       "20×20 Matrix{Float32}:\n",
       "  1.0          -0.000223817  -7.70178f-5   …  -0.000262729   0.00284551\n",
       "  0.000167809   0.976911     -0.210735        -0.00397781    6.78352f-5\n",
       "  0.000155628   0.202028      0.980057         0.00318481    0.000203506\n",
       "  0.000138228  -0.000570483   0.00220297      -4.14952f-5   -0.000925333\n",
       " -6.42544f-5    0.00155736   -0.000552807     -0.000314875   0.0109769\n",
       "  7.58721f-5   -0.000699936   0.000647382  …   0.0258125     0.000388565\n",
       "  1.29193f-5    0.000481143   0.000596152     -7.23526f-5    0.00016572\n",
       " -7.53532f-5    0.000518309  -0.000976336      0.000138132  -0.0127684\n",
       "  1.14032f-5   -0.000297764  -2.01185f-5      -0.00128613   -0.00469888\n",
       "  2.79618f-5   -0.000250253   0.000317489      0.0576721     0.000350779\n",
       " -1.92936f-5    8.94697f-5   -0.000279946  …  -0.00539892   -0.000809709\n",
       " -2.54222f-5    0.000196995  -0.000311928      0.0019799    -0.019552\n",
       " -7.66561f-6    9.4723f-6    -0.000123599     -0.00199021   -0.0385133\n",
       " -8.46772f-6    7.43607f-5   -9.81109f-5      -0.122147     -0.000424584\n",
       "  1.01111f-5   -5.99743f-5    0.00013563      -0.0747683     0.00155965\n",
       " -4.94695f-6    4.37344f-5   -5.70238f-5   …   0.02085      -0.0948478\n",
       "  7.61677f-6   -4.89799f-5    9.96501f-5       0.000738097   0.196877\n",
       "  2.05582f-6   -1.90507f-5    2.30712f-5      -0.926412     -0.00885154\n",
       "  5.57771f-6   -3.78415f-5    7.16471f-5      -0.336967      0.0169628\n",
       "  3.54509f-7    6.94324f-8    6.10667f-6      -0.0133158    -0.543627"
      ]
     },
     "metadata": {},
     "output_type": "display_data"
    }
   ],
   "source": [
    "tilde_A = nothing\n",
    "\n",
    "#--- YOUR CODE STARTS HERE ---#\n",
    "r = 20\n",
    "tilde_A = U[:,1:r]' * Z_shift * V[:,1:r] * diagm(1 ./ S[1:r])\n",
    "#--- YOUR CODE ENDS HERE ---#"
   ]
  },
  {
   "cell_type": "code",
   "execution_count": 46,
   "id": "a2f130ff-0c86-45f3-9354-e770c000a8af",
   "metadata": {
    "ExecuteTime": {
     "end_time": "2024-11-14T16:07:51.946000+01:00",
     "start_time": "2024-11-14T15:07:51.916Z"
    },
    "deletable": false,
    "editable": false,
    "nbgrader": {
     "cell_type": "code",
     "checksum": "b717f757e8724b795581ec706803731e",
     "grade": true,
     "grade_id": "cell-7770119bde6886f8",
     "locked": true,
     "points": 1,
     "schema_version": 3,
     "solution": false,
     "task": false
    },
    "tags": []
   },
   "outputs": [],
   "source": [
    "@assert isa(tilde_A, Matrix)\n",
    "@assert size(tilde_A) == (20, 20)\n"
   ]
  },
  {
   "cell_type": "markdown",
   "id": "74f5731b-d3f5-4765-89bf-a3c8b292cdcb",
   "metadata": {
    "deletable": false,
    "editable": false,
    "nbgrader": {
     "cell_type": "markdown",
     "checksum": "e4181e3fcb3c003ee933275b8617ad13",
     "grade": false,
     "grade_id": "cell-91f294e214990825",
     "locked": true,
     "schema_version": 3,
     "solution": false,
     "task": false
    },
    "tags": []
   },
   "source": [
    "### Task d) - (2 x 0.5 point)\n",
    "Sort the eigenvalues of $\\tilde{A}$ according to their frequency in ascending order (starting with 0). Which is the lowest frequency $\\omega$ in the system dynamics (aside from the stationary mode with $\\lambda = 0$)? In addition, calculate the corresponding period $T$ with which the system oscillates."
   ]
  },
  {
   "cell_type": "code",
   "execution_count": 111,
   "id": "69389ce5-dc08-4157-9d8f-0d6b491aa5e6",
   "metadata": {
    "ExecuteTime": {
     "end_time": "2024-11-14T16:08:35.570000+01:00",
     "start_time": "2024-11-14T15:08:35.542Z"
    },
    "deletable": false,
    "nbgrader": {
     "cell_type": "code",
     "checksum": "5e8e23357e4f0f303d35ac622be057db",
     "grade": false,
     "grade_id": "cell-e38ffee1526fe01d",
     "locked": false,
     "schema_version": 3,
     "solution": true,
     "task": false
    },
    "tags": []
   },
   "outputs": [],
   "source": [
    "lowest_freq = nothing\n",
    "T = nothing\n",
    "\n",
    "#--- YOUR CODE STARTS HERE ---#\n",
    "μ = eigvals(tilde_A)\n",
    "P = eigvecs(tilde_A)\n",
    "\n",
    "λ = log.(μ) / dt\n",
    "ω = imag.(λ)\n",
    "\n",
    "i_sort = sortperm(ω, by=abs)\n",
    "\n",
    "ω = ω[i_sort]\n",
    "λ = λ[i_sort]\n",
    "μ = μ[i_sort]\n",
    "P = P[:, i_sort]\n",
    "\n",
    "Φ = Z_shift * V[:, 1:r] * diagm(1 ./ S[1:r]) * real.(P)\n",
    "\n",
    "lowest_freq = abs(ω[2])\n",
    "count = 0\n",
    "for i = 1:N\n",
    "    if abs(sin(abs(ω[2]) * i * dt)) < 0.1\n",
    "        count += 1\n",
    "        if count == 2\n",
    "            T = i*dt\n",
    "            break\n",
    "        end\n",
    "    end\n",
    "end\n",
    "#--- YOUR CODE ENDS HERE ---#"
   ]
  },
  {
   "cell_type": "code",
   "execution_count": 112,
   "id": "2a9b9e29-b474-473a-b694-c06b75bab678",
   "metadata": {
    "ExecuteTime": {
     "end_time": "2024-11-14T16:08:56.768000+01:00",
     "start_time": "2024-11-14T15:08:56.743Z"
    },
    "deletable": false,
    "editable": false,
    "nbgrader": {
     "cell_type": "code",
     "checksum": "b5db07952adaf6c3788178f1c5c0d7e6",
     "grade": true,
     "grade_id": "cell-d5385d61907cbb00",
     "locked": true,
     "points": 0.5,
     "schema_version": 3,
     "solution": false,
     "task": false
    },
    "tags": []
   },
   "outputs": [],
   "source": [
    "# Public test\n",
    "@assert isa(lowest_freq,Number)\n",
    "@assert isa(T,Number)\n"
   ]
  },
  {
   "cell_type": "code",
   "execution_count": null,
   "id": "38f667ac-ca07-4dbf-8cb3-1bb231050580",
   "metadata": {
    "ExecuteTime": {
     "end_time": "2024-11-14T16:09:10.951000+01:00",
     "start_time": "2024-11-14T15:09:10.926Z"
    },
    "deletable": false,
    "editable": false,
    "nbgrader": {
     "cell_type": "code",
     "checksum": "a606f6b187a50a26e1cd279dd0b0b7a8",
     "grade": true,
     "grade_id": "cell-fb61d25a7f22e99d",
     "locked": true,
     "points": 0.5,
     "schema_version": 3,
     "solution": false,
     "task": false
    },
    "tags": []
   },
   "outputs": [],
   "source": [
    "# please leave this cell as it is\n"
   ]
  },
  {
   "cell_type": "markdown",
   "id": "03b61dab-ea8b-4d47-aa42-c4c6700ed26a",
   "metadata": {
    "deletable": false,
    "editable": false,
    "nbgrader": {
     "cell_type": "markdown",
     "checksum": "fef742747df949355cecbfb4a63285fa",
     "grade": false,
     "grade_id": "cell-a28f3b172f66aba6",
     "locked": true,
     "schema_version": 3,
     "solution": false,
     "task": false
    },
    "tags": []
   },
   "source": [
    "### Task e) - (1 point)\n",
    "Use the reduced model for prediction via the “project-map-lift” approach. To this end:\n",
    "1. Project the initial state onto the $r$-dimensional subspace,\n",
    "2. Simulate the low-dimensional system for 20 time steps,\n",
    "3. Lift the final state last state to the original space,\n",
    "4. Calculate the error (using the 2-norm) between the the reduced order model solution and the original data at that time step."
   ]
  },
  {
   "cell_type": "code",
   "execution_count": 138,
   "id": "6eb431a2-2191-4c47-8ca9-18272a1ca279",
   "metadata": {
    "ExecuteTime": {
     "end_time": "2024-11-14T16:09:31.507000+01:00",
     "start_time": "2024-11-14T15:09:31.441Z"
    },
    "deletable": false,
    "nbgrader": {
     "cell_type": "code",
     "checksum": "85db041b51170dca3b05f497dea66de8",
     "grade": false,
     "grade_id": "cell-bc3e573228fa2189",
     "locked": false,
     "schema_version": 3,
     "solution": true,
     "task": false
    },
    "tags": []
   },
   "outputs": [
    {
     "data": {
      "text/plain": [
       "0.1829502167109741"
      ]
     },
     "metadata": {},
     "output_type": "display_data"
    }
   ],
   "source": [
    "error = nothing\n",
    "#--- YOUR CODE STARTS HERE ---#\n",
    "initial_projection = U[:,1:20]' * Z_base[:,1]\n",
    "trajectory = zeros(20, 20)\n",
    "trajectory[:, 1] = initial_projection\n",
    "for i = 2:20\n",
    "    trajectory[:, i] = tilde_A * trajectory[:, i-1]\n",
    "end\n",
    "reprojection = U[:,1:20] * trajectory[:,20]\n",
    "error = norm(Z_base[:,20] - reprojection)\n",
    "#--- YOUR CODE ENDS HERE ---#"
   ]
  },
  {
   "cell_type": "code",
   "execution_count": 139,
   "id": "b4f59210-82af-4ad8-9156-d931b733bd58",
   "metadata": {
    "ExecuteTime": {
     "end_time": "2024-11-14T16:09:32.141000+01:00",
     "start_time": "2024-11-14T15:09:32.121Z"
    },
    "deletable": false,
    "editable": false,
    "nbgrader": {
     "cell_type": "code",
     "checksum": "89c48efa39b618dca161a7486aee9a04",
     "grade": true,
     "grade_id": "cell-53834e96a8f15070",
     "locked": true,
     "points": 1,
     "schema_version": 3,
     "solution": false,
     "task": false
    },
    "tags": []
   },
   "outputs": [],
   "source": [
    "@assert isa(error,Number)\n"
   ]
  }
 ],
 "metadata": {
  "kernelspec": {
   "display_name": "Julia 1.11.1",
   "language": "julia",
   "name": "julia-1.11"
  },
  "language_info": {
   "file_extension": ".jl",
   "mimetype": "application/julia",
   "name": "julia",
   "version": "1.11.1"
  }
 },
 "nbformat": 4,
 "nbformat_minor": 5
}
