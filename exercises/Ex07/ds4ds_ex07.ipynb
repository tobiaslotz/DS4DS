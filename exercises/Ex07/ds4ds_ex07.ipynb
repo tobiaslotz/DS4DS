{
 "cells": [
  {
   "cell_type": "markdown",
   "id": "bfad82d6-54ee-4880-82eb-dc069dc56032",
   "metadata": {
    "deletable": false,
    "editable": false,
    "nbgrader": {
     "cell_type": "markdown",
     "checksum": "692258b0ed5263b5ef3a31f658a35d6b",
     "grade": false,
     "grade_id": "cell-0218ecebab036ca4",
     "locked": true,
     "schema_version": 3,
     "solution": false,
     "task": false
    },
    "tags": []
   },
   "source": [
    "# DS4DS Homework Exercise Sheet 7"
   ]
  },
  {
   "cell_type": "markdown",
   "id": "10c250b1",
   "metadata": {
    "deletable": false,
    "editable": false,
    "nbgrader": {
     "cell_type": "markdown",
     "checksum": "617a9c8b1c07f729d7f137f0f8f7668b",
     "grade": false,
     "grade_id": "cell-0b3dbe354ec44cd1",
     "locked": true,
     "schema_version": 3,
     "solution": false,
     "task": false
    }
   },
   "source": [
    "**General Instructions:**\n",
    "\n",
    "- Collaborations between students during problem-solving phase on a discussion basis is OK\n",
    "- However: individual code programming and submissions per student are required\n",
    "- Code sharing is strictly prohibited\n",
    "- We will run checks for shared code, general plagiarism and AI-generated solutions\n",
    "- Any fraud attempt will lead to an auto fail of the entire course\n",
    "- Do not use any additional packages except for those provided in the task templates\n",
    "- Please use Julia Version 1.10.x to ensure compatibility\n",
    "- Please only write between the `#--- YOUR CODE STARTS HERE ---#` and `#--- YOUR CODE ENDS HERE ---#` comments\n",
    "- Please do not delete, add any cells or overwrite cells other than the solution cells (**Tip:** If you use a jupyerhub IDE, you should not be able to add or delete cells and write in the non-solution cells by default)"
   ]
  },
  {
   "cell_type": "code",
   "execution_count": 1,
   "id": "e13c0b55-f205-4563-b30d-e366e2d342d8",
   "metadata": {
    "ExecuteTime": {
     "end_time": "2024-11-26T14:54:52.295000+01:00",
     "start_time": "2024-11-26T13:54:47.625Z"
    },
    "deletable": false,
    "editable": false,
    "nbgrader": {
     "cell_type": "code",
     "checksum": "43bfd9f7a658842510848fef5f4d5847",
     "grade": false,
     "grade_id": "cell-7376e61b9ffbdfe6",
     "locked": true,
     "schema_version": 3,
     "solution": false,
     "task": false
    },
    "tags": []
   },
   "outputs": [],
   "source": [
    "using LinearAlgebra\n",
    "using Plots\n",
    "using StatsBase\n",
    "using DelimitedFiles\n",
    "using BenchmarkTools\n",
    "using Optim"
   ]
  },
  {
   "cell_type": "markdown",
   "id": "38416221-d8aa-4b75-aa3b-8e0f9a16d414",
   "metadata": {
    "deletable": false,
    "editable": false,
    "nbgrader": {
     "cell_type": "markdown",
     "checksum": "f9b4495615379442db9f8873983f8acc",
     "grade": false,
     "grade_id": "cell-aff2679e3fbb1532",
     "locked": true,
     "schema_version": 3,
     "solution": false,
     "task": false
    },
    "tags": []
   },
   "source": [
    "### Task 1: Non-linear function optimization from scratch - (3.5 points)"
   ]
  },
  {
   "cell_type": "markdown",
   "id": "d4849c64-0535-4991-986e-5cb294267d71",
   "metadata": {
    "deletable": false,
    "editable": false,
    "nbgrader": {
     "cell_type": "markdown",
     "checksum": "5390529e6a6be1652abb7cc2f36f281a",
     "grade": false,
     "grade_id": "cell-fe8a2194fb7ea596",
     "locked": true,
     "schema_version": 3,
     "solution": false,
     "task": false
    },
    "tags": []
   },
   "source": [
    "In this task, we will implement our own non-linear optimization algorithm and apply it to the 2D Rosenbrock function. The function is defined by\n",
    "\n",
    "$$\n",
    "\\begin{align}\n",
    "    \\mathcal{L}(\\mathbf{w}) = (a - w_1)^2 + b (w_2 - w_1^2)^2\n",
    "\\end{align}\n",
    "$$\n",
    "\n",
    "where $a$ and $b$ are parameters of the function. In the following, the parameters will be set to $a = 1$ and $b = 100$."
   ]
  },
  {
   "cell_type": "markdown",
   "id": "3ef555b7-b68d-446c-ac49-d7225883aa68",
   "metadata": {
    "deletable": false,
    "editable": false,
    "nbgrader": {
     "cell_type": "markdown",
     "checksum": "cada5b9ef07d3cc11d9438c27abbd411",
     "grade": false,
     "grade_id": "cell-d02e37f83392099a",
     "locked": true,
     "schema_version": 3,
     "solution": false,
     "task": false
    },
    "tags": []
   },
   "source": [
    "#### a) **- (0.5 points)**\n",
    "Implement the Rosenbrock function so that the input is a vector $\\mathbf{w}$ and it returns the scalar cost function value $\\mathcal{L}(\\mathbf{w})$. "
   ]
  },
  {
   "cell_type": "code",
   "execution_count": 2,
   "id": "22b2bc32-c8d2-4a36-bb0d-08d6202349db",
   "metadata": {
    "ExecuteTime": {
     "end_time": "2024-11-26T14:56:08.629000+01:00",
     "start_time": "2024-11-26T13:56:06.801Z"
    },
    "deletable": false,
    "nbgrader": {
     "cell_type": "code",
     "checksum": "b4a79e1e2e214d641d55dd3963e46e54",
     "grade": false,
     "grade_id": "cell-4ae91a8ca0eb6418",
     "locked": false,
     "schema_version": 3,
     "solution": true,
     "task": false
    },
    "tags": []
   },
   "outputs": [
    {
     "data": {
      "text/plain": [
       "rosenbrock (generic function with 1 method)"
      ]
     },
     "metadata": {},
     "output_type": "display_data"
    }
   ],
   "source": [
    "function rosenbrock(w; a=1, b=100)\n",
    "    #--- YOUR CODE STARTS HERE ---#\n",
    "    f_value = (a - w[1])^2 + b * (w[2] - w[1]^2)^2\n",
    "    #--- YOUR CODE ENDS HERE ---#\n",
    "    return f_value\n",
    "end"
   ]
  },
  {
   "cell_type": "code",
   "execution_count": 3,
   "id": "9f98eb3b-657c-47e9-b10c-5dfc729b181e",
   "metadata": {
    "ExecuteTime": {
     "end_time": "2024-11-26T14:56:27.449000+01:00",
     "start_time": "2024-11-26T13:56:26.730Z"
    },
    "deletable": false,
    "editable": false,
    "nbgrader": {
     "cell_type": "code",
     "checksum": "9d437b5fa0e43e547a4fdb3334e5ff04",
     "grade": true,
     "grade_id": "cell-da6cb246797cd5b8",
     "locked": true,
     "points": 0.5,
     "schema_version": 3,
     "solution": false,
     "task": false
    },
    "tags": []
   },
   "outputs": [],
   "source": [
    "@assert isa(rosenbrock, Function)\n",
    "\n",
    "w = [2, 1]\n",
    "@assert isa(rosenbrock(w), Number)\n"
   ]
  },
  {
   "cell_type": "code",
   "execution_count": 4,
   "id": "431757b4-c5f6-4bbc-8656-05ab3169bef2",
   "metadata": {
    "ExecuteTime": {
     "end_time": "2024-11-26T14:56:31.830000+01:00",
     "start_time": "2024-11-26T13:56:31.131Z"
    },
    "deletable": false,
    "editable": false,
    "nbgrader": {
     "cell_type": "code",
     "checksum": "2492c77900a00ffe9017af76b87ca3db",
     "grade": true,
     "grade_id": "cell-ad0e840ac5ff4d8c",
     "locked": true,
     "points": 0,
     "schema_version": 3,
     "solution": false,
     "task": false
    },
    "tags": []
   },
   "outputs": [],
   "source": [
    "# Please leave this cell as its is\n"
   ]
  },
  {
   "cell_type": "markdown",
   "id": "1f75734f-37c7-4411-aab7-729b9065f490",
   "metadata": {
    "deletable": false,
    "editable": false,
    "nbgrader": {
     "cell_type": "markdown",
     "checksum": "c07a9119d17b6831bc3a2d09404f9eb7",
     "grade": false,
     "grade_id": "cell-1537bb890af68d50",
     "locked": true,
     "schema_version": 3,
     "solution": false,
     "task": false
    },
    "tags": []
   },
   "source": [
    "#### b) **- (0.5 points)**\n",
    "Derive the analytical gradient of the Rosenbrock function and implement it in the function outlined below so that it takes $\\mathbf{w}$ as input and returns the gradient $\\nabla\\mathcal{L}(\\mathbf{w})$ of the Rosenbrock function. "
   ]
  },
  {
   "cell_type": "code",
   "execution_count": 5,
   "id": "cad50a2c-b106-47af-aaf2-50b4446ffffd",
   "metadata": {
    "ExecuteTime": {
     "end_time": "2024-11-26T14:56:42.456000+01:00",
     "start_time": "2024-11-26T13:56:42.015Z"
    },
    "deletable": false,
    "nbgrader": {
     "cell_type": "code",
     "checksum": "21bb79bd7406b72db16dfcee5a41eb70",
     "grade": false,
     "grade_id": "cell-5e6123d86aa673aa",
     "locked": false,
     "schema_version": 3,
     "solution": true,
     "task": false
    },
    "tags": []
   },
   "outputs": [
    {
     "data": {
      "text/plain": [
       "rosenbrock_gradient (generic function with 1 method)"
      ]
     },
     "metadata": {},
     "output_type": "display_data"
    }
   ],
   "source": [
    "function rosenbrock_gradient(w; a=1, b=100)\n",
    "    #--- YOUR CODE STARTS HERE ---#\n",
    "    dw1 = 4 * b * w[1]^3 + 2 * w[1] - 4 * b * w[2] * w[1] - 2 * a\n",
    "    dw2 = 2 * b * (w[2] - w[1]^2)\n",
    "    gradient = [dw1, dw2]\n",
    "    #--- YOUR CODE ENDS HERE ---#\n",
    "    return gradient\n",
    "end"
   ]
  },
  {
   "cell_type": "code",
   "execution_count": 6,
   "id": "d7371158-5fb7-4cea-a8fb-219d78a45c09",
   "metadata": {
    "ExecuteTime": {
     "end_time": "2024-11-26T14:56:43.785000+01:00",
     "start_time": "2024-11-26T13:56:43.028Z"
    },
    "deletable": false,
    "editable": false,
    "nbgrader": {
     "cell_type": "code",
     "checksum": "4e1ce22e6658bbf4079ada07656e56af",
     "grade": true,
     "grade_id": "cell-956bd58951bdab63",
     "locked": true,
     "points": 0.5,
     "schema_version": 3,
     "solution": false,
     "task": false
    },
    "tags": []
   },
   "outputs": [],
   "source": [
    "@assert isa(rosenbrock_gradient, Function)\n",
    "\n",
    "point = [2, 1]\n",
    "@assert size(rosenbrock_gradient(point)) == (2,)\n"
   ]
  },
  {
   "cell_type": "code",
   "execution_count": 7,
   "id": "7898de98-d9af-400f-8ad9-896c9d253157",
   "metadata": {
    "ExecuteTime": {
     "end_time": "2024-11-26T14:56:45.237000+01:00",
     "start_time": "2024-11-26T13:56:44.822Z"
    },
    "deletable": false,
    "editable": false,
    "nbgrader": {
     "cell_type": "code",
     "checksum": "ad7d42ddd5b1f5827f858464dde6a656",
     "grade": true,
     "grade_id": "cell-33ddd235cd4a32b9",
     "locked": true,
     "points": 0,
     "schema_version": 3,
     "solution": false,
     "task": false
    },
    "tags": []
   },
   "outputs": [],
   "source": [
    "# Please leave this cell as its is\n"
   ]
  },
  {
   "cell_type": "markdown",
   "id": "78557ac3-ecc9-4a83-9b82-751f25e0cacd",
   "metadata": {
    "deletable": false,
    "editable": false,
    "nbgrader": {
     "cell_type": "markdown",
     "checksum": "6ab35979382ea038dc53befc628637a3",
     "grade": false,
     "grade_id": "cell-648121859faea9c3",
     "locked": true,
     "schema_version": 3,
     "solution": false,
     "task": false
    },
    "tags": []
   },
   "source": [
    "#### c) **- (0.5 points)**\n",
    "Implement the steepest gradient descent rule for updating a parameter vector $\\mathbf{w}_{current}$ to $\\mathbf{w}_{next}$ in the function provided below. The step size $\\eta$ is a parameter of this function. "
   ]
  },
  {
   "cell_type": "code",
   "execution_count": 8,
   "id": "a8892c09-2738-4a40-a47c-f775a9212bab",
   "metadata": {
    "ExecuteTime": {
     "end_time": "2024-11-26T14:56:49.781000+01:00",
     "start_time": "2024-11-26T13:56:49.344Z"
    },
    "deletable": false,
    "nbgrader": {
     "cell_type": "code",
     "checksum": "44752baa094cb698628baa690ab5e62d",
     "grade": false,
     "grade_id": "cell-c2c029c6edc9ed3e",
     "locked": false,
     "schema_version": 3,
     "solution": true,
     "task": false
    },
    "tags": []
   },
   "outputs": [
    {
     "data": {
      "text/plain": [
       "steepest_GD_parameter_update (generic function with 1 method)"
      ]
     },
     "metadata": {},
     "output_type": "display_data"
    }
   ],
   "source": [
    "function steepest_GD_parameter_update(gradient_function, w_current, eta)\n",
    "    #--- YOUR CODE STARTS HERE ---#\n",
    "    Δw = gradient_function(w_current)\n",
    "    w_next = w_current - eta * Δw\n",
    "    #--- YOUR CODE ENDS HERE ---#\n",
    "    return w_next\n",
    "end"
   ]
  },
  {
   "cell_type": "code",
   "execution_count": 9,
   "id": "f8704652-7e15-4e0c-90b5-7c879b14ad57",
   "metadata": {
    "ExecuteTime": {
     "end_time": "2024-11-26T14:56:50.474000+01:00",
     "start_time": "2024-11-26T13:56:49.919Z"
    },
    "deletable": false,
    "editable": false,
    "nbgrader": {
     "cell_type": "code",
     "checksum": "013c128653c4415e25944a522ade69ac",
     "grade": true,
     "grade_id": "cell-ff1ffc41f99fed90",
     "locked": true,
     "points": 0.5,
     "schema_version": 3,
     "solution": false,
     "task": false
    },
    "tags": []
   },
   "outputs": [],
   "source": [
    "@assert isa(steepest_GD_parameter_update, Function)\n",
    "\n",
    "point = [2, 1]\n",
    "@assert size(steepest_GD_parameter_update(rosenbrock_gradient, point, 0.1)) == (2,)\n"
   ]
  },
  {
   "cell_type": "code",
   "execution_count": 10,
   "id": "5d85a881-23f0-4310-a148-e780bda3cd82",
   "metadata": {
    "ExecuteTime": {
     "end_time": "2024-11-26T14:56:51.126000+01:00",
     "start_time": "2024-11-26T13:56:50.716Z"
    },
    "deletable": false,
    "editable": false,
    "nbgrader": {
     "cell_type": "code",
     "checksum": "b2424ebfd0437224d5ad349688cb6fa7",
     "grade": true,
     "grade_id": "cell-6e6f0736a4141048",
     "locked": true,
     "points": 0,
     "schema_version": 3,
     "solution": false,
     "task": false
    },
    "tags": []
   },
   "outputs": [],
   "source": [
    "# Please leave this cell as its is\n"
   ]
  },
  {
   "cell_type": "markdown",
   "id": "1e5383ec-f9a9-431b-a41b-0761b3aaff5d",
   "metadata": {
    "deletable": false,
    "editable": false,
    "nbgrader": {
     "cell_type": "markdown",
     "checksum": "79f8237aec296d068d2fd945d9a00d25",
     "grade": false,
     "grade_id": "cell-78c5124cd540fd2d",
     "locked": true,
     "schema_version": 3,
     "solution": false,
     "task": false
    },
    "tags": []
   },
   "source": [
    "#### d) **- (1 point)**\n",
    "Implement the entire steepest descent method using the functions from the previous tasks using the template outlined below."
   ]
  },
  {
   "cell_type": "code",
   "execution_count": 11,
   "id": "cf8666e7-0f9e-46b2-ba6d-e62e2a8f155a",
   "metadata": {
    "ExecuteTime": {
     "end_time": "2024-11-26T14:58:20.241000+01:00",
     "start_time": "2024-11-26T13:58:19.750Z"
    },
    "deletable": false,
    "nbgrader": {
     "cell_type": "code",
     "checksum": "ddf8e48d469dc658c9e07e4906e840d2",
     "grade": false,
     "grade_id": "cell-e330e5666e26883f",
     "locked": false,
     "schema_version": 3,
     "solution": true,
     "task": false
    },
    "tags": []
   },
   "outputs": [
    {
     "data": {
      "text/plain": [
       "steepest_GD (generic function with 3 methods)"
      ]
     },
     "metadata": {},
     "output_type": "display_data"
    }
   ],
   "source": [
    "function steepest_GD(f, grad_f, w_init, eta, max_iters=1000, tolerance=1e-5)\n",
    "    \"\"\"Steepest gradient descent implementation.\n",
    "\n",
    "    Args:\n",
    "        f: The function to be optimized\n",
    "        grad_f: The analytical gradient of the function to be optimized\n",
    "        w_init: The initial condition at which the optimization algorithm starts\n",
    "        eta: The learning rate (here, the value is to be a constant during optimization)\n",
    "        max_iters: A cap for the count of iterations\n",
    "        tolerance: the tolerance value when the algorithm is terminated because the norm of the difference between\n",
    "            the old and new point is too small (note that both max_iters and the tolerance cap can stop the descent,\n",
    "            i.e., you need to check for both conditions)\n",
    "\n",
    "    Returns:\n",
    "        w_opt: The end value of the optimization\n",
    "\n",
    "    \"\"\"\n",
    "\n",
    "    #--- YOUR CODE STARTS HERE ---#\n",
    "    w_old = w_init; \n",
    "    w_new = w_init;\n",
    "    for iter = 1:max_iters\n",
    "        w_new = steepest_GD_parameter_update(grad_f, w_old, eta)\n",
    "        if norm(w_new - w_old) <= tolerance\n",
    "            break\n",
    "        end\n",
    "        w_old = w_new\n",
    "    end\n",
    "    w_opt = w_new\n",
    "    #--- YOUR CODE ENDS HERE ---#\n",
    "\n",
    "    return w_opt\n",
    "\n",
    "end"
   ]
  },
  {
   "cell_type": "code",
   "execution_count": 12,
   "id": "b81f1832-287e-4472-904b-b5f1fc67ca2f",
   "metadata": {
    "ExecuteTime": {
     "end_time": "2024-11-26T14:58:41.838000+01:00",
     "start_time": "2024-11-26T13:58:40.717Z"
    },
    "deletable": false,
    "editable": false,
    "nbgrader": {
     "cell_type": "code",
     "checksum": "c1a5194d6d6006d07ba71a926dc25cdd",
     "grade": true,
     "grade_id": "cell-11a6963e908a4750",
     "locked": true,
     "points": 1,
     "schema_version": 3,
     "solution": false,
     "task": false
    },
    "tags": []
   },
   "outputs": [],
   "source": [
    "@assert size(steepest_GD(rosenbrock, rosenbrock_gradient, [2, 1], 0.001)) == (2,)"
   ]
  },
  {
   "cell_type": "code",
   "execution_count": 13,
   "id": "4c740123-d6b8-4372-98a8-761d7d53c5f0",
   "metadata": {
    "ExecuteTime": {
     "end_time": "2024-11-26T14:58:41.851000+01:00",
     "start_time": "2024-11-26T13:58:41.400Z"
    },
    "deletable": false,
    "editable": false,
    "nbgrader": {
     "cell_type": "code",
     "checksum": "812854653adf0a5e93d1156617854ea4",
     "grade": true,
     "grade_id": "cell-2fb204fdf66f4763",
     "locked": true,
     "points": 0,
     "schema_version": 3,
     "solution": false,
     "task": false
    },
    "tags": []
   },
   "outputs": [],
   "source": [
    "# Please leave this cell as its is\n"
   ]
  },
  {
   "cell_type": "markdown",
   "id": "dfec0950-9e77-4225-af24-ddcc4b0621f3",
   "metadata": {
    "deletable": false,
    "editable": false,
    "nbgrader": {
     "cell_type": "markdown",
     "checksum": "2f6a286780fcbb23fc6cd485e69191cf",
     "grade": false,
     "grade_id": "cell-5b5ec09083113827",
     "locked": true,
     "schema_version": 3,
     "solution": false,
     "task": false
    },
    "tags": []
   },
   "source": [
    "#### e) **- (1 point)**\n",
    "Add a backtracking mechanism for selecting a step size that satisfies the Armijo condition. Hence, start with eta_init = 1 and then reduce it by a factor of 2 until the Armijo condition is satisfied. "
   ]
  },
  {
   "cell_type": "code",
   "execution_count": 14,
   "id": "87415b0b-0542-4c51-ad12-14fadeed53b2",
   "metadata": {
    "ExecuteTime": {
     "end_time": "2024-11-26T14:58:57.478000+01:00",
     "start_time": "2024-11-26T13:58:57.027Z"
    },
    "deletable": false,
    "nbgrader": {
     "cell_type": "code",
     "checksum": "cb1f51e1b047105dfe558814814cf393",
     "grade": false,
     "grade_id": "cell-6b15ccd84d9b0bbb",
     "locked": false,
     "schema_version": 3,
     "solution": true,
     "task": false
    },
    "tags": []
   },
   "outputs": [
    {
     "data": {
      "text/plain": [
       "backtracking_line_search (generic function with 3 methods)"
      ]
     },
     "metadata": {},
     "output_type": "display_data"
    }
   ],
   "source": [
    "function gradient_descent_backtracking(f, grad_f, w_init, eta_init=1, max_iters=1000, tolerance=1e-5)\n",
    "\n",
    "    #--- YOUR CODE STARTS HERE ---#\n",
    "    w_current = w_init\n",
    "    w_next = w_init\n",
    "    for i = 1:max_iters\n",
    "        eta_current = backtracking_line_search(f, grad_f, w_current, eta_init, 0.5)\n",
    "        w_next = w_current - eta_current * grad_f(w_current)\n",
    "        if norm(w_next - w_current) <= tolerance\n",
    "            break\n",
    "        end\n",
    "        w_current = w_next\n",
    "    end\n",
    "    w_opt = w_next\n",
    "    #--- YOUR CODE ENDS HERE ---#\n",
    "    return w_opt\n",
    "end\n",
    "\n",
    "function backtracking_line_search(f, grad_f, w_current, eta_init, alpha=0.3, beta=0.5)\n",
    "    #--- YOUR CODE STARTS HERE ---#\n",
    "    eta_current = eta_init\n",
    "    current_val = f(w_current)\n",
    "    w_next = w_current - eta_current * grad_f(w_current)\n",
    "    next_val = f(w_next)\n",
    "    while next_val > current_val + beta * eta_current * dot(grad_f(w_current), -grad_f(w_current))\n",
    "        eta_current = eta_current * alpha\n",
    "        w_next = w_current - eta_current * grad_f(w_current)\n",
    "        next_val = f(w_next)\n",
    "    end\n",
    "    eta = eta_current\n",
    "    #--- YOUR CODE ENDS HERE ---#\n",
    "    return eta\n",
    "end"
   ]
  },
  {
   "cell_type": "code",
   "execution_count": 15,
   "id": "ab7204eb-f1b1-4a70-a2b9-87395e48ffa1",
   "metadata": {
    "ExecuteTime": {
     "end_time": "2024-11-26T14:59:12.684000+01:00",
     "start_time": "2024-11-26T13:59:11.545Z"
    },
    "deletable": false,
    "editable": false,
    "nbgrader": {
     "cell_type": "code",
     "checksum": "66f6fdfdd3a38d53679f17b795fb8c48",
     "grade": true,
     "grade_id": "cell-747d7091a42e1426",
     "locked": true,
     "points": 1,
     "schema_version": 3,
     "solution": false,
     "task": false
    },
    "tags": []
   },
   "outputs": [],
   "source": [
    "@assert isa(backtracking_line_search, Function)\n",
    "@assert isa(gradient_descent_backtracking, Function)\n",
    "\n",
    "@assert isa(backtracking_line_search(rosenbrock, rosenbrock_gradient, [2, 2], 0.1), Number) \"eta needs to be a scalar.\"\n",
    "@assert size(gradient_descent_backtracking(rosenbrock, rosenbrock_gradient, [2, 1])) == (2,) \"The gradient has 2 elements (There are two parameters)\""
   ]
  },
  {
   "cell_type": "markdown",
   "id": "505b0d6c-97c0-48f9-bca4-b006f68cb569",
   "metadata": {
    "deletable": false,
    "editable": false,
    "nbgrader": {
     "cell_type": "markdown",
     "checksum": "9a68380a3bb8899ffd966a4313a8e075",
     "grade": false,
     "grade_id": "cell-865161f4f4265890",
     "locked": true,
     "schema_version": 3,
     "solution": false,
     "task": false
    },
    "tags": []
   },
   "source": [
    "### Task 2: Fitting a surrogate model to geodata - (6.5 points)"
   ]
  },
  {
   "cell_type": "markdown",
   "id": "d528ff48-a7a5-448c-8785-6cb2c98797bb",
   "metadata": {
    "deletable": false,
    "editable": false,
    "nbgrader": {
     "cell_type": "markdown",
     "checksum": "f87a89cf606638039d0ee755915b1ee5",
     "grade": false,
     "grade_id": "cell-8f63e9014c3d21ac",
     "locked": true,
     "schema_version": 3,
     "solution": false,
     "task": false
    },
    "tags": []
   },
   "source": [
    "In this task, we are given a dataset of the geodata of north-western Germany and some parts of adjacent European countries. \n",
    "The dataset (obtained from [here](https://gdz.bkg.bund.de/index.php/default/digitale-geodaten/geodaetische-basisdaten/quasigeoid-der-bundesrepublik-deutschland-quasigeoid.html)) \n",
    "consists of a large number of points with two positions (longitude and latitude; $\\mathbf{z} \\in \\mathbb{R}^2$) and an associated height value ($y \\in \\mathbb{R}$).\n",
    "\n",
    "<img src=\"./approximate_map_area.png\" alt=\"height_map\" width=\"400\"/>  <img src=\"./surface_top.svg\" alt=\"data_height_map\" width=\"400\"/> <img src=\"./surface_front.svg\" alt=\"data_height_map\" width=\"400\"/>\n",
    "\n",
    "Source for topographic map (left-most image): https://de-de.topographic-map.com/map-95z57/Deutschland/\n",
    "\n",
    "(There is some extrapolation issues at the sides of the plots, but these are not present in the data itself)"
   ]
  },
  {
   "cell_type": "markdown",
   "id": "b101cecb-b6c4-4092-8f66-6f003b981f39",
   "metadata": {
    "deletable": false,
    "editable": false,
    "nbgrader": {
     "cell_type": "markdown",
     "checksum": "f4377552491173a08cc3453eb0de7447",
     "grade": false,
     "grade_id": "cell-f364772787ee6a44",
     "locked": true,
     "schema_version": 3,
     "solution": false,
     "task": false
    },
    "tags": []
   },
   "source": [
    "---"
   ]
  },
  {
   "cell_type": "markdown",
   "id": "b67cd812-ebe0-4db5-bfac-f98af89a3a80",
   "metadata": {
    "deletable": false,
    "editable": false,
    "nbgrader": {
     "cell_type": "markdown",
     "checksum": "f38746744801ab5ae56011ee48ca40db",
     "grade": false,
     "grade_id": "cell-948413146c751467",
     "locked": true,
     "schema_version": 3,
     "solution": false,
     "task": false
    },
    "tags": []
   },
   "source": [
    "Your task is to fit a set of $q$ (slightly modified) radial basis functions (RBFs) to the data\n",
    "\n",
    "$$\n",
    "\\begin{align}\n",
    "    h(\\mathbf{z}, \\mathbf{w}) &= \\sum_{i=1}^q \\mathrm{RBF}(\\mathbf{z}, \\mathbf{w}_i) \\\\\n",
    "    &=  \\sum_{i=1}^q w_{i, 1} \\cdot \\exp\\left( - \\exp(w_{i, 2}) \\cdot \\left\\| \\begin{bmatrix} z_{1} \\\\ z_{2} \\end{bmatrix} - \\begin{bmatrix} w_{i, 3} \\\\ w_{i, 4} \\end{bmatrix} \\right\\|_2^2\\right),\n",
    "\\end{align}\n",
    "$$\n",
    "\n",
    "parameterized by $q$ parameter vectors $\\mathbf{w}_i = \\begin{bmatrix} w_{i, 1} \\\\ w_{i, 2} \\\\ w_{i, 3} \\\\ w_{i, 4} \\end{bmatrix}$ for $i \\in 1,\\dots,q$ and the total (flattened) parameter vector $\\mathbf{w}$ \n",
    "\n",
    "$$\n",
    "\\begin{align}\n",
    "    \\mathbf{w} = \\begin{bmatrix} w_{1, 1} \\\\ w_{1, 2} \\\\  w_{1, 3} \\\\ \\vdots \\\\ w_{q, 2} \\\\ w_{q, 3} \\\\ w_{q, 4} \\\\ \\end{bmatrix}.\n",
    "\\end{align}\n",
    "$$"
   ]
  },
  {
   "cell_type": "markdown",
   "id": "38921a7e-74c4-4ee5-b11a-4da5ef6c8da9",
   "metadata": {
    "deletable": false,
    "editable": false,
    "nbgrader": {
     "cell_type": "markdown",
     "checksum": "ae0f3993907e996d9083d44039662772",
     "grade": false,
     "grade_id": "cell-1aaf49df5777fa6b",
     "locked": true,
     "schema_version": 3,
     "solution": false,
     "task": false
    },
    "tags": []
   },
   "source": [
    "##### **a)** - (0.5 points)\n",
    "Implement a single $\\mathrm{RBF}(\\mathbf{z}, \\mathbf{w}_i)$ that takes $\\mathbf{z}$ and the parameter vector $\\mathbf{w}_i$ with four elements as input."
   ]
  },
  {
   "cell_type": "code",
   "execution_count": 16,
   "id": "88bfb57d-02ab-429c-84f2-0fcdbf31a894",
   "metadata": {
    "ExecuteTime": {
     "end_time": "2024-11-26T14:59:46.418000+01:00",
     "start_time": "2024-11-26T13:59:45.935Z"
    },
    "deletable": false,
    "nbgrader": {
     "cell_type": "code",
     "checksum": "1e938479a08c886680d45d49fc240002",
     "grade": false,
     "grade_id": "cell-45b7fc6594fb72fd",
     "locked": false,
     "schema_version": 3,
     "solution": true,
     "task": false
    },
    "tags": []
   },
   "outputs": [
    {
     "data": {
      "text/plain": [
       "RBF (generic function with 1 method)"
      ]
     },
     "metadata": {},
     "output_type": "display_data"
    }
   ],
   "source": [
    "function RBF(z, w_i)\n",
    "\n",
    "    #--- YOUR CODE STARTS HERE ---#\n",
    "    f_value = w_i[1] * exp(-exp(w_i[2]) * norm(z - w_i[3:4], 2)^2)\n",
    "    #--- YOUR CODE ENDS HERE ---#\n",
    "\n",
    "    return f_value\n",
    "end"
   ]
  },
  {
   "cell_type": "code",
   "execution_count": 17,
   "id": "beb134df-19e2-42b1-9a45-c0629081258e",
   "metadata": {
    "ExecuteTime": {
     "end_time": "2024-11-26T14:59:47.352000+01:00",
     "start_time": "2024-11-26T13:59:46.532Z"
    },
    "deletable": false,
    "editable": false,
    "nbgrader": {
     "cell_type": "code",
     "checksum": "c473d0e94fe870f807a3adbf504cb4fe",
     "grade": true,
     "grade_id": "cell-5737c3d54908999f",
     "locked": true,
     "points": 0.5,
     "schema_version": 3,
     "solution": false,
     "task": false
    },
    "tags": []
   },
   "outputs": [],
   "source": [
    "@assert isa(RBF, Function)\n",
    "@assert isa(RBF([0, 0], [1, 0.5, -0.1, 0.2]), Number) \"The output of the RBF needs to be a scalar number.\"\n"
   ]
  },
  {
   "cell_type": "code",
   "execution_count": 18,
   "id": "2d48eba4-fc5f-4e35-8903-498da7aef07a",
   "metadata": {
    "ExecuteTime": {
     "end_time": "2024-11-26T14:59:48.061000+01:00",
     "start_time": "2024-11-26T13:59:47.643Z"
    },
    "deletable": false,
    "editable": false,
    "nbgrader": {
     "cell_type": "code",
     "checksum": "6268b836560b8a8057dab40d762d9b6e",
     "grade": true,
     "grade_id": "cell-6f1d9a831e2cefcb",
     "locked": true,
     "points": 0,
     "schema_version": 3,
     "solution": false,
     "task": false
    },
    "tags": []
   },
   "outputs": [],
   "source": [
    "# Please leave this cell as its is\n"
   ]
  },
  {
   "cell_type": "markdown",
   "id": "99beb65d-6719-430d-a501-58cfaebb0671",
   "metadata": {
    "deletable": false,
    "editable": false,
    "nbgrader": {
     "cell_type": "markdown",
     "checksum": "e097619e2c246a9ed0006b315e476c2c",
     "grade": false,
     "grade_id": "cell-f17bf6908a2ca567",
     "locked": true,
     "schema_version": 3,
     "solution": false,
     "task": false
    },
    "tags": []
   },
   "source": [
    "##### **b)** - (0.5 points)\n",
    "Create a model $h(\\mathbf{z}, \\mathbf{w})$ that consists of a sum of $q$ RBF functions parameterized by a vector $\\mathbf{w}$ with $4 \\cdot q$ elements."
   ]
  },
  {
   "cell_type": "code",
   "execution_count": 19,
   "id": "2343d49d-354f-4904-acab-0bf38e90c182",
   "metadata": {
    "ExecuteTime": {
     "end_time": "2024-11-26T14:59:59.514000+01:00",
     "start_time": "2024-11-26T13:59:59.070Z"
    },
    "deletable": false,
    "nbgrader": {
     "cell_type": "code",
     "checksum": "c48d7bfd28a615d0065d32a26a884f39",
     "grade": false,
     "grade_id": "cell-e42a27b3c403324e",
     "locked": false,
     "schema_version": 3,
     "solution": true,
     "task": false
    },
    "tags": []
   },
   "outputs": [
    {
     "data": {
      "text/plain": [
       "h (generic function with 1 method)"
      ]
     },
     "metadata": {},
     "output_type": "display_data"
    }
   ],
   "source": [
    "function h(z, w, q)\n",
    "\n",
    "    @assert length(w) == q * 4 \"Invalid number of parameters.\"\n",
    "\n",
    "    #--- YOUR CODE STARTS HERE ---#\n",
    "    f_value = 0\n",
    "    for i = 0:(q-1)\n",
    "        indices = [1, 2, 3, 4] .+ i*4\n",
    "        f_value += RBF(z, w[indices])\n",
    "    end\n",
    "    #--- YOUR CODE ENDS HERE ---#\n",
    "\n",
    "    return f_value\n",
    "end"
   ]
  },
  {
   "cell_type": "code",
   "execution_count": 20,
   "id": "866b3a79-1f74-4fc4-a4c0-fadbbcdf924d",
   "metadata": {
    "ExecuteTime": {
     "end_time": "2024-11-26T15:00:05.738000+01:00",
     "start_time": "2024-11-26T14:00:05.131Z"
    },
    "deletable": false,
    "editable": false,
    "nbgrader": {
     "cell_type": "code",
     "checksum": "b13a9fba6c362448e18b9109ae871274",
     "grade": true,
     "grade_id": "cell-ef3424430f2bda9e",
     "locked": true,
     "points": 0.5,
     "schema_version": 3,
     "solution": false,
     "task": false
    },
    "tags": []
   },
   "outputs": [],
   "source": [
    "@assert isa(h, Function)\n",
    "@assert isa(h([0, 0], [1, 0.5, 0.2, -0.1, 1, 0.5, 0.2, -0.1,], 2), Number) \"The output of the model needs to be a scalar number.\"\n"
   ]
  },
  {
   "cell_type": "code",
   "execution_count": 21,
   "id": "35f12308-ad97-458a-8d9a-df9351430a87",
   "metadata": {
    "ExecuteTime": {
     "end_time": "2024-11-26T15:00:19.372000+01:00",
     "start_time": "2024-11-26T14:00:18.953Z"
    },
    "deletable": false,
    "editable": false,
    "nbgrader": {
     "cell_type": "code",
     "checksum": "7343b72010acd7bee3b35458078e01cc",
     "grade": true,
     "grade_id": "cell-09f06c1c7e1830c4",
     "locked": true,
     "points": 0,
     "schema_version": 3,
     "solution": false,
     "task": false
    },
    "tags": []
   },
   "outputs": [],
   "source": [
    "# Please leave this cell as its is\n"
   ]
  },
  {
   "cell_type": "markdown",
   "id": "3105fccc-1a73-4e96-b9da-a0ed36170e3b",
   "metadata": {
    "deletable": false,
    "editable": false,
    "nbgrader": {
     "cell_type": "markdown",
     "checksum": "4a61b811d29bc27b45fddc3ad2fa0e18",
     "grade": false,
     "grade_id": "cell-c861fd45dffdd4ec",
     "locked": true,
     "schema_version": 3,
     "solution": false,
     "task": false
    },
    "tags": []
   },
   "source": [
    "##### **c)** - (1.5 points)\n",
    "Provide a function for the symbolic gradient of the RBF w.r.t. the weights, i.e., $\\nabla_{\\mathbf{w}} \\mathrm{RBF}(\\mathbf{z}, \\mathbf{w})$."
   ]
  },
  {
   "cell_type": "code",
   "execution_count": 22,
   "id": "f76ab178-a903-4862-a200-5b2987a118a3",
   "metadata": {
    "ExecuteTime": {
     "end_time": "2024-11-26T15:00:29.309000+01:00",
     "start_time": "2024-11-26T14:00:28.863Z"
    },
    "deletable": false,
    "nbgrader": {
     "cell_type": "code",
     "checksum": "9c13ea1916f5740c810c0b6f8182f31b",
     "grade": false,
     "grade_id": "cell-d05d78184d963174",
     "locked": false,
     "schema_version": 3,
     "solution": true,
     "task": false
    },
    "tags": []
   },
   "outputs": [
    {
     "data": {
      "text/plain": [
       "gradient_RBF (generic function with 1 method)"
      ]
     },
     "metadata": {},
     "output_type": "display_data"
    }
   ],
   "source": [
    "function gradient_RBF(z, w_i)\n",
    "\n",
    "    #--- YOUR CODE STARTS HERE ---#\n",
    "    square_norm = norm(z - w[3:4], 2)^2\n",
    "    exp_term = exp(w[2] - exp(w[2]) * square_norm)\n",
    "    dw1 = exp(-exp(w[2]) * square_norm)\n",
    "    dw2 = w[1] * square_norm * (-exp_term)\n",
    "    dw3 = 2 * w[1] * (z[1] - w[3]) * exp_term\n",
    "    dw4 = 2 * w[1] * (z[2] - w[4]) * exp_term\n",
    "    gradient = [dw1, dw2, dw3, dw4]\n",
    "    #--- YOUR CODE ENDS HERE ---#\n",
    "\n",
    "    return gradient\n",
    "end"
   ]
  },
  {
   "cell_type": "code",
   "execution_count": 40,
   "id": "9afae0fd-fdad-436c-8b1b-bdda784dde55",
   "metadata": {
    "ExecuteTime": {
     "end_time": "2024-11-26T15:00:29.867000+01:00",
     "start_time": "2024-11-26T14:00:29.230Z"
    },
    "deletable": false,
    "editable": false,
    "nbgrader": {
     "cell_type": "code",
     "checksum": "6fd2f7960d765bddd0d45f12117d6f61",
     "grade": true,
     "grade_id": "cell-44c531e6189c6c8e",
     "locked": true,
     "points": 1.5,
     "schema_version": 3,
     "solution": false,
     "task": false
    },
    "tags": []
   },
   "outputs": [],
   "source": [
    "@assert isa(gradient_RBF, Function)\n",
    "@assert size(gradient_RBF([0.6, 0], [1, 0.5, 0.2, 0.1])) == (4,) \"The gradient is a vector of 4 elements, as there are 4 parameters for the RBF\"\n"
   ]
  },
  {
   "cell_type": "code",
   "execution_count": 24,
   "id": "b7e720f0-9e13-491e-b1e0-fa5f03b52145",
   "metadata": {
    "ExecuteTime": {
     "end_time": "2024-11-26T15:00:30.412000+01:00",
     "start_time": "2024-11-26T14:00:29.997Z"
    },
    "deletable": false,
    "editable": false,
    "nbgrader": {
     "cell_type": "code",
     "checksum": "5a2e8633970c59f5dd17902c04ade7ea",
     "grade": true,
     "grade_id": "cell-0bed37b4ac3db374",
     "locked": true,
     "points": 0,
     "schema_version": 3,
     "solution": false,
     "task": false
    },
    "tags": []
   },
   "outputs": [],
   "source": [
    "# Please leave this cell as its is\n"
   ]
  },
  {
   "cell_type": "markdown",
   "id": "b27dbff9-49bd-45e8-b494-424d5e90d312",
   "metadata": {
    "deletable": false,
    "editable": false,
    "nbgrader": {
     "cell_type": "markdown",
     "checksum": "2c9375aefb3749a7490b2573bd9aa3f0",
     "grade": false,
     "grade_id": "cell-4f522f1b873f5749",
     "locked": true,
     "schema_version": 3,
     "solution": false,
     "task": false
    },
    "tags": []
   },
   "source": [
    "##### **d)** - (1 point)\n",
    "Provide a function for the gradient of the sum of $q$ RBF functions \n",
    "w.r.t. the weight vector $\\mathbf{w}$, i.e., $\\nabla_{\\mathbf{w}} h(\\mathbf{z}, \\mathbf{w})$."
   ]
  },
  {
   "cell_type": "code",
   "execution_count": 25,
   "id": "966f1c59-752f-4af8-a9b0-8c5bca1f160a",
   "metadata": {
    "ExecuteTime": {
     "end_time": "2024-11-26T15:00:32.053000+01:00",
     "start_time": "2024-11-26T14:00:31.610Z"
    },
    "deletable": false,
    "nbgrader": {
     "cell_type": "code",
     "checksum": "92b58c478d1d56e07c77d2ba6c2d97fd",
     "grade": false,
     "grade_id": "cell-d55aa2ffd4ec1f05",
     "locked": false,
     "schema_version": 3,
     "solution": true,
     "task": false
    },
    "tags": []
   },
   "outputs": [
    {
     "data": {
      "text/plain": [
       "gradient_h (generic function with 1 method)"
      ]
     },
     "metadata": {},
     "output_type": "display_data"
    }
   ],
   "source": [
    "function gradient_h(z, w, q)\n",
    "\n",
    "    #--- YOUR CODE STARTS HERE ---#\n",
    "    gradient = zeros(4*q)\n",
    "    for i = 0:(q-1)\n",
    "        indices = [1, 2, 3, 4] .+ i*4\n",
    "        gradient[indices] = gradient_RBF(z, w[indices])\n",
    "    end\n",
    "    #--- YOUR CODE ENDS HERE ---#\n",
    "\n",
    "    return gradient\n",
    "end"
   ]
  },
  {
   "cell_type": "code",
   "execution_count": 26,
   "id": "544e5040-0473-4b22-88de-3c7e19c0c822",
   "metadata": {
    "ExecuteTime": {
     "end_time": "2024-11-26T15:00:34.693000+01:00",
     "start_time": "2024-11-26T14:00:34.122Z"
    },
    "deletable": false,
    "editable": false,
    "nbgrader": {
     "cell_type": "code",
     "checksum": "a57142ca3357f59890f51c808abd69be",
     "grade": true,
     "grade_id": "cell-f51467f0304d5b65",
     "locked": true,
     "points": 1,
     "schema_version": 3,
     "solution": false,
     "task": false
    },
    "tags": []
   },
   "outputs": [
    {
     "ename": "BoundsError",
     "evalue": "BoundsError: attempt to access 2-element Vector{Int64} at index [3:4]",
     "output_type": "error",
     "traceback": [
      "BoundsError: attempt to access 2-element Vector{Int64} at index [3:4]\n",
      "\n",
      "Stacktrace:\n",
      " [1] throw_boundserror(A::Vector{Int64}, I::Tuple{UnitRange{Int64}})\n",
      "   @ Base ./essentials.jl:14\n",
      " [2] checkbounds\n",
      "   @ ./abstractarray.jl:699 [inlined]\n",
      " [3] getindex(A::Vector{Int64}, I::UnitRange{Int64})\n",
      "   @ Base ./array.jl:925\n",
      " [4] gradient_RBF(z::Vector{Int64}, w_i::Vector{Float64})\n",
      "   @ Main ~/Uni/DS4DS/exercises/Ex07/jl_notebook_cell_df34fa98e69747e1a8f8a730347b8e2f_X52sZmlsZQ==.jl:4\n",
      " [5] gradient_h(z::Vector{Int64}, w::Vector{Float64}, q::Int64)\n",
      "   @ Main ~/Uni/DS4DS/exercises/Ex07/jl_notebook_cell_df34fa98e69747e1a8f8a730347b8e2f_X56sZmlsZQ==.jl:7\n",
      " [6] top-level scope\n",
      "   @ ~/Uni/DS4DS/exercises/Ex07/jl_notebook_cell_df34fa98e69747e1a8f8a730347b8e2f_X60sZmlsZQ==.jl:4"
     ]
    }
   ],
   "source": [
    "@assert isa(gradient_h, Function)\n",
    "\n",
    "q = 2\n",
    "@assert size(gradient_h([-1, -1], [1, 0.5, 0.7, 1, 0.5, 0.7, 0.2, 0.1], q)) == (4 * q,) \"The gradient is a vector of 4 * q elements, as there are 4 * q parameters for the RBF\"\n"
   ]
  },
  {
   "cell_type": "code",
   "execution_count": 27,
   "id": "755b92e6-6c7c-4af1-a441-0e1f00728fe9",
   "metadata": {
    "ExecuteTime": {
     "end_time": "2024-11-26T15:00:35.858000+01:00",
     "start_time": "2024-11-26T14:00:35.439Z"
    },
    "deletable": false,
    "editable": false,
    "nbgrader": {
     "cell_type": "code",
     "checksum": "ec4799e067ccd815e4c92d6194272f66",
     "grade": true,
     "grade_id": "cell-5b3e975d11d4a107",
     "locked": true,
     "points": 0,
     "schema_version": 3,
     "solution": false,
     "task": false
    },
    "tags": []
   },
   "outputs": [],
   "source": [
    "# Please leave this cell as its is\n"
   ]
  },
  {
   "cell_type": "markdown",
   "id": "619dbb92-567b-4f8c-b158-69128351353d",
   "metadata": {
    "deletable": false,
    "editable": false,
    "nbgrader": {
     "cell_type": "markdown",
     "checksum": "2911687779c0b4d399f6781472872380",
     "grade": false,
     "grade_id": "cell-33b84fd348a02baf",
     "locked": true,
     "schema_version": 3,
     "solution": false,
     "task": false
    },
    "tags": []
   },
   "source": [
    "##### **e)** - (1 point)\n",
    "In order to assess the model quality, we want to compare the mean squared error (MSE) between the data $y[k]$ and the prediction made by the trained model $y_{est}[k] = h(\\mathbf{z}[k], \\mathbf{w})$. Implement this function into the template below. $\\mathbf{y}$ is the vector containing all elements of $y[k]$, i.e.,\n",
    "\n",
    "$$\n",
    "\\begin{align}\n",
    "    \\mathbf{y} = \\begin{bmatrix} y[1] \\\\ y[2] \\\\ \\vdots \\\\ y[N] \\end{bmatrix}\n",
    "\\end{align}\n",
    "$$\n",
    "\n",
    "\n",
    "and $\\mathbf{Z}$ is a Matrix containing all $\\mathbf{z}[k]$, i.e.,\n",
    "\n",
    "$$\n",
    "\\begin{align}\n",
    "    \\mathbf{Z} = \\begin{bmatrix} \\mathbf{z}[1] \\\\ \\mathbf{z}[2] \\\\ \\vdots \\\\ \\mathbf{z}[N] \\end{bmatrix}\n",
    "\\end{align}.\n",
    "$$"
   ]
  },
  {
   "cell_type": "code",
   "execution_count": 28,
   "id": "5d8260cb-179a-4157-9122-b6a91e3ecb43",
   "metadata": {
    "ExecuteTime": {
     "end_time": "2024-11-26T15:00:37.545000+01:00",
     "start_time": "2024-11-26T14:00:37.108Z"
    },
    "deletable": false,
    "nbgrader": {
     "cell_type": "code",
     "checksum": "cff3fac9adedc244a8d131d6a188aa04",
     "grade": false,
     "grade_id": "cell-6c295132a60010c4",
     "locked": false,
     "schema_version": 3,
     "solution": true,
     "task": false
    },
    "tags": []
   },
   "outputs": [
    {
     "data": {
      "text/plain": [
       "MSE_loss (generic function with 1 method)"
      ]
     },
     "metadata": {},
     "output_type": "display_data"
    }
   ],
   "source": [
    "function MSE_loss(y, Z, w, q)\n",
    "\n",
    "    #--- YOUR CODE STARTS HERE ---#\n",
    "    mse = 0\n",
    "    N = length(y)\n",
    "    for i = 1:N\n",
    "        y_est = h(Z[i,:], w, q)\n",
    "        mse += (y[i] - y_est)^2\n",
    "    end\n",
    "    mse /= N\n",
    "    return mse\n",
    "    #--- YOUR CODE ENDS HERE ---#\n",
    "\n",
    "end"
   ]
  },
  {
   "cell_type": "code",
   "execution_count": 29,
   "id": "0b7bd024-5dfe-4fb1-92f9-8a0a0ab8a073",
   "metadata": {
    "ExecuteTime": {
     "end_time": "2024-11-26T15:00:41.298000+01:00",
     "start_time": "2024-11-26T14:00:40.233Z"
    },
    "deletable": false,
    "editable": false,
    "nbgrader": {
     "cell_type": "code",
     "checksum": "739bf8c9273ab3e1fda0f6c318dbfbdd",
     "grade": true,
     "grade_id": "cell-4ff00e30fe3d2bbc",
     "locked": true,
     "points": 1,
     "schema_version": 3,
     "solution": false,
     "task": false
    },
    "tags": []
   },
   "outputs": [],
   "source": [
    "@assert isa(MSE_loss, Function)\n",
    "\n",
    "q = 10\n",
    "@assert isa(MSE_loss([1, 2, 3], [1 2; 3 4; 5 6], ones(4 * q), q), Number) \"The loss is a scalar value\"\n"
   ]
  },
  {
   "cell_type": "code",
   "execution_count": 30,
   "id": "19bd3ab9-ee2b-452a-9a76-0807ec06f932",
   "metadata": {
    "ExecuteTime": {
     "end_time": "2024-11-26T15:00:41.451000+01:00",
     "start_time": "2024-11-26T14:00:41.035Z"
    },
    "deletable": false,
    "editable": false,
    "nbgrader": {
     "cell_type": "code",
     "checksum": "8c9380561d9e9722e3bf66fdd19006aa",
     "grade": true,
     "grade_id": "cell-2b80b737bf4fc47f",
     "locked": true,
     "points": 0,
     "schema_version": 3,
     "solution": false,
     "task": false
    },
    "tags": []
   },
   "outputs": [],
   "source": [
    "# Please leave this cell as its is\n"
   ]
  },
  {
   "cell_type": "markdown",
   "id": "cb9e2cde-a551-4b47-b108-0adbd373f77c",
   "metadata": {
    "deletable": false,
    "editable": false,
    "nbgrader": {
     "cell_type": "markdown",
     "checksum": "d9ab5a4adf1b5992d4905a90d217385c",
     "grade": false,
     "grade_id": "cell-92bade9c1abd2ed5",
     "locked": true,
     "schema_version": 3,
     "solution": false,
     "task": false
    },
    "tags": []
   },
   "source": [
    "##### **f)** - (1 point)\n",
    "Provide a function that determines the gradient of the MSE loss w.r.t. the parameter vector $\\mathbf{w}$, i.e., $\\nabla_{\\mathbf{w}} \\mathrm{MSE}(\\mathbf{y}, \\mathbf{Z}, \\mathbf{w})$. You may reuse the functions you introduced in previous subtasks."
   ]
  },
  {
   "cell_type": "code",
   "execution_count": 31,
   "id": "0571b176-0c3d-4100-a411-1508acbb52ed",
   "metadata": {
    "ExecuteTime": {
     "end_time": "2024-11-26T15:01:10.122000+01:00",
     "start_time": "2024-11-26T14:01:09.676Z"
    },
    "deletable": false,
    "nbgrader": {
     "cell_type": "code",
     "checksum": "3f6f77444d634a0d43d228826fe4c3de",
     "grade": false,
     "grade_id": "cell-50fb8c637c5a1c2b",
     "locked": false,
     "schema_version": 3,
     "solution": true,
     "task": false
    },
    "tags": []
   },
   "outputs": [
    {
     "data": {
      "text/plain": [
       "gradient_MSE_loss (generic function with 1 method)"
      ]
     },
     "metadata": {},
     "output_type": "display_data"
    }
   ],
   "source": [
    "function gradient_MSE_loss(y, Z, w, q)\n",
    "\n",
    "    #--- YOUR CODE STARTS HERE ---#\n",
    "    gradient = zeros(4*q)\n",
    "    N = length(y)\n",
    "    for i = 1:N\n",
    "        y_est = h(Z[i,:], w, q)\n",
    "        gradient += -2 * (y[i] - y_est) * gradient_h(Z[i,:], w, q) \n",
    "    end\n",
    "    gradient /= N\n",
    "    #--- YOUR CODE ENDS HERE ---#\n",
    "\n",
    "    return gradient\n",
    "end"
   ]
  },
  {
   "cell_type": "code",
   "execution_count": 32,
   "id": "8df060a5-3a77-4773-b117-0fa22ac4bde8",
   "metadata": {
    "ExecuteTime": {
     "end_time": "2024-11-26T15:01:10.986000+01:00",
     "start_time": "2024-11-26T14:01:10.283Z"
    },
    "deletable": false,
    "editable": false,
    "nbgrader": {
     "cell_type": "code",
     "checksum": "bd5883a83462bbd39ed830b2be8824ba",
     "grade": true,
     "grade_id": "cell-91feda2de4faf68a",
     "locked": true,
     "points": 1,
     "schema_version": 3,
     "solution": false,
     "task": false
    },
    "tags": []
   },
   "outputs": [],
   "source": [
    "@assert isa(gradient_MSE_loss, Function)\n",
    "\n",
    "q = 2\n",
    "w = ones(q * 4)\n",
    "@assert size(gradient_MSE_loss([1, 2, 3], [1 2; 3 4; 5 6], w, q)) == (q * 4,)\n"
   ]
  },
  {
   "cell_type": "code",
   "execution_count": 33,
   "id": "fdb6e9c2-5574-4b0a-b3e9-eb20e987c651",
   "metadata": {
    "ExecuteTime": {
     "end_time": "2024-11-26T15:01:11.470000+01:00",
     "start_time": "2024-11-26T14:01:11.054Z"
    },
    "deletable": false,
    "editable": false,
    "nbgrader": {
     "cell_type": "code",
     "checksum": "927b64966d77fd2e5881b97c42176ad4",
     "grade": true,
     "grade_id": "cell-d0130d83cb7ae92f",
     "locked": true,
     "points": 0,
     "schema_version": 3,
     "solution": false,
     "task": false
    },
    "tags": []
   },
   "outputs": [],
   "source": [
    "# Please leave this cell as its is\n"
   ]
  },
  {
   "cell_type": "markdown",
   "id": "1f450c39-7208-411d-9051-3dca74676b6f",
   "metadata": {
    "deletable": false,
    "editable": false,
    "nbgrader": {
     "cell_type": "markdown",
     "checksum": "95d2f505fef6460a4b15ec5504f4a5b3",
     "grade": false,
     "grade_id": "cell-a106ea9180fc5aeb",
     "locked": true,
     "schema_version": 3,
     "solution": false,
     "task": false
    },
    "tags": []
   },
   "source": [
    "##### Loading and preparing the dataset"
   ]
  },
  {
   "cell_type": "code",
   "execution_count": 34,
   "id": "e3dac332-e8ed-4cd0-8891-252fb656346c",
   "metadata": {
    "ExecuteTime": {
     "end_time": "2024-11-26T15:01:14.792000+01:00",
     "start_time": "2024-11-26T14:01:12.669Z"
    },
    "deletable": false,
    "editable": false,
    "nbgrader": {
     "cell_type": "code",
     "checksum": "f94a207b89b8d5cca368230332992f71",
     "grade": false,
     "grade_id": "cell-4677d3f34c09cf4b",
     "locked": true,
     "schema_version": 3,
     "solution": false,
     "task": false
    },
    "tags": []
   },
   "outputs": [
    {
     "name": "stdout",
     "output_type": "stream",
     "text": [
      "Size of the final data set: 2832.0\n"
     ]
    },
    {
     "data": {
      "text/plain": [
       "([1.0 -0.6243093922651936; 1.0 -0.34806629834254166; … ; -1.0 0.635359116022099; -1.0 0.9116022099447509], [-0.8614245416078978, -0.8212858486130691, -0.7490009402914909, -0.8339797837329559, -0.934297132110953, -1.0, -0.8538434414668551, -0.8028913963328633, -0.7430359661495052, -0.8323930418429716  …  0.8774094969440525, 0.8396803008932769, 0.7182357780912085, 0.9496062529384104, 0.8338034790785134, 0.7937823225199816, 0.7690115185707558, 0.9274212505876822, 0.8286612599905967, 0.7492360131640807], 2832.0)"
      ]
     },
     "metadata": {},
     "output_type": "display_data"
    }
   ],
   "source": [
    "function load_dataset()\n",
    "    ### load and prepare the data set\n",
    "    X = readdlm(\"./GCG2016_WE.txt\", Float64)\n",
    "    N = size(X, 1)\n",
    "\n",
    "    # find valid data points and store them in the \n",
    "    # arrays for position (Z) and height (y)\n",
    "    Z = zeros(N, 2)\n",
    "    y = zeros(N)\n",
    "    s = 0\n",
    "    for i in 1:N\n",
    "        if X[i, 3] < 1e3\n",
    "            s += 1\n",
    "            Z[s, :] = X[i, 1:2]\n",
    "            y[s] = X[i, 3]\n",
    "        end\n",
    "    end\n",
    "    Z = Z[1:50:s, :]\n",
    "    y = y[1:50:s]\n",
    "    N = ceil(s / 50)\n",
    "\n",
    "    print(\"Size of the final data set: \")\n",
    "    println(N)\n",
    "\n",
    "    # display(Plots.surface(Z[:, 2], Z[:, 1], y, camera=(135, 60), size=(600,600)))\n",
    "    # savefig(\"surface_front.svg\")\n",
    "\n",
    "    # display(Plots.surface(Z[:, 2], Z[:, 1], y, camera=(0, 90), size=(600,600)))\n",
    "    # savefig(\"surface_top.svg\")\n",
    "\n",
    "    function min_max_normalization(a)\n",
    "        max = maximum(a)\n",
    "        min = minimum(a)\n",
    "\n",
    "        return (a .- min) ./ (max - min) .* 2 .- 1\n",
    "    end\n",
    "\n",
    "    y = min_max_normalization(y)\n",
    "\n",
    "    Z_1 = min_max_normalization(Z[:, 1])\n",
    "    Z_2 = min_max_normalization(Z[:, 2])\n",
    "\n",
    "    Z = hcat(Z_1, Z_2)\n",
    "    return Z, y, N\n",
    "end\n",
    "\n",
    "Z, y, N = load_dataset();\n",
    "\n",
    "###"
   ]
  },
  {
   "cell_type": "markdown",
   "id": "548a80e5-97a9-41aa-91b1-9457a1f1b5d5",
   "metadata": {
    "deletable": false,
    "editable": false,
    "nbgrader": {
     "cell_type": "markdown",
     "checksum": "93709adb558059c3412dae1c76ef514e",
     "grade": false,
     "grade_id": "cell-aab30214b522df7a",
     "locked": true,
     "schema_version": 3,
     "solution": false,
     "task": false
    },
    "tags": []
   },
   "source": [
    "Code for the plotting of the data and your results is provided here in Markdown. \n",
    "However, please **remove any plotting code from your notebook before submission**, as this may cause issues for the grading. Thank you!\n",
    "\n",
    "~~~\n",
    "display(Plots.plot(log.(loss_values), xlabel=\"iterations\", ylabel=\"MSE\", legend=false))\n",
    "\n",
    "y_init = [h(Z[k, :], w0, q) for k in 1:size(Z, 1)]\n",
    "display(Plots.surface(Z[:, 2], Z[:, 1], y_init, camera=(135, 60), title=\"initial guess\"))\n",
    "\n",
    "display(Plots.surface(Z[:, 2], Z[:, 1], y, camera=(135, 60), title=\"data set\"))\n",
    "\n",
    "y_est = [h(Z[k, :], w_opt, q) for k in 1:size(Z, 1)]\n",
    "display(Plots.surface(Z[:, 2], Z[:, 1], y_est, camera=(135, 60), title=\"result\"))\n",
    "~~~\n",
    "\n"
   ]
  },
  {
   "cell_type": "markdown",
   "id": "a971c470-69a9-4098-afd8-749d99360b46",
   "metadata": {
    "deletable": false,
    "editable": false,
    "nbgrader": {
     "cell_type": "markdown",
     "checksum": "e8362586412d39b989ffa29321330817",
     "grade": false,
     "grade_id": "cell-7faa9ee6eeb50a6e",
     "locked": true,
     "schema_version": 3,
     "solution": false,
     "task": false
    },
    "tags": []
   },
   "source": [
    "##### **g)** - (1 point)\n",
    "Use the standard gradient descent algorithm to fit a model with $q=100$ RBFs to the entire data set (use your own implementation, you are not allowed to use the ```Optim```-package in this task). Run for $200$ iterations (without early termination) with step-length $\\eta=3$ and use the given initial conditions $\\mathbf{w}_0$ to initialize your algorithm.\n",
    "\n",
    "Report on the MSE between the RBF model and the data set in each iteration of the algorithm (exactly $201$ loss values where the first one is from the initial guess and the last one is from after the last iteration). "
   ]
  },
  {
   "cell_type": "code",
   "execution_count": 35,
   "id": "cde74452-46c7-4d14-9c0e-1ee9a8e3990b",
   "metadata": {
    "ExecuteTime": {
     "end_time": "2024-11-26T15:01:15.263000+01:00",
     "start_time": "2024-11-26T14:01:14.817Z"
    },
    "deletable": false,
    "editable": false,
    "nbgrader": {
     "cell_type": "code",
     "checksum": "1eb3835e7ab3d742346917303bee5add",
     "grade": false,
     "grade_id": "cell-1a02b3203b539eaf",
     "locked": true,
     "schema_version": 3,
     "solution": false,
     "task": false
    },
    "tags": []
   },
   "outputs": [
    {
     "data": {
      "text/plain": [
       "compute_initial_position (generic function with 1 method)"
      ]
     },
     "metadata": {},
     "output_type": "display_data"
    }
   ],
   "source": [
    "function compute_initial_position(q)\n",
    "    x_ = range(-1, stop=1, length=Integer(sqrt(q)))\n",
    "    y_ = range(-1, stop=1, length=Integer(sqrt(q)))\n",
    "    X = repeat(x_, Integer(sqrt(q)))[:]\n",
    "    Y = repeat(y_', Integer(sqrt(q)))[:]\n",
    "    gridPoints = [X Y]'\n",
    "\n",
    "    w0 = [ones(q) * 0.05 ones(q) * 3.4 gridPoints']\n",
    "    w0 = vcat(w0'...)\n",
    "    return w0\n",
    "end"
   ]
  },
  {
   "cell_type": "code",
   "execution_count": 38,
   "id": "df1cd27e-76c7-4bc4-b5ba-15eea1a7f880",
   "metadata": {
    "ExecuteTime": {
     "end_time": "2024-11-26T15:02:29.497000+01:00",
     "start_time": "2024-11-26T14:01:15.677Z"
    },
    "deletable": false,
    "nbgrader": {
     "cell_type": "code",
     "checksum": "319488eeedf1ff4b3f01e0635ee48261",
     "grade": false,
     "grade_id": "cell-6c91962c0a57eca1",
     "locked": false,
     "schema_version": 3,
     "solution": true,
     "task": false
    },
    "tags": []
   },
   "outputs": [
    {
     "name": "stdout",
     "output_type": "stream",
     "text": [
      "Size of the final data set: 2832.0\n"
     ]
    }
   ],
   "source": [
    "q = 100\n",
    "w0 = compute_initial_position(q)\n",
    "Z, y, N = load_dataset();\n",
    "max_n_iterations = 200\n",
    "eta = 3\n",
    "loss_values = zeros(max_n_iterations + 1)  # fill this with your MSE loss values\n",
    "\n",
    "#--- YOUR CODE STARTS HERE ---#\n",
    "loss_values[1] = MSE_loss(y, Z, w0, q)\n",
    "w_current = w0\n",
    "w_next = w0\n",
    "for iter = 1:max_n_iterations\n",
    "    w_next = w_current - eta * gradient_MSE_loss(y, Z, w_current, q)\n",
    "    loss_values[iter+1] = MSE_loss(y, Z, w_next, q)\n",
    "    w_current = w_next\n",
    "end\n",
    "#--- YOUR CODE ENDS HERE ---#"
   ]
  },
  {
   "cell_type": "code",
   "execution_count": null,
   "id": "639834e1-33a1-4176-8444-d6b41bfae686",
   "metadata": {
    "ExecuteTime": {
     "end_time": "2024-11-26T15:02:29.547000+01:00",
     "start_time": "2024-11-26T14:01:16.689Z"
    },
    "deletable": false,
    "editable": false,
    "nbgrader": {
     "cell_type": "code",
     "checksum": "97e3006271d1850261d2c343e0c3b1e1",
     "grade": true,
     "grade_id": "cell-a366f5eaceb9749b",
     "locked": true,
     "points": 1,
     "schema_version": 3,
     "solution": false,
     "task": false
    },
    "tags": []
   },
   "outputs": [],
   "source": [
    "# Please leave this cell as its is\n"
   ]
  },
  {
   "cell_type": "markdown",
   "id": "155f84f4-43ef-411c-b4e7-63674adb38d9",
   "metadata": {
    "deletable": false,
    "editable": false,
    "nbgrader": {
     "cell_type": "markdown",
     "checksum": "d294c54182f35609499d2bb24b4309da",
     "grade": false,
     "grade_id": "cell-f5835d955bab3393",
     "locked": true,
     "schema_version": 3,
     "solution": false,
     "task": false
    },
    "tags": []
   },
   "source": [
    "##### Food for thought (no credit): \n",
    "What is the influence of the parameter $w_{i, 2}$, why would one use $\\exp(w_{i, 2})$ instead of simply $w_{i, 2}$ in the RBF? "
   ]
  }
 ],
 "metadata": {
  "kernelspec": {
   "display_name": "Julia 1.11.1",
   "language": "julia",
   "name": "julia-1.11"
  },
  "language_info": {
   "file_extension": ".jl",
   "mimetype": "application/julia",
   "name": "julia",
   "version": "1.11.1"
  }
 },
 "nbformat": 4,
 "nbformat_minor": 5
}
