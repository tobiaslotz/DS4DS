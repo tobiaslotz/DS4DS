{
 "cells": [
  {
   "cell_type": "markdown",
   "id": "ae2a2410-83ed-4e3e-96c5-ecce604c117b",
   "metadata": {
    "deletable": false,
    "editable": false,
    "nbgrader": {
     "cell_type": "markdown",
     "checksum": "3ab3d149fa7d85e3769fc60f26feb8eb",
     "grade": false,
     "grade_id": "cell-32ec6ed2106cafe2",
     "locked": true,
     "schema_version": 3,
     "solution": false,
     "task": false
    },
    "tags": []
   },
   "source": [
    "# DS4DS Homework Exercise Sheet 11"
   ]
  },
  {
   "cell_type": "markdown",
   "id": "8ff62b6b",
   "metadata": {
    "deletable": false,
    "editable": false,
    "nbgrader": {
     "cell_type": "markdown",
     "checksum": "ec150e3302c09651ebc55aee89d10df4",
     "grade": false,
     "grade_id": "cell-65e8a726a92ed85b",
     "locked": true,
     "schema_version": 3,
     "solution": false,
     "task": false
    }
   },
   "source": [
    "**General Instructions:**\n",
    "\n",
    "- Collaborations between students during problem-solving phase on a discussion basis is OK\n",
    "- However: individual code programming and submissions per student are required\n",
    "- Code sharing is strictly prohibited\n",
    "- We will run checks for shared code, general plagiarism and AI-generated solutions\n",
    "- Any fraud attempt will lead to an auto fail of the entire course\n",
    "- Do not use any additional packages except for those provided in the task templates\n",
    "- Please use Julia Version 1.10.x to ensure compatibility\n",
    "- Please only write between the `#--- YOUR CODE STARTS HERE ---#` and `#--- YOUR CODE ENDS HERE ---#` comments\n",
    "- Please do not delete, add any cells or overwrite cells other than the solution cells (**Tip:** If you use a jupyerhub IDE, you should not be able to add or delete cells and write in the non-solution cells by default)"
   ]
  },
  {
   "cell_type": "code",
   "execution_count": null,
   "id": "0514142b-6077-49a2-a427-bb7a38703dc6",
   "metadata": {
    "deletable": false,
    "editable": false,
    "nbgrader": {
     "cell_type": "code",
     "checksum": "565a742e3fed0a376523c564ae576e4c",
     "grade": false,
     "grade_id": "cell-d5d84d2f93742593",
     "locked": true,
     "schema_version": 3,
     "solution": false,
     "task": false
    },
    "tags": []
   },
   "outputs": [],
   "source": [
    "using Printf\n",
    "using DelimitedFiles, Plots, GZip, StatsBase, LaTeXStrings, Serialization\n",
    "using OrdinaryDiffEq, Lux, Random, ComponentArrays\n",
    "using DataInterpolations, SciMLSensitivity, Optimization, OptimizationOptimJL, LineSearches, Zygote, OptimizationFlux, Flux"
   ]
  },
  {
   "cell_type": "markdown",
   "id": "bb973d10-7284-478d-99ed-74f8d74b6b27",
   "metadata": {
    "deletable": false,
    "editable": false,
    "nbgrader": {
     "cell_type": "markdown",
     "checksum": "c3a16f2aee3403e51248d6f2944b1026",
     "grade": false,
     "grade_id": "cell-006fea709edbc186",
     "locked": true,
     "schema_version": 3,
     "solution": false,
     "task": false
    },
    "tags": []
   },
   "source": [
    "## Task 1: NODE model for a SISO heating system - (6 points)\n",
    "\n",
    "In this task, we consider a simple single-input-single-output (SISO) heating system. The input of the system $u(t)$ is the voltage that drives a  halogen lamp which is suspended several inches above a thin steel plate. The output of the system $y(t)$ is a thermocouple measurement taken from the back of the plate ([source](https://ftp.esat.kuleuven.be/pub/SISTA/data/thermic/) and [description](https://ftp.esat.kuleuven.be/pub/SISTA/data/thermic/heating_system.txt) of the dataset).\n",
    "\n",
    "Our goal within this task will be to identify the dynamics of the underlying process. We make the assumption that the temperature measurment holds sufficient information to characterize the process, i.e., that $\\hat{x}(t) = \\hat{y}(t)$ applies. We will build a model\n",
    "\n",
    "$$\n",
    "\\begin{align}\n",
    "    \\frac{\\mathrm{d}}{\\mathrm{d}t} \\hat{x}(t) &= \\mathcal{M}_{\\mathbf{w}} (\\hat{x}(t), u(t)) \\\\\n",
    "    \\hat{y}(t) & = \\hat{x} (t)\n",
    "\\end{align}\n",
    "$$\n",
    "\n",
    "that estimates the change of temperature. To this end, we will make use of neural ordinary differential equations (NODEs).\n",
    "\n",
    "The basic idea of NODEs is to use an artifical neural network (ANN) to model the state transition equation $\\frac{\\mathrm{d}}{\\mathrm{d}t} \\hat{x}(t) = \\mathcal{M}_{\\mathbf{w}} (\\hat{x}(t), u(t))$ that is parameterized by $\\mathbf{w}$. The resulting ODE is then solved by standard ODE solvers to yield an estimate for the state trajectory. This estimated state trajectory is then compared to the target trajectory to optimize the parameters in the ANN and improve the approximation."
   ]
  },
  {
   "cell_type": "markdown",
   "id": "ba586bf5-5350-4b94-9180-2b3302fab727",
   "metadata": {
    "deletable": false,
    "editable": false,
    "nbgrader": {
     "cell_type": "markdown",
     "checksum": "dc1d282f528533cd6610ee8f317184c6",
     "grade": false,
     "grade_id": "cell-f81e3d1e74d61f14",
     "locked": true,
     "schema_version": 3,
     "solution": false,
     "task": false
    },
    "slideshow": {
     "slide_type": ""
    },
    "tags": []
   },
   "source": [
    "#### Function for dataset loading:"
   ]
  },
  {
   "cell_type": "code",
   "execution_count": null,
   "id": "34aba5c6-43de-4661-81e1-27705d5c45dc",
   "metadata": {
    "deletable": false,
    "editable": false,
    "nbgrader": {
     "cell_type": "code",
     "checksum": "13c5437d1db8bfe1d1efbc0b73d3b73f",
     "grade": false,
     "grade_id": "cell-2f2d3899918aac25",
     "locked": true,
     "schema_version": 3,
     "solution": false,
     "task": false
    },
    "slideshow": {
     "slide_type": ""
    },
    "tags": []
   },
   "outputs": [],
   "source": [
    "function loaddata_heating(; normalize=true)\n",
    "    fh = GZip.open(\"heating_system.dat.gz\")\n",
    "    data = readdlm(fh)\n",
    "\n",
    "    data_freq = 4\n",
    "    \n",
    "    data = data[1:data_freq:end, :]\n",
    "    \n",
    "    t = data[:, 1] / 16  # time in seconds\n",
    "    u = data[:, 2]  # input: voltage driving the lamp in volt\n",
    "    y = data[:, 3]  # output: temperature measurement in °C\n",
    "\n",
    "    \n",
    "    dt = 2 * data_freq / 16  # time between samples in seconds (thermic process -> high inertia)\n",
    "    \n",
    "    # convert to Float32 for performance\n",
    "    t = Float32.(t)\n",
    "    u = Float32.(u) \n",
    "    y = Float32.(y)\n",
    "    \n",
    "    if normalize  # optional standardization of data\n",
    "        dty = fit(ZScoreTransform, y)\n",
    "        dtu = fit(ZScoreTransform, u)\n",
    "    \n",
    "        y = StatsBase.transform(dty, y)\n",
    "        u = StatsBase.transform(dtu, u);\n",
    "    end\n",
    "    \n",
    "    tspan = (t[1], t[end])\n",
    "    \n",
    "    return u, y, dt, tspan, t\n",
    "end"
   ]
  },
  {
   "cell_type": "code",
   "execution_count": null,
   "id": "c75e8d47-4bc0-4b11-9db8-1d7e5e2d7f41",
   "metadata": {
    "deletable": false,
    "editable": false,
    "nbgrader": {
     "cell_type": "code",
     "checksum": "84cf15103d78071a988820be25e5042d",
     "grade": false,
     "grade_id": "cell-b93c71cfed4bdd1a",
     "locked": true,
     "schema_version": 3,
     "solution": false,
     "task": false
    }
   },
   "outputs": [],
   "source": [
    "u, y, dt, tspan, tsteps = loaddata_heating(normalize = false)\n",
    "p = plot(tsteps, u, label=L\"u\", title=\"Simple heating system\", xlabel=L\"$t$ in seconds\", ylabel=L\"$u$ in V / $y$ in °C\",\n",
    "     legend=:topleft, lw=2, palette = :Set2_5)\n",
    "plot!(p, tsteps, y, label=L\"y\", lw =2)"
   ]
  },
  {
   "cell_type": "markdown",
   "id": "550808c6-f272-45d5-9b4a-1983df65ba6a",
   "metadata": {
    "deletable": false,
    "editable": false,
    "nbgrader": {
     "cell_type": "markdown",
     "checksum": "656e5d928c023ba3647fe45328eef25b",
     "grade": false,
     "grade_id": "cell-2cc68536f7a6d87b",
     "locked": true,
     "schema_version": 3,
     "solution": false,
     "task": false
    },
    "tags": []
   },
   "source": [
    "#### **a)** - (0.5 point)\n",
    "Split your dataset into a training and evaluation dataset. The training dataset will be used to tune the parameters of your model and the evaluation data will be used to evaluate the generalization performance of your model.\n",
    "Use $u(t >= 37.5s)$ and $y(t >= 37.5s)$ for the training and $u(t < 37.5s)$ and $y(t < 37.5s)$ for the evaluation datasets. Additionally, provide the corresponding timesteps for the training and eval datasets, i.e., provide\n",
    "```tsteps_training``` which contains all timesteps from the dataset with $t >= 37.5s$ and ```tsteps_eval``` which contains all timesteps with $t < 37.5s$.\n",
    "\n",
    "Implement the function below to split the dataset."
   ]
  },
  {
   "cell_type": "code",
   "execution_count": null,
   "id": "8d6ebf52-9878-4e83-8535-4f4d2c850c7d",
   "metadata": {
    "deletable": false,
    "nbgrader": {
     "cell_type": "code",
     "checksum": "86ff9cd0bcf27ab3b28b3bb174ee4869",
     "grade": false,
     "grade_id": "cell-188477c58c5b2938",
     "locked": false,
     "schema_version": 3,
     "solution": true,
     "task": false
    },
    "tags": []
   },
   "outputs": [],
   "source": [
    "u, y, dt, tspan, tsteps = loaddata_heating();\n",
    "\n",
    "function split_dataset(u, y, tsteps)\n",
    "    \"\"\"\n",
    "    Creates a training and evaluation split\n",
    "    \n",
    "    Args:\n",
    "        u: System input data\n",
    "        y: System output data\n",
    "        tsteps: time steps of the data trajectories\n",
    "\n",
    "    Returns:\n",
    "        u_training: u(t >= 37.5s)\n",
    "        y_training: y(t >= 37.5s)\n",
    "        u_eval: u(t < 37.5s)\n",
    "        y_eval: y(t < 37.5s)\n",
    "        tsteps_training: time steps for the training data\n",
    "        tsteps_eval: time steps for the eval data\n",
    "    \"\"\"\n",
    "    #--- YOUR CODE STARTS HERE ---#\n",
    "    \n",
    "    #--- YOUR CODE ENDS HERE ---#\n",
    "\n",
    "    return u_training, y_training, u_eval, y_eval, tsteps_training, tsteps_eval\n",
    "end\n",
    "    \n",
    "u_training, y_training, u_eval, y_eval, tsteps_training, tsteps_eval = split_dataset(u, y, tsteps);"
   ]
  },
  {
   "cell_type": "code",
   "execution_count": null,
   "id": "bf4b64e5-6c0d-464e-a32c-615e3acdb350",
   "metadata": {
    "deletable": false,
    "editable": false,
    "nbgrader": {
     "cell_type": "code",
     "checksum": "7d921084f45a5f8b87223dcc42b56d38",
     "grade": true,
     "grade_id": "cell-e91fa056065e4b3c",
     "locked": true,
     "points": 0.5,
     "schema_version": 3,
     "solution": false,
     "task": false
    },
    "tags": []
   },
   "outputs": [],
   "source": [
    "@assert isa(split_dataset, Function)\n",
    "@assert vcat(u_eval, u_training) == u  \"Full dataset needs to be the concatenation of training and eval sets\"\n",
    "@assert vcat(y_eval, y_training) == y  \"Full dataset needs to be the concatenation of training and eval sets\"\n"
   ]
  },
  {
   "cell_type": "code",
   "execution_count": null,
   "id": "a102771e-ae11-4774-980b-a367f947b0b1",
   "metadata": {
    "deletable": false,
    "editable": false,
    "nbgrader": {
     "cell_type": "code",
     "checksum": "31090a412f1b59c5449e5f26a43eb208",
     "grade": true,
     "grade_id": "cell-1f6e12ff4406da0e",
     "locked": true,
     "points": 0,
     "schema_version": 3,
     "solution": false,
     "task": false
    },
    "tags": []
   },
   "outputs": [],
   "source": [
    "# Please leave this cell as it is"
   ]
  },
  {
   "cell_type": "markdown",
   "id": "ea4da88f-8e8a-4f3c-9be9-9f5d390006dc",
   "metadata": {
    "deletable": false,
    "editable": false,
    "nbgrader": {
     "cell_type": "markdown",
     "checksum": "e4171967882fe457d2d2eddad4e5c20b",
     "grade": false,
     "grade_id": "cell-ca15de2bb3b79841",
     "locked": true,
     "schema_version": 3,
     "solution": false,
     "task": false
    },
    "tags": []
   },
   "source": [
    "#### **b)** - (1 point)\n",
    "Implement a function for the creation of a fully-connected feed-forward neural network in dependence of the layer sizes and the activation functions. Use ```Lux.jl``` to implement it in the function template given below."
   ]
  },
  {
   "cell_type": "code",
   "execution_count": null,
   "id": "873bb5bf-3d4d-44c9-96ac-a3c6410c2f56",
   "metadata": {
    "deletable": false,
    "nbgrader": {
     "cell_type": "code",
     "checksum": "2cac20c6f82363b345a9659677ad6c63",
     "grade": false,
     "grade_id": "cell-a41bdd5211e3d366",
     "locked": false,
     "schema_version": 3,
     "solution": true,
     "task": false
    },
    "tags": []
   },
   "outputs": [],
   "source": [
    "function create_ann(layer_sizes, hidden_layer_activation_function, output_activation)\n",
    "    \"\"\"\n",
    "    Creates a neural network with the given parameters\n",
    "\n",
    "    Args:\n",
    "        layer_sizes: List of layer sizes (e.g. [5, 32, 32, 2])\n",
    "        hidden_layer_activation_function: Activation function for all hidden layers (nomenclature of Lux.jl)\n",
    "        output_activation: Activation function of the output layer (nomenclature of Lux.jl)\n",
    "\n",
    "    Returns:\n",
    "        ann: Resulting fully-connected neural network\n",
    "    \"\"\"\n",
    "    #--- YOUR CODE STARTS HERE ---#\n",
    "    \n",
    "    #--- YOUR CODE ENDS HERE ---#\n",
    "\n",
    "    return ann\n",
    "end\n",
    "\n",
    "# the sizes you choose here have no influence on the grading of this subtask\n",
    "layer_sizes = nothing\n",
    "hidden_layer_activation_function = nothing\n",
    "output_activation = nothing\n",
    "\n",
    "#--- YOUR CODE STARTS HERE ---#\n",
    "\n",
    "#--- YOUR CODE ENDS HERE ---#"
   ]
  },
  {
   "cell_type": "code",
   "execution_count": null,
   "id": "456fa6ed-87f0-4b78-92cb-c35d260f8b05",
   "metadata": {
    "deletable": false,
    "editable": false,
    "nbgrader": {
     "cell_type": "code",
     "checksum": "6920c2303a0b379aae06ed938d72fa57",
     "grade": true,
     "grade_id": "cell-2c4bc4d8fa5955be",
     "locked": true,
     "points": 1,
     "schema_version": 3,
     "solution": false,
     "task": false
    },
    "tags": []
   },
   "outputs": [],
   "source": [
    "ann = create_ann(layer_sizes, hidden_layer_activation_function, output_activation)\n",
    "@assert isa(ann, Lux.Chain)\n"
   ]
  },
  {
   "cell_type": "markdown",
   "id": "da21d81f-d0c0-4727-b691-e8a78f4c183f",
   "metadata": {
    "deletable": false,
    "editable": false,
    "nbgrader": {
     "cell_type": "markdown",
     "checksum": "fdd9c55af747fe6065df2b54cbc253a0",
     "grade": false,
     "grade_id": "cell-04da5a9ea185216e",
     "locked": true,
     "schema_version": 3,
     "solution": false,
     "task": false
    },
    "tags": []
   },
   "source": [
    "#### **c)** - (1 point)\n",
    "\n",
    "In this subtask, we want to define the NODE of the form\n",
    "\n",
    "$$\n",
    "\\begin{align}\n",
    "    \\frac{\\mathrm{d}}{\\mathrm{d}t} \\hat{x}(t) &= \\mathcal{M}_{\\mathbf{w}} (\\hat{x}(t), u(t)).\n",
    "\\end{align}\n",
    "$$\n",
    "\n",
    "To this end, we need to define the ODE in the function ```dxdt(x, w, t)``` and initialize the ```training_problem```.\n",
    "Use ```create_ann``` from subtask **b)** to create a model for the ODE. If you were unable to properly implement it in **b)**, you are also allowed to create a model manually. However, you are restricted to fully-connected feed-forward neural networks. Use the variable ```w``` for the model parameters $\\mathbf{w}$.\n",
    "\n",
    "The layer sizes, activation functions and initialization are set here to help you with the following subtask.\n",
    "If you want to design a different network, you are free to do so. Note, however that you might face a more complex optimization in that case."
   ]
  },
  {
   "cell_type": "code",
   "execution_count": null,
   "id": "8681ad36-6419-4e9b-b792-ed81d884eae3",
   "metadata": {
    "deletable": false,
    "nbgrader": {
     "cell_type": "code",
     "checksum": "4919b1da07628a8ea0efac04e1ebc343",
     "grade": false,
     "grade_id": "cell-918c8cb629a1f300",
     "locked": false,
     "schema_version": 3,
     "solution": true,
     "task": false
    },
    "tags": []
   },
   "outputs": [],
   "source": [
    "# theoretically you would need to interpolate separately for training and evaluation, but we will look past this here\n",
    "# as the time is already dividing between the two\n",
    "interp_input = AkimaInterpolation(u, tsteps);\n",
    "\n",
    "ann = create_ann([2, 8, 4, 1], tanh, x -> x)\n",
    "\n",
    "# initialize parameter and state variables\n",
    "\n",
    "# using this seed for initialization the intial state of the model is quite good for the task,\n",
    "# otherwise the optimization is too complex for the given ressources..\n",
    "seed = 2 \n",
    "\n",
    "w, st = Lux.setup(MersenneTwister(seed), ann);\n",
    "w = ComponentArray(w);\n",
    "\n",
    "dxdt(x, w, t) = nothing  # ODE function\n",
    "training_prob = nothing  # ODE training problem\n",
    "\n",
    "#--- YOUR CODE STARTS HERE ---#\n",
    "\n",
    "#--- YOUR CODE ENDS HERE ---#"
   ]
  },
  {
   "cell_type": "code",
   "execution_count": null,
   "id": "b942c816-61fa-4e4f-9392-cf95cf3c3fe7",
   "metadata": {
    "deletable": false,
    "editable": false,
    "nbgrader": {
     "cell_type": "code",
     "checksum": "e70ffa71c469d9bfa7931dc7bf6ee79b",
     "grade": true,
     "grade_id": "cell-28ca043f73f5555e",
     "locked": true,
     "points": 1,
     "schema_version": 3,
     "solution": false,
     "task": false
    },
    "tags": []
   },
   "outputs": [],
   "source": [
    "@assert isa(dxdt, Function)\n",
    "@assert isa(training_prob, ODEProblem)\n"
   ]
  },
  {
   "cell_type": "markdown",
   "id": "2611ce0a-14b0-4646-8b82-f6c751b49208",
   "metadata": {
    "deletable": false,
    "editable": false,
    "nbgrader": {
     "cell_type": "markdown",
     "checksum": "a6a533fe002aa1257490391a53932c0e",
     "grade": false,
     "grade_id": "cell-b4244386369b6c57",
     "locked": true,
     "schema_version": 3,
     "solution": false,
     "task": false
    },
    "tags": []
   },
   "source": [
    "#### **d)** - (0.5 points)\n",
    "Next, we want to implement the forward pass of the NODE.\n",
    "\n",
    "Implement the function below that takes the parameters of the model $\\mathbf{w}$, an ODE problem, the initial state $x_0$ and the timesteps and returns the state trajectory $\\hat{\\mathbf{x}}_n$.\n",
    "Use the Tsit5 ODE solver, but non-adaptive."
   ]
  },
  {
   "cell_type": "code",
   "execution_count": null,
   "id": "fcbaa8e2-7943-43ae-ba4a-0fa80f961c13",
   "metadata": {
    "deletable": false,
    "nbgrader": {
     "cell_type": "code",
     "checksum": "f08b4c261db82879ab069b767fd781fb",
     "grade": false,
     "grade_id": "cell-570e3a4279eda63e",
     "locked": false,
     "schema_version": 3,
     "solution": true,
     "task": false
    },
    "tags": []
   },
   "outputs": [],
   "source": [
    "function predict_NODE(w, problem, x0, tsteps, dt)\n",
    "    \"\"\"\n",
    "    NODE forward pass\n",
    "\n",
    "    Args:\n",
    "        w: Parameters of the model as a ComponentArray\n",
    "        problem: ODE problem\n",
    "        x0: Initial state of the trajectory\n",
    "        tsteps: Time steps of the trajectory\n",
    "        dt: The time between two samples in the trajectory\n",
    "\n",
    "    Returns:\n",
    "        Resulting state trajectory\n",
    "    \n",
    "    \"\"\"\n",
    "    #--- YOUR CODE STARTS HERE ---#\n",
    "    \n",
    "    #--- YOUR CODE ENDS HERE ---#\n",
    "end;"
   ]
  },
  {
   "cell_type": "code",
   "execution_count": null,
   "id": "060fdbe5",
   "metadata": {
    "deletable": false,
    "editable": false,
    "nbgrader": {
     "cell_type": "code",
     "checksum": "e7b4074beaa96440c86f3867d6b59757",
     "grade": true,
     "grade_id": "cell-ac7bf6fc7f676daa",
     "locked": true,
     "points": 0.5,
     "schema_version": 3,
     "solution": false,
     "task": false
    },
    "tags": []
   },
   "outputs": [],
   "source": [
    "@assert isa(predict_NODE, Function)\n"
   ]
  },
  {
   "cell_type": "markdown",
   "id": "4394d936-4d53-4759-bab9-e340ed00556c",
   "metadata": {
    "deletable": false,
    "editable": false,
    "nbgrader": {
     "cell_type": "markdown",
     "checksum": "06e3db3f4922893bb6fb981eb796b93a",
     "grade": false,
     "grade_id": "cell-e70785597b8dee20",
     "locked": true,
     "schema_version": 3,
     "solution": false,
     "task": false
    },
    "tags": []
   },
   "source": [
    "#### **e)** \n",
    "Implement the MSE loss function to compare model predictions and true trajectory. Optimize the parameters $\\mathbf{w}$ of your model given in subtask c) using the given optimizer.\n",
    "Design an adequate optimization problem for the given template.\n",
    "\n",
    "**Note:** The code itself will generally not be evaluated in this subtask, but only the performance on the evaluation set. We will inspect your optimization routine more closely if it looks suspicious."
   ]
  },
  {
   "cell_type": "code",
   "execution_count": null,
   "id": "40ebc2f2-f179-471c-88cb-215dcce9f03e",
   "metadata": {
    "deletable": false,
    "nbgrader": {
     "cell_type": "code",
     "checksum": "24b99de48b08fde9216268e4068b3b97",
     "grade": true,
     "grade_id": "cell-d7fe39fe141387bf",
     "locked": false,
     "points": 0,
     "schema_version": 3,
     "solution": true,
     "task": false
    },
    "slideshow": {
     "slide_type": ""
    },
    "tags": []
   },
   "outputs": [],
   "source": [
    "#your final model parameters\n",
    "result = nothing\n",
    "\n",
    "optimizer = OptimizationFlux.Adam(1e-3)\n",
    "maxiters = 2_000\n",
    "\n",
    "function callback(state, l)\n",
    "\tstate.iter % 100 == 0 && @printf \"Iteration: %5d, Training loss: %.6e\\n\" state.iter l\n",
    "\n",
    "    # extend the callback if you like, the parameters can be accessed as state.u\n",
    "    #--- YOUR CODE STARTS HERE ---#\n",
    "    \n",
    "    #--- YOUR CODE ENDS HERE ---#\n",
    "\treturn false\n",
    "end\n",
    "\n",
    "#--- YOUR CODE STARTS HERE ---#\n",
    "\n",
    "#--- YOUR CODE ENDS HERE ---#\n",
    "\n",
    "result = Optimization.solve(\n",
    "    optprob,\n",
    "    optimizer,\n",
    "    maxiters=maxiters,\n",
    "    callback=callback\n",
    ")\n",
    "\n",
    "# save your model parameters\n",
    "if @isdefined result\n",
    "    #Save your model as file\n",
    "    @assert isa(result, SciMLBase.OptimizationSolution)\n",
    "    serialize(\"model_task_1\",result)\n",
    "end"
   ]
  },
  {
   "cell_type": "markdown",
   "id": "5a7ffa2d-59ca-4c39-ac89-be37364b4e8f",
   "metadata": {
    "deletable": false,
    "editable": false,
    "nbgrader": {
     "cell_type": "markdown",
     "checksum": "a58779aa22c43558be6c3c88ceb4f00b",
     "grade": false,
     "grade_id": "cell-9216a400f47d431f",
     "locked": true,
     "schema_version": 3,
     "solution": false,
     "task": false
    },
    "tags": []
   },
   "source": [
    "After you have trained your model, save the parameters using the code above into the file `model_task_1`. \n",
    "\n",
    "**Then comment out your optimization code in the cell above and remove your saving code so that both do not run in the autograding!**"
   ]
  },
  {
   "cell_type": "code",
   "execution_count": null,
   "id": "26249694-7118-441d-9495-6df79b972c0d",
   "metadata": {
    "deletable": false,
    "editable": false,
    "nbgrader": {
     "cell_type": "code",
     "checksum": "7e2012d54ce761dad414c61cda7f3bca",
     "grade": false,
     "grade_id": "cell-6451e201046f4f60",
     "locked": true,
     "schema_version": 3,
     "solution": false,
     "task": false
    },
    "tags": []
   },
   "outputs": [],
   "source": [
    "# load your model parameters\n",
    "\n",
    "student_model = deserialize(\"model_task_1\")\n",
    "@assert isa(student_model, SciMLBase.OptimizationSolution)\n",
    "\n",
    "student_w = student_model.u  # extract parameters"
   ]
  },
  {
   "cell_type": "markdown",
   "id": "7ee9064d-4829-4c0b-9dd4-8ef866cbf693",
   "metadata": {
    "deletable": false,
    "editable": false,
    "nbgrader": {
     "cell_type": "markdown",
     "checksum": "4c3f5b68ea7768ed566c27b612576aa3",
     "grade": false,
     "grade_id": "cell-60a4aca65789e79d",
     "locked": true,
     "schema_version": 3,
     "solution": false,
     "task": false
    },
    "tags": []
   },
   "source": [
    "#### **f)** - (3 points)\n",
    "Evaluate the performance of your model on the evaluation dataset. To do so, define the evaluation problem.\n",
    "\n",
    "To gain the points for this subtask, you have to produce a model that reaches an MSE between the prediction and the eval trajectory lower than the threshold given below.\n",
    "The previously given architecture and optimization parameters should help you reach this prediction accuracy."
   ]
  },
  {
   "cell_type": "code",
   "execution_count": null,
   "id": "52a97cf6-c225-4a1a-bd8a-4ec9e0f63fe1",
   "metadata": {
    "deletable": false,
    "nbgrader": {
     "cell_type": "code",
     "checksum": "bdaceaf1f8fa0b8bbb6687df16b9bbf8",
     "grade": false,
     "grade_id": "cell-e03273e4aae27b3c",
     "locked": false,
     "schema_version": 3,
     "solution": true,
     "task": false
    },
    "tags": []
   },
   "outputs": [],
   "source": [
    "x0 = nothing\n",
    "evaluation_problem = nothing\n",
    "\n",
    "#--- YOUR CODE STARTS HERE ---#\n",
    "\n",
    "#--- YOUR CODE ENDS HERE ---#"
   ]
  },
  {
   "cell_type": "code",
   "execution_count": null,
   "id": "ba96fd4b",
   "metadata": {
    "deletable": false,
    "editable": false,
    "nbgrader": {
     "cell_type": "code",
     "checksum": "766fb0ceb9d36f00fded19e3c5cdced0",
     "grade": true,
     "grade_id": "cell-02d836886f3822c6",
     "locked": true,
     "points": 3,
     "schema_version": 3,
     "solution": false,
     "task": false
    },
    "tags": []
   },
   "outputs": [],
   "source": [
    "@assert isa(x0,Number)\n",
    "@assert isa(evaluation_problem, ODEProblem)\n",
    "\n",
    "prediction_eval = predict_NODE(student_w, evaluation_problem, [x0] , tsteps_eval, dt)[1,:]\n",
    "\n",
    "@assert length(prediction_eval) == length(tsteps_eval)\n",
    "\n",
    "prediction_error_eval = Flux.mse(prediction_eval, y_eval)\n",
    "println(\"Given prediction error: \", prediction_error_eval)\n",
    "\n",
    "@assert prediction_error_eval <= 0.3"
   ]
  },
  {
   "cell_type": "code",
   "execution_count": null,
   "id": "064685cd-edd8-46b8-a514-05498517091f",
   "metadata": {
    "deletable": false,
    "editable": false,
    "nbgrader": {
     "cell_type": "code",
     "checksum": "a69a8471ca35bca50c789223e697158b",
     "grade": false,
     "grade_id": "cell-3caa66686b1ea9aa",
     "locked": true,
     "schema_version": 3,
     "solution": false,
     "task": false
    }
   },
   "outputs": [],
   "source": [
    "prediction_training = predict_NODE(student_w, training_prob, [y_training[1]] , tsteps_training, dt)[1,:]\n",
    "\n",
    "p = plot(tsteps_training, y_training, label=L\"y\", lw =2, title=\"Training set performance\")\n",
    "plot!(p, tsteps_training, u_training, label=L\"u\", lw =2)\n",
    "plot!(p, tsteps_training, prediction_training, label=L\"\\hat{y}\", lw =2)"
   ]
  },
  {
   "cell_type": "code",
   "execution_count": null,
   "id": "22727103-0592-4760-8606-96f9930a256c",
   "metadata": {
    "deletable": false,
    "editable": false,
    "nbgrader": {
     "cell_type": "code",
     "checksum": "28c6f2b67feb8275e82dcc64e07bdb75",
     "grade": false,
     "grade_id": "cell-d4659a15c01715ed",
     "locked": true,
     "schema_version": 3,
     "solution": false,
     "task": false
    }
   },
   "outputs": [],
   "source": [
    "eval_plot = scatter(tsteps_eval, y_eval, label=L\"$y(t)$\", title=\"Eval performance\", xlabel=L\"$t$ in seconds\", ylabel=L\"$y$ in °C\", legend=:bottomleft, lw=2)\n",
    "plot!(eval_plot, tsteps_eval, prediction_eval, label=L\"$\\hat{y}(t)$\", lw =2)"
   ]
  },
  {
   "cell_type": "markdown",
   "id": "785cc2f4",
   "metadata": {
    "deletable": false,
    "editable": false,
    "nbgrader": {
     "cell_type": "markdown",
     "checksum": "2915ac53a77d037794adc322914b2540",
     "grade": false,
     "grade_id": "cell-bc4c6b0fa13bab7d",
     "locked": true,
     "schema_version": 3,
     "solution": false,
     "task": false
    },
    "tags": []
   },
   "source": [
    "## Task 2: NODE model for Lake Erie (MIMO) - (4 points)\n",
    "\n",
    "In this task, we once again model an underlying process using NODEs. However, the system at hand now takes multiple inputs $\\mathbf{u}(t)$ and yields multiple outputs $\\mathbf{y}(t)$. This means we need to model a multiple-input-multiple-output (MIMO) system.\n",
    "\n",
    "This results in the dynamics equations \n",
    "\n",
    "$$\n",
    "\\begin{align}\n",
    "    \\frac{\\mathrm{d}}{\\mathrm{d}t} \\hat{\\mathbf{x}}(t) &= \\mathcal{M}_{\\mathbf{w}} (\\hat{\\mathbf{x}}(t), \\mathbf{u}(t)) \\\\\n",
    "    \\hat{\\mathbf{y}}(t) & = \\hat{\\mathbf{x}} (t).\n",
    "\\end{align}\n",
    "$$\n",
    "\n",
    "The data ([source](https://ftp.esat.kuleuven.be/pub/SISTA/data/environmental/) and [description](https://ftp.esat.kuleuven.be/pub/SISTA/data/environmental/erie.txt) of the dataset) is the result of a simulation of the western basin of Lake Erie. The inputs $\\mathbf{u}(t)$ are the water temperature, water conductivity, water alkalinity, the NO3 content and the total hardness of the water. The outputs $\\mathbf{y}(t)$ are the amount of dissolved oxigen and the algae content. We are interested in the dynamic relationship between inputs and outputs described by the model above."
   ]
  },
  {
   "cell_type": "markdown",
   "id": "f7690476",
   "metadata": {
    "deletable": false,
    "editable": false,
    "nbgrader": {
     "cell_type": "markdown",
     "checksum": "41466c94ce2ce0fbe23bc96c72a485fa",
     "grade": false,
     "grade_id": "cell-c090174191bd4f5a",
     "locked": true,
     "schema_version": 3,
     "solution": false,
     "task": false
    },
    "tags": []
   },
   "source": [
    "#### a) - (1 point)\n",
    "\n",
    "Below you are shown the raw output data:\n",
    "\n",
    "![lake_erie-not_normalized](./LakeErie-NotNormalized.svg)\n",
    "\n",
    "You can see that the two outputs are scaled very differently. As a result, we need to normalize them separately.\n",
    "\n",
    "Implement the function below to normalize each output separately. Use `StatsBase.fit(ZScoreTransform, ...)` and `StatsBase.transform(...)` for the normalization."
   ]
  },
  {
   "cell_type": "code",
   "execution_count": null,
   "id": "0935e63e",
   "metadata": {
    "deletable": false,
    "nbgrader": {
     "cell_type": "code",
     "checksum": "6f4e71edd38f4ad5cd317c96fbac5502",
     "grade": false,
     "grade_id": "cell-6e8e8e91ef5a31f7",
     "locked": false,
     "schema_version": 3,
     "solution": true,
     "task": false
    },
    "tags": []
   },
   "outputs": [],
   "source": [
    "function normalize_columnwise(data)\n",
    "\n",
    "    #--- YOUR CODE STARTS HERE ---#\n",
    "    \n",
    "    #--- YOUR CODE ENDS HERE ---#\n",
    "    \n",
    "    return normalized_data\n",
    "end\n",
    "\n",
    "function loaddata_erie(; normalize= true)\n",
    "    fh = GZip.open(\"erie.dat.gz\")\n",
    "    data = readdlm(fh)\n",
    "    \n",
    "    t = data[:, 1]  # time in months\n",
    "    u = data[:, 2:6]\n",
    "    y = data[:, 22:23]\n",
    "    \n",
    "    dt = 1  # time between samples in months\n",
    "    \n",
    "    # convert to Float32 for performance\n",
    "    t = Float32.(t)\n",
    "    u = Float32.(u) \n",
    "    y = Float32.(y)\n",
    "    \n",
    "    if normalize  # optional standardization of data\n",
    "        y = normalize_columnwise(y)\n",
    "        u = normalize_columnwise(u)\n",
    "    end\n",
    "    \n",
    "    tspan = (t[1], t[end])\n",
    "    \n",
    "    return u, y, dt, tspan, t\n",
    "end"
   ]
  },
  {
   "cell_type": "markdown",
   "id": "6fbdd327",
   "metadata": {
    "deletable": false,
    "editable": false,
    "nbgrader": {
     "cell_type": "markdown",
     "checksum": "b4cf3b89641c3786e4526a3cf8655c6b",
     "grade": false,
     "grade_id": "cell-87d62b94eaede601",
     "locked": true,
     "schema_version": 3,
     "solution": false,
     "task": false
    },
    "tags": []
   },
   "source": [
    "Code for plot below when the data is normalized properly:\n",
    "```\n",
    "p = plot(tsteps, y, label=L\"y\", title=\"Lake Erie\", xlabel=L\"$t$ in months\", ylabel=L\"y\", legend=:topleft, background_color=\"#000000\",lw=2, palette = :Set2_5)\n",
    "```\n",
    "\n",
    "![lake_erie](./LakeErie.svg)"
   ]
  },
  {
   "cell_type": "code",
   "execution_count": null,
   "id": "ae09af52-35fb-4486-8336-24a5990d8cfe",
   "metadata": {
    "deletable": false,
    "editable": false,
    "nbgrader": {
     "cell_type": "code",
     "checksum": "7f425e903440622025f8fcd5fa567225",
     "grade": true,
     "grade_id": "cell-8a7c3804be0b72b3",
     "locked": true,
     "points": 1,
     "schema_version": 3,
     "solution": false,
     "task": false
    },
    "tags": []
   },
   "outputs": [],
   "source": [
    "isa(normalize_columnwise, Function)\n"
   ]
  },
  {
   "cell_type": "code",
   "execution_count": null,
   "id": "c0bd94e8-5b4a-41b3-913b-cd2a302e4613",
   "metadata": {
    "deletable": false,
    "editable": false,
    "nbgrader": {
     "cell_type": "code",
     "checksum": "faec2f32f4df00cbde160d3dbb3d02ce",
     "grade": true,
     "grade_id": "cell-516d19b3eff83094",
     "locked": true,
     "points": 0,
     "schema_version": 3,
     "solution": false,
     "task": false
    },
    "tags": []
   },
   "outputs": [],
   "source": [
    "# please leave this cell as it is\n"
   ]
  },
  {
   "cell_type": "markdown",
   "id": "4f237e8a-989d-48c8-be6b-1407a0feedf1",
   "metadata": {
    "deletable": false,
    "editable": false,
    "nbgrader": {
     "cell_type": "markdown",
     "checksum": "46c43e9c9b5bbeb1aaa7cecdd7a8c522",
     "grade": false,
     "grade_id": "cell-ff0491357909b8a4",
     "locked": true,
     "schema_version": 3,
     "solution": false,
     "task": false
    },
    "tags": []
   },
   "source": [
    "#### Preparations:"
   ]
  },
  {
   "cell_type": "code",
   "execution_count": null,
   "id": "392dae13-5513-447e-afb9-f9efd3106060",
   "metadata": {
    "deletable": false,
    "editable": false,
    "nbgrader": {
     "cell_type": "code",
     "checksum": "b2998ce6a2a1138db745c08165e08d2d",
     "grade": false,
     "grade_id": "cell-a41203b78d1e4bbe",
     "locked": true,
     "schema_version": 3,
     "solution": false,
     "task": false
    },
    "tags": []
   },
   "outputs": [],
   "source": [
    "u, y, dt, tspan, tsteps = loaddata_erie(normalize=true)\n",
    "print(size(u))\n",
    "\n",
    "# interpolate inputs for all channels separately\n",
    "interp_input = [AkimaInterpolation(u[:, i], tsteps) for i in 1:size(u, 2)]\n",
    "function interpolate_input(t)\n",
    "    return [f(t_) for (f, t_) in zip(interp_input, ones(size(interp_input, 1))* t)]\n",
    "end"
   ]
  },
  {
   "cell_type": "code",
   "execution_count": null,
   "id": "936a64f8-8a72-4da5-a247-fec3fd21ef54",
   "metadata": {
    "deletable": false,
    "editable": false,
    "nbgrader": {
     "cell_type": "code",
     "checksum": "89a1713ed494b8bcce87b7fcde612a43",
     "grade": false,
     "grade_id": "cell-f20ab0be98c0ffc5",
     "locked": true,
     "schema_version": 3,
     "solution": false,
     "task": false
    },
    "tags": []
   },
   "outputs": [],
   "source": [
    "belonging_to_training = tsteps .<= 40\n",
    "belonging_to_eval = tsteps .> 40\n",
    "\n",
    "u_training = u[belonging_to_training, :]\n",
    "y_training = y[belonging_to_training, :]\n",
    "tsteps_training = tsteps[belonging_to_training, :]\n",
    "\n",
    "u_eval = u[belonging_to_eval, :]\n",
    "y_eval = y[belonging_to_eval, :]\n",
    "tsteps_eval = tsteps[belonging_to_eval, :];\n",
    "\n",
    "tsteps_training = vec(tsteps_training)\n",
    "tsteps_eval = vec(tsteps_eval);"
   ]
  },
  {
   "cell_type": "markdown",
   "id": "d13d4918-e136-42a4-ad7a-4318388da8ab",
   "metadata": {
    "deletable": false,
    "editable": false,
    "nbgrader": {
     "cell_type": "markdown",
     "checksum": "1e3dd94b2c939744ef8530028d02e531",
     "grade": false,
     "grade_id": "cell-1a0dc1780455cf7c",
     "locked": true,
     "schema_version": 3,
     "solution": false,
     "task": false
    },
    "tags": []
   },
   "source": [
    "#### **b)**\n",
    "\n",
    "Build and train a NODE model using the training dataset. Design a feed-forward fully-connected neural network as the model."
   ]
  },
  {
   "cell_type": "code",
   "execution_count": null,
   "id": "f90b38de-8cc4-4038-8dfe-9a2dce3ccaf0",
   "metadata": {
    "deletable": false,
    "nbgrader": {
     "cell_type": "code",
     "checksum": "2769a4f530e1c3929f73b8a1749ae0ad",
     "grade": true,
     "grade_id": "cell-42a0d9a76189a154",
     "locked": false,
     "points": 0,
     "schema_version": 3,
     "solution": true,
     "task": false
    },
    "slideshow": {
     "slide_type": ""
    },
    "tags": []
   },
   "outputs": [],
   "source": [
    "result_2 = nothing\n",
    "\n",
    "#--- YOUR CODE STARTS HERE ---#\n",
    "\n",
    "#--- YOUR CODE ENDS HERE ---#\n",
    "\n",
    "\n",
    "if @isdefined result_erie\n",
    "    serialize(\"model_task_2\", result_erie)\n",
    "end"
   ]
  },
  {
   "cell_type": "markdown",
   "id": "f0f11159-85c1-499e-a9b6-8a8f08a5dab0",
   "metadata": {
    "deletable": false,
    "editable": false,
    "nbgrader": {
     "cell_type": "markdown",
     "checksum": "4a69091f95a134c8d580b6d6b0650f06",
     "grade": false,
     "grade_id": "cell-28cc18cdcd0589d2",
     "locked": true,
     "schema_version": 3,
     "solution": false,
     "task": false
    },
    "tags": []
   },
   "source": [
    "After you have trained your model, save the parameters using the code above into the file `model_task_2`. \n",
    "\n",
    "**Then comment out your optimization code in the cell above and remove your saving code so that both do not run in the autograding!**\n",
    "\n",
    "**Ensure that everything that is necessary for the evaluation is still defined (Model definition etc.), i.e. that the evaluation can still run at submission!**"
   ]
  },
  {
   "cell_type": "markdown",
   "id": "86e98f48-f3d9-492f-bcf1-fe05e48b7230",
   "metadata": {
    "deletable": false,
    "editable": false,
    "nbgrader": {
     "cell_type": "markdown",
     "checksum": "36f818fe44df3f8a7338c0658c70c0b4",
     "grade": false,
     "grade_id": "cell-acbe43ce5fc00be6",
     "locked": true,
     "schema_version": 3,
     "solution": false,
     "task": false
    },
    "tags": []
   },
   "source": [
    "#### **c)** - (3 points)\n",
    "\n",
    "Evaluate the performance of your model on the evaluation dataset. To do so, define the evaluation problem.\n",
    "\n",
    "To gain the points for this subtask, you have to produce a model that reaches an MSE between the prediction and the eval trajectory lower than the threshold given below. Design a model architecture and optimization routine in the previous subtasks that reaches this level of accuracy."
   ]
  },
  {
   "cell_type": "code",
   "execution_count": null,
   "id": "b5b7d6e9-12da-475a-b58a-0e1963ee5a18",
   "metadata": {
    "deletable": false,
    "editable": false,
    "nbgrader": {
     "cell_type": "code",
     "checksum": "73baa0b2567edc1aa567a85598b2a6f4",
     "grade": false,
     "grade_id": "cell-590f292d32e7f01b",
     "locked": true,
     "schema_version": 3,
     "solution": false,
     "task": false
    },
    "tags": []
   },
   "outputs": [],
   "source": [
    "result_erie = deserialize(\"model_task_2\")\n",
    "student_w = result_erie.u  # extract parameters"
   ]
  },
  {
   "cell_type": "code",
   "execution_count": null,
   "id": "8f1383de-dc47-4159-ba3e-f3fc33a96365",
   "metadata": {
    "deletable": false,
    "nbgrader": {
     "cell_type": "code",
     "checksum": "326783376527395c4ba2eb2e57006a85",
     "grade": false,
     "grade_id": "cell-031b2b3f3dc2e238",
     "locked": false,
     "schema_version": 3,
     "solution": true,
     "task": false
    },
    "tags": []
   },
   "outputs": [],
   "source": [
    "x0_eval = nothing\n",
    "evaluation_prob = nothing\n",
    "\n",
    "#--- YOUR CODE STARTS HERE ---#\n",
    "\n",
    "#--- YOUR CODE ENDS HERE ---#"
   ]
  },
  {
   "cell_type": "code",
   "execution_count": null,
   "id": "fc10afb0-e076-481b-b3bc-7202ee01cf72",
   "metadata": {
    "deletable": false,
    "editable": false,
    "nbgrader": {
     "cell_type": "code",
     "checksum": "d07a4ebc72e3b4782e2e3bf57cc66ee9",
     "grade": true,
     "grade_id": "cell-b341938e9befa3d5",
     "locked": true,
     "points": 3,
     "schema_version": 3,
     "solution": false,
     "task": false
    },
    "tags": []
   },
   "outputs": [],
   "source": [
    "#public test\n",
    "@assert isa(x0_eval, Array)\n",
    "@assert isa(evaluation_prob, ODEProblem)\n",
    "\n",
    "prediction_eval = transpose(predict_NODE(student_w, evaluation_prob, x0_eval, tsteps_eval, dt))\n",
    "\n",
    "\n",
    "@assert length(prediction_eval) == length(y_eval)\n",
    "\n",
    "prediction_error_eval = Flux.mse(prediction_eval, y_eval)\n",
    "println(\"Given prediction error: \", prediction_error_eval)\n",
    "\n",
    "@assert prediction_error_eval <= 0.5"
   ]
  },
  {
   "cell_type": "code",
   "execution_count": null,
   "id": "3c49f843-4519-41fd-b60c-1c0666eaec45",
   "metadata": {
    "deletable": false,
    "editable": false,
    "nbgrader": {
     "cell_type": "code",
     "checksum": "314e5dd0b3aaa244ceda2f127be9831d",
     "grade": false,
     "grade_id": "cell-d3982d3ffd02b3dd",
     "locked": true,
     "schema_version": 3,
     "solution": false,
     "task": false
    }
   },
   "outputs": [],
   "source": [
    "prediction_training = transpose(predict_NODE(student_w, training_problem, y_training[1, :] , tsteps_training, dt))\n",
    "\n",
    "p = plot(tsteps_training, y_training, label=L\"y\", title=\"Lake Erie\", xlabel=L\"$t$ in months\", ylabel=L\"y\", legend=:topleft,lw=2, palette = :Set2_5)\n",
    "# plot!(p, tsteps_training, u_training, label=L\"u\", lw =2)\n",
    "plot!(p, tsteps_training, prediction_training, label=L\"\\hat{y}\", lw =2)"
   ]
  },
  {
   "cell_type": "code",
   "execution_count": null,
   "id": "b52336e0-9db9-4bd4-8a5e-671a081c0ddb",
   "metadata": {
    "deletable": false,
    "editable": false,
    "nbgrader": {
     "cell_type": "code",
     "checksum": "25e4d357b3c70f60d7c2e6bc113f5563",
     "grade": false,
     "grade_id": "cell-c77d276f2dac017d",
     "locked": true,
     "schema_version": 3,
     "solution": false,
     "task": false
    }
   },
   "outputs": [],
   "source": [
    "prediction_eval, prediction_error_eval = evaluate_result(student_w, y_eval, tsteps_eval)\n",
    "eval_plot = Plots.plot(tsteps_eval, y_eval, label=L\"$y(t)$\", title=\"Simple heating system\", xlabel=L\"$t$ in seconds\", ylabel=L\"$y$ in °C\", legend=:bottomleft,lw=2, palette = :Set2_5)\n",
    "Plots.plot!(eval_plot, tsteps_eval, prediction_eval, label=L\"$\\hat{y}(t)$\", lw =2)\n",
    "display(eval_plot)"
   ]
  },
  {
   "cell_type": "code",
   "execution_count": null,
   "id": "f9a43031-70ac-46ac-bb6c-9b48a62cd3d1",
   "metadata": {},
   "outputs": [],
   "source": []
  }
 ],
 "metadata": {
  "kernelspec": {
   "display_name": "Julia 1.10.5",
   "language": "julia",
   "name": "julia-1.10"
  },
  "language_info": {
   "file_extension": ".jl",
   "mimetype": "application/julia",
   "name": "julia",
   "version": "1.10.5"
  }
 },
 "nbformat": 4,
 "nbformat_minor": 5
}
