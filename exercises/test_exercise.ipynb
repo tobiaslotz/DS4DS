{
 "cells": [
  {
   "cell_type": "markdown",
   "id": "fdd315ca-2d0b-4c27-af25-f55e83191b51",
   "metadata": {
    "deletable": false,
    "editable": false,
    "nbgrader": {
     "cell_type": "markdown",
     "checksum": "a59682ef44c4f1d2de74bf58a9850110",
     "grade": false,
     "grade_id": "cell-fbabdc123f2c8194",
     "locked": true,
     "schema_version": 3,
     "solution": false,
     "task": false
    },
    "tags": []
   },
   "source": [
    "**General instructions**:\n",
    "- Submit via Jupyter Lab server\n",
    "- Possible questions should be asked via the Panda course forum (last minute questions are unlikely to be answered)\n",
    "- Collaborations between students during problem-solving phase on a discussion basis is OK\n",
    "- However: individual code programming and submissions per student are required\n",
    "- Code sharing is strictly prohibited\n",
    "- We will run checks for shared code, general plagiarism and AI-generated solutions\n",
    "- Any fraud attempt will lead to an auto fail of the entire course\n",
    "- Do not use any additional packages except for those provided in the task templates\n",
    "- Remove any plot code that was not explicitly asked for before submission. However, you are encouraged to create plots of your data for your own understanding."
   ]
  },
  {
   "cell_type": "markdown",
   "id": "7d829d1c-bf8c-4ea6-ad96-aaf4137a539e",
   "metadata": {
    "deletable": false,
    "editable": false,
    "nbgrader": {
     "cell_type": "markdown",
     "checksum": "751976774860425e9f1b657273912563",
     "grade": false,
     "grade_id": "cell-ec008c490f940dd8",
     "locked": true,
     "schema_version": 3,
     "solution": false,
     "task": false
    },
    "tags": []
   },
   "source": [
    "# Demo exercise\n",
    "\n",
    "This is a sample task that will serve as a test run for you for the procedure of future home exercises.\n",
    "The points scored here will NOT be included in the overall statistics.\n",
    "Nevertheless, you should deal with the tasks sufficiently in order not to lose any points due to formal errors in the upcoming tasks."
   ]
  },
  {
   "cell_type": "markdown",
   "id": "cd084fca-061a-4171-8b4d-79cf61beac70",
   "metadata": {
    "deletable": false,
    "editable": false,
    "nbgrader": {
     "cell_type": "markdown",
     "checksum": "a4b3041adba1bf9ca329b39b592df831",
     "grade": false,
     "grade_id": "cell-703ea9d3c4885cf1",
     "locked": true,
     "schema_version": 3,
     "solution": false,
     "task": false
    },
    "tags": []
   },
   "source": [
    "### Multiple Choice example - (1 point)\n",
    "\n",
    "What is the result of 5+5 ?\n",
    "- 1: 0\n",
    "- 2: 10\n",
    "- 3: 20\n",
    "\n",
    "Assign the correct value to the variable *result* --> 1,2 or 3"
   ]
  },
  {
   "cell_type": "code",
   "execution_count": 1,
   "id": "a71b36b1-ee89-4d52-a4d1-e5d11fc7773d",
   "metadata": {
    "deletable": false,
    "nbgrader": {
     "cell_type": "code",
     "checksum": "7232a1c23b445cde167142cf442109c5",
     "grade": false,
     "grade_id": "cell-ac32799271543259",
     "locked": false,
     "schema_version": 3,
     "solution": true,
     "task": false
    },
    "tags": []
   },
   "outputs": [
    {
     "data": {
      "text/plain": [
       "2"
      ]
     },
     "metadata": {},
     "output_type": "display_data"
    }
   ],
   "source": [
    "result = 2"
   ]
  },
  {
   "cell_type": "code",
   "execution_count": 2,
   "id": "41310396-40c8-4ad1-b554-011d7912d6b1",
   "metadata": {
    "deletable": false,
    "editable": false,
    "nbgrader": {
     "cell_type": "code",
     "checksum": "4e23aaf07072fb569295811ca258ecd4",
     "grade": true,
     "grade_id": "cell-27034c25518cf545",
     "locked": true,
     "points": 1,
     "schema_version": 3,
     "solution": false,
     "task": false
    },
    "tags": []
   },
   "outputs": [],
   "source": [
    "# This is a test cell. Some tests are public, so you can see them during the exercise. They mostly contain test that check format aspects.\n",
    "@assert isa(result, Number)\n",
    "@assert result > 0 && result < 4\n",
    "\n",
    "#There are also hidden tests that you cannot see, that will check wether your solution is correct"
   ]
  },
  {
   "cell_type": "markdown",
   "id": "b8c58699-534a-4e9b-9f32-e38247889ffd",
   "metadata": {
    "deletable": false,
    "editable": false,
    "nbgrader": {
     "cell_type": "markdown",
     "checksum": "decf58fff842541ec008bc1b0f5bc39c",
     "grade": false,
     "grade_id": "cell-1fa6bf4236af99d0",
     "locked": true,
     "schema_version": 3,
     "solution": false,
     "task": false
    },
    "tags": []
   },
   "source": [
    "### Function example - (1 point)\n",
    "\n",
    "The function test_function should return the value of the given parameter $t$ (identity function)\n",
    "\n",
    "test_function(1) = 1, test_function(2) = 2, test_function(3) = 3, ..."
   ]
  },
  {
   "cell_type": "code",
   "execution_count": 3,
   "id": "505a6c1b-f471-458d-b6f1-374af075948c",
   "metadata": {
    "deletable": false,
    "nbgrader": {
     "cell_type": "code",
     "checksum": "ed82dcb882b50c09394a81da95a68d3b",
     "grade": false,
     "grade_id": "cell-5ad46beee8026867",
     "locked": false,
     "schema_version": 3,
     "solution": true,
     "task": false
    },
    "tags": []
   },
   "outputs": [
    {
     "data": {
      "text/plain": [
       "test_function (generic function with 1 method)"
      ]
     },
     "metadata": {},
     "output_type": "display_data"
    }
   ],
   "source": [
    "function test_function(t)\n",
    "    return t\n",
    "end"
   ]
  },
  {
   "cell_type": "code",
   "execution_count": 4,
   "id": "b47c2fad-2159-40bb-a4c7-8216fc4c36ed",
   "metadata": {
    "deletable": false,
    "editable": false,
    "nbgrader": {
     "cell_type": "code",
     "checksum": "7e43204718c26d80e78be46aaeb5b7cb",
     "grade": true,
     "grade_id": "cell-40551f84df942a1a",
     "locked": true,
     "points": 1,
     "schema_version": 3,
     "solution": false,
     "task": false
    }
   },
   "outputs": [],
   "source": [
    "# Public test\n",
    "@assert isa(test_function, Function)\n",
    "@assert isa(test_function(1), Number)\n",
    "\n",
    "#Private tests"
   ]
  },
  {
   "cell_type": "markdown",
   "id": "adff47fa-a93d-4eb1-81fb-90669301533b",
   "metadata": {
    "deletable": false,
    "editable": false,
    "nbgrader": {
     "cell_type": "markdown",
     "checksum": "bb86e4ab660b79f7640ef64f8cdc2df7",
     "grade": false,
     "grade_id": "cell-f32bfeeb9a492b8a",
     "locked": true,
     "schema_version": 3,
     "solution": false,
     "task": false
    },
    "tags": []
   },
   "source": [
    "### Matrix example - (1 point)\n",
    "\n",
    "The function test_function should return $t$ (parameter value) times the 2x2 unit matrix\n",
    "\n",
    "test_matrix(1) =  $\\begin{bmatrix} 1 & 0 \\\\ 0 & 1 \\end{bmatrix}$,\n",
    "test_matrix(2) =  $\\begin{bmatrix} 2 & 0 \\\\ 0 & 2 \\end{bmatrix}$,\n",
    "test_matrix(3) =  $\\begin{bmatrix} 3 & 0 \\\\ 0 & 3 \\end{bmatrix}$, ...\n"
   ]
  },
  {
   "cell_type": "code",
   "execution_count": 6,
   "id": "b5d41ff1-54ac-4ae2-9403-49b72d9ea9ce",
   "metadata": {
    "deletable": false,
    "nbgrader": {
     "cell_type": "code",
     "checksum": "38b8774afb8f36855526f23d83497709",
     "grade": false,
     "grade_id": "cell-46e04b69a5c6c3e1",
     "locked": false,
     "schema_version": 3,
     "solution": true,
     "task": false
    }
   },
   "outputs": [
    {
     "data": {
      "text/plain": [
       "test_matrix (generic function with 1 method)"
      ]
     },
     "metadata": {},
     "output_type": "display_data"
    }
   ],
   "source": [
    "function test_matrix(t)\n",
    "    return [t 0; 0 t]\n",
    "end"
   ]
  },
  {
   "cell_type": "code",
   "execution_count": 7,
   "id": "b674b5c1-e18e-45c8-a2b4-414bad892309",
   "metadata": {
    "deletable": false,
    "editable": false,
    "nbgrader": {
     "cell_type": "code",
     "checksum": "b8eb0ebf758d77a3521f6bb86d494577",
     "grade": true,
     "grade_id": "cell-91e28ae7692f64e8",
     "locked": true,
     "points": 1,
     "schema_version": 3,
     "solution": false,
     "task": false
    }
   },
   "outputs": [],
   "source": [
    "# Public test\n",
    "@assert isa(test_matrix, Function)\n",
    "@assert isa(test_matrix(1), AbstractMatrix)\n",
    "\n",
    "#Private tests"
   ]
  },
  {
   "cell_type": "code",
   "execution_count": null,
   "id": "76efcee6-9447-49c6-9550-3f9597fbd647",
   "metadata": {},
   "outputs": [],
   "source": []
  }
 ],
 "metadata": {
  "kernelspec": {
   "display_name": "Julia 1.11.0",
   "language": "julia",
   "name": "julia-1.11"
  },
  "language_info": {
   "file_extension": ".jl",
   "mimetype": "application/julia",
   "name": "julia",
   "version": "1.11.0"
  }
 },
 "nbformat": 4,
 "nbformat_minor": 5
}
