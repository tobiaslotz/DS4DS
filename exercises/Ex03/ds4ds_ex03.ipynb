{
 "cells": [
  {
   "cell_type": "markdown",
   "id": "48e7ff2b-0284-426c-a56c-4267d5ceebbe",
   "metadata": {
    "deletable": false,
    "editable": false,
    "nbgrader": {
     "cell_type": "markdown",
     "checksum": "5473e16fad2ee331da205244fe584bb2",
     "grade": false,
     "grade_id": "cell-09fde49b943430f9",
     "locked": true,
     "schema_version": 3,
     "solution": false,
     "task": false
    }
   },
   "source": [
    "# DS4DS Homework Exercise Sheet 03\n",
    "\n",
    "In this exercise you implement your own numerical solver for the 2D heat equation, which describes the tempearture $T$ in a 2D domain over the time interval $t\\in[t_0=0,t_e=0.2]$:\n",
    "$$\\frac{\\partial T}{\\partial t} = \\lambda \\Delta T,$$ \n",
    "where \n",
    "$\\Delta T = \\frac{\\partial^2 T}{\\partial s_1^2} + \\frac{\\partial^2 T}{\\partial s_2^2}$ is the _Laplace operator_ and $\\lambda>0$ is a material parameter.\n",
    "\n",
    "The system can be modeled by discrete approximation of the Laplace operator using the central difference method\n",
    "$$\\frac{\\partial^2 T_{i,j}}{\\partial s_1^2} \\approx \\frac{T_{i+1,j} - 2T_{i,j} + T_{i-1,j}}{\\Delta s^2}, \\qquad \n",
    "\\frac{\\partial^2 T_{i,j}}{\\partial s_2^2} \\approx \\frac{T_{i,j+1} - 2T_{i,j} + T_{i,j-1}}{\\Delta s^2}.$$\n",
    "\n",
    "As a setup, consider a rectangular domain $\\Omega = (0,1)^2$ with boundary \n",
    "$$\\Gamma = [0,1] \\times 0 ~\\cup~ [0,1] \\times 1 ~\\cup~ 0 \\times [0,1] ~\\cup~ 1 \\times [0,1]. $$ \n",
    "(i.e., bottom $\\cup$ top $\\cup$ left $\\cup$ right.)\n",
    "\n",
    "For discretization, use an equidistant grid with $n+2$ points in each direction (i.e., we have an $n+2 \\times n+2$ grid in space). This means that $\\Delta s = 1 / (n + 1)$. Of these $n+2$ grid points per dimension, the first and last are boundary nodes of Dirichlet type, meaning that they have a given value $T(s,t)= T_b(t)$ for $s\\in\\Gamma$. Consequently, the solution for the heat equation only has to be calculated for the interior of the domain. The solution we compute only concerns the $n^2$ interior grid nodes.\n",
    "\n",
    "As this is more appropriate for numerical simulations and for later use of the resulting data, we will _vectorize_ (or _flatten_) the numerical solution into a vector $\\hat{T}_i \\in \\mathbb{R}^{n^2}$ at every point $i$ in time. The indexing only addresses these interior points! This is visualized in the following sketch:\n",
    "\n",
    "![](MatrixScetch.png)"
   ]
  },
  {
   "cell_type": "markdown",
   "id": "e6e2742f-c24a-4043-b6a2-4dcf90d7e3b4",
   "metadata": {
    "deletable": false,
    "editable": false,
    "nbgrader": {
     "cell_type": "markdown",
     "checksum": "da362f12b0ea977cf478cdf47cd1a4e3",
     "grade": false,
     "grade_id": "cell-7fa1f14fdc5bef29",
     "locked": true,
     "schema_version": 3,
     "solution": false,
     "task": false
    },
    "tags": []
   },
   "source": [
    "### Task 1: Create the heat equation matrix - (4 points)\n",
    "\n",
    "First, consider homogeneous boundary conditions, i.e., $T(s,t)=0$ for $s\\in\\Gamma$. This means that we can discretize the system of interior points by a matrix-vector multiplication $\\Delta T \\approx A \\hat{T}$ without including any boundary conditions.\n",
    "The resulting estimated derivative is formed as\n",
    "$$\\frac{\\partial \\hat{T}}{\\partial t} = \\lambda A \\hat{T},$$ \n",
    "where $\\hat{T} \\in \\mathbb{R}^{N} = \\mathbb{R}^{n^2}$, $A \\in \\mathbb{R}^{N \\times N} = \\mathbb{R}^{n^2 \\times n^2}$.\n",
    "\n",
    "\n",
    "\n",
    "Write a function to automatically compute the matrix $A$ for arbitrary grid sizes $n$ (per dimension)."
   ]
  },
  {
   "cell_type": "markdown",
   "id": "bbf7d7aa",
   "metadata": {},
   "source": [
    "Since the numerical solution (spatially discretized) $\\hat{T}$ will have the form of a vector (and not a matrix), the grid nodes should be numbered according to the following convention (see also the Figure above):\n",
    "\n",
    "* first row (i.e., $s_2 = \\Delta s$) goes from $1$ to $n$,\n",
    "* second row (i.e, $s_2 = 2\\Delta s$) goes from $n + 1$ to $2n$,\n",
    "* ...\n",
    "\n",
    "This results in the form\n",
    "\n",
    "$$\n",
    "    \\hat{T} = \\begin{bmatrix} \\hat{T}_0 & \\hat{T}_1 & \\dots & \\hat{T}_{n-1} & \\hat{T}_{n} & \\hat{T}_{n+1} & \\dots & \\hat{T}_{n^2 - 1} & \\hat{T}_{n^2} \\end{bmatrix}^\\mathrm{T}\n",
    "$$\n",
    "\n",
    "\n",
    "\n",
    "**Hint**: It is helpful to explicitly draw an example for, e.g., $n=3$ or $n=4$ on paper and compute the matrix by hand. What patterns do you see? How can you translate those patterns into rules for the matrix?"
   ]
  },
  {
   "cell_type": "code",
   "execution_count": null,
   "id": "70669c27-233c-4040-afd5-a0d845960930",
   "metadata": {
    "ExecuteTime": {
     "end_time": "2024-10-31T13:38:44.937000+01:00",
     "start_time": "2024-10-31T12:38:43.748Z"
    },
    "deletable": false,
    "nbgrader": {
     "cell_type": "code",
     "checksum": "6b5f16d45847d38ab422d0e2f6692d47",
     "grade": false,
     "grade_id": "cell-d76853e9730753ab",
     "locked": false,
     "schema_version": 3,
     "solution": true,
     "task": false
    },
    "tags": []
   },
   "outputs": [],
   "source": [
    "function create_heat_equation_matrix(n)\n",
    "    \n",
    "    ds = NaN  # to be filled\n",
    "    factor = NaN  # to be filled\n",
    "    \n",
    "    #--- YOUR CODE STARTS HERE ---#\n",
    "    \n",
    "    #--- YOUR CODE ENDS HERE ---#\n",
    "\n",
    "    N = n * n\n",
    "    A = zeros(N, N)\n",
    "    for i = 1:N  # iterate through the rows of the A matrix\n",
    "        #--- YOUR CODE STARTS HERE ---#\n",
    "        \n",
    "        #--- YOUR CODE ENDS HERE ---#\n",
    "    end\n",
    "    return A\n",
    "end;\n"
   ]
  },
  {
   "cell_type": "markdown",
   "id": "fe639ce3",
   "metadata": {},
   "source": [
    "If you are unable to properly solve this task. Use your imperfect version of the `create_heat_equation_matrix` for the following tasks. If everything except for the matrix function is implemented correctly, you will still get points for the subsequent tasks. \n",
    "\n",
    "That is, built solutions that would work if the function `create_heat_equation_matrix` is replaced with the correct version."
   ]
  },
  {
   "cell_type": "code",
   "execution_count": null,
   "id": "c66d2a12-4971-4947-b63d-2e748cc5dad8",
   "metadata": {
    "ExecuteTime": {
     "end_time": "2024-10-31T13:38:45.161000+01:00",
     "start_time": "2024-10-31T12:38:44.183Z"
    },
    "deletable": false,
    "editable": false,
    "nbgrader": {
     "cell_type": "code",
     "checksum": "b67ecb73af5bef04db38c47d9f2e2c54",
     "grade": false,
     "grade_id": "cell-066ef8ce39cd39e2",
     "locked": true,
     "schema_version": 3,
     "solution": false,
     "task": false
    }
   },
   "outputs": [],
   "source": [
    "# Public Test\n",
    "@assert size(create_heat_equation_matrix(9)) == (81, 81)\n",
    "@assert size(create_heat_equation_matrix(49)) == (2401, 2401)"
   ]
  },
  {
   "cell_type": "code",
   "execution_count": null,
   "id": "5d732d84-1433-44df-8d5f-8b7d21e22139",
   "metadata": {
    "ExecuteTime": {
     "end_time": "2024-10-31T13:38:45.927000+01:00",
     "start_time": "2024-10-31T12:38:44.380Z"
    },
    "deletable": false,
    "editable": false,
    "nbgrader": {
     "cell_type": "code",
     "checksum": "4f77754a49c3790260252ceca0a6b2f0",
     "grade": true,
     "grade_id": "cell-bf7e437b0b5993f5",
     "locked": true,
     "points": 2,
     "schema_version": 3,
     "solution": false,
     "task": false
    },
    "tags": []
   },
   "outputs": [],
   "source": [
    "# please leave this cell as it is\n"
   ]
  },
  {
   "cell_type": "code",
   "execution_count": null,
   "id": "2f57133c",
   "metadata": {
    "ExecuteTime": {
     "end_time": "2024-10-31T13:38:46.381000+01:00",
     "start_time": "2024-10-31T12:38:44.896Z"
    },
    "deletable": false,
    "editable": false,
    "nbgrader": {
     "cell_type": "code",
     "checksum": "dd324abb5979fda9c1906ff7fbd68b4e",
     "grade": false,
     "grade_id": "cell-dcfeb4a8893029aa",
     "locked": true,
     "schema_version": 3,
     "solution": false,
     "task": false
    }
   },
   "outputs": [],
   "source": [
    "# Public Test\n",
    "Test = [[-36. 9. 9. 0.];\n",
    "        [9. -36. 0. 9.];\n",
    "        [9. 0. -36. 9.];\n",
    "        [0. 9. 9. -36.]]\n",
    "@assert Test == create_heat_equation_matrix(2)"
   ]
  },
  {
   "cell_type": "code",
   "execution_count": null,
   "id": "2aef49b9-8972-466b-97ca-e959f1fc90b1",
   "metadata": {
    "ExecuteTime": {
     "end_time": "2024-10-31T13:38:47.632000+01:00",
     "start_time": "2024-10-31T12:38:45.029Z"
    },
    "deletable": false,
    "editable": false,
    "nbgrader": {
     "cell_type": "code",
     "checksum": "ae3580d67ac4b4c112da351f645ce3c7",
     "grade": true,
     "grade_id": "cell-c36ec57176ef1f6e",
     "locked": true,
     "points": 2,
     "schema_version": 3,
     "solution": false,
     "task": false
    },
    "tags": []
   },
   "outputs": [],
   "source": [
    "# please leave this cell as it is\n"
   ]
  },
  {
   "cell_type": "code",
   "execution_count": null,
   "id": "30c2f98a",
   "metadata": {
    "ExecuteTime": {
     "end_time": "2024-10-31T13:38:48.186000+01:00",
     "start_time": "2024-10-31T12:38:45.164Z"
    },
    "deletable": false,
    "editable": false,
    "nbgrader": {
     "cell_type": "code",
     "checksum": "3e7206dda8448b747345eccc26f5e954",
     "grade": true,
     "grade_id": "cell-d8ae4142182a2e4a",
     "locked": true,
     "points": 0,
     "schema_version": 3,
     "solution": false,
     "task": false
    }
   },
   "outputs": [],
   "source": [
    "# please leave this cell as it is\n"
   ]
  },
  {
   "cell_type": "markdown",
   "id": "6e3be55e-7441-47ae-b4b3-4ac32e82c9fd",
   "metadata": {
    "deletable": false,
    "editable": false,
    "nbgrader": {
     "cell_type": "markdown",
     "checksum": "7ebc8a4f32105ffb6460152e7cf9c9a9",
     "grade": false,
     "grade_id": "cell-e088aa46bc020c5f",
     "locked": true,
     "schema_version": 3,
     "solution": false,
     "task": false
    },
    "tags": []
   },
   "source": [
    "### Task 2: Utilizing the explicit euler for time stepping - (5 points)\n",
    "Simulate the system (using the _Explicit Euler_ scheme for time stepping) with \n",
    "\n",
    "* $n=49$ (i.e., $\\Delta s = 0.02$),\n",
    "* $\\Delta t=5 \\cdot 10^{-5}$,\n",
    "* $t_0 = 0$, \n",
    "* $t_e = 0.2$,\n",
    "* initial state $T(s,0) = 1$ for $s\\in\\Omega$,\n",
    "* $\\lambda = 1$ ($\\lambda$ should still be a parameter that can be changed).\n",
    "\n",
    "Include a condition that identifies the time ```t_stat``` when a stationary state is almost reached ( $\\| \\hat{T}_i - \\hat{T}_{i-1} \\|_2 \\leq 0.01$ ).\n",
    "The solution function should return both the temperatures from $t_0$ until $t_e$ and the time satisfying the stationarity condition given above, i.e., ``` T, t_stat = heat_equation(n, λ, t_e, delta_t) ```.\n",
    "\n",
    "**Hint 1**: You may use the `norm()` function from the `LinearAlgebra` package to compute $\\|\\cdot\\|_2$.\n",
    "\n",
    "**Hint 2**: The following two pictures visualize how the solution should look at t=0.05 and at t=0.1\n",
    "\n",
    "t = 0.05                   |  t = 0.1\n",
    ":-------------------------:|:-------------------------:\n",
    "![](005.png)               | ![](01.png)\n"
   ]
  },
  {
   "cell_type": "code",
   "execution_count": null,
   "id": "ba0c52d4-c5b4-46fd-aaa0-0ef042575449",
   "metadata": {
    "ExecuteTime": {
     "end_time": "2024-10-31T13:38:48.410000+01:00",
     "start_time": "2024-10-31T12:38:45.464Z"
    },
    "deletable": false,
    "nbgrader": {
     "cell_type": "code",
     "checksum": "78dc8bd7b8986ebfa28295fa6a7d98bb",
     "grade": false,
     "grade_id": "cell-a38e649b7d642a51",
     "locked": false,
     "schema_version": 3,
     "solution": true,
     "task": false
    },
    "tags": []
   },
   "outputs": [],
   "source": [
    "using LinearAlgebra\n",
    "\n",
    "\n",
    "function heat_equation(n, λ, t_e, delta_t)\n",
    "\n",
    "    A = create_heat_equation_matrix(n)\n",
    " \n",
    "    # number of iterations\n",
    "    n_iter = Int(t_e / delta_t)\n",
    "    \n",
    "    # flag whether final state was found\n",
    "    # when no termination occurs, return the -1\n",
    "    t_stat = -1\n",
    "    \n",
    "    # create a matrix where T[:, 1] is the initial state, \n",
    "    # T[:, 2] is the state after the first iteration,\n",
    "    # T[:, 3] is the state after the secound iteration, ... \n",
    "    \n",
    "    # initial state T_0\n",
    "    T_0 = vec(ones(n, n))\n",
    "    \n",
    "    # Store all the states for plotting\n",
    "    T = Matrix{Float64}(undef, length(T_0), n_iter + 1) \n",
    "    T[:, 1] = T_0\n",
    "    \n",
    "    #--- YOUR CODE STARTS HERE ---#\n",
    "    \n",
    "    #--- YOUR CODE ENDS HERE ---#\n",
    "    \n",
    "    return T, t_stat \n",
    "end\n"
   ]
  },
  {
   "cell_type": "code",
   "execution_count": null,
   "id": "f65be206-f276-43cc-9b12-bf0cd241c620",
   "metadata": {
    "ExecuteTime": {
     "end_time": "2024-10-31T13:38:58.382000+01:00",
     "start_time": "2024-10-31T12:38:45.599Z"
    },
    "deletable": false,
    "editable": false,
    "nbgrader": {
     "cell_type": "code",
     "checksum": "64bda7160d47fafe1457b41ce94a489f",
     "grade": false,
     "grade_id": "cell-98c2d7addb3e9f1b",
     "locked": true,
     "schema_version": 3,
     "solution": false,
     "task": false
    },
    "tags": []
   },
   "outputs": [],
   "source": [
    "# Public Test\n",
    "n = 49\n",
    "λ = 1\n",
    "t_e = 0.2\n",
    "delta_t = 5 * 1e-5\n",
    "\n",
    "T, t_stat = heat_equation(n, λ, t_e, delta_t)\n",
    "@assert length(T[:,1]) == 2401\n",
    "@assert length(T[:,2]) == 2401\n",
    "@assert size(T,2) == 4001\n",
    "@assert isa(t_stat, Number)\n",
    "@assert isapprox(t_stat, 0.07025, atol=1e-10, rtol=1e-10)"
   ]
  },
  {
   "cell_type": "code",
   "execution_count": null,
   "id": "43068ba6-3e7e-4d13-b5b0-b11cf7979e16",
   "metadata": {
    "ExecuteTime": {
     "end_time": "2024-10-31T13:38:58.395000+01:00",
     "start_time": "2024-10-31T12:38:45.745Z"
    },
    "deletable": false,
    "editable": false,
    "nbgrader": {
     "cell_type": "code",
     "checksum": "224820039b2aeb559fd1e6b4637941b7",
     "grade": true,
     "grade_id": "cell-2ac32b96d8bad237",
     "locked": true,
     "points": 1,
     "schema_version": 3,
     "solution": false,
     "task": false
    },
    "tags": []
   },
   "outputs": [],
   "source": [
    "# please leave this cell as it is\n"
   ]
  },
  {
   "cell_type": "code",
   "execution_count": null,
   "id": "d1009f42-e490-4a43-8714-1b116a56e912",
   "metadata": {
    "ExecuteTime": {
     "end_time": "2024-10-31T13:39:16.970000+01:00",
     "start_time": "2024-10-31T12:38:45.879Z"
    },
    "deletable": false,
    "editable": false,
    "nbgrader": {
     "cell_type": "code",
     "checksum": "5bd3dd0de7679fd0975208a1dd657f20",
     "grade": true,
     "grade_id": "cell-4b2898d7db0171f2",
     "locked": true,
     "points": 2,
     "schema_version": 3,
     "solution": false,
     "task": false
    },
    "tags": []
   },
   "outputs": [],
   "source": [
    "# please leave this cell as it is\n"
   ]
  },
  {
   "cell_type": "code",
   "execution_count": null,
   "id": "91934a61",
   "metadata": {
    "ExecuteTime": {
     "end_time": "2024-10-31T13:39:16.974000+01:00",
     "start_time": "2024-10-31T12:38:46.021Z"
    },
    "deletable": false,
    "editable": false,
    "nbgrader": {
     "cell_type": "code",
     "checksum": "b0810a9aeeda7da51394c92abccabf26",
     "grade": true,
     "grade_id": "cell-18856438e28ba373",
     "locked": true,
     "points": 0,
     "schema_version": 3,
     "solution": false,
     "task": false
    }
   },
   "outputs": [],
   "source": [
    "# please leave this cell as it is\n"
   ]
  },
  {
   "cell_type": "markdown",
   "id": "453f9d07-0a2f-41fa-9910-65d24e726652",
   "metadata": {
    "deletable": false,
    "editable": false,
    "nbgrader": {
     "cell_type": "markdown",
     "checksum": "e3d5e4fe1b26ed803d4c3bb066d7635e",
     "grade": false,
     "grade_id": "cell-4917fa172e1731e6",
     "locked": true,
     "schema_version": 3,
     "solution": false,
     "task": false
    },
    "tags": []
   },
   "source": [
    "### Task 3: Eigenvalue analysis - (2 points)\n",
    "\n",
    "Examination of the eigenvalues of the matrix $A$ with the parameters of task 2. What can you say about the stability of the system? To this end, identify the eigenvalue ``` lambda_max ``` with the largest real part.\n",
    "\n",
    "The system is:\n",
    "- Stable                 -> stability = 1\n",
    "- Asymptotically stable  -> stability = 2\n",
    "- Unstable               -> stability = 3"
   ]
  },
  {
   "cell_type": "code",
   "execution_count": null,
   "id": "0a4e5ecc-fb14-4c8e-9a30-4c35d8d57970",
   "metadata": {
    "ExecuteTime": {
     "end_time": "2024-10-31T13:39:23.325000+01:00",
     "start_time": "2024-10-31T12:38:46.325Z"
    },
    "deletable": false,
    "nbgrader": {
     "cell_type": "code",
     "checksum": "4a2ba986df3f67883e746c9a0e2b19b4",
     "grade": false,
     "grade_id": "cell-97eed77b4e7f3adf",
     "locked": false,
     "schema_version": 3,
     "solution": true,
     "task": false
    },
    "tags": []
   },
   "outputs": [],
   "source": [
    "lambda_max = NaN\n",
    "stability = NaN\n",
    "\n",
    "n = 49\n",
    "\n",
    "#--- YOUR CODE STARTS HERE ---#\n",
    "\n",
    "#--- YOUR CODE ENDS HERE ---#"
   ]
  },
  {
   "cell_type": "code",
   "execution_count": null,
   "id": "923fe77e-8b9a-49ed-aa74-c82caf7e1823",
   "metadata": {
    "ExecuteTime": {
     "end_time": "2024-10-31T13:39:23.327000+01:00",
     "start_time": "2024-10-31T12:38:46.688Z"
    },
    "deletable": false,
    "editable": false,
    "nbgrader": {
     "cell_type": "code",
     "checksum": "3a0cd94c762030e5eb8ccf71712f60df",
     "grade": false,
     "grade_id": "cell-e651f0eb44fcb2d6",
     "locked": true,
     "schema_version": 3,
     "solution": false,
     "task": false
    },
    "tags": []
   },
   "outputs": [],
   "source": [
    "# Public test\n",
    "@assert isa(lambda_max, Number)\n",
    "@assert isa(stability, Number)\n",
    "@assert stability <= 3 && stability >= 1"
   ]
  },
  {
   "cell_type": "code",
   "execution_count": null,
   "id": "df2992d1-ed08-4681-8c98-db1fe11d30b0",
   "metadata": {
    "ExecuteTime": {
     "end_time": "2024-10-31T13:39:23.343000+01:00",
     "start_time": "2024-10-31T12:38:46.856Z"
    },
    "deletable": false,
    "editable": false,
    "nbgrader": {
     "cell_type": "code",
     "checksum": "36e0dd4301bb23ba59421609aa620c62",
     "grade": true,
     "grade_id": "cell-b4e02b6f9249d8cd",
     "locked": true,
     "points": 1,
     "schema_version": 3,
     "solution": false,
     "task": false
    },
    "tags": []
   },
   "outputs": [],
   "source": [
    "# please leave this cell as it is\n"
   ]
  },
  {
   "cell_type": "code",
   "execution_count": null,
   "id": "6451c643-3c41-48dd-ac66-0e2f9a83a467",
   "metadata": {
    "ExecuteTime": {
     "end_time": "2024-10-31T13:39:23.345000+01:00",
     "start_time": "2024-10-31T12:38:47.047Z"
    },
    "deletable": false,
    "editable": false,
    "nbgrader": {
     "cell_type": "code",
     "checksum": "d311e04c4788a49a2338840aa5564156",
     "grade": true,
     "grade_id": "cell-4b4f27720b8b6761",
     "locked": true,
     "points": 1,
     "schema_version": 3,
     "solution": false,
     "task": false
    },
    "tags": []
   },
   "outputs": [],
   "source": [
    "# please leave this cell as it is\n"
   ]
  },
  {
   "cell_type": "markdown",
   "id": "bab44917-3983-423e-bf6d-025f3e82023a",
   "metadata": {
    "deletable": false,
    "editable": false,
    "nbgrader": {
     "cell_type": "markdown",
     "checksum": "40d5ff58c6b8bf9f2e361dde4526a376",
     "grade": false,
     "grade_id": "cell-54579d56b5b198c3",
     "locked": true,
     "schema_version": 3,
     "solution": false,
     "task": false
    },
    "tags": []
   },
   "source": [
    "### Task 4: Analysis of various material constants - (1 point)\n",
    "\n",
    "To study the influence of the material constant $\\lambda$, calculate the time until the system reaches the final state (using the same setup as in Task 2) for\n",
    "\n",
    "* $\\lambda = 0.5$\n",
    "* $\\lambda = 1.5$\n",
    "\n",
    "Store the results in ```t_stat2``` and ```t_stat3```."
   ]
  },
  {
   "cell_type": "code",
   "execution_count": null,
   "id": "040df18f-4a88-4f41-a50e-60617dd164f8",
   "metadata": {
    "ExecuteTime": {
     "end_time": "2024-10-31T13:39:43.904000+01:00",
     "start_time": "2024-10-31T12:38:47.472Z"
    },
    "deletable": false,
    "nbgrader": {
     "cell_type": "code",
     "checksum": "0234911792c2509cc91635a439483abc",
     "grade": false,
     "grade_id": "cell-bed05f3468aeb933",
     "locked": false,
     "schema_version": 3,
     "solution": true,
     "task": false
    },
    "tags": []
   },
   "outputs": [],
   "source": [
    "t_stat2 = NaN # to be filled for lambda = 0.5\n",
    "t_stat3 = NaN # to be filled for lambda = 1.5\n",
    "\n",
    "n = 49\n",
    "t_e = 0.2\n",
    "delta_t = 5 * 1e-5\n",
    "\n",
    "#--- YOUR CODE STARTS HERE ---#\n",
    "\n",
    "#--- YOUR CODE ENDS HERE ---#"
   ]
  },
  {
   "cell_type": "code",
   "execution_count": null,
   "id": "6d64d489-f18f-4dab-b5c0-a45d8cbdd0e3",
   "metadata": {
    "ExecuteTime": {
     "end_time": "2024-10-31T13:39:43.905000+01:00",
     "start_time": "2024-10-31T12:38:47.662Z"
    },
    "deletable": false,
    "editable": false,
    "nbgrader": {
     "cell_type": "code",
     "checksum": "665196dd72ba10852cc7663af8e513a0",
     "grade": false,
     "grade_id": "cell-df5fefdf21647867",
     "locked": true,
     "schema_version": 3,
     "solution": false,
     "task": false
    },
    "tags": []
   },
   "outputs": [],
   "source": [
    "# Public test\n",
    "@assert isa(t_stat2, Number)\n",
    "@assert isa(t_stat3, Number)"
   ]
  },
  {
   "cell_type": "code",
   "execution_count": null,
   "id": "4cda2db1-246f-45ad-a948-45223df9405b",
   "metadata": {
    "ExecuteTime": {
     "end_time": "2024-10-31T13:39:43.907000+01:00",
     "start_time": "2024-10-31T12:38:47.844Z"
    },
    "deletable": false,
    "editable": false,
    "nbgrader": {
     "cell_type": "code",
     "checksum": "6cf57be0c1512adbe99cdf803e73af43",
     "grade": true,
     "grade_id": "cell-541b82a185731b03",
     "locked": true,
     "points": 0.5,
     "schema_version": 3,
     "solution": false,
     "task": false
    },
    "tags": []
   },
   "outputs": [],
   "source": [
    "# please leave this cell as it is\n"
   ]
  },
  {
   "cell_type": "code",
   "execution_count": null,
   "id": "22e9b472-a058-47fe-8217-9c874c6102a0",
   "metadata": {
    "ExecuteTime": {
     "end_time": "2024-10-31T13:39:43.908000+01:00",
     "start_time": "2024-10-31T12:38:48.032Z"
    },
    "deletable": false,
    "editable": false,
    "nbgrader": {
     "cell_type": "code",
     "checksum": "f30f8d1b896ab3db3c0ab8ddc19c55d8",
     "grade": true,
     "grade_id": "cell-94077d43000a2587",
     "locked": true,
     "points": 0.5,
     "schema_version": 3,
     "solution": false,
     "task": false
    },
    "tags": []
   },
   "outputs": [],
   "source": [
    "# please leave this cell as it is\n"
   ]
  }
 ],
 "metadata": {
  "kernelspec": {
   "display_name": "Julia 1.11.0",
   "language": "julia",
   "name": "julia-1.11"
  },
  "language_info": {
   "file_extension": ".jl",
   "mimetype": "application/julia",
   "name": "julia",
   "version": "1.11.0"
  }
 },
 "nbformat": 4,
 "nbformat_minor": 5
}
