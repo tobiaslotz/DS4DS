{
 "cells": [
  {
   "cell_type": "markdown",
   "id": "6ef6fa05-f758-485f-ba50-2b84c432e5ba",
   "metadata": {
    "deletable": false,
    "editable": false,
    "nbgrader": {
     "cell_type": "markdown",
     "checksum": "866a723fbc84a2af5a954f441306a1b3",
     "grade": false,
     "grade_id": "cell-5e1c3aec64f92b1f",
     "locked": true,
     "schema_version": 3,
     "solution": false,
     "task": false
    },
    "tags": []
   },
   "source": [
    "# Exercise 12 – Feature engineering "
   ]
  },
  {
   "cell_type": "markdown",
   "id": "2a9c156d",
   "metadata": {},
   "source": [
    "**General Instructions:**\n",
    "\n",
    "- Collaborations between students during problem-solving phase on a discussion basis is OK\n",
    "- However: individual code programming and submissions per student are required\n",
    "- Code sharing is strictly prohibited\n",
    "- We will run checks for shared code, general plagiarism and AI-generated solutions\n",
    "- Any fraud attempt will lead to an auto fail of the entire course\n",
    "- Do not use any additional packages except for those provided in the task templates\n",
    "- Please use Julia Version 1.10.x to ensure compatibility\n",
    "- Please only write between the `#--- YOUR CODE STARTS HERE ---#` and `#--- YOUR CODE ENDS HERE ---#` comments\n",
    "- Please do not delete, add any cells or overwrite cells other than the solution cells (**Tip:** If you use a jupyerhub IDE, you should not be able to add or delete cells and write in the non-solution cells by default)"
   ]
  },
  {
   "cell_type": "code",
   "execution_count": null,
   "id": "c9d3f153-3b77-454c-b33f-3e84236d089d",
   "metadata": {
    "ExecuteTime": {
     "end_time": "2025-01-14T17:00:10.746000+01:00",
     "start_time": "2025-01-14T16:00:05.231Z"
    }
   },
   "outputs": [],
   "source": [
    "using Pkg\n",
    "Pkg.activate(@__DIR__)"
   ]
  },
  {
   "cell_type": "code",
   "execution_count": null,
   "id": "2e77fcdf-e2b1-4741-ace0-0d6b6828a6bb",
   "metadata": {
    "ExecuteTime": {
     "end_time": "2025-01-14T17:00:16.113000+01:00",
     "start_time": "2025-01-14T16:00:05.233Z"
    },
    "deletable": false,
    "editable": false,
    "nbgrader": {
     "cell_type": "code",
     "checksum": "740cdf0f36978f2ad799af4a800da2e4",
     "grade": false,
     "grade_id": "cell-11e57beae3253652",
     "locked": true,
     "schema_version": 3,
     "solution": false,
     "task": false
    },
    "tags": []
   },
   "outputs": [],
   "source": [
    "using LinearAlgebra\n",
    "using Plots\n",
    "using HDF5\n",
    "using MAT\n",
    "using Flux\n",
    "using Serialization\n",
    "using Random\n",
    "using Statistics"
   ]
  },
  {
   "cell_type": "markdown",
   "id": "d3b19036-be3a-4c59-a0a7-140aba8401e6",
   "metadata": {
    "deletable": false,
    "editable": false,
    "nbgrader": {
     "cell_type": "markdown",
     "checksum": "bb0bc3eaf725ab52e0bb1f1bf1cf0e44",
     "grade": false,
     "grade_id": "cell-dabf6d4450451966",
     "locked": true,
     "schema_version": 3,
     "solution": false,
     "task": false
    },
    "tags": []
   },
   "source": [
    "## Task 1 – Extended Dynamic Mode Decomposition using a dictionary\n",
    "Learn a linear dynamical system from trajectory data via the Dynamic Mode Decomposition. As the example, we will use the Duffing oscillator with a two-dimensional state $x\\in\\mathbb{R}^2$. The function for the right-hand side is given below"
   ]
  },
  {
   "cell_type": "code",
   "execution_count": null,
   "id": "6f6ab554-04e0-491c-99c3-a25e8627f2a7",
   "metadata": {
    "ExecuteTime": {
     "end_time": "2025-01-14T17:00:17.114000+01:00",
     "start_time": "2025-01-14T16:00:05.233Z"
    },
    "deletable": false,
    "editable": false,
    "nbgrader": {
     "cell_type": "code",
     "checksum": "9c5348979caf2ce30dcb48ef06c2a31b",
     "grade": false,
     "grade_id": "cell-63a40ec27c127c30",
     "locked": true,
     "schema_version": 3,
     "solution": false,
     "task": false
    },
    "tags": []
   },
   "outputs": [],
   "source": [
    "function rhs(x)\n",
    "    ɑ, β, δ = -1, 1, 0.1\n",
    "    xdot = [x[2], - δ * x[2] - ɑ * x[1] - β * x[1]^3]\n",
    "    return xdot\n",
    "end"
   ]
  },
  {
   "cell_type": "markdown",
   "id": "824c0e29-0aa1-4806-9f2b-7bd438315a3c",
   "metadata": {
    "deletable": false,
    "editable": false,
    "nbgrader": {
     "cell_type": "markdown",
     "checksum": "922b9894e27517f8cd712d0e2834dc8c",
     "grade": false,
     "grade_id": "cell-1bad39b4d96b680e",
     "locked": true,
     "schema_version": 3,
     "solution": false,
     "task": false
    },
    "tags": []
   },
   "source": [
    "a) Create training data $X$ and $X’$. To this end, draw $N=1000$ initial conditions randomly and uniformly from the rectangle $[-2,2] \\times [-2,2]$ and perform one time step using the explicit Euler scheme with a time step of $h = 0.1$. "
   ]
  },
  {
   "cell_type": "code",
   "execution_count": null,
   "id": "1f42e61c-00ca-4532-a671-364ebb448dd3",
   "metadata": {
    "ExecuteTime": {
     "end_time": "2025-01-14T17:00:17.291000+01:00",
     "start_time": "2025-01-14T16:00:05.234Z"
    },
    "deletable": false,
    "nbgrader": {
     "cell_type": "code",
     "checksum": "a81b38a2d1baf23f1d5deac22ebc4f99",
     "grade": false,
     "grade_id": "cell-90d5f1b7fcfc1950",
     "locked": false,
     "schema_version": 3,
     "solution": true,
     "task": false
    },
    "tags": []
   },
   "outputs": [],
   "source": [
    "X = nothing\n",
    "X_prime = nothing\n",
    "\n",
    "#--- YOUR CODE STARTS HERE ---#\n",
    "\n",
    "#--- YOUR CODE ENDS HERE ---#"
   ]
  },
  {
   "cell_type": "code",
   "execution_count": null,
   "id": "815be5b2-84c1-4824-ae4a-53174f1d9c66",
   "metadata": {
    "ExecuteTime": {
     "end_time": "2025-01-14T17:00:17.567000+01:00",
     "start_time": "2025-01-14T16:00:05.234Z"
    },
    "deletable": false,
    "editable": false,
    "nbgrader": {
     "cell_type": "code",
     "checksum": "11e4931d03ae3f27aaaa9b05c68b309e",
     "grade": true,
     "grade_id": "cell-9b4839e10ebab21d",
     "locked": true,
     "points": 1,
     "schema_version": 3,
     "solution": false,
     "task": false
    },
    "tags": []
   },
   "outputs": [],
   "source": [
    "@assert size(X) == (2, 1000)\n",
    "@assert size(X_prime) == (2, 1000)\n"
   ]
  },
  {
   "cell_type": "markdown",
   "id": "efc33fa7-12a1-40f5-a3be-09c7d9281d2d",
   "metadata": {
    "deletable": false,
    "editable": false,
    "nbgrader": {
     "cell_type": "markdown",
     "checksum": "229b301cc6ec05f679f0be97ed077352",
     "grade": false,
     "grade_id": "cell-edf0800b2ea8c5f9",
     "locked": true,
     "schema_version": 3,
     "solution": false,
     "task": false
    },
    "tags": []
   },
   "source": [
    "b) Use DMD in its standard form to learn a linear system with $A\\in\\mathbb{R}^{2\\times 2}$. Simulate the dynamics over $m=100$ time steps using the initial condition $x_0=[1.0, -1.0]$. Report on the RMSE between the created trajectory and a true trajectory of the system (same initial condition, explicit Euler integration).\n",
    "\n",
    "Note: To avoid confusion regarding the RMSE on multiple dimensions, take this one:\n",
    "$ \\text{RMSE} = \\sqrt{ \\frac{1}{T} \\sum_{t = 1}^{T} \\sum_{i = 1}^{d} (X_{t, i} - Y_{t, i})^2 } $"
   ]
  },
  {
   "cell_type": "code",
   "execution_count": null,
   "id": "6a686154-75c7-411b-a66c-67486a64ac6f",
   "metadata": {
    "ExecuteTime": {
     "end_time": "2025-01-14T17:00:19.309000+01:00",
     "start_time": "2025-01-14T16:00:05.235Z"
    },
    "deletable": false,
    "nbgrader": {
     "cell_type": "code",
     "checksum": "b44b510d8a91e8871ba9730cdb4a5037",
     "grade": false,
     "grade_id": "cell-38b95b928edfdbfa",
     "locked": false,
     "schema_version": 3,
     "solution": true,
     "task": false
    },
    "tags": []
   },
   "outputs": [],
   "source": [
    "x0 = [1.0, -1.0]\n",
    "\n",
    "A = nothing\n",
    "dmd_trajectory = nothing\n",
    "euler_trajectory = nothing\n",
    "RMSE = nothing\n",
    "\n",
    "#--- YOUR CODE STARTS HERE ---#\n",
    "\n",
    "#--- YOUR CODE ENDS HERE ---#\n"
   ]
  },
  {
   "cell_type": "code",
   "execution_count": null,
   "id": "6393cd60-4f29-4968-beb3-31ef88a29106",
   "metadata": {
    "ExecuteTime": {
     "end_time": "2025-01-14T17:00:20.554000+01:00",
     "start_time": "2025-01-14T16:00:05.236Z"
    },
    "deletable": false,
    "editable": false,
    "nbgrader": {
     "cell_type": "code",
     "checksum": "31cccc92de255b761820edee2ca0d8e6",
     "grade": true,
     "grade_id": "cell-327bd330ee9e8040",
     "locked": true,
     "points": 0.5,
     "schema_version": 3,
     "solution": false,
     "task": false
    },
    "tags": []
   },
   "outputs": [],
   "source": [
    "@assert size(A) == (2, 2)\n",
    "@assert size(dmd_trajectory) == (2, 100)\n",
    "@assert size(euler_trajectory) == (2, 100)\n",
    "@assert isa(RMSE, Number)\n"
   ]
  },
  {
   "cell_type": "code",
   "execution_count": null,
   "id": "e53d2f98-6feb-4a0e-a2eb-c79f8d5aca86",
   "metadata": {
    "ExecuteTime": {
     "end_time": "2025-01-14T17:00:20.577000+01:00",
     "start_time": "2025-01-14T16:00:05.236Z"
    },
    "deletable": false,
    "editable": false,
    "nbgrader": {
     "cell_type": "code",
     "checksum": "44557e23b52255e5d14a4f9f58cf3b08",
     "grade": true,
     "grade_id": "cell-310fd417d8369ed1",
     "locked": true,
     "points": 0.5,
     "schema_version": 3,
     "solution": false,
     "task": false
    },
    "tags": []
   },
   "outputs": [],
   "source": []
  },
  {
   "cell_type": "markdown",
   "id": "5cdfaf60-7b2e-4d7d-a698-dc1e61c798c7",
   "metadata": {
    "deletable": false,
    "editable": false,
    "nbgrader": {
     "cell_type": "markdown",
     "checksum": "b9cabe182b3379dce60d95a7521b2181",
     "grade": false,
     "grade_id": "cell-909f5fa9882c288e",
     "locked": true,
     "schema_version": 3,
     "solution": false,
     "task": false
    },
    "tags": []
   },
   "source": [
    "c) Implement a dictionary of radial basis functions (RBFs), i.e.,  \n",
    "$$ \\varphi_c(x) = \\exp(- \\gamma \\| x - c \\|_2^2 ),$$ \n",
    "$$ z = \\Psi(x) = [\\varphi_{c_1}(x), \\ldots, \\varphi_{c_r}(x)],$$ \n",
    "where the $c_i\\in\\mathbb{R}^2$ are the centers of the individual RBFs and $\\gamma>0$ is a hyperparameter determining the width of the RBF "
   ]
  },
  {
   "cell_type": "code",
   "execution_count": null,
   "id": "55aac538-f899-491b-a9ef-d09a9f753fdf",
   "metadata": {
    "ExecuteTime": {
     "end_time": "2025-01-14T17:00:20.617000+01:00",
     "start_time": "2025-01-14T16:00:05.237Z"
    },
    "deletable": false,
    "nbgrader": {
     "cell_type": "code",
     "checksum": "71450969f4eff37c04e91374c9a9f57d",
     "grade": false,
     "grade_id": "cell-7f0011b600a0ae1e",
     "locked": false,
     "schema_version": 3,
     "solution": true,
     "task": false
    },
    "tags": []
   },
   "outputs": [],
   "source": [
    "# Function to compute the lifted state using a dictionary of RBFs\n",
    "function rbf_dictionary(x, centers, gamma=1.5)\n",
    "    #--- YOUR CODE STARTS HERE ---#\n",
    "    \n",
    "    #--- YOUR CODE ENDS HERE ---#\n",
    "end"
   ]
  },
  {
   "cell_type": "code",
   "execution_count": null,
   "id": "59d1b23d-8027-4a7c-b710-07eb128b676b",
   "metadata": {
    "ExecuteTime": {
     "end_time": "2025-01-14T17:00:21.131000+01:00",
     "start_time": "2025-01-14T16:00:05.237Z"
    },
    "deletable": false,
    "editable": false,
    "nbgrader": {
     "cell_type": "code",
     "checksum": "ab42df8387bb5bb628ebff38706ad116",
     "grade": true,
     "grade_id": "cell-c92001473d595796",
     "locked": true,
     "points": 1,
     "schema_version": 3,
     "solution": false,
     "task": false
    },
    "tags": []
   },
   "outputs": [],
   "source": [
    "@assert isa(rbf_dictionary, Function)\n",
    "@assert length(rbf_dictionary([1, 1], [[2, 2], [3, 3]])) == 2\n",
    "@assert length(rbf_dictionary([1, 1], [[2, 2], [3, 3], [4, 4]])) == 3\n"
   ]
  },
  {
   "cell_type": "markdown",
   "id": "8ff53469-ddc8-415c-8835-b7a03fbe75a2",
   "metadata": {
    "deletable": false,
    "editable": false,
    "nbgrader": {
     "cell_type": "markdown",
     "checksum": "c2fbbecd8965839a2fa788f87f5fe479",
     "grade": false,
     "grade_id": "cell-1844d142f2188865",
     "locked": true,
     "schema_version": 3,
     "solution": false,
     "task": false
    },
    "tags": []
   },
   "source": [
    "d) Use the extended version of DMD (aka EDMD), where you find a linear system for the lifted state $\\Psi(x)=z\\in\\mathbb{R}^r$ instead of $x\\in\\mathbb{R}^2$ (use the trajectory from a) ). To this end, introduce $r=100$ centers on an equidistant $10 \\times 10$ grid in the area $[-2, 2] \\times [-2, 2]$, with $\\gamma = 1$. Train the corresponding matrix $A\\in\\mathbb{R}^{100 \\times 100}$. "
   ]
  },
  {
   "cell_type": "code",
   "execution_count": null,
   "id": "1f9f463c-f1c9-4aaf-a671-f7b8f2801be3",
   "metadata": {
    "ExecuteTime": {
     "end_time": "2025-01-14T17:00:26.003000+01:00",
     "start_time": "2025-01-14T16:00:05.238Z"
    },
    "deletable": false,
    "nbgrader": {
     "cell_type": "code",
     "checksum": "ae3c2a852b12a8674a06b5fa3b692e20",
     "grade": false,
     "grade_id": "cell-541dfb172c231815",
     "locked": false,
     "schema_version": 3,
     "solution": true,
     "task": false
    },
    "tags": []
   },
   "outputs": [],
   "source": [
    "centers = nothing\n",
    "Z = nothing\n",
    "Z_prime = nothing\n",
    "A_edmd = nothing\n",
    "\n",
    "#--- YOUR CODE STARTS HERE ---#\n",
    "\n",
    "#--- YOUR CODE ENDS HERE ---#"
   ]
  },
  {
   "cell_type": "code",
   "execution_count": null,
   "id": "82a18b97-c576-4d71-b816-39c762f3c504",
   "metadata": {
    "ExecuteTime": {
     "end_time": "2025-01-14T17:00:26.520000+01:00",
     "start_time": "2025-01-14T16:00:05.238Z"
    },
    "deletable": false,
    "editable": false,
    "nbgrader": {
     "cell_type": "code",
     "checksum": "b47f723c02fcf615f816f65afeb635ab",
     "grade": true,
     "grade_id": "cell-e20a0fec908ab8cc",
     "locked": true,
     "points": 1,
     "schema_version": 3,
     "solution": false,
     "task": false
    },
    "tags": []
   },
   "outputs": [],
   "source": [
    "@assert size(A_edmd) == (100, 100)\n",
    "@assert length(centers) == 100\n",
    "@assert size(Z) == (100, 1000)\n",
    "@assert size(Z_prime) == (100, 1000)\n"
   ]
  },
  {
   "cell_type": "markdown",
   "id": "addb3169-a270-44e4-a53d-98cfca0072f8",
   "metadata": {
    "deletable": false,
    "editable": false,
    "nbgrader": {
     "cell_type": "markdown",
     "checksum": "dfe82421260f98d7a89ad5f938fdba81",
     "grade": false,
     "grade_id": "cell-70d21b9c9d608aff",
     "locked": true,
     "schema_version": 3,
     "solution": false,
     "task": false
    },
    "tags": []
   },
   "source": [
    "e) Implement a projection operation that maps from $z$ to $x$, such that you can reconstruct the original state $x$ from predictions of the lifted state $z$. This step can be realized by a linear mapping $x = P z$, where the projection matrix $P\\in\\mathbb{R}^{2\\times r}$ can be trained using linear regression. "
   ]
  },
  {
   "cell_type": "code",
   "execution_count": null,
   "id": "6b15ba13-4324-41dc-ac7c-739c50fe6a10",
   "metadata": {
    "ExecuteTime": {
     "end_time": "2025-01-14T17:00:26.532000+01:00",
     "start_time": "2025-01-14T16:00:05.239Z"
    },
    "deletable": false,
    "nbgrader": {
     "cell_type": "code",
     "checksum": "6de99a59d12ba66df9011f729df6920b",
     "grade": false,
     "grade_id": "cell-969fbc2f15683cf4",
     "locked": false,
     "schema_version": 3,
     "solution": true,
     "task": false
    },
    "tags": []
   },
   "outputs": [],
   "source": [
    "P = nothing\n",
    "\n",
    "#--- YOUR CODE STARTS HERE ---#\n",
    "\n",
    "#--- YOUR CODE ENDS HERE ---#"
   ]
  },
  {
   "cell_type": "code",
   "execution_count": null,
   "id": "8a7300cf-b100-43fa-89e5-6d8a1f5ea067",
   "metadata": {
    "ExecuteTime": {
     "end_time": "2025-01-14T17:00:28.172000+01:00",
     "start_time": "2025-01-14T16:00:05.240Z"
    },
    "deletable": false,
    "editable": false,
    "nbgrader": {
     "cell_type": "code",
     "checksum": "2f55c8aaa3be8b8f58dec3f0706683b0",
     "grade": true,
     "grade_id": "cell-bcd654487ef5b8b0",
     "locked": true,
     "points": 0.5,
     "schema_version": 3,
     "solution": false,
     "task": false
    },
    "tags": []
   },
   "outputs": [],
   "source": [
    "@assert size(P) == (2, 100)\n"
   ]
  },
  {
   "cell_type": "markdown",
   "id": "4c3adc94-2706-43de-944b-892ba8133522",
   "metadata": {
    "deletable": false,
    "editable": false,
    "nbgrader": {
     "cell_type": "markdown",
     "checksum": "8d569816f4f2ffbea60c29033c23e0d0",
     "grade": false,
     "grade_id": "cell-c1d117a81023af9c",
     "locked": true,
     "schema_version": 3,
     "solution": false,
     "task": false
    },
    "tags": []
   },
   "source": [
    "f) Repeat the experiment from b), but now compare the original trajectory to the one obtained using EDMD and the consecutive projection step to recover $x$. \n",
    "\n",
    "```Hint: Don't forget to transform the initial condition accordingly```"
   ]
  },
  {
   "cell_type": "code",
   "execution_count": null,
   "id": "2f5664a1-0246-4fa5-8854-7751a3196ad5",
   "metadata": {
    "ExecuteTime": {
     "end_time": "2025-01-14T17:00:28.204000+01:00",
     "start_time": "2025-01-14T16:00:05.240Z"
    },
    "deletable": false,
    "nbgrader": {
     "cell_type": "code",
     "checksum": "132949938b47e6f8eada206b3663a73b",
     "grade": false,
     "grade_id": "cell-9e2cda54252dbd95",
     "locked": false,
     "schema_version": 3,
     "solution": true,
     "task": false
    },
    "tags": []
   },
   "outputs": [],
   "source": [
    "edmd_trajectory_lifted = nothing\n",
    "edmd_trajectory_projected = nothing\n",
    "error_edmd = nothing\n",
    "\n",
    "#--- YOUR CODE STARTS HERE ---#\n",
    "\n",
    "#--- YOUR CODE ENDS HERE ---#"
   ]
  },
  {
   "cell_type": "code",
   "execution_count": null,
   "id": "d18405e5-a013-4858-acee-bfa1fe360bfa",
   "metadata": {
    "ExecuteTime": {
     "end_time": "2025-01-14T17:00:28.207000+01:00",
     "start_time": "2025-01-14T16:00:05.241Z"
    },
    "deletable": false,
    "editable": false,
    "nbgrader": {
     "cell_type": "code",
     "checksum": "43377cf7c955e19b83a8d9a7b819681d",
     "grade": true,
     "grade_id": "cell-37e403fa1a096735",
     "locked": true,
     "points": 0.5,
     "schema_version": 3,
     "solution": false,
     "task": false
    },
    "tags": []
   },
   "outputs": [],
   "source": [
    "@assert size(edmd_trajectory_lifted) == (100, 100)\n",
    "@assert size(edmd_trajectory_projected) == (2, 100)\n",
    "@assert isa(error_edmd, Number)\n"
   ]
  },
  {
   "cell_type": "code",
   "execution_count": null,
   "id": "9fd87c6b-00af-4213-85cb-a029abd004ca",
   "metadata": {
    "ExecuteTime": {
     "end_time": "2025-01-14T17:00:28.223000+01:00",
     "start_time": "2025-01-14T16:00:05.241Z"
    },
    "deletable": false,
    "editable": false,
    "nbgrader": {
     "cell_type": "code",
     "checksum": "b43838991385bd87ce889d4e0a4e86f7",
     "grade": true,
     "grade_id": "cell-27bf6608db81b787",
     "locked": true,
     "points": 0.5,
     "schema_version": 3,
     "solution": false,
     "task": false
    },
    "tags": []
   },
   "outputs": [],
   "source": []
  },
  {
   "cell_type": "markdown",
   "id": "1eb1643c-158e-4d66-a529-b4b5363e2b33",
   "metadata": {
    "deletable": false,
    "editable": false,
    "nbgrader": {
     "cell_type": "markdown",
     "checksum": "83533e6f4a7139f05744e15e28bca46d",
     "grade": false,
     "grade_id": "cell-94f29edea3c78ab7",
     "locked": true,
     "schema_version": 3,
     "solution": false,
     "task": false
    },
    "tags": []
   },
   "source": [
    "## Task 2 – Comparing SVD and Autoencoders\n",
    "In this exercise, we want to compare the capabilities of the Singular Value Decomposition (SVD) and an autoencoder in terms of data compression of high-dimensional trajectory data. The following data set $X\\in\\mathbb{R}^{101 \\times 6001}$ has been created by simulating the Burgers PDE (https://en.wikipedia.org/wiki/Burgers%27_equation) on an $n = 101$-dimensional spatial grid for $N=6000$ time steps. "
   ]
  },
  {
   "cell_type": "markdown",
   "id": "64c49c25",
   "metadata": {
    "ExecuteTime": {
     "end_time": "2025-01-14T16:26:47.732000+01:00",
     "start_time": "2025-01-14T15:26:43.801Z"
    }
   },
   "source": [
    "a) Use the SVD to compress the $n$-dimensional state into a much lower dimension $r\\ll n$. Select the smallest value for $r$ for which the reconstruction error between the original data $x$ and the reconstructed data $\\tilde{x}$ is less than 0.1%, i.e. \n",
    "$$ \\frac{ \\sum_{i=1}^N \\|x_i – \\tilde{x}_i \\|_2^2 }{ \\sum_{i=1}^N \\|x_i \\|_2^2 } < 0.001. $$ "
   ]
  },
  {
   "cell_type": "code",
   "execution_count": null,
   "id": "874cac91-f0e0-49df-acc5-a4a20737bc49",
   "metadata": {
    "ExecuteTime": {
     "end_time": "2025-01-14T17:00:32.248000+01:00",
     "start_time": "2025-01-14T16:00:05.242Z"
    },
    "deletable": false,
    "editable": false,
    "nbgrader": {
     "cell_type": "code",
     "checksum": "ff0350ebb528a8d64602dc62c045322f",
     "grade": false,
     "grade_id": "cell-489381c349abde88",
     "locked": true,
     "schema_version": 3,
     "solution": false,
     "task": false
    },
    "tags": []
   },
   "outputs": [],
   "source": [
    "#Data loading\n",
    "file = matopen(\"burgers.mat\")\n",
    "X = read(file, \"u\")\n",
    "close(file)"
   ]
  },
  {
   "cell_type": "code",
   "execution_count": null,
   "id": "ddf90388-c18e-4cf5-ac41-a969335b184d",
   "metadata": {
    "ExecuteTime": {
     "end_time": "2025-01-14T17:00:32.291000+01:00",
     "start_time": "2025-01-14T16:00:05.242Z"
    },
    "deletable": false,
    "nbgrader": {
     "cell_type": "code",
     "checksum": "6f8e922ac71d950180943365d1543302",
     "grade": false,
     "grade_id": "cell-b2dc2b48b80e38a6",
     "locked": false,
     "schema_version": 3,
     "solution": true,
     "task": false
    },
    "tags": []
   },
   "outputs": [],
   "source": [
    "function loss_function(original, reconstructed)\n",
    "    #--- YOUR CODE STARTS HERE ---#\n",
    "    \n",
    "    #--- YOUR CODE ENDS HERE ---#\n",
    "end"
   ]
  },
  {
   "cell_type": "code",
   "execution_count": null,
   "id": "e7e505b8-23e6-4fa1-87ba-dcb3f1b06080",
   "metadata": {
    "ExecuteTime": {
     "end_time": "2025-01-14T17:00:33.185000+01:00",
     "start_time": "2025-01-14T16:00:05.243Z"
    },
    "deletable": false,
    "editable": false,
    "nbgrader": {
     "cell_type": "code",
     "checksum": "84b663f1c307a282527953e28cf13b0b",
     "grade": true,
     "grade_id": "cell-6dce53992aba9a2a",
     "locked": true,
     "points": 0.5,
     "schema_version": 3,
     "solution": false,
     "task": false
    },
    "tags": []
   },
   "outputs": [],
   "source": [
    "@assert isa(loss_function, Function)\n"
   ]
  },
  {
   "cell_type": "code",
   "execution_count": null,
   "id": "3beb43f4-0f5b-45b9-9839-97781066b8c7",
   "metadata": {
    "ExecuteTime": {
     "end_time": "2025-01-14T17:00:34.820000+01:00",
     "start_time": "2025-01-14T16:00:05.243Z"
    },
    "deletable": false,
    "nbgrader": {
     "cell_type": "code",
     "checksum": "cff88fcc00a750796c8d99890c3f5247",
     "grade": false,
     "grade_id": "cell-59d3100f355f9745",
     "locked": false,
     "schema_version": 3,
     "solution": true,
     "task": false
    },
    "tags": []
   },
   "outputs": [],
   "source": [
    "k = nothing\n",
    "X_reconstructed_k = nothing\n",
    "\n",
    "#--- YOUR CODE STARTS HERE ---#\n",
    "\n",
    "#--- YOUR CODE ENDS HERE ---#"
   ]
  },
  {
   "cell_type": "code",
   "execution_count": null,
   "id": "e4004445-db6b-4e3c-956a-c9e7c39bc63d",
   "metadata": {
    "ExecuteTime": {
     "end_time": "2025-01-14T17:00:34.985000+01:00",
     "start_time": "2025-01-14T16:00:05.244Z"
    },
    "deletable": false,
    "editable": false,
    "nbgrader": {
     "cell_type": "code",
     "checksum": "855b696fd13f1cec1be85ffa944f83bd",
     "grade": true,
     "grade_id": "cell-9b2644392aa3dd92",
     "locked": true,
     "points": 0.5,
     "schema_version": 3,
     "solution": false,
     "task": false
    },
    "tags": []
   },
   "outputs": [],
   "source": [
    "@assert isa(k, Number)\n",
    "@assert size(X_reconstructed_k) == (101, 6001)\n",
    "@assert loss_function(X, X_reconstructed_k) < 0.001\n"
   ]
  },
  {
   "cell_type": "code",
   "execution_count": null,
   "id": "349dfd3c-cb06-4c0b-9987-987aa427048e",
   "metadata": {
    "ExecuteTime": {
     "end_time": "2025-01-14T17:00:34.986000+01:00",
     "start_time": "2025-01-14T16:00:05.244Z"
    },
    "deletable": false,
    "editable": false,
    "nbgrader": {
     "cell_type": "code",
     "checksum": "61bb3895c4890d8c0ecdac4443fef981",
     "grade": true,
     "grade_id": "cell-5c889ae330077cd8",
     "locked": true,
     "points": 0.5,
     "schema_version": 3,
     "solution": false,
     "task": false
    },
    "tags": []
   },
   "outputs": [],
   "source": []
  },
  {
   "cell_type": "markdown",
   "id": "6a3f3635-01c0-4e05-9941-98d6781d2666",
   "metadata": {
    "deletable": false,
    "editable": false,
    "nbgrader": {
     "cell_type": "markdown",
     "checksum": "5aa0f1770895c62fd27b9703de1f41d8",
     "grade": false,
     "grade_id": "cell-bad1184b3874c738",
     "locked": true,
     "schema_version": 3,
     "solution": false,
     "task": false
    },
    "tags": []
   },
   "source": [
    "```\n",
    "#Random SVD sample comparison\n",
    "random_index = rand(1:size(X,2))\n",
    "x = range(0.1,10.1, length = 101)\n",
    "println(\"Original Image\")\n",
    "Plots.plot(x,X[:, random_index])\n",
    "println(\"Reconstructed Image\")\n",
    "display(Plots.plot!(x,X_reconstructed_k[:, random_index]))\n",
    "```"
   ]
  },
  {
   "cell_type": "markdown",
   "id": "88937ddd-1c04-48f3-8f88-90c2423772fc",
   "metadata": {
    "deletable": false,
    "editable": false,
    "nbgrader": {
     "cell_type": "markdown",
     "checksum": "4a25a7cbe2025dc32d3c2b127cddfb8e",
     "grade": false,
     "grade_id": "cell-353d02d0cfbbbb2d",
     "locked": true,
     "schema_version": 3,
     "solution": false,
     "task": false
    },
    "tags": []
   },
   "source": [
    "b) Now compare this to an autoencoder architecture of your choice. The only constraints that should be respected are: \n",
    "- Use only fully connected feed-forward layers (i.e., no convolutions) \n",
    "- the bottleneck layer connecting the encoder and the decoder (i.e., the smallest layer whose latent state is the compressed state) has to have dimension at most $r=5$. \n",
    "This task is fulfilled if your trained architecture can satisfy the error criterion from a) "
   ]
  },
  {
   "cell_type": "code",
   "execution_count": null,
   "id": "3597ad43-8113-4c75-b55a-7b876f7ff97b",
   "metadata": {
    "ExecuteTime": {
     "end_time": "2025-01-14T17:00:35.868000+01:00",
     "start_time": "2025-01-14T16:00:05.245Z"
    },
    "deletable": false,
    "nbgrader": {
     "cell_type": "code",
     "checksum": "0f8c5152a759b62b82861c7be67678df",
     "grade": false,
     "grade_id": "cell-0cda242b711bf9c7",
     "locked": false,
     "schema_version": 3,
     "solution": true,
     "task": false
    },
    "tags": []
   },
   "outputs": [],
   "source": [
    "#define your autoencoder\n",
    "autoencoder = nothing\n",
    "\n",
    "#--- YOUR CODE STARTS HERE ---#\n",
    "\n",
    "#--- YOUR CODE ENDS HERE ---#\n"
   ]
  },
  {
   "cell_type": "code",
   "execution_count": null,
   "id": "b48360a5-e7f6-4aba-864d-067b30b1638a",
   "metadata": {
    "ExecuteTime": {
     "end_time": "2025-01-14T17:00:35.869000+01:00",
     "start_time": "2025-01-14T16:00:05.245Z"
    },
    "deletable": false,
    "editable": false,
    "nbgrader": {
     "cell_type": "code",
     "checksum": "a2f03be789af6371470ebcb01a09b0b0",
     "grade": true,
     "grade_id": "cell-b42956b706417b65",
     "locked": true,
     "points": 0,
     "schema_version": 3,
     "solution": false,
     "task": false
    },
    "tags": []
   },
   "outputs": [],
   "source": [
    "@assert isa(autoencoder, Flux.Chain)"
   ]
  },
  {
   "cell_type": "markdown",
   "id": "70de19f7",
   "metadata": {},
   "source": [
    "**!!!The training cell below should be commented before you turn in your assignment!!!**"
   ]
  },
  {
   "cell_type": "code",
   "execution_count": null,
   "id": "cc346ecd-b780-402e-ac47-336db61db43d",
   "metadata": {
    "ExecuteTime": {
     "end_time": "2025-01-14T17:01:12.897000+01:00",
     "start_time": "2025-01-14T16:00:05.246Z"
    },
    "deletable": false,
    "nbgrader": {
     "cell_type": "code",
     "checksum": "1876b7bf4a4e2c9c273f9dca3d1c604b",
     "grade": false,
     "grade_id": "cell-1779d9df10c9d7de",
     "locked": false,
     "schema_version": 3,
     "solution": true,
     "task": false
    },
    "tags": []
   },
   "outputs": [],
   "source": [
    "# Train your autoencoder AND make it a comment before you turn in the assignment!!!!\n",
    "\n",
    "#--- YOUR CODE STARTS HERE ---#\n",
    "\n",
    "#--- YOUR CODE ENDS HERE ---#"
   ]
  },
  {
   "cell_type": "markdown",
   "id": "d3170aeb",
   "metadata": {},
   "source": [
    "**!!!The following cell stores your autoencoder, this file must be turned in in addition to your notebook!!!**"
   ]
  },
  {
   "cell_type": "code",
   "execution_count": null,
   "id": "5dc44897-7c81-451f-9f1b-40c364f47006",
   "metadata": {
    "ExecuteTime": {
     "end_time": "2025-01-14T17:01:13.094000+01:00",
     "start_time": "2025-01-14T16:00:05.246Z"
    },
    "deletable": false,
    "editable": false,
    "nbgrader": {
     "cell_type": "code",
     "checksum": "479598646d7ea50a7b97c16dd4cd261b",
     "grade": false,
     "grade_id": "cell-4e341141daa0bc02",
     "locked": true,
     "schema_version": 3,
     "solution": false,
     "task": false
    },
    "tags": []
   },
   "outputs": [],
   "source": [
    "#Make sure that the model is not overwritten during autograding\n",
    "if @isdefined autoencoder\n",
    "    #Save your model as file\n",
    "    @assert isa(autoencoder, Flux.Chain)\n",
    "    serialize(\"autoencoder\", autoencoder)\n",
    "end"
   ]
  },
  {
   "cell_type": "code",
   "execution_count": null,
   "id": "644b55dd-09e9-47f1-925c-9d5d60c903ca",
   "metadata": {
    "ExecuteTime": {
     "end_time": "2025-01-14T17:01:14.314000+01:00",
     "start_time": "2025-01-14T16:00:05.247Z"
    },
    "deletable": false,
    "editable": false,
    "nbgrader": {
     "cell_type": "code",
     "checksum": "1d83565cdf4557bb4fac821e0f10a8ba",
     "grade": true,
     "grade_id": "cell-fbe038afe1979a88",
     "locked": true,
     "points": 3,
     "schema_version": 3,
     "solution": false,
     "task": false
    },
    "tags": []
   },
   "outputs": [],
   "source": [
    "student_model = deserialize(\"autoencoder\")\n",
    "@assert isa(student_model, Flux.Chain)\n",
    "\n",
    "@assert loss_function(X, autoencoder(X)) < 0.001\n",
    "\n"
   ]
  },
  {
   "cell_type": "markdown",
   "id": "365565d8-c0e7-4b30-a24a-adcc20e23cdc",
   "metadata": {
    "deletable": false,
    "editable": false,
    "nbgrader": {
     "cell_type": "markdown",
     "checksum": "308385f9674c8939fddd7e579d85aa67",
     "grade": false,
     "grade_id": "cell-0cdbfcdae27cf172",
     "locked": true,
     "schema_version": 3,
     "solution": false,
     "task": false
    }
   },
   "source": [
    "```\n",
    "#Random autoencoder sample comparison\n",
    "x = range(0.1,10.1, length = 101)\n",
    "random_index = rand(1:size(X,2))\n",
    "original = X[:,random_index]\n",
    "reconstruction = autoencoder(original)\n",
    "Plots.plot(x,original)\n",
    "display(Plots.plot!(x,reconstruction))\n",
    "```"
   ]
  }
 ],
 "metadata": {
  "kernelspec": {
   "display_name": "Julia 1.10.5",
   "language": "julia",
   "name": "julia-1.10"
  },
  "language_info": {
   "file_extension": ".jl",
   "mimetype": "application/julia",
   "name": "julia",
   "version": "1.10.5"
  }
 },
 "nbformat": 4,
 "nbformat_minor": 5
}
