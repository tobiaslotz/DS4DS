{
 "cells": [
  {
   "cell_type": "markdown",
   "id": "e58719b9-bc5b-4c3e-a74c-1e84d5c7a8ea",
   "metadata": {
    "deletable": false,
    "editable": false,
    "nbgrader": {
     "cell_type": "markdown",
     "checksum": "f191f3c17e8d8c44f63f4fe6c53bee9d",
     "grade": false,
     "grade_id": "cell-65f07e0847d43dff",
     "locked": true,
     "schema_version": 3,
     "solution": false,
     "task": false
    },
    "tags": []
   },
   "source": [
    "# DS4DS Homework Exercise Sheet 05"
   ]
  },
  {
   "cell_type": "markdown",
   "id": "0c02b045",
   "metadata": {
    "ExecuteTime": {
     "end_time": "2024-11-12T17:08:50.285000+01:00",
     "start_time": "2024-11-12T16:08:32.397Z"
    },
    "deletable": false,
    "editable": false,
    "nbgrader": {
     "cell_type": "markdown",
     "checksum": "ee1766709b77c098441cdb623400853f",
     "grade": false,
     "grade_id": "cell-2de976ae14bdacc5",
     "locked": true,
     "schema_version": 3,
     "solution": false,
     "task": false
    }
   },
   "source": [
    "### General Rules\n",
    "- Only write within the area indicated by `#--- YOUR CODE [STARTS|ENDS] HERE ---#`\n",
    "- Do not import any additional libraries without our explicit instructions.\n",
    "- Do not delete or insert cells (If you are using a Jupyter IDE, you are prevented from doing so)."
   ]
  },
  {
   "cell_type": "markdown",
   "id": "aa8d4849-77a9-407f-aafc-09a24e345c6f",
   "metadata": {
    "deletable": false,
    "editable": false,
    "nbgrader": {
     "cell_type": "markdown",
     "checksum": "76e024b3c4769ba342cb2778b3a0e157",
     "grade": false,
     "grade_id": "cell-340d303519bd880e",
     "locked": true,
     "schema_version": 3,
     "solution": false,
     "task": false
    },
    "tags": []
   },
   "source": [
    "### Task 1: Regularization - (3.5 points)\n",
    "\n",
    "In the first task, the same data as already used in Ex04 task3 will be utilized.\n",
    "The given data was produced using a polynomial of the form\n",
    "\n",
    "\n",
    "$$\n",
    "\\begin{align}\n",
    "    y = w_0 + x \\cdot w_1 + \\dots + x^p \\cdot w_p\n",
    "\\end{align}\n",
    "$$\n",
    "\n",
    "with an unknown degree $p$.\n",
    "\n",
    "Below you are given data for the inputs $x$ and the outputs $y$.  All of the data for the measurements $y$ is affected by bias-free, additive, Gaussian noise, i.e., the values you are given below do not fully follow the formula given above, but instead :\n",
    "\n",
    "$$\n",
    "\\begin{align}\n",
    "    y = w_0 + x \\cdot w_1 + \\dots + x^p \\cdot w_p + \\nu \\quad \\mathrm{with} \\, \\nu \\sim \\mathcal{N}(0, \\sigma_n^2).\n",
    "\\end{align}\n",
    "$$\n",
    "\n",
    "The variance of the noise process is unknown, but it is also not necessary to estimate it for completing this task.\n",
    "\n",
    "\n",
    "The task in the following is to identify the coefficents using the training data and validate the result using the validation data, like already done in Ex04. \n",
    "But in this task we will assume a fixed degree of the polynom $p = 6$ for our model. \n",
    "\n",
    "**Model:** We will make use of:\n",
    "\n",
    "$$\n",
    "\\begin{align}\n",
    "    y = w_0 + x \\cdot w_1 + x^2 \\cdot w_2 + x^3 \\cdot w_3 + x^4 \\cdot w_4 + x^5 \\cdot w_5 + x^6 \\cdot w_6 .\n",
    "\\end{align}\n",
    "$$\n"
   ]
  },
  {
   "cell_type": "code",
   "execution_count": 1,
   "id": "7b550e02-13d9-4bf4-9d02-59726c1350ea",
   "metadata": {
    "ExecuteTime": {
     "end_time": "2024-11-12T23:18:46.330000+01:00",
     "start_time": "2024-11-12T22:18:27.341Z"
    },
    "deletable": false,
    "editable": false,
    "nbgrader": {
     "cell_type": "code",
     "checksum": "7ddeceac64737af591720cbf876fa527",
     "grade": false,
     "grade_id": "cell-11099a08dd921130",
     "locked": true,
     "schema_version": 3,
     "solution": false,
     "task": false
    }
   },
   "outputs": [],
   "source": [
    "using MAT\n",
    "using Statistics\n",
    "using LinearAlgebra\n",
    "using Random"
   ]
  },
  {
   "cell_type": "code",
   "execution_count": 2,
   "id": "ed7ab53b-e895-44da-9818-cfaf3b7f290a",
   "metadata": {
    "ExecuteTime": {
     "end_time": "2024-11-12T23:18:49.788000+01:00",
     "start_time": "2024-11-12T22:18:27.342Z"
    },
    "deletable": false,
    "editable": false,
    "nbgrader": {
     "cell_type": "code",
     "checksum": "5ab14397dfa33ae23f4abe740a302ffb",
     "grade": false,
     "grade_id": "cell-f3eda6a4643e2498",
     "locked": true,
     "schema_version": 3,
     "solution": false,
     "task": false
    }
   },
   "outputs": [],
   "source": [
    "data_1 = matopen(\"data_task_3_ex04.mat\");\n",
    "\n",
    "# training data\n",
    "x_training = read(data_1, \"x_training\")[1, :];\n",
    "y_training = read(data_1, \"y_training\")[1, :];\n",
    "\n",
    "# validation data\n",
    "x_validation = read(data_1, \"x_validation\")[1, :];\n",
    "y_validation = read(data_1, \"y_validation\")[1, :];\n"
   ]
  },
  {
   "cell_type": "markdown",
   "id": "7cf0c9d1-3625-4d6d-bbe6-04b80bf4ff8b",
   "metadata": {
    "deletable": false,
    "editable": false,
    "nbgrader": {
     "cell_type": "markdown",
     "checksum": "2e6ce91d6224ff14593ef160945ee127",
     "grade": false,
     "grade_id": "cell-c46f02bf62497c0c",
     "locked": true,
     "schema_version": 3,
     "solution": false,
     "task": false
    }
   },
   "source": [
    "**a)** Based on the implementation of EX04, calculate the estimation error of an OLS estimator, which uses the model defined above. **- (0.5 points)**\n",
    "\n",
    "**Hint**: The functions from Ex04 can be used here. "
   ]
  },
  {
   "cell_type": "code",
   "execution_count": 3,
   "id": "2b75b128-db7a-4393-be5c-1105cf804e38",
   "metadata": {
    "ExecuteTime": {
     "end_time": "2024-11-12T23:18:50.407000+01:00",
     "start_time": "2024-11-12T22:18:27.343Z"
    },
    "deletable": false,
    "nbgrader": {
     "cell_type": "code",
     "checksum": "759dcda08b1a3187da723b9a01f3747c",
     "grade": false,
     "grade_id": "cell-bbfcbdd0decf09a0",
     "locked": false,
     "schema_version": 3,
     "solution": true,
     "task": false
    },
    "tags": []
   },
   "outputs": [
    {
     "data": {
      "text/plain": [
       "regressor_matrix (generic function with 1 method)"
      ]
     },
     "metadata": {},
     "output_type": "display_data"
    }
   ],
   "source": [
    "function regressor_matrix(x, p)\n",
    "\t\"\"\"\n",
    "\tArgs:\n",
    "\t\tx: Input data\n",
    "\t\tp: Degree of the polynomial\n",
    "\n",
    "\tReturns:\n",
    "\t\tRegressor matrix Z with shape (length(x), p+1)\n",
    "\t\"\"\"\n",
    "\t@assert ndims(x) == 1\n",
    "\t#--- YOUR CODE STARTS HERE ---#\n",
    "\tZ = zeros(length(x), p+1)\n",
    "    for i = 0:p\n",
    "        Z[:,i+1] = x.^i\n",
    "    end\n",
    "\t#--- YOUR CODE ENDS HERE ---#\n",
    "\n",
    "\treturn Z\n",
    "end\n"
   ]
  },
  {
   "cell_type": "code",
   "execution_count": 4,
   "id": "7b80c262-ce07-47be-8a7e-d7536e7cd828",
   "metadata": {
    "ExecuteTime": {
     "end_time": "2024-11-12T23:18:50.421000+01:00",
     "start_time": "2024-11-12T22:18:27.344Z"
    },
    "deletable": false,
    "nbgrader": {
     "cell_type": "code",
     "checksum": "10b3c7d8e951355630f63e8a51c565a1",
     "grade": false,
     "grade_id": "cell-82295b01b6b0528b",
     "locked": false,
     "schema_version": 3,
     "solution": true,
     "task": false
    },
    "tags": []
   },
   "outputs": [
    {
     "data": {
      "text/plain": [
       "compute_parameter_estimation (generic function with 1 method)"
      ]
     },
     "metadata": {},
     "output_type": "display_data"
    }
   ],
   "source": [
    "function compute_parameter_estimation(x, y, p)\n",
    "\t\"\"\"\n",
    "\tArgs:\n",
    "\t\tx: Input data\n",
    "\t\ty: Output data\n",
    "\t\tp: Degree of the polynomial\n",
    "\n",
    "\tReturns:\n",
    "\t\tparameter vector w with shape (p+1)\n",
    "\t\"\"\"\n",
    "\t@assert ndims(x) == ndims(y) == 1\n",
    "\t#--- YOUR CODE STARTS HERE ---#\n",
    "\tZ = regressor_matrix(x, p)\n",
    "\tw = inv(Z' * Z) * Z' * y\n",
    "\t#--- YOUR CODE ENDS HERE ---#\n",
    "\n",
    "\treturn w\n",
    "end\n"
   ]
  },
  {
   "cell_type": "code",
   "execution_count": 5,
   "id": "808db939-3c4b-4c08-9ae2-364157f7c97b",
   "metadata": {
    "ExecuteTime": {
     "end_time": "2024-11-12T23:18:50.435000+01:00",
     "start_time": "2024-11-12T22:18:27.344Z"
    },
    "deletable": false,
    "editable": false,
    "nbgrader": {
     "cell_type": "code",
     "checksum": "bcfd172d08926ba025ea215b9fb33fd5",
     "grade": false,
     "grade_id": "cell-4d519004b4359399",
     "locked": true,
     "schema_version": 3,
     "solution": false,
     "task": false
    }
   },
   "outputs": [
    {
     "data": {
      "text/plain": [
       "error_function (generic function with 1 method)"
      ]
     },
     "metadata": {},
     "output_type": "display_data"
    }
   ],
   "source": [
    "function error_function(a, b)\n",
    "\t\"\"\"Computes the error between the two input vectors.\"\"\"\n",
    "\n",
    "\t@assert length(a) == length(b)\n",
    "\t@assert ndims(a) == ndims(b) == 1\n",
    "\n",
    "\tN = length(a)\n",
    "\treturn sqrt(1 / N * sum((a - b) .^ 2))\n",
    "end\n"
   ]
  },
  {
   "cell_type": "code",
   "execution_count": 6,
   "id": "3ceb1b56-ee63-4550-b5dd-a13d6019e235",
   "metadata": {
    "ExecuteTime": {
     "end_time": "2024-11-12T23:18:53.784000+01:00",
     "start_time": "2024-11-12T22:18:27.345Z"
    },
    "deletable": false,
    "editable": false,
    "nbgrader": {
     "cell_type": "code",
     "checksum": "cb3e620bfbeed118ff9978a9488adaf2",
     "grade": true,
     "grade_id": "cell-6ca97d6362bf7a17",
     "locked": true,
     "points": 0.5,
     "schema_version": 3,
     "solution": false,
     "task": false
    },
    "tags": []
   },
   "outputs": [
    {
     "name": "stdout",
     "output_type": "stream",
     "text": [
      "Current error: 38.23522411608347\n"
     ]
    }
   ],
   "source": [
    "p = 6\n",
    "w = compute_parameter_estimation(x_training, y_training, p)\n",
    "y_est = regressor_matrix(x_validation, p) * w\n",
    "err_OLS = error_function(y_est[:, 1], y_validation[:, 1])\n",
    "println(\"Current error: \", err_OLS)\n",
    "\n",
    "@assert ndims(err_OLS) == 0 \"is err_OLS scalar?\"\n",
    "@assert 100 > err_OLS > 0\n",
    "\n"
   ]
  },
  {
   "cell_type": "code",
   "execution_count": 7,
   "id": "753deac5",
   "metadata": {
    "ExecuteTime": {
     "end_time": "2024-11-12T23:18:54.025000+01:00",
     "start_time": "2024-11-12T22:18:27.345Z"
    },
    "deletable": false,
    "editable": false,
    "nbgrader": {
     "cell_type": "code",
     "checksum": "313ecb9eb9a487c635938b171aee3110",
     "grade": true,
     "grade_id": "cell-97332d067ab601e2",
     "locked": true,
     "points": 0,
     "schema_version": 3,
     "solution": false,
     "task": false
    }
   },
   "outputs": [],
   "source": [
    "# please leave this cell as it is\n"
   ]
  },
  {
   "cell_type": "markdown",
   "id": "47149269-dd96-4076-9fa2-4e66766a9888",
   "metadata": {
    "deletable": false,
    "editable": false,
    "nbgrader": {
     "cell_type": "markdown",
     "checksum": "1c13674971d899949c05cec5aa67e0bf",
     "grade": false,
     "grade_id": "cell-89a824e396284134",
     "locked": true,
     "schema_version": 3,
     "solution": false,
     "task": false
    }
   },
   "source": [
    "To reduce the error, the ridge regression should be applied in the following subtasks. \n",
    "\n",
    "**b)** For a proper scaling, the data should be normalized in the beginning. Therefore, write a function which normalizes the given data vector $d$ based on the following equation:\n",
    "\n",
    "$$\n",
    "\\begin{align}\n",
    "    d_{norm} = \\frac{d - \\mu(d)}{\\sigma(d)}\n",
    "\\end{align}\n",
    "$$\n",
    "\n",
    "where $\\mu(d)$ defines the mean of the data $d$ and $\\sigma(d)$ defines the standard deviation, accordingly.\n",
    "\n",
    "There are two common mistakes made when data is normalized:\n",
    "\n",
    "1. $\\mu$ and $\\sigma$ are calculated on the union of training and test (or val) data. \n",
    "*Problem:* When you normalize the training data, information from the test (or val) data is introduced to the training data by the usage of $\\mu$ and $\\sigma$. This introduces bias to your tests (or vals) later on such that the results are overestimating the general performance.\n",
    "\n",
    "2. Training and test (or val) data are normalized separately.\n",
    "*Explanation:* Assume you have normalized the training data x_training, y_training with $\\mu_{train}$ and $\\sigma_{train}$ and trained an algorithm A on it. Now you want to know, how A would be doing if it is applied on the actual problem the data comes from. This is done by emulating the actual problem. In a real application of the trained A, you get some $\\hat{x}$, normalize it with $\\mu_{train}$ and $\\sigma_{train}$, and apply A on it to get a prediction $\\hat{y}_{pred}$ (within normalization space). This is mimiced in testing (or validation), i.e. you use $\\mu_{train}$ and $\\sigma_{train}$ to normalize your test (or val) data. Many people do a mistake here and calculate a separate $\\mu_{test}$ and $\\sigma_{test}$, which does not represent the real application any more and introduces bias. A sufficient way of thinking about normalization is, that it is part of your actual algorithm A with parameters $\\mu_{train}$ and $\\sigma_{train}$.\n",
    "\n",
    "*Coming back to the assignment:* A common name for a normalizer is *StandardScaler*. There you store your $\\mu_{train}$ and $\\sigma_{train}$. The StandardScaler is used for two function. You see them below with further explanations. You are supposed to fill in the missing parts.**- (1 points)**"
   ]
  },
  {
   "cell_type": "code",
   "execution_count": 8,
   "id": "2b4036dc",
   "metadata": {
    "ExecuteTime": {
     "end_time": "2024-11-12T23:18:54.568000+01:00",
     "start_time": "2024-11-12T22:18:27.346Z"
    },
    "deletable": false,
    "editable": false,
    "nbgrader": {
     "cell_type": "code",
     "checksum": "4316fc8d853fb11936db556f2e677935",
     "grade": false,
     "grade_id": "cell-3b558d6a6bce59ba",
     "locked": true,
     "schema_version": 3,
     "solution": false,
     "task": false
    }
   },
   "outputs": [
    {
     "data": {
      "text/plain": [
       "StandardScaler"
      ]
     },
     "metadata": {},
     "output_type": "display_data"
    }
   ],
   "source": [
    "# Nothing to do in this cell!\n",
    "\n",
    "# Dump for normalization parameters\n",
    "mutable struct StandardScaler\n",
    "    mean::Union{Float64, Nothing}\n",
    "    std::Union{Float64, Nothing}\n",
    "end\n",
    "\n",
    "# Constructor\n",
    "function StandardScaler()\n",
    "    return StandardScaler(nothing, nothing)\n",
    "end\n"
   ]
  },
  {
   "cell_type": "code",
   "execution_count": 9,
   "id": "911675bd",
   "metadata": {
    "ExecuteTime": {
     "end_time": "2024-11-12T23:18:54.583000+01:00",
     "start_time": "2024-11-12T22:18:27.346Z"
    },
    "deletable": false,
    "nbgrader": {
     "cell_type": "code",
     "checksum": "675771b6cd51d4a738a7278a45ac74fe",
     "grade": false,
     "grade_id": "cell-f5ddca75a356be52",
     "locked": false,
     "schema_version": 3,
     "solution": true,
     "task": false
    }
   },
   "outputs": [
    {
     "data": {
      "text/plain": [
       "transform (generic function with 1 method)"
      ]
     },
     "metadata": {},
     "output_type": "display_data"
    }
   ],
   "source": [
    "# Function for StandardScaler\n",
    "function fit!(scaler::StandardScaler, X::Vector{Float64})\n",
    "    # Fit the StandardScaler on the data\n",
    "    #\n",
    "    # Here you should calculate the mean and standard deviation on the given data vector X.\n",
    "    scaler.mean = 0.  # TODO: Init this variable.\n",
    "    scaler.std = 0.  # TODO: Init this variable.\n",
    "    #--- YOUR CODE STARTS HERE ---#\n",
    "    N = length(X)\n",
    "    for i = 1:N\n",
    "        scaler.mean += X[i]\n",
    "    end\n",
    "    scaler.mean /= N\n",
    "    for i = 1:N\n",
    "        scaler.std += (X[i] - scaler.mean)^2\n",
    "    end\n",
    "    scaler.std /= (N - 1)\n",
    "    scaler.std = sqrt(scaler.std)\n",
    "    #--- YOUR CODE ENDS HERE ---#\n",
    "end\n",
    "\n",
    "function transform(scaler::StandardScaler, X::Vector{Float64})\n",
    "    # Transform the data using the fitted mean and std\n",
    "    #\n",
    "    # Here you should normalize the data X and return it.\n",
    "    if scaler.mean === nothing || scaler.std === nothing\n",
    "        throw(ArgumentError(\"The scaler has not been fitted. Please call fit! first.\"))\n",
    "    end\n",
    "    \n",
    "    X_transformed = zeros(length(X))  # This shall be your transformed data which is returned.\n",
    "    #--- YOUR CODE STARTS HERE ---#\n",
    "    X_transformed = (X .- scaler.mean) ./ scaler.std\n",
    "    #--- YOUR CODE ENDS HERE ---#\n",
    "    return X_transformed\n",
    "end\n"
   ]
  },
  {
   "cell_type": "code",
   "execution_count": 10,
   "id": "eb172e12-5f33-46a1-8062-7d6202bbb011",
   "metadata": {
    "ExecuteTime": {
     "end_time": "2024-11-12T23:18:54.951000+01:00",
     "start_time": "2024-11-12T22:18:27.347Z"
    },
    "deletable": false,
    "editable": false,
    "nbgrader": {
     "cell_type": "code",
     "checksum": "70a80553143cdbae814bd44844c0f986",
     "grade": false,
     "grade_id": "cell-33cf49d40f7a04f2",
     "locked": true,
     "schema_version": 3,
     "solution": false,
     "task": false
    }
   },
   "outputs": [],
   "source": [
    "test = convert(Vector{Float64}, collect(1:5))\n",
    "SS = StandardScaler()  # Call to the constructor\n",
    "fit!(SS, test)  # calculate mean and std on test for SS.\n",
    "test_norm = transform(SS, test)\n",
    "truth = [-1.2649110640673518, -0.6324555320336759, 0.0, 0.6324555320336759, 1.2649110640673518]\n",
    "\n",
    "@assert size(test)[1] == size(test_norm)[1]\n",
    "@assert transform(SS, test) == truth\n"
   ]
  },
  {
   "cell_type": "code",
   "execution_count": 11,
   "id": "a6e17354-b432-49ce-8b9d-5e3f3c2e4168",
   "metadata": {
    "ExecuteTime": {
     "end_time": "2024-11-12T23:19:10.384000+01:00",
     "start_time": "2024-11-12T22:18:52.126Z"
    },
    "deletable": false,
    "editable": false,
    "nbgrader": {
     "cell_type": "code",
     "checksum": "12684339a9b843a4ac3f25594b378561",
     "grade": true,
     "grade_id": "cell-5fdddb5419139388",
     "locked": true,
     "points": 1,
     "schema_version": 3,
     "solution": false,
     "task": false
    },
    "tags": []
   },
   "outputs": [],
   "source": [
    "# Do not change this cell!\n",
    "\n"
   ]
  },
  {
   "cell_type": "code",
   "execution_count": 12,
   "id": "7aa46ea5",
   "metadata": {
    "ExecuteTime": {
     "end_time": "2024-11-12T23:19:13.498000+01:00",
     "start_time": "2024-11-12T22:18:56.005Z"
    },
    "deletable": false,
    "editable": false,
    "nbgrader": {
     "cell_type": "code",
     "checksum": "e47a44461b2c31fbe0bf1b35c57345a6",
     "grade": true,
     "grade_id": "cell-5c9f8409e4d8fb06",
     "locked": true,
     "points": 0,
     "schema_version": 3,
     "solution": false,
     "task": false
    }
   },
   "outputs": [],
   "source": [
    "# please leave this cell as it is\n"
   ]
  },
  {
   "cell_type": "markdown",
   "id": "b47c914b-deb4-498c-8be8-1257119ca701",
   "metadata": {
    "deletable": false,
    "editable": false,
    "nbgrader": {
     "cell_type": "markdown",
     "checksum": "3085e0895103b0ed24b64abb4b535ed9",
     "grade": false,
     "grade_id": "cell-a7131bcde27c98d1",
     "locked": true,
     "schema_version": 3,
     "solution": false,
     "task": false
    }
   },
   "source": [
    "**c)** Implement the function below to calculate the parameters $\\mathbf{w_{ridge}}$ using the ridge regression approach from the lecture.\n",
    "The function should be able to generate a regressor matrix $\\mathbf{Z}$ from the input vector $\\mathbf{x}$ using the `regressor_matrix(x, p)` function implemented in subtask a) based on the model of a polynomial of degree $p$.\n",
    "This regressor matrix $Z$ is then to be used together with the measurement vector $\\mathbf{y}$ and the penatly term lambda to estimate the parameters $\\mathbf{w_{ridge}}$ based on the ridge regression approach from the lecture.**- (1 point)**"
   ]
  },
  {
   "cell_type": "code",
   "execution_count": 13,
   "id": "918b4016-6ac3-41c8-8285-67ade5346307",
   "metadata": {
    "ExecuteTime": {
     "end_time": "2024-11-12T23:19:16.189000+01:00",
     "start_time": "2024-11-12T22:18:58.670Z"
    },
    "deletable": false,
    "nbgrader": {
     "cell_type": "code",
     "checksum": "f02b9b238baa96878e8d7e4db0d49bdf",
     "grade": false,
     "grade_id": "cell-8cdcfc31e297ed91",
     "locked": false,
     "schema_version": 3,
     "solution": true,
     "task": false
    },
    "tags": []
   },
   "outputs": [
    {
     "data": {
      "text/plain": [
       "compute_parameter_estimation_ridge (generic function with 1 method)"
      ]
     },
     "metadata": {},
     "output_type": "display_data"
    }
   ],
   "source": [
    "function compute_parameter_estimation_ridge(x, y, p, lambda)\n",
    "\t\"\"\"\n",
    "\tArgs:\n",
    "\t\tx: Input data\n",
    "\t\ty: Output data\n",
    "\t\tp: Degree of the polynomial\n",
    "\t\tlambda: scalar weigting factor\n",
    "\n",
    "\n",
    "\tReturns:\n",
    "\t\tparameter vector w_ridge with shape (p+1)\n",
    "\t\"\"\"\n",
    "\t@assert ndims(x) == ndims(y) == 1\n",
    "\t@assert ndims(p) == ndims(lambda) == 0\n",
    "\t#--- YOUR CODE STARTS HERE ---#\n",
    "\tZ = regressor_matrix(x, p)\n",
    "\tw_ridge = inv(Z' * Z + lambda * I) * (Z' * y)\n",
    "\t#--- YOUR CODE ENDS HERE ---#\n",
    "\n",
    "\treturn w_ridge\n",
    "end\n"
   ]
  },
  {
   "cell_type": "code",
   "execution_count": 14,
   "id": "5287f827-0162-424a-8f26-7731ea680a0a",
   "metadata": {
    "ExecuteTime": {
     "end_time": "2024-11-12T23:19:20.375000+01:00",
     "start_time": "2024-11-12T22:19:02.688Z"
    },
    "deletable": false,
    "editable": false,
    "nbgrader": {
     "cell_type": "code",
     "checksum": "6822b240e07510f42e8a0a4305c3634f",
     "grade": true,
     "grade_id": "cell-7af8ac60219213f4",
     "locked": true,
     "points": 1,
     "schema_version": 3,
     "solution": false,
     "task": false
    },
    "tags": []
   },
   "outputs": [],
   "source": [
    "@assert isa(compute_parameter_estimation_ridge, Function)\n",
    "\n"
   ]
  },
  {
   "cell_type": "code",
   "execution_count": 15,
   "id": "b239ff1a",
   "metadata": {
    "ExecuteTime": {
     "end_time": "2024-11-12T23:19:22.941000+01:00",
     "start_time": "2024-11-12T22:19:05.451Z"
    },
    "deletable": false,
    "editable": false,
    "nbgrader": {
     "cell_type": "code",
     "checksum": "b6a305cb4579fb050c7a72d978d3032d",
     "grade": true,
     "grade_id": "cell-cf0fb894664fa573",
     "locked": true,
     "points": 0,
     "schema_version": 3,
     "solution": false,
     "task": false
    }
   },
   "outputs": [],
   "source": [
    "# please leave this cell as it is\n"
   ]
  },
  {
   "cell_type": "markdown",
   "id": "a35c1237-4d44-44f3-a8c0-c2734a8b0c1b",
   "metadata": {
    "deletable": false,
    "editable": false,
    "nbgrader": {
     "cell_type": "markdown",
     "checksum": "a16a71cdd7a2683bca9ffa5fba71557e",
     "grade": false,
     "grade_id": "cell-6b9c348c5afb68a5",
     "locked": true,
     "schema_version": 3,
     "solution": false,
     "task": false
    }
   },
   "source": [
    "**d)** Use the StandardScaler from b) to normalize x_training and y_training and the implemented function in c) to evaluate the estimation error for different penalty factors lambda applying the ridge regression.\n",
    "\n",
    "*Notes:*\n",
    "- Consider only the given lambda values.\n",
    "- Calculate the error with our error_function from above per lambda and store the minimum error among all identified models in the variable err_min.\n",
    "- A polynomial of of degree $p = 6$ is to be used as the model.\n",
    "- One StandardScaler for x_training and one for y_training.\n",
    "- The error should be calculated in normalization space (i.e. compare y_pred to the normalized y_validation).\n",
    "**- (1 point)**"
   ]
  },
  {
   "cell_type": "code",
   "execution_count": 16,
   "id": "96c57725-41fc-4886-8ae9-2c8c1ef9743b",
   "metadata": {
    "ExecuteTime": {
     "end_time": "2024-11-12T23:19:25.227000+01:00",
     "start_time": "2024-11-12T22:19:07.551Z"
    },
    "deletable": false,
    "nbgrader": {
     "cell_type": "code",
     "checksum": "d5632b3afdf3aa88e541ad3bef1a89bb",
     "grade": false,
     "grade_id": "cell-f812dae65cd7ba1b",
     "locked": false,
     "schema_version": 3,
     "solution": true,
     "task": false
    },
    "tags": []
   },
   "outputs": [
    {
     "name": "stdout",
     "output_type": "stream",
     "text": [
      "#######################\n",
      "Minimal error: 0.26841819526957045\n"
     ]
    }
   ],
   "source": [
    "p = 6 # degree of polynomial\n",
    "lambda_vec = [0, 1/16, 1/8, 1/4, 1/2, 1, 2, 4, 8, 16] # lambdas to be evaluated\n",
    "\n",
    "err_min = 10000.  # initialize minial error\n",
    "SS_x = StandardScaler()  # StandardScaler for x-data.\n",
    "SS_y = StandardScaler()  # StandardScaler for y-data.\n",
    "\n",
    "#--- YOUR CODE STARTS HERE ---#\n",
    "fit!(SS_x, x_training)\n",
    "fit!(SS_y, y_training)\n",
    "x_trafo = transform(SS_x, x_training)\n",
    "y_trafo = transform(SS_y, y_training)\n",
    "best_lambda = -1\n",
    "Z = regressor_matrix(x_trafo, 6)\n",
    "for l in lambda_vec\n",
    "    w_ridge = compute_parameter_estimation_ridge(x_trafo, y_trafo, 6, l)\n",
    "    preds = Z * w_ridge\n",
    "    current_error = error_function(preds, y_trafo)\n",
    "    if current_error < err_min\n",
    "        err_min = current_error\n",
    "        best_lambda = l\n",
    "    end\n",
    "end\n",
    "#--- YOUR CODE ENDS HERE ---#\n",
    "\n",
    "println(\"#######################\")\n",
    "println(\"Minimal error: \", err_min)\n"
   ]
  },
  {
   "cell_type": "code",
   "execution_count": 17,
   "id": "9e1eeeb6-0e6d-4271-8023-b01e5854f307",
   "metadata": {
    "ExecuteTime": {
     "end_time": "2024-11-12T23:19:28.371000+01:00",
     "start_time": "2024-11-12T22:19:10.828Z"
    },
    "deletable": false,
    "editable": false,
    "nbgrader": {
     "cell_type": "code",
     "checksum": "7435378ce5b6655fd83b23039fc4f272",
     "grade": true,
     "grade_id": "cell-f18dbe865db98856",
     "locked": true,
     "points": 1,
     "schema_version": 3,
     "solution": false,
     "task": false
    },
    "tags": []
   },
   "outputs": [],
   "source": [
    "@assert isnan(err_min) == false \"Your value for the minimal error is not a number.\"\n",
    "@assert err_min < 5\n",
    "@assert ndims(err_min) == 0 \"is err_min scalar?\""
   ]
  },
  {
   "cell_type": "markdown",
   "id": "b25e0cc7-37aa-4662-8b7f-1793bd587b19",
   "metadata": {
    "deletable": false,
    "editable": false,
    "nbgrader": {
     "cell_type": "markdown",
     "checksum": "0bfb8e032a97cae6a70ca389d7d95b76",
     "grade": false,
     "grade_id": "cell-0d7137feed1cdd0b",
     "locked": true,
     "schema_version": 3,
     "solution": false,
     "task": false
    },
    "tags": []
   },
   "source": [
    "### Task 2: Weighted least squares - (3.5 points)\n",
    "\n",
    "#### Estimation of physical parameters of the barometric altitude formula:\n",
    "\n",
    "The weighted least squares (WLS) approach is to be used to estimate the physical parameters $p_0$ and $\\alpha$ of the barometric altitude formula\n",
    "\n",
    "$$\n",
    "\\begin{align}\n",
    "    p(h) = p_0 e^{\\alpha \\cdot h}.\n",
    "\\end{align}\n",
    "$$\n",
    "\n",
    "The parameter $p_0$ describes the air pressure at sea level and the parameter $\\alpha$ is a constant that describes the exponential decrease in air pressure. \n",
    "Using the barometric altitude formula, the air pressure $p$ is defined as a function of the height $h$ above sea level.\n",
    "To determine the parameters $p_0$ and $\\alpha$, pressure measurements $p$ are available as a function of the height $h$. \n",
    "These were determined using 10 weather balloons with a pressure sensor and a line on which the balloon's ascent height can be varied.\n",
    "The transmission of the pressure data at an altitude $h$ was transmitted to the ground station using an analog radio signal.\n",
    "This radio signal is superimposed with a noise, whereby the variance of the noise increases with increasing altitude $h$ due to the greater\n",
    "distance to the ground station.\n",
    "\n",
    "<img src=\"weather-balloon.png\" alt=\"measurements\" width=\"400\"/>\n",
    "\n",
    "[(Picture source)](https://www.farmersalmanac.com/weather-balloons-19447)\n",
    "\n",
    "The measured pressure values were recorded at altitudes of 150 m, 200 m, 250 m, ... , 2000 m (38 equidistant heights). \n",
    "The pressure measurements were realized in the unit $\\text{Pa} = \\frac{\\text{N}}{\\text{m}^2}$.\n",
    "\n",
    "The results of the above-mentioned experiment are stored in the data set `data_task_2.mat`.\n",
    "It contains a measurement matrix $p$ of the pressure and $h$ of the height. \n",
    "These measurement matrices have the dimension 38 × 10, whereby the rows each contain measured values of a constant height.\n",
    "\n"
   ]
  },
  {
   "cell_type": "code",
   "execution_count": 18,
   "id": "c1be4adc-6c20-4de8-a922-dc00b9c9cc40",
   "metadata": {
    "ExecuteTime": {
     "end_time": "2024-11-13T00:04:59.161000+01:00",
     "start_time": "2024-11-12T23:04:41.170Z"
    }
   },
   "outputs": [],
   "source": [
    "data_2 = matopen(\"data_task_2.mat\");\n",
    "\n",
    "p = read(data_2, \"p\");\n",
    "h = read(data_2, \"h\");\n",
    "\n",
    "p_vec = reduce(vcat, p);\n",
    "h_vec = reduce(vcat, h);"
   ]
  },
  {
   "cell_type": "markdown",
   "id": "1721e378-4bdf-4a18-9aae-f36721b4e9bf",
   "metadata": {
    "deletable": false,
    "editable": false,
    "nbgrader": {
     "cell_type": "markdown",
     "checksum": "fddaf732819ed1e6073eb04bd65d9146",
     "grade": false,
     "grade_id": "cell-d2ff1f760835c4b5",
     "locked": true,
     "schema_version": 3,
     "solution": false,
     "task": false
    }
   },
   "source": [
    "**a)** The parameters occur non-linearly in the barometric altitude formula. Through which mathematical transformation can this non-linear estimation problem be transformed into a linear one such that linear LS (Least-Squares) can be applied? Write a function which implements this transformation to prepare the data for the use of linear LS methods.\n",
    "\n",
    "The output of the function should be the regressor vector Z and the measurement vector Y, which can be used in linear LS methods **- (0.5 points)**\n",
    "\n",
    "**Hint**: Use the provided, already concatenated vectors in this task."
   ]
  },
  {
   "cell_type": "code",
   "execution_count": 19,
   "id": "795d18ef-0efe-4f9c-ac0f-37508ae627f4",
   "metadata": {
    "ExecuteTime": {
     "end_time": "2024-11-13T00:05:00.855000+01:00",
     "start_time": "2024-11-12T23:04:43.239Z"
    },
    "deletable": false,
    "nbgrader": {
     "cell_type": "code",
     "checksum": "c1af8c188af5b7ab37409e4cf1ee1281",
     "grade": false,
     "grade_id": "cell-4ba9f1502840dd63",
     "locked": false,
     "schema_version": 3,
     "solution": true,
     "task": false
    },
    "tags": []
   },
   "outputs": [
    {
     "data": {
      "text/plain": [
       "prepare_data (generic function with 1 method)"
      ]
     },
     "metadata": {},
     "output_type": "display_data"
    }
   ],
   "source": [
    "function prepare_data(p_meas, h_meas)\n",
    "\t\"\"\"\n",
    "\tFunction to linearize the pressure measurement of the form p_meas = p_0 exp(α h)\n",
    "\n",
    "\tArgs:\n",
    "\t\tp_meas: Measured pressure data\n",
    "\t\th_meas: Measured hight data\n",
    "\t\t\t\n",
    "\tReturns:\n",
    "\t\tY: Measurement vector to be used in linear LS methods\n",
    "\t\tZ: Regressor matrix to be used in linear LS methods\n",
    "\t\"\"\"\n",
    "\n",
    "\t@assert ndims(p_meas) == ndims(h_meas) == 1\n",
    "\n",
    "\t#--- YOUR CODE STARTS HERE ---#\n",
    "\t# ln(p_meas) = ln(p_0) + α * h\n",
    "\tY = log.(p_meas)\n",
    "\tZ = regressor_matrix(h_meas, 1)\n",
    "\t#--- YOUR CODE ENDS HERE ---#\n",
    "\n",
    "\t@assert ndims(Y) == 1\n",
    "\t@assert ndims(Z) == 2\n",
    "\n",
    "\treturn Y, Z\n",
    "end\n"
   ]
  },
  {
   "cell_type": "code",
   "execution_count": 20,
   "id": "e5cff4f3-4c05-4d06-a0e9-741c89889384",
   "metadata": {
    "ExecuteTime": {
     "end_time": "2024-11-13T00:05:05.792000+01:00",
     "start_time": "2024-11-12T23:04:46.692Z"
    },
    "deletable": false,
    "editable": false,
    "nbgrader": {
     "cell_type": "code",
     "checksum": "8464af96dba0440ca879151b0814e160",
     "grade": true,
     "grade_id": "cell-bbfb1153f675c9f0",
     "locked": true,
     "points": 0.5,
     "schema_version": 3,
     "solution": false,
     "task": false
    },
    "tags": []
   },
   "outputs": [
    {
     "data": {
      "text/plain": [
       "([0.0, 0.0, 1.3862943611198906, 0.6931471805599453, 1.0986122886681098, 0.0], [1.0 2.1; 1.0 4.22; … ; 1.0 14.23; 1.0 5.11])"
      ]
     },
     "metadata": {},
     "output_type": "display_data"
    }
   ],
   "source": [
    "@assert isa(prepare_data, Function)\n",
    "\n",
    "\n",
    "x_test3 = [1.0, 1.0, 4.0, 2.0, 3.0, 1]\n",
    "y_test3 = [2.1, 4.22, 20.66, 12.4, 14.23, 5.11]\n",
    "\n",
    "Y_test, Z_test = prepare_data(x_test3, y_test3)\n",
    "\n"
   ]
  },
  {
   "cell_type": "code",
   "execution_count": 21,
   "id": "1e74f855",
   "metadata": {
    "ExecuteTime": {
     "end_time": "2024-11-13T00:07:27.350000+01:00",
     "start_time": "2024-11-12T23:07:09.747Z"
    },
    "deletable": false,
    "editable": false,
    "nbgrader": {
     "cell_type": "code",
     "checksum": "a314cc10c2317dc4a24eaeadb9c0713f",
     "grade": true,
     "grade_id": "cell-68dafa4ecc6664d6",
     "locked": true,
     "points": 0,
     "schema_version": 3,
     "solution": false,
     "task": false
    }
   },
   "outputs": [],
   "source": [
    "# please leave this cell as it is\n"
   ]
  },
  {
   "cell_type": "markdown",
   "id": "108979ee-d897-46cf-82a4-3d88bd7ae427",
   "metadata": {
    "deletable": false,
    "editable": false,
    "nbgrader": {
     "cell_type": "markdown",
     "checksum": "739191bf50fe78cf820efeaea624d550",
     "grade": false,
     "grade_id": "cell-202a0627789c27a3",
     "locked": true,
     "schema_version": 3,
     "solution": false,
     "task": false
    }
   },
   "source": [
    "**b)** Write a function to calculate the parameters $p_0$ and $\\alpha$ in the transformed space of the barometric height equation for the given data set. To do this, you can use the OLS-function from Ex04. **- (1 point)**"
   ]
  },
  {
   "cell_type": "code",
   "execution_count": 22,
   "id": "d070f081-6a35-40fe-8d6b-16b045758fcb",
   "metadata": {
    "ExecuteTime": {
     "end_time": "2024-11-13T00:08:16.229000+01:00",
     "start_time": "2024-11-12T23:07:58.631Z"
    },
    "deletable": false,
    "nbgrader": {
     "cell_type": "code",
     "checksum": "3733216f560608c7deaafc29660679a8",
     "grade": false,
     "grade_id": "cell-97a0f5ab78e5d3e9",
     "locked": false,
     "schema_version": 3,
     "solution": true,
     "task": false
    },
    "tags": []
   },
   "outputs": [],
   "source": [
    "function parameter_calculation_OLS(Z, Y)\n",
    "\t\"\"\"\n",
    "\tArgs:\n",
    "\t\tZ: regressor matrix with shape (n_measurements, n_regressors)\n",
    "\t\tY: measurement_vector with shape (n_measurements)\n",
    "\n",
    "\tReturns:\n",
    "\t\tThe parameter vector w with shape (n_parameters)\n",
    "\t\"\"\"\n",
    "\n",
    "\t#--- YOUR CODE STARTS HERE ---#\n",
    "\tw = inv(Z' * Z) * Z' * Y\n",
    "\t#--- YOUR CODE ENDS HERE ---#\n",
    "\treturn w\n",
    "end;\n"
   ]
  },
  {
   "cell_type": "code",
   "execution_count": 23,
   "id": "98d35caf-28cf-4f5d-a686-e472f0629c2c",
   "metadata": {
    "ExecuteTime": {
     "end_time": "2024-11-13T00:08:17.323000+01:00",
     "start_time": "2024-11-12T23:07:59.612Z"
    },
    "deletable": false,
    "editable": false,
    "nbgrader": {
     "cell_type": "code",
     "checksum": "e483ec6bb2be8dc45b8a4b678561ad55",
     "grade": true,
     "grade_id": "cell-4d388d9df9a48c13",
     "locked": true,
     "points": 1,
     "schema_version": 3,
     "solution": false,
     "task": false
    },
    "tags": []
   },
   "outputs": [],
   "source": [
    "@assert isa(parameter_calculation_OLS, Function)\n",
    "Y, Z = prepare_data(p_vec, h_vec)\n",
    "w2_OLS = parameter_calculation_OLS(Z, Y)\n",
    "\n",
    "@assert isnan(w2_OLS[1]) == false \"Your value for a is NaN\"\n",
    "@assert isnan(w2_OLS[2]) == false \"Your value for b is NaN\"\n",
    "\n",
    "@assert w2_OLS[1] > 0 \"The first parameter must be positive, so that the air pressure above sea level is positive\"\n",
    "@assert w2_OLS[2] < 0 \"The secound parameter must be negative, so that the air pressure decreases with increasing hight\"\n",
    "\n",
    "\n"
   ]
  },
  {
   "cell_type": "code",
   "execution_count": 24,
   "id": "992b92ec",
   "metadata": {
    "ExecuteTime": {
     "end_time": "2024-11-13T00:10:08.212000+01:00",
     "start_time": "2024-11-12T23:09:50.597Z"
    },
    "deletable": false,
    "editable": false,
    "nbgrader": {
     "cell_type": "code",
     "checksum": "ec6294974ab6b4582e24284ec1a4be34",
     "grade": true,
     "grade_id": "cell-7901e41dba2d1d83",
     "locked": true,
     "points": 0,
     "schema_version": 3,
     "solution": false,
     "task": false
    }
   },
   "outputs": [],
   "source": [
    "# please leave this cell as it is\n"
   ]
  },
  {
   "cell_type": "markdown",
   "id": "2a0b3426-e0de-4019-a02e-2c6a53b1cda7",
   "metadata": {
    "deletable": false,
    "editable": false,
    "nbgrader": {
     "cell_type": "markdown",
     "checksum": "20382ab7f6f1cf36dd9925285de5ea84",
     "grade": false,
     "grade_id": "cell-e3531e8959012294",
     "locked": true,
     "schema_version": 3,
     "solution": false,
     "task": false
    }
   },
   "source": [
    "Since the measurement's variance is increasing with the height, in the following the WLS should be applied to reduce the estimation error even further. \n",
    "\n",
    "**c)** \n",
    "To determine the weighting matrix for the WLS method, you need to know the co-variance matrix of the transformed measurement noise. Since we have 10 pressure measurements per height available, write a function, which calculates the variance of the pressure per height and uses that information to calulate to weighting matrix $W$ for the WLS as inverse of the co-variance matrix $R$, like presented in the lecture.  **- (1 point)**\n"
   ]
  },
  {
   "cell_type": "code",
   "execution_count": 25,
   "id": "d44e34c2-a320-4ce4-b92b-433f958f1225",
   "metadata": {
    "ExecuteTime": {
     "end_time": "2024-11-13T00:41:08.194000+01:00",
     "start_time": "2024-11-12T23:40:50.532Z"
    },
    "deletable": false,
    "nbgrader": {
     "cell_type": "code",
     "checksum": "3a3a2bc5b4e5f589001098623e0598c3",
     "grade": false,
     "grade_id": "cell-671f4a26442a8bd3",
     "locked": false,
     "schema_version": 3,
     "solution": true,
     "task": false
    },
    "tags": []
   },
   "outputs": [],
   "source": [
    "function calculate_W(p_matrix)\n",
    "\t\"\"\"\n",
    "\tArgs:\n",
    "\t\tp_matrix: measurement_matrix\n",
    "\n",
    "\tReturns:\n",
    "\t\tW: Weighting matrix as inverse of the co-variance matrix\n",
    "\t\tR: Co-variance matrix of the measurement matrix\n",
    "\t\"\"\"\n",
    "\t@assert ndims(p_matrix) == 2\n",
    "\t#--- YOUR CODE STARTS HERE ---#\n",
    "\tR = I(38) .* var(p, dims=2)\n",
    "\tW = inv(R)\n",
    "\t#--- YOUR CODE ENDS HERE ---#\n",
    "\treturn W, R\n",
    "end;\n"
   ]
  },
  {
   "cell_type": "code",
   "execution_count": 26,
   "id": "06789513-93f1-4e44-bfc3-4ccbac730a56",
   "metadata": {
    "ExecuteTime": {
     "end_time": "2024-11-13T00:41:08.788000+01:00",
     "start_time": "2024-11-12T23:40:51.012Z"
    },
    "deletable": false,
    "editable": false,
    "nbgrader": {
     "cell_type": "code",
     "checksum": "0e21fdd4d7b0405054c6b93ee98fe65f",
     "grade": true,
     "grade_id": "cell-310622d70c0e574b",
     "locked": true,
     "points": 1,
     "schema_version": 3,
     "solution": false,
     "task": false
    },
    "tags": []
   },
   "outputs": [],
   "source": [
    "W, R = calculate_W(p)\n",
    "\n",
    "@assert ndims(W) == ndims(R) == 2\n"
   ]
  },
  {
   "cell_type": "code",
   "execution_count": 27,
   "id": "2c0c6030",
   "metadata": {
    "ExecuteTime": {
     "end_time": "2024-11-13T00:42:13.218000+01:00",
     "start_time": "2024-11-12T23:41:55.542Z"
    },
    "deletable": false,
    "editable": false,
    "nbgrader": {
     "cell_type": "code",
     "checksum": "a7d1652a3f65436a61159772683a1e27",
     "grade": true,
     "grade_id": "cell-908096e98e695665",
     "locked": true,
     "points": 0,
     "schema_version": 3,
     "solution": false,
     "task": false
    }
   },
   "outputs": [],
   "source": [
    "# please leave this cell as it is\n"
   ]
  },
  {
   "cell_type": "markdown",
   "id": "3286b8f7-c3cb-4a13-b690-53d895559e60",
   "metadata": {
    "deletable": false,
    "editable": false,
    "nbgrader": {
     "cell_type": "markdown",
     "checksum": "53736c0688a3c12c5e8cb4a02b65fd35",
     "grade": false,
     "grade_id": "cell-b7a78c56df0db9de",
     "locked": true,
     "schema_version": 3,
     "solution": false,
     "task": false
    }
   },
   "source": [
    "**d)** Use the calculated weigthing matrix to apply the WLS, like presented in the lecture, to estimate the parameters for $p_0$ and $\\alpha$. \n",
    "Therefore, write a function (below) which takes the regressor matrix $Z$ and  measurement vector $y$ provided by the prepare_data-function from task a), as well as the weighting matrix $W$ calculated with the function implemented in task c) **- (1 point)**"
   ]
  },
  {
   "cell_type": "code",
   "execution_count": 28,
   "id": "7ea588af-e74a-4785-b399-d09175177ea8",
   "metadata": {
    "ExecuteTime": {
     "end_time": "2024-11-13T00:44:08.231000+01:00",
     "start_time": "2024-11-12T23:43:50.555Z"
    },
    "deletable": false,
    "nbgrader": {
     "cell_type": "code",
     "checksum": "4fa9a16c13f06d4f2d7391b999f49c8a",
     "grade": false,
     "grade_id": "cell-4af853bddaf14af9",
     "locked": false,
     "schema_version": 3,
     "solution": true,
     "task": false
    },
    "tags": []
   },
   "outputs": [],
   "source": [
    "function parameter_calculation_WLS(Z, Y, W)\n",
    "\t\"\"\"\n",
    "\tArgs:\n",
    "\t\tZ: regressor matrix \n",
    "\t\tY: measurement_vector \n",
    "\t\tW: weigthing matrix\n",
    "\n",
    "\tReturns:\n",
    "\t\tThe parameter vector w\n",
    "\t\"\"\"\n",
    "\n",
    "\t#--- YOUR CODE STARTS HERE ---#\n",
    "\tw_wls = inv(Z' * (repeat(diag(W), 10) .* Z)) * Z' * (repeat(diag(W), 10) .* Y) \n",
    "\tw_wls[1] = exp(w_wls[1])\n",
    "\t#--- YOUR CODE ENDS HERE ---#\n",
    "\treturn w_wls\n",
    "end;\n"
   ]
  },
  {
   "cell_type": "code",
   "execution_count": 29,
   "id": "c0d1bdf7-236c-4383-a2f1-faf450dc6ae5",
   "metadata": {
    "ExecuteTime": {
     "end_time": "2024-11-13T00:44:09.418000+01:00",
     "start_time": "2024-11-12T23:43:51.238Z"
    },
    "deletable": false,
    "editable": false,
    "nbgrader": {
     "cell_type": "code",
     "checksum": "d3851e89a3fb749885fc4e9db84d006c",
     "grade": true,
     "grade_id": "cell-394dd2c3d6de0ad5",
     "locked": true,
     "points": 1,
     "schema_version": 3,
     "solution": false,
     "task": false
    },
    "tags": []
   },
   "outputs": [],
   "source": [
    "@assert isa(parameter_calculation_OLS, Function)\n",
    "\n",
    "Y, Z = prepare_data(p_vec, h_vec)\n",
    "W, R = calculate_W(p)\n",
    "w_WLS = parameter_calculation_WLS(Z, Y, W)\n",
    "\n",
    "@assert isnan(w_WLS[1]) == false \"Your value for a is NaN\"\n",
    "@assert isnan(w_WLS[2]) == false \"Your value for b is NaN\"\n",
    "\n",
    "@assert w_WLS[1] > 0 \"The first parameter must be positive, so that the air pressure above sea level is positive\"\n",
    "@assert w_WLS[2] < 0 \"The secound parameter must be negative, so that the air pressure decreases with increasing hight\"\n",
    "\n",
    "\n"
   ]
  },
  {
   "cell_type": "markdown",
   "id": "611c514c-b106-41a1-bfc3-a7a0841d3233",
   "metadata": {
    "deletable": false,
    "editable": false,
    "nbgrader": {
     "cell_type": "markdown",
     "checksum": "7830a9b509045384ec88d5e75027821b",
     "grade": false,
     "grade_id": "cell-e1c0b1f16b1264ef",
     "locked": true,
     "schema_version": 3,
     "solution": false,
     "task": false
    },
    "tags": []
   },
   "source": [
    "### Task 3: Recursive least squares - (3 points)\n",
    "\n",
    "The [Worldwide Harmonised Light Vehicles Test Procedure](https://en.wikipedia.org/wiki/Worldwide_Harmonised_Light_Vehicles_Test_Procedure) is used to determine, e.g., fuel consumption, CO2 emission, ... of traditional and hybrid cars.\n",
    "The profile is shown in the figure below.\n",
    "\n",
    "<img src=\"WLTP.png\" alt=\"measurements\" width=\"400\"/>\n",
    "\n",
    "[source: Skript Antriebe für umweltfreundliche Fahrzeuge, UPB](https://ei.uni-paderborn.de/lea/lehre/veranstaltungen/lehrangebote/antriebe-fuer-umweltfreundliche-fahrzeuge)\n",
    "\n",
    "The shown velocity profile is used in an experiment on the street, while the power needed to drive a car fullfilling the WLTP profile is measured.\n",
    "\n",
    "The task in the following is to identify uncertain and varying model parameters based on measurement data.\n",
    "We will use the same model already intoduced in the lecture, to calculate the power required for a certain velocity:\n",
    "\n",
    "$$\n",
    "\\begin{align}\n",
    "    P[k] = m \\cdot g \\cdot C_\\text{r} \\cdot v[k] + \\nu \\cdot v[k]^2 + \\frac{ρ A C_\\text{d}}{2} \\cdot v[k]^3 .\n",
    "\\end{align}\n",
    "$$\n",
    "\n",
    "The measured power based on the equation above can be seen in the following figure.\n",
    "\n",
    "<img src=\"WLTP_power.png\" alt=\"measurements\" width=\"400\"/>\n",
    "\n",
    "The data \"WLTP_rain.mat\", which is provided, was obtained during a rainy day. As the tire-street contact is highly depending on the street's wetness level, the rolling resistance coefficient $C_\\text{r}$ changed during the test drive due to varying rain conditions.\n",
    "To track how that parameter changed during the measurement, the recursive least squares (RLS) approach should be applied in this task.\n",
    "The other parameters can be assumed to be not affected by the rain and, therefore, stay constant."
   ]
  },
  {
   "cell_type": "code",
   "execution_count": 30,
   "id": "25b32661-66ad-43c9-a969-07f271029f25",
   "metadata": {
    "ExecuteTime": {
     "end_time": "2024-11-12T18:17:21.975000+01:00",
     "start_time": "2024-11-12T17:16:50.112Z"
    },
    "deletable": false,
    "editable": false,
    "nbgrader": {
     "cell_type": "code",
     "checksum": "ef02aa56b3327024922c24e0ee6fd5d4",
     "grade": false,
     "grade_id": "cell-e630130974138a6b",
     "locked": true,
     "schema_version": 3,
     "solution": false,
     "task": false
    }
   },
   "outputs": [
    {
     "data": {
      "text/plain": [
       "(220.725, 4.5, 0.45149999999999996)"
      ]
     },
     "metadata": {},
     "output_type": "display_data"
    }
   ],
   "source": [
    "data_WLTP_rain = matopen(\"WLTP_rain.mat\");\n",
    "v_WLTP = read(data_WLTP_rain, \"v\")[1, :];\n",
    "P_WLTP = read(data_WLTP_rain, \"P\")[1, :];\n",
    "\n",
    "m = 1500; # mass of car in kg\n",
    "g = 9.81; # gravity in m/s^2\n",
    "ρ = 1.29; # density of air in kg/m^3\n",
    "A = 2.0; # frontal area of car in m^2\n",
    "Cd = 0.35; # drag coefficient\n",
    "Cr_dry_street = 0.015; # rolling resistance coefficient\n",
    "η = 4.5; # Bearing friction coefficient in kg/s\n",
    "\n",
    "a, b, c = m * g * Cr_dry_street, η, (ρ * A * Cd) / 2 # condense parameters\n"
   ]
  },
  {
   "cell_type": "markdown",
   "id": "1cc2dd44-1f46-45c9-aca8-037c1428a9ab",
   "metadata": {
    "deletable": false,
    "editable": false,
    "nbgrader": {
     "cell_type": "markdown",
     "checksum": "2c623e2ceb739d2d4dc222eda9c3b3a2",
     "grade": false,
     "grade_id": "cell-78b07c27e804f64f",
     "locked": true,
     "schema_version": 3,
     "solution": false,
     "task": false
    },
    "tags": []
   },
   "source": [
    "**a)** Write a general function to calculate the parameters of a linear model using one step of the RLS shown in lecture.\n",
    "The function should take the measurement and regressor value(s) and the covariance matrix and the parameter(s) of the last step k-1 as inputs and return the estimated parameter(s) and the new covariance matrix for the current stime step k. **- (1.5 points)**"
   ]
  },
  {
   "cell_type": "code",
   "execution_count": 31,
   "id": "200eb147-c5af-47ab-b816-5566bc2a9b6b",
   "metadata": {
    "ExecuteTime": {
     "end_time": "2024-11-12T18:17:21.976000+01:00",
     "start_time": "2024-11-12T17:16:50.113Z"
    },
    "deletable": false,
    "editable": false,
    "nbgrader": {
     "cell_type": "code",
     "checksum": "85f28579dd2b572ea1f2f1452e303ec3",
     "grade": false,
     "grade_id": "cell-6c725e6b5ba76c55",
     "locked": true,
     "schema_version": 3,
     "solution": false,
     "task": false
    },
    "tags": []
   },
   "outputs": [],
   "source": [
    "function create_identity_matrix(n::Int)\n",
    "\t\"\"\"\n",
    "\tArgs:\n",
    "\t\tn: length of the matrix\n",
    "\n",
    "\tReturns:\n",
    "\t\tI(n): Identity matrix or scalar\n",
    "\t\"\"\"\n",
    "\tif n == 1\n",
    "\t\treturn 1\n",
    "\telse\n",
    "\t\treturn I(n)\n",
    "\tend\n",
    "end;\n"
   ]
  },
  {
   "cell_type": "code",
   "execution_count": 32,
   "id": "540cdee9-d695-406d-b587-f3951b02661a",
   "metadata": {
    "ExecuteTime": {
     "end_time": "2024-11-12T18:17:21.980000+01:00",
     "start_time": "2024-11-12T17:16:50.113Z"
    },
    "deletable": false,
    "nbgrader": {
     "cell_type": "code",
     "checksum": "fd546c106dc15195b8a03ebaa132e398",
     "grade": true,
     "grade_id": "cell-3f8ec7ae261c0a1d",
     "locked": false,
     "points": 1.5,
     "schema_version": 3,
     "solution": true,
     "task": false
    },
    "tags": []
   },
   "outputs": [],
   "source": [
    "function parameter_calculation_RLS(Z, Y, λ, W_RLS_k_1, P_k_1)\n",
    "\t\"\"\"\n",
    "\tArgs:\n",
    "\t\tZ: regressor column vector of size (1,n)\n",
    "\t\tY: measurement value of size (1)\n",
    "\t\tλ: fogetting factor\n",
    "\t\tW_RLS_k_1: last parameter(s) of timestep k-1 of size (n)\n",
    "\t\tP_k_1: last covariance matrix of size (n,n)\n",
    "\n",
    "\tReturns:\n",
    "\t\tW_RLS: New parameter vector of size (n,1)\n",
    "\t\tP_k: New covariance matrix of size (n,n)\n",
    "\t\"\"\"\n",
    "\t@assert length(λ) == 1\n",
    "\t@assert length(Y) == 1\n",
    "\n",
    "\tif size(Z) == ()\n",
    "\t\t# test if regressor is a scalar\n",
    "\t\t@assert length(W_RLS_k_1) == length(P_k_1) == length(Z)\n",
    "\telse\n",
    "\t\t# test if regressor is a vector\n",
    "\t\t@assert size(Z)[1] == 1\n",
    "\t\t@assert size(Z)[2] == size(P_k_1)[1]\n",
    "\t\t@assert size(Z)[2] == size(P_k_1)[2]\n",
    "\t\t@assert size(W_RLS_k_1)[1] == size(Z)[2]\n",
    "\tend\n",
    "\n",
    "\t#--- YOUR CODE STARTS HERE ---#\n",
    "\tgain = P_k_1 * Z' / (λ .+ Z * P_k_1 * Z')\n",
    "\tW_RLS = W_RLS_k_1 .+ gain * (Y .- Z * W_RLS_k_1)\n",
    "\tP_k = (create_identity_matrix(length(W_RLS_k_1)) .- gain * Z) * P_k_1 / λ\n",
    "\t#--- YOUR CODE ENDS HERE ---#\n",
    "\n",
    "\t@assert length(W_RLS) == length(Z)\n",
    "\n",
    "\treturn W_RLS, P_k\n",
    "end;\n"
   ]
  },
  {
   "cell_type": "code",
   "execution_count": 33,
   "id": "2da46a15-b404-4bd4-8e0d-7ccc3cd0107b",
   "metadata": {
    "ExecuteTime": {
     "end_time": "2024-11-12T18:17:23.206000+01:00",
     "start_time": "2024-11-12T17:16:50.114Z"
    },
    "deletable": false,
    "editable": false,
    "nbgrader": {
     "cell_type": "code",
     "checksum": "1cf22eca6e0fb06b31757cc2627ff4ad",
     "grade": false,
     "grade_id": "cell-e6c91e3efded2e6f",
     "locked": true,
     "schema_version": 3,
     "solution": false,
     "task": false
    },
    "tags": []
   },
   "outputs": [],
   "source": [
    "# Code to check the implementation\n",
    "# Model of form: y = a*x1 + b*x2, results in:\n",
    "# Y_test = a*Z_test[1,:] + b*Z_test[2,:]\n",
    "# w_rls_test = [a, b]\n",
    "\n",
    "num_steps = 11\n",
    "Z_test = ones(num_steps, 2)\n",
    "Y_test = collect(1:num_steps)\n",
    "\n",
    "λ_test = 0.5\n",
    "w_rls_test = ones(2, num_steps)\n",
    "w_rls_test[:, 1] = [0.1, 0.2]\n",
    "P_test = 10 * I(2)\n",
    "\n",
    "for k ∈ 2:num_steps\n",
    "\tw_rls_test[:, k], P_test = parameter_calculation_RLS(Z_test[k, :]', Y_test[k], λ_test, w_rls_test[:, k-1], P_test)\n",
    "end\n",
    "\n",
    "truth_1 = [0.1, 0.9292682926829268, 1.2735537190082646, 1.6587188612099648, 2.080033277870217, 2.528686543110395, 2.9964696548988505, 3.4768943121432723, 3.9653073228115505, 4.458593023824821, 4.95476894504044]\n",
    "truth_2 = [0.2, 1.0292682926829269, 1.3735537190082647, 1.758718861209965, 2.1800332778702174, 2.6286865431103954, 3.096469654898851, 3.576894312143273, 4.065307322811551, 4.5585930238248205, 5.05476894504044]\n",
    "\n",
    "@assert w_rls_test[1, :] == truth_1   # is parameter a in all steps k like expected?\n",
    "@assert w_rls_test[2, :] == truth_2   # is parameter b in all steps k like expected?\n"
   ]
  },
  {
   "cell_type": "code",
   "execution_count": 34,
   "id": "bf1adacd",
   "metadata": {
    "ExecuteTime": {
     "end_time": "2024-11-12T18:17:23.210000+01:00",
     "start_time": "2024-11-12T17:16:50.114Z"
    },
    "deletable": false,
    "editable": false,
    "nbgrader": {
     "cell_type": "code",
     "checksum": "c11448bbe52e655d46cd03d3dac03c11",
     "grade": true,
     "grade_id": "cell-59b300bad00c48d0",
     "locked": true,
     "points": 0,
     "schema_version": 3,
     "solution": false,
     "task": false
    }
   },
   "outputs": [],
   "source": [
    "# please leave this cell as it is\n"
   ]
  },
  {
   "cell_type": "markdown",
   "id": "797ce7eb-1194-4ea3-a737-4917afa832aa",
   "metadata": {
    "deletable": false,
    "editable": false,
    "nbgrader": {
     "cell_type": "markdown",
     "checksum": "245971a0b5ab9f28ad563b836d2d8aca",
     "grade": false,
     "grade_id": "cell-d771633a31a265fe",
     "locked": true,
     "schema_version": 3,
     "solution": false,
     "task": false
    }
   },
   "source": [
    "**b)**  Use the implemented RLS function to estimate the  parameter $C_\\text{r}$ and store the results in the given vector Cr_RLS.\n",
    "\n",
    "\n",
    "**Hint1**: According to car model stated above, the RLS output data has to be further processed to provide an estimate of the parameter $C_\\text{r}$ and NOT the parameter $a =  m \\cdot g \\cdot C_\\text{r}$.\n",
    "\n",
    "**Hint2**: During the first half of the measurement profile, the street was comparatively dry (rather high $C_\\text{r}$) and during the second half rather wet (rather low $C_\\text{r}$). You can use this observation to check your estimated $C_\\text{r}$ on a qualitative basis.\n",
    "\n",
    "**- (1.5 points)**"
   ]
  },
  {
   "cell_type": "code",
   "execution_count": 35,
   "id": "03921a2c-593a-45dd-aae2-e6d224dcfb57",
   "metadata": {
    "ExecuteTime": {
     "end_time": "2024-11-12T18:17:23.365000+01:00",
     "start_time": "2024-11-12T17:16:50.116Z"
    },
    "deletable": false,
    "nbgrader": {
     "cell_type": "code",
     "checksum": "d8c231c628a6c0fdf821f8c266908b82",
     "grade": false,
     "grade_id": "cell-7965a0c84f76a705",
     "locked": false,
     "schema_version": 3,
     "solution": true,
     "task": false
    },
    "tags": []
   },
   "outputs": [
    {
     "ename": "BoundsError",
     "evalue": "BoundsError: attempt to access Tuple{} at index [1]",
     "output_type": "error",
     "traceback": [
      "BoundsError: attempt to access Tuple{} at index [1]\n",
      "\n",
      "Stacktrace:\n",
      " [1] getindex(t::Tuple, i::Int64)\n",
      "   @ Base ./tuple.jl:31\n",
      " [2] parameter_calculation_RLS(Z::Matrix{Float64}, Y::Float64, λ::Float64, W_RLS_k_1::Vector{Float64}, P_k_1::Int64)\n",
      "   @ Main ~/Uni/DS4DS/exercises/Ex05/jl_notebook_cell_df34fa98e69747e1a8f8a730347b8e2f_X63sZmlsZQ==.jl:23\n",
      " [3] top-level scope\n",
      "   @ ~/Uni/DS4DS/exercises/Ex05/jl_notebook_cell_df34fa98e69747e1a8f8a730347b8e2f_Y100sZmlsZQ==.jl:15"
     ]
    }
   ],
   "source": [
    "w_0 = 210   # inital parameter of a = m*g*Cr\n",
    "λ = 0.99    # forgetting factor\n",
    "\n",
    "Cr_RLS = ones(length(v_WLTP) - 1)\n",
    "\n",
    "num_steps = length(v_WLTP)\n",
    "P = 10                      # Initialize the covariance\n",
    "γ = zeros(num_steps)        # Initialize the gain\n",
    "W_RLS = ones(num_steps - 1)\n",
    "W_RLS[1] = w_0              # Initial value of the parameter\n",
    "\n",
    "#--- YOUR CODE STARTS HERE ---#\n",
    "Z = [v_WLTP v_WLTP.^2 v_WLTP.^3]\n",
    "for i = 2:num_steps-1\n",
    "    w_curr, p_curr = parameter_calculation_RLS(Z[1:i-1, :], P_WLTP[i-1], λ, W_RLS[1:i-1], P)\n",
    "    W_RLS[i] = w_curr\n",
    "    P = p_curr\n",
    "end\n",
    "Cr_RLS = W_RLS ./ (m * g)\n",
    "#--- YOUR CODE ENDS HERE ---#\n"
   ]
  },
  {
   "cell_type": "code",
   "execution_count": 36,
   "id": "5b296020-9608-4de9-be66-57abd4999924",
   "metadata": {
    "ExecuteTime": {
     "end_time": "2024-11-12T18:17:23.573000+01:00",
     "start_time": "2024-11-12T17:16:50.116Z"
    },
    "deletable": false,
    "editable": false,
    "nbgrader": {
     "cell_type": "code",
     "checksum": "35e9923da809afc7bc563d15a368d6f3",
     "grade": true,
     "grade_id": "cell-8c5915b2ffcb9996",
     "locked": true,
     "points": 1.5,
     "schema_version": 3,
     "solution": false,
     "task": false
    },
    "tags": []
   },
   "outputs": [
    {
     "ename": "AssertionError",
     "evalue": "AssertionError: zeros(length(Cr_RLS)) < Cr_RLS < 0.1 * ones(length(Cr_RLS))",
     "output_type": "error",
     "traceback": [
      "AssertionError: zeros(length(Cr_RLS)) < Cr_RLS < 0.1 * ones(length(Cr_RLS))\n",
      "\n",
      "Stacktrace:\n",
      " [1] top-level scope\n",
      "   @ ~/Uni/DS4DS/exercises/Ex05/jl_notebook_cell_df34fa98e69747e1a8f8a730347b8e2f_Y101sZmlsZQ==.jl:2"
     ]
    }
   ],
   "source": [
    "@assert size(W_RLS)[1] == size(Cr_RLS)[1] == 1800\n",
    "@assert zeros(length(Cr_RLS)) < Cr_RLS < 0.1 * ones(length(Cr_RLS))\n",
    "@assert isapprox(W_RLS[1], 210.0, atol = 10e-3)\n",
    "\n"
   ]
  },
  {
   "cell_type": "code",
   "execution_count": null,
   "id": "bad1dd0b",
   "metadata": {},
   "outputs": [],
   "source": []
  }
 ],
 "metadata": {
  "kernelspec": {
   "display_name": "Julia 1.11.1",
   "language": "julia",
   "name": "julia-1.11"
  },
  "language_info": {
   "file_extension": ".jl",
   "mimetype": "application/julia",
   "name": "julia",
   "version": "1.11.1"
  }
 },
 "nbformat": 4,
 "nbformat_minor": 5
}
