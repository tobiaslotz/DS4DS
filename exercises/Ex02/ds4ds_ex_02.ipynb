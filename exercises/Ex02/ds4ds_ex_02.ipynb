{
 "cells": [
  {
   "cell_type": "markdown",
   "id": "e58719b9-bc5b-4c3e-a74c-1e84d5c7a8ea",
   "metadata": {
    "deletable": false,
    "editable": false,
    "nbgrader": {
     "cell_type": "markdown",
     "checksum": "29479dbaa2b4d78f531f390847a87965",
     "grade": false,
     "grade_id": "cell-f9b2220de66e6ce4",
     "locked": true,
     "schema_version": 3,
     "solution": false,
     "task": false
    },
    "tags": []
   },
   "source": [
    "# DS4DS Homework Exercise Sheet 02"
   ]
  },
  {
   "cell_type": "code",
   "execution_count": null,
   "id": "ff809b3b",
   "metadata": {
    "ExecuteTime": {
     "end_time": "2024-10-22T14:16:33.821000+02:00",
     "start_time": "2024-10-22T12:16:29.258Z"
    },
    "deletable": false,
    "editable": false,
    "nbgrader": {
     "cell_type": "code",
     "checksum": "0f93412315d2807a9f88e1d30808664b",
     "grade": false,
     "grade_id": "cell-5947526826e364b0",
     "locked": true,
     "schema_version": 3,
     "solution": false,
     "task": false
    },
    "tags": []
   },
   "outputs": [],
   "source": [
    "using Plots\n",
    "using HDF5"
   ]
  },
  {
   "cell_type": "markdown",
   "id": "aa8d4849-77a9-407f-aafc-09a24e345c6f",
   "metadata": {
    "deletable": false,
    "editable": false,
    "nbgrader": {
     "cell_type": "markdown",
     "checksum": "49a72389ff71b63f0f406538fa00d8e9",
     "grade": false,
     "grade_id": "cell-0d7137feed1cdd0b",
     "locked": true,
     "schema_version": 3,
     "solution": false,
     "task": false
    },
    "tags": []
   },
   "source": [
    "### Task 1: Solving the mathematical pendulum with different numerical ODE solvers - (7 points)\n",
    "Hint: All subtasks can be done using Julia"
   ]
  },
  {
   "cell_type": "markdown",
   "id": "22ff73f2-f97a-4602-8e6f-e423b5e74633",
   "metadata": {
    "deletable": false,
    "editable": false,
    "nbgrader": {
     "cell_type": "markdown",
     "checksum": "0a38538009a05778f5dcf0b5dad09283",
     "grade": false,
     "grade_id": "cell-29a57afe9acceae1",
     "locked": true,
     "schema_version": 3,
     "solution": false,
     "task": false
    },
    "tags": []
   },
   "source": [
    "Consider the mathematical pendulum (without friction) depicted in the image below. Its motion is described by the ODE\n",
    "\n",
    "$$\n",
    "\\begin{align}\n",
    "    \\frac{\\mathrm{d}^2\\theta(t)}{\\mathrm{d}t^2} + \\frac{g}{l} \\sin{\\theta(t)} = 0,\n",
    "\\end{align}\n",
    "$$\n",
    "\n",
    "where $g = 9.81 \\frac{\\mathrm{m}}{\\mathrm{s}^2}$ is the magnitude of the gravitational field, $l = 1 \\mathrm{m}$ is the length of the rod and $\\theta$ is the angle from the vertical of the pendulum.\n",
    "To transfer this ODE into the state-space representation, we choose the state vector \n",
    "\n",
    "$$\n",
    "\\begin{align}\n",
    "\\boldsymbol{x}(t) = \\begin{bmatrix}x_1(t) \\\\ x_2(t) \\end{bmatrix} = \\begin{bmatrix}\\theta(t) \\\\ \\omega(t) \\end{bmatrix} = \n",
    "            \\begin{bmatrix} \\theta(t) \\\\\\frac{\\mathrm{d}\\theta(t)}{\\mathrm{d}t} \\end{bmatrix}.\n",
    "\\end{align}\n",
    "$$\n",
    "\n",
    "This results in the state-space representation\n",
    "$$\n",
    "\\begin{align}\n",
    "    \\frac{\\mathrm{d}\\boldsymbol{x}(t)}{\\mathrm{d}t} = \\begin{bmatrix}\\frac{\\mathrm{d}\\theta(t)}{\\mathrm{d}t}\\\\ \\frac{\\mathrm{d}^2\\theta(t)}{\\mathrm{d}t^2} \\end{bmatrix} =  \\begin{bmatrix}\\omega(t) \\\\ -\\frac{g}{l} \\sin{(\\theta(t))} \\end{bmatrix} = \\begin{bmatrix}x_2(t) \\\\ -\\frac{g}{l} \\sin{(x_1(t))} \\end{bmatrix}.\n",
    "\\end{align}\n",
    "$$\n",
    "\n",
    "The goal of this task is to compute the solution $\\boldsymbol{x}(t)$ of this ODE numerically, when the intial state is given as $\\boldsymbol{x}_0 = \\begin{bmatrix} \\frac{\\pi}{2} & 0 \\end{bmatrix}^\\mathrm{T} $. This means we are looking for the values for the angle $\\theta$ and the angular velocity $\\omega$, when, initially, the pendulum is in a horizontal position and has no angular velocity and is then let go. To enable the usage of numerical solvers, we have to choose discrete points in time at which we compute these values. This means we only consider $\\boldsymbol{x}[k] = \\boldsymbol{x}(k \\cdot \\Delta t)$.\n",
    "\n",
    "**Source ODE & description:** https://en.wikipedia.org/wiki/Pendulum_(mechanics)\n",
    "\n",
    "![math pendulum](Mathematical_pendulum.png)\n",
    "\n",
    "**Source Image:** By Subjektivisti - Own work, CC0, https://commons.wikimedia.org/w/index.php?curid=63812625\n"
   ]
  },
  {
   "cell_type": "code",
   "execution_count": null,
   "id": "f39999bf-05c0-4d13-8d7d-aa36ec89bcc1",
   "metadata": {
    "ExecuteTime": {
     "end_time": "2024-10-22T14:16:34.125000+02:00",
     "start_time": "2024-10-22T12:16:29.259Z"
    },
    "deletable": false,
    "editable": false,
    "nbgrader": {
     "cell_type": "code",
     "checksum": "2f4642467891bceb2a4f1f8b4c490ae9",
     "grade": false,
     "grade_id": "cell-3d9afd1e0cdbf320",
     "locked": true,
     "schema_version": 3,
     "solution": false,
     "task": false
    },
    "tags": []
   },
   "outputs": [],
   "source": [
    "# parameters\n",
    "g = 9.81\n",
    "l = 1\n",
    "\n",
    "function pendulum_ode(x)\n",
    "\t\"\"\"Computes the derivative of the state given the current state.\"\"\"\n",
    "\tdx = [x[2], -g / l * sin(x[1])]\n",
    "\treturn dx\n",
    "end\n",
    "\n",
    "# initial state and system dimension\n",
    "x0 = [pi / 2, 0]\n",
    "n_states = 2;\n"
   ]
  },
  {
   "cell_type": "markdown",
   "id": "e8899b25-4da5-40de-b0d4-46fd2b07c18a",
   "metadata": {
    "deletable": false,
    "editable": false,
    "nbgrader": {
     "cell_type": "markdown",
     "checksum": "bbc70feed038dfa2efcce3cf9c0a9b9d",
     "grade": false,
     "grade_id": "cell-61da12ae50952a18",
     "locked": true,
     "schema_version": 3,
     "solution": false,
     "task": false
    },
    "tags": []
   },
   "source": [
    "(i) Implement functions for\n",
    "\n",
    "- **a)** the explicit Euler method,\n",
    "- **b)** the improved Euler method,\n",
    "- **c)** the classical Runge-Kutta scheme of fourth order (RK4: https://en.wikipedia.org/wiki/Runge-Kutta_methods),\n",
    "\n",
    "\n",
    "and use your implementations to numerically compute the solution for $\\boldsymbol{x}[k]$ in the time window $t \\in [t_0, t_e] = [0\\,\\mathrm{s}, 10\\,\\mathrm{s}]$ with a step size of $\\Delta t = 0.1\\,\\mathrm{s}$."
   ]
  },
  {
   "cell_type": "code",
   "execution_count": null,
   "id": "1062a60e-f43c-448e-8b15-80a5d6f5d3d0",
   "metadata": {
    "ExecuteTime": {
     "end_time": "2024-10-22T14:16:34.139000+02:00",
     "start_time": "2024-10-22T12:16:29.260Z"
    },
    "deletable": false,
    "editable": false,
    "nbgrader": {
     "cell_type": "code",
     "checksum": "3bbf5594ba3a816ed07187d01f00f6f3",
     "grade": false,
     "grade_id": "cell-6c9cd04e9ce249c9",
     "locked": true,
     "schema_version": 3,
     "solution": false,
     "task": false
    },
    "tags": []
   },
   "outputs": [],
   "source": [
    "# Time settings\n",
    "t0, te = 0, 10\n",
    "dt = 0.2\n",
    "\n",
    "N = Int((te - t0) / dt + 1)\n",
    "time_values = LinRange(t0, te, N);"
   ]
  },
  {
   "cell_type": "markdown",
   "id": "f3335954-5839-4be4-a039-1223176c480a",
   "metadata": {
    "deletable": false,
    "editable": false,
    "nbgrader": {
     "cell_type": "markdown",
     "checksum": "3d4ae99e958b4c78ac2ff2baaefd1751",
     "grade": false,
     "grade_id": "cell-9e5bbaf08554674a",
     "locked": true,
     "schema_version": 3,
     "solution": false,
     "task": false
    },
    "tags": []
   },
   "source": [
    "**a)** Implement the explicit Euler method - **(1 point)**"
   ]
  },
  {
   "cell_type": "code",
   "execution_count": null,
   "id": "6042e0c5-872d-446d-8d10-61350b4947f5",
   "metadata": {
    "ExecuteTime": {
     "end_time": "2024-10-22T14:16:34.142000+02:00",
     "start_time": "2024-10-22T12:16:29.261Z"
    },
    "deletable": false,
    "nbgrader": {
     "cell_type": "code",
     "checksum": "d4e21ab6fb947d9f3356dfc355e167f9",
     "grade": false,
     "grade_id": "cell-3e7b7004e152aaf9",
     "locked": false,
     "schema_version": 3,
     "solution": true,
     "task": false
    },
    "tags": []
   },
   "outputs": [],
   "source": [
    "function explicit_euler_solver(n_states, N, dt, x0, ode)\n",
    "    \"\"\"Uses the explicit Euler method to numerically solve the given ode.\n",
    "\n",
    "    Args:\n",
    "        n_states: The number of states in the given system.\n",
    "        N: The number of discrete timesteps in the time window.\n",
    "        dt: The length of each of the timesteps.\n",
    "        x0: A vector with shape (n_states) containing the initial state of the system.\n",
    "        ode: The ODE implementation. This is a function that takes the current state as input \n",
    "            and returns the derivative at the given state.\n",
    "        \n",
    "    Returns:\n",
    "        The resulting state trajectory x[k] in an array with size (n_states, N).\n",
    "    \"\"\"\n",
    "    #--- YOUR CODE STARTS HERE ---#\n",
    "    \n",
    "    #--- YOUR CODE ENDS HERE ---#\n",
    "end;\n"
   ]
  },
  {
   "cell_type": "code",
   "execution_count": null,
   "id": "b1e0413f-589f-4587-8b2f-ff852385a0b9",
   "metadata": {
    "ExecuteTime": {
     "end_time": "2024-10-22T14:16:34.871000+02:00",
     "start_time": "2024-10-22T12:16:29.262Z"
    },
    "deletable": false,
    "editable": false,
    "nbgrader": {
     "cell_type": "code",
     "checksum": "c9023494dcbc6fc7079b45b9a7bca426",
     "grade": true,
     "grade_id": "cell-9d5080d504c22ebc",
     "locked": true,
     "points": 1,
     "schema_version": 3,
     "solution": false,
     "task": false
    },
    "tags": []
   },
   "outputs": [],
   "source": []
  },
  {
   "cell_type": "code",
   "execution_count": null,
   "id": "f68b6a33",
   "metadata": {
    "ExecuteTime": {
     "end_time": "2024-10-22T14:16:35.527000+02:00",
     "start_time": "2024-10-22T12:16:29.263Z"
    },
    "deletable": false,
    "editable": false,
    "nbgrader": {
     "cell_type": "code",
     "checksum": "82fe9e73ab086dcefebf32cab0e45eab",
     "grade": true,
     "grade_id": "cell-9fb0a4b0faf026bb",
     "locked": true,
     "points": 0,
     "schema_version": 3,
     "solution": false,
     "task": false
    }
   },
   "outputs": [],
   "source": [
    "# please leave this cell as it is\n"
   ]
  },
  {
   "cell_type": "markdown",
   "id": "f0c69418-50ba-4e91-9bc8-b8cb340a31fe",
   "metadata": {
    "deletable": false,
    "editable": false,
    "nbgrader": {
     "cell_type": "markdown",
     "checksum": "15b55f2eb3eb7780fb959fa0caef7c05",
     "grade": false,
     "grade_id": "cell-3801d126d971201b",
     "locked": true,
     "schema_version": 3,
     "solution": false,
     "task": false
    },
    "tags": []
   },
   "source": [
    "**b)** Implement the improved Euler method - **(1 point)**"
   ]
  },
  {
   "cell_type": "code",
   "execution_count": null,
   "id": "ec9c2331-c510-495e-bfd0-abd9dc305da3",
   "metadata": {
    "ExecuteTime": {
     "end_time": "2024-10-22T14:16:35.530000+02:00",
     "start_time": "2024-10-22T12:16:29.264Z"
    },
    "deletable": false,
    "nbgrader": {
     "cell_type": "code",
     "checksum": "793b7e1d85d68d52e48cc26ac7390584",
     "grade": false,
     "grade_id": "cell-3de03686e84bfce7",
     "locked": false,
     "schema_version": 3,
     "solution": true,
     "task": false
    },
    "tags": []
   },
   "outputs": [],
   "source": [
    "function improved_euler_solver(n_states, N, dt, x0, ode)\n",
    "\t\"\"\"Uses the improved euler method to numerically solve the given ode.\n",
    "\n",
    "\tArgs:\n",
    "\t\tn_states: The number of states in the given system.\n",
    "\t\tN: The number of discrete timesteps in the time window.\n",
    "\t\tdt: The length of each of the timesteps.\n",
    "\t\tx0: A vector with shape (n_states) containing the initial state of the system.\n",
    "\t\tode: The ODE implementation. This is a function that takes the current state as input \n",
    "\t\t\tand returns the derivative at the given state.\n",
    "\t\t\n",
    "\tReturns:\n",
    "\t\tThe resulting state trajectory x[k] in an array with size (n_states, N).\n",
    "\t\"\"\"\n",
    "\t#--- YOUR CODE STARTS HERE ---#\n",
    "\t\n",
    "\t#--- YOUR CODE ENDS HERE ---#\n",
    "end;\n"
   ]
  },
  {
   "cell_type": "code",
   "execution_count": null,
   "id": "74da8557-1364-409a-81f4-721e466f0aec",
   "metadata": {
    "ExecuteTime": {
     "end_time": "2024-10-22T14:16:35.596000+02:00",
     "start_time": "2024-10-22T12:16:29.266Z"
    },
    "deletable": false,
    "editable": false,
    "nbgrader": {
     "cell_type": "code",
     "checksum": "8d92eae1bb4bc8aa2da5d5a1a2bf3e06",
     "grade": true,
     "grade_id": "cell-9d3676df3c202088",
     "locked": true,
     "points": 1,
     "schema_version": 3,
     "solution": false,
     "task": false
    },
    "tags": []
   },
   "outputs": [],
   "source": []
  },
  {
   "cell_type": "code",
   "execution_count": null,
   "id": "4667bfe0",
   "metadata": {
    "ExecuteTime": {
     "end_time": "2024-10-22T14:16:35.600000+02:00",
     "start_time": "2024-10-22T12:16:29.266Z"
    },
    "deletable": false,
    "editable": false,
    "nbgrader": {
     "cell_type": "code",
     "checksum": "3f6d232810829bbdd474ddd839a6d628",
     "grade": true,
     "grade_id": "cell-a57172d6849b5970",
     "locked": true,
     "points": 0,
     "schema_version": 3,
     "solution": false,
     "task": false
    }
   },
   "outputs": [],
   "source": [
    "# please leave this cell as it is\n"
   ]
  },
  {
   "cell_type": "markdown",
   "id": "a1698f3a-2c78-49b8-b499-a87421c49613",
   "metadata": {
    "deletable": false,
    "editable": false,
    "nbgrader": {
     "cell_type": "markdown",
     "checksum": "d4546417c80a0b6656fdb6dcb74ddaf7",
     "grade": false,
     "grade_id": "cell-4cb81cbbbbb95906",
     "locked": true,
     "schema_version": 3,
     "solution": false,
     "task": false
    },
    "tags": []
   },
   "source": [
    "**c)** Implement the classical Runge-Kutta scheme of fourth order (RK4: https://en.wikipedia.org/wiki/Runge-Kutta_methods) - **(2 points)**"
   ]
  },
  {
   "cell_type": "code",
   "execution_count": null,
   "id": "c1ada1cc-3cb8-4acd-9f2e-9543fea10149",
   "metadata": {
    "ExecuteTime": {
     "end_time": "2024-10-22T14:16:35.605000+02:00",
     "start_time": "2024-10-22T12:16:29.268Z"
    },
    "deletable": false,
    "nbgrader": {
     "cell_type": "code",
     "checksum": "8eaf9a68b108a942221f3a5c1abc3823",
     "grade": false,
     "grade_id": "cell-377d22bb0c144aef",
     "locked": false,
     "schema_version": 3,
     "solution": true,
     "task": false
    },
    "tags": []
   },
   "outputs": [],
   "source": [
    "function RK4_solver(n_states, N, dt, x0, ode)\n",
    "    \"\"\"Uses the classical Runge-Kutta scheme of fourth order to numerically solve the given ode.\n",
    "\n",
    "    Args:\n",
    "        n_states: The number of states in the given system.\n",
    "        N: The number of discrete timesteps in the time window.\n",
    "        dt: The length of each of the timesteps.\n",
    "        x0: A vector with shape (n_states) containing the initial state of the system.\n",
    "        ode: The ODE implementation. This is a function that takes the current state as input \n",
    "            and returns the derivative at the given state.\n",
    "\n",
    "    Returns:\n",
    "        The resulting state trajectory x[k] in an array with size (n_states, N).\n",
    "    \"\"\"\n",
    "    #--- YOUR CODE STARTS HERE ---#\n",
    "    \n",
    "    #--- YOUR CODE ENDS HERE ---#\n",
    "end;\n"
   ]
  },
  {
   "cell_type": "code",
   "execution_count": null,
   "id": "1cd23a40-7a7f-4ad0-a0b1-f48936ec8de7",
   "metadata": {
    "ExecuteTime": {
     "end_time": "2024-10-22T14:16:35.935000+02:00",
     "start_time": "2024-10-22T12:16:29.269Z"
    },
    "deletable": false,
    "editable": false,
    "nbgrader": {
     "cell_type": "code",
     "checksum": "a9fc9b1b3145c13e6cbe30308c58772f",
     "grade": true,
     "grade_id": "cell-e5bcc9ee15964401",
     "locked": true,
     "points": 2,
     "schema_version": 3,
     "solution": false,
     "task": false
    },
    "tags": []
   },
   "outputs": [],
   "source": []
  },
  {
   "cell_type": "code",
   "execution_count": null,
   "id": "be2910ad",
   "metadata": {
    "ExecuteTime": {
     "end_time": "2024-10-22T14:16:35.939000+02:00",
     "start_time": "2024-10-22T12:16:29.270Z"
    },
    "deletable": false,
    "editable": false,
    "nbgrader": {
     "cell_type": "code",
     "checksum": "fbf9b5ae6ae1b2d92feb61e1eee186fb",
     "grade": true,
     "grade_id": "cell-ff07d98f6d449bad",
     "locked": true,
     "points": 0,
     "schema_version": 3,
     "solution": false,
     "task": false
    }
   },
   "outputs": [],
   "source": [
    "# please leave this cell as it is\n"
   ]
  },
  {
   "cell_type": "markdown",
   "id": "e4ccc177-bda6-41d3-a651-0e33436e91fe",
   "metadata": {
    "deletable": false,
    "editable": false,
    "nbgrader": {
     "cell_type": "markdown",
     "checksum": "c33ab573f05d23f37badaedb48b905fa",
     "grade": false,
     "grade_id": "cell-c63a1a0b6d5eed8f",
     "locked": true,
     "schema_version": 3,
     "solution": false,
     "task": false
    },
    "tags": []
   },
   "source": [
    "Compute $\\boldsymbol{x}[k]$ in the time window $t \\in [t_0, t_e] = [0\\,\\mathrm{s}, 10\\,\\mathrm{s}]$ with a step size of $\\Delta t = 0.1\\,\\mathrm{s}$"
   ]
  },
  {
   "cell_type": "code",
   "execution_count": null,
   "id": "8ad8c07c-06fe-4f36-bf22-ea74d6539341",
   "metadata": {
    "ExecuteTime": {
     "end_time": "2024-10-22T14:16:36.154000+02:00",
     "start_time": "2024-10-22T12:16:29.272Z"
    },
    "deletable": false,
    "editable": false,
    "nbgrader": {
     "cell_type": "code",
     "checksum": "c55a65c87b7ee9b58db5490a94a2b28b",
     "grade": false,
     "grade_id": "cell-9d97334a67d6baa5",
     "locked": true,
     "schema_version": 3,
     "solution": false,
     "task": false
    },
    "tags": []
   },
   "outputs": [],
   "source": [
    "x_EE = explicit_euler_solver(n_states, N, dt, x0, pendulum_ode);\n",
    "x_ImprovedE = improved_euler_solver(n_states, N, dt, x0, pendulum_ode);\n",
    "x_RK4 = RK4_solver(n_states, N, dt, x0, pendulum_ode);"
   ]
  },
  {
   "cell_type": "code",
   "execution_count": null,
   "id": "1b16e490-dfbf-4f37-a238-112a8c27cd8c",
   "metadata": {
    "ExecuteTime": {
     "end_time": "2024-10-22T14:16:36.167000+02:00",
     "start_time": "2024-10-22T12:16:29.273Z"
    },
    "deletable": false,
    "editable": false,
    "nbgrader": {
     "cell_type": "code",
     "checksum": "2ff924b933a6257a7deedfc5f1d2a31f",
     "grade": false,
     "grade_id": "cell-cff24a1cde17b475",
     "locked": true,
     "schema_version": 3,
     "solution": false,
     "task": false
    },
    "tags": []
   },
   "outputs": [],
   "source": [
    "@assert size(x_EE) == (n_states, N)\n",
    "@assert size(x_ImprovedE) == (n_states, N)\n",
    "@assert size(x_RK4) == (n_states, N)"
   ]
  },
  {
   "cell_type": "markdown",
   "id": "02e6811a-f28b-40f6-ad0c-d4f8b425d018",
   "metadata": {
    "deletable": false,
    "editable": false,
    "nbgrader": {
     "cell_type": "markdown",
     "checksum": "880fc818eca3a78ef1455657ec7759eb",
     "grade": false,
     "grade_id": "cell-14c273e042298507",
     "locked": true,
     "schema_version": 3,
     "solution": false,
     "task": false
    },
    "tags": []
   },
   "source": [
    "You can use the following plots of the sample solution to check your results qualitatively.\n",
    "\n",
    "![EE_plot](EE_dt02.png)\n",
    "\n",
    "![IE_plot](ImprovedE_dt02.png)\n",
    "\n",
    "![RK4_plot](RK4_dt02.png)\n",
    "\n",
    "![quiver_plot](quiver_plot_dt02.png)\n"
   ]
  },
  {
   "cell_type": "markdown",
   "id": "0131f501-a100-4ed1-8381-471e690ece49",
   "metadata": {
    "deletable": false,
    "editable": false,
    "nbgrader": {
     "cell_type": "markdown",
     "checksum": "e412391031c2b4795a1a0754743a866f",
     "grade": false,
     "grade_id": "cell-4c40fbec2cc3e01c",
     "locked": true,
     "schema_version": 3,
     "solution": false,
     "task": false
    },
    "tags": []
   },
   "source": [
    "(ii) Compare the mean distance between the trajectories $\\boldsymbol{x}[k]$ generated by all three methods to the exact solution $\\boldsymbol{z_1}[k]$:\n",
    "\n",
    "$$\n",
    "\\begin{align}\n",
    "    \\mathrm{MD(\\boldsymbol{z}, \\boldsymbol{x})} &= \\frac{1}{N} \\sum_{k=1}^{N} \\Vert \n",
    "    \\boldsymbol{x}[k] - \\boldsymbol{z}[k]\\Vert_2 \\\\\n",
    "    &= \\frac{1}{N} \\sum_{k=1}^{N} \\sqrt{[(x_1[k] - z_1[k])^2 + (x_2[k] - z_2[k])^2 + ... + (x_{d_x}[k] - z_{d_x}[k])^2]},\n",
    "\\end{align}\n",
    "$$\n",
    "\n",
    "where $d_x$ is the number of states in the trajectory and $N$ is the number of time steps."
   ]
  },
  {
   "cell_type": "code",
   "execution_count": null,
   "id": "1c7b2d11-0cbe-4d48-848e-b3e863189820",
   "metadata": {
    "ExecuteTime": {
     "end_time": "2024-10-22T14:16:38.031000+02:00",
     "start_time": "2024-10-22T12:16:29.274Z"
    },
    "deletable": false,
    "editable": false,
    "nbgrader": {
     "cell_type": "code",
     "checksum": "bff55184569aef8d7f0895c654c2619c",
     "grade": false,
     "grade_id": "cell-8281bf7ce5847c51",
     "locked": true,
     "schema_version": 3,
     "solution": false,
     "task": false
    },
    "tags": []
   },
   "outputs": [],
   "source": [
    "z1_dt_200ms = h5read(\"z1_dt_200ms.h5\", \"z1_dt_200ms\");"
   ]
  },
  {
   "cell_type": "code",
   "execution_count": null,
   "id": "131d38de-c3e2-4419-92b5-94ad4cd2bb32",
   "metadata": {
    "ExecuteTime": {
     "end_time": "2024-10-22T14:16:40.113000+02:00",
     "start_time": "2024-10-22T12:16:29.275Z"
    }
   },
   "outputs": [],
   "source": [
    "z1_dt_200ms"
   ]
  },
  {
   "cell_type": "markdown",
   "id": "a2aab3ad-0ded-496a-b8af-ee71c25a0dc0",
   "metadata": {
    "deletable": false,
    "editable": false,
    "nbgrader": {
     "cell_type": "markdown",
     "checksum": "267ca9a575d9c13224c907c69a08dac0",
     "grade": false,
     "grade_id": "cell-1106326184c274be",
     "locked": true,
     "schema_version": 3,
     "solution": false,
     "task": false
    },
    "tags": []
   },
   "source": [
    "Implement a function for the calculation of the MD - **(1 point)**"
   ]
  },
  {
   "cell_type": "code",
   "execution_count": null,
   "id": "394638c9-df75-4812-8968-b0f9b8abac45",
   "metadata": {
    "ExecuteTime": {
     "end_time": "2024-10-22T14:16:40.385000+02:00",
     "start_time": "2024-10-22T12:16:29.276Z"
    },
    "deletable": false,
    "nbgrader": {
     "cell_type": "code",
     "checksum": "2e6ce97766957b0568ad8d3397237364",
     "grade": false,
     "grade_id": "cell-b94082dde47810a9",
     "locked": false,
     "schema_version": 3,
     "solution": true,
     "task": false
    },
    "tags": []
   },
   "outputs": [],
   "source": [
    "function MD(z, x)\n",
    "    \"\"\"Computes the mean distance between two input sequences with shapes (n_states, N)\n",
    "\n",
    "    Args:\n",
    "        z: First input matrix\n",
    "        x: Second input matrix\n",
    "\n",
    "    Returns:\n",
    "        MD_value: A single float value that indicates the mean distance between the two inputs.\n",
    "    \"\"\"\n",
    "    #--- YOUR CODE STARTS HERE ---#\n",
    "    \n",
    "    #--- YOUR CODE ENDS HERE ---#\n",
    "    return MD_value\n",
    "end\n"
   ]
  },
  {
   "cell_type": "code",
   "execution_count": null,
   "id": "d42f84cf-03d0-4e2c-a42f-68904f593ff7",
   "metadata": {
    "ExecuteTime": {
     "end_time": "2024-10-22T14:16:41.681000+02:00",
     "start_time": "2024-10-22T12:16:29.277Z"
    },
    "deletable": false,
    "editable": false,
    "nbgrader": {
     "cell_type": "code",
     "checksum": "5387a0dd12f11bd5a1228db6d305eb7e",
     "grade": true,
     "grade_id": "cell-b118aac03caf16a9",
     "locked": true,
     "points": 1,
     "schema_version": 3,
     "solution": false,
     "task": false
    },
    "tags": []
   },
   "outputs": [],
   "source": [
    "@assert isa(MD, Function)"
   ]
  },
  {
   "cell_type": "code",
   "execution_count": null,
   "id": "6af82f0d",
   "metadata": {
    "ExecuteTime": {
     "end_time": "2024-10-22T14:16:41.683000+02:00",
     "start_time": "2024-10-22T12:16:29.278Z"
    },
    "deletable": false,
    "editable": false,
    "nbgrader": {
     "cell_type": "code",
     "checksum": "d07668d0a973a5843d813e523099c2d3",
     "grade": true,
     "grade_id": "cell-5e6d1b2eef7a8e66",
     "locked": true,
     "points": 0,
     "schema_version": 3,
     "solution": false,
     "task": false
    }
   },
   "outputs": [],
   "source": [
    "# please leave this cell as it is\n"
   ]
  },
  {
   "cell_type": "markdown",
   "id": "c96245c3-98ad-45d1-8a5d-8e1880adb509",
   "metadata": {
    "deletable": false,
    "editable": false,
    "nbgrader": {
     "cell_type": "markdown",
     "checksum": "74e6398966463b44153204f0e4b6662f",
     "grade": false,
     "grade_id": "cell-1da804342b15202c",
     "locked": true,
     "schema_version": 3,
     "solution": false,
     "task": false
    },
    "tags": []
   },
   "source": [
    "Use your implementation of the MD to compute the distance between $\\mathbf{z_1}[k]$ and your state-trajectories form task (ii) - **(0.5 points)**"
   ]
  },
  {
   "cell_type": "code",
   "execution_count": null,
   "id": "f938da09-7a69-4a6e-aae4-795636ed27f6",
   "metadata": {
    "ExecuteTime": {
     "end_time": "2024-10-22T14:16:41.744000+02:00",
     "start_time": "2024-10-22T12:16:29.280Z"
    },
    "deletable": false,
    "nbgrader": {
     "cell_type": "code",
     "checksum": "f23a4cc953f1b170f5765402d3f9b61b",
     "grade": false,
     "grade_id": "cell-56a28d2155f70385",
     "locked": false,
     "schema_version": 3,
     "solution": true,
     "task": false
    },
    "tags": []
   },
   "outputs": [],
   "source": [
    "MD_EE = 0\n",
    "MD_ImprovedE = 0\n",
    "MD_RK4 = 0\n",
    "\n",
    "#--- YOUR CODE STARTS HERE ---#\n",
    "\n",
    "#--- YOUR CODE ENDS HERE ---#"
   ]
  },
  {
   "cell_type": "code",
   "execution_count": null,
   "id": "dd10d372-b4d0-442d-b8e5-ab07e12b5339",
   "metadata": {
    "ExecuteTime": {
     "end_time": "2024-10-22T14:16:41.748000+02:00",
     "start_time": "2024-10-22T12:16:29.281Z"
    },
    "deletable": false,
    "editable": false,
    "nbgrader": {
     "cell_type": "code",
     "checksum": "2ed3867fef3aa56a21481b4ffa8f5987",
     "grade": true,
     "grade_id": "cell-c04d0521595035e2",
     "locked": true,
     "points": 0.5,
     "schema_version": 3,
     "solution": false,
     "task": false
    },
    "tags": []
   },
   "outputs": [],
   "source": [
    "@assert MD_EE >= 0\n",
    "@assert MD_ImprovedE >= 0\n",
    "@assert MD_RK4 >= 0\n"
   ]
  },
  {
   "cell_type": "markdown",
   "id": "d0597a06-addb-40e0-b6cb-8f752797e711",
   "metadata": {
    "deletable": false,
    "editable": false,
    "nbgrader": {
     "cell_type": "markdown",
     "checksum": "57c464e3eeb82394037d1868f78983af",
     "grade": false,
     "grade_id": "cell-b88008d4bd97c4be",
     "locked": true,
     "schema_version": 3,
     "solution": false,
     "task": false
    },
    "tags": []
   },
   "source": [
    "(iii) Reduce the step size by a factor of two. Compute the ratio between the new MD and the MD from (ii) for all three solvers:\n",
    "\n",
    "$$\n",
    "\\begin{align}\n",
    "    r = \\frac{\\mathrm{MD}_{(0.5 \\cdot \\Delta t)}}{\\mathrm{MD}_{(\\Delta t)}} .\n",
    "\\end{align}   \n",
    "$$\n",
    "\n",
    "**Hint:** You need to compare the $\\boldsymbol{x}(t)$ simulated with $\\Delta t=0.1\\mathrm{s}$ with the $\\boldsymbol{z}(t)$ with $\\Delta t=0.1\\mathrm{s}$ and analogously for $\\Delta t=0.2\\mathrm{s}$ to compute the respective MD values."
   ]
  },
  {
   "cell_type": "code",
   "execution_count": null,
   "id": "b9857bcc-51ce-4de9-b9f7-d3608ebb8a40",
   "metadata": {
    "ExecuteTime": {
     "end_time": "2024-10-22T14:16:41.752000+02:00",
     "start_time": "2024-10-22T12:16:29.282Z"
    },
    "deletable": false,
    "editable": false,
    "nbgrader": {
     "cell_type": "code",
     "checksum": "3c8407a4fd0da729087c8fff9bf89913",
     "grade": false,
     "grade_id": "cell-4d05e76b09695dc9",
     "locked": true,
     "schema_version": 3,
     "solution": false,
     "task": false
    },
    "tags": []
   },
   "outputs": [],
   "source": [
    "z1_dt_100ms = h5read(\"z1_dt_100ms.h5\", \"z1_dt_100ms\");"
   ]
  },
  {
   "cell_type": "markdown",
   "id": "9d898ed2-64f0-46e7-9a50-9b37909ccae2",
   "metadata": {
    "deletable": false,
    "editable": false,
    "nbgrader": {
     "cell_type": "markdown",
     "checksum": "c743455e5f664f033380b0eab7765497",
     "grade": false,
     "grade_id": "cell-3855e14495bee662",
     "locked": true,
     "schema_version": 3,
     "solution": false,
     "task": false
    },
    "tags": []
   },
   "source": [
    "**a)** For the Explicit Euler - **(0.5 points)**"
   ]
  },
  {
   "cell_type": "code",
   "execution_count": null,
   "id": "e03bd316-7260-4d26-9c4c-7ec029b1a6df",
   "metadata": {
    "ExecuteTime": {
     "end_time": "2024-10-22T14:16:41.754000+02:00",
     "start_time": "2024-10-22T12:16:29.282Z"
    },
    "deletable": false,
    "nbgrader": {
     "cell_type": "code",
     "checksum": "2d209c7a0bdb3cdb82a60362b8083c6d",
     "grade": false,
     "grade_id": "cell-971b365d32584c4e",
     "locked": false,
     "schema_version": 3,
     "solution": true,
     "task": false
    },
    "tags": []
   },
   "outputs": [],
   "source": [
    "r_EE = NaN\n",
    "\n",
    "#--- YOUR CODE STARTS HERE ---#\n",
    "\n",
    "#--- YOUR CODE ENDS HERE ---#\n"
   ]
  },
  {
   "cell_type": "code",
   "execution_count": null,
   "id": "e68c1a4c-a7e6-4d50-950e-cee5ebc1c4f4",
   "metadata": {
    "ExecuteTime": {
     "end_time": "2024-10-22T14:16:41.763000+02:00",
     "start_time": "2024-10-22T12:16:29.283Z"
    },
    "deletable": false,
    "editable": false,
    "nbgrader": {
     "cell_type": "code",
     "checksum": "aaaf7bbedca48c8b848362ccd4c35f91",
     "grade": true,
     "grade_id": "cell-86a26e09f4d7d55f",
     "locked": true,
     "points": 0.5,
     "schema_version": 3,
     "solution": false,
     "task": false
    },
    "tags": []
   },
   "outputs": [],
   "source": [
    "@assert 0 <= r_EE <= 1\n"
   ]
  },
  {
   "cell_type": "markdown",
   "id": "c855ca51-72b8-4c5a-972a-85ba56aae32c",
   "metadata": {
    "deletable": false,
    "editable": false,
    "nbgrader": {
     "cell_type": "markdown",
     "checksum": "859e06cd40495340deabb21a481e1bcf",
     "grade": false,
     "grade_id": "cell-0de81e47e61b6332",
     "locked": true,
     "schema_version": 3,
     "solution": false,
     "task": false
    },
    "tags": []
   },
   "source": [
    "**b)** For the Improved Euler - **(0.5 points)**"
   ]
  },
  {
   "cell_type": "code",
   "execution_count": null,
   "id": "e35cad67-8a1f-4644-ad3c-4f0a72294052",
   "metadata": {
    "ExecuteTime": {
     "end_time": "2024-10-22T14:16:41.765000+02:00",
     "start_time": "2024-10-22T12:16:29.283Z"
    },
    "deletable": false,
    "nbgrader": {
     "cell_type": "code",
     "checksum": "20cd780f820a9a412317e6dd5f7774fa",
     "grade": false,
     "grade_id": "cell-0e7378c7cc8ea8ce",
     "locked": false,
     "schema_version": 3,
     "solution": true,
     "task": false
    },
    "tags": []
   },
   "outputs": [],
   "source": [
    "r_ImprovedE = NaN\n",
    "\n",
    "#--- YOUR CODE STARTS HERE ---#\n",
    "\n",
    "#--- YOUR CODE ENDS HERE ---#\n"
   ]
  },
  {
   "cell_type": "code",
   "execution_count": null,
   "id": "549a9cb0-d3e1-4103-9feb-9f93c1ef2e01",
   "metadata": {
    "ExecuteTime": {
     "end_time": "2024-10-22T14:16:41.767000+02:00",
     "start_time": "2024-10-22T12:16:29.284Z"
    },
    "deletable": false,
    "editable": false,
    "nbgrader": {
     "cell_type": "code",
     "checksum": "8f504f06c64ab2c3c95fb1a5afbe014b",
     "grade": true,
     "grade_id": "cell-60bea9640194f975",
     "locked": true,
     "points": 0.5,
     "schema_version": 3,
     "solution": false,
     "task": false
    },
    "tags": []
   },
   "outputs": [],
   "source": [
    "@assert 0 <= r_ImprovedE <= 1\n"
   ]
  },
  {
   "cell_type": "markdown",
   "id": "22fd89d3-87de-4be8-b8b2-0943ace1f222",
   "metadata": {
    "deletable": false,
    "editable": false,
    "nbgrader": {
     "cell_type": "markdown",
     "checksum": "9bb67c27900b3918b4f648c1fa1dd981",
     "grade": false,
     "grade_id": "cell-4d4c9eb4a01c80a0",
     "locked": true,
     "schema_version": 3,
     "solution": false,
     "task": false
    },
    "tags": []
   },
   "source": [
    "**c)** For the classical Runge-Kutta scheme of fourth order - **(0.5 points)**"
   ]
  },
  {
   "cell_type": "code",
   "execution_count": null,
   "id": "d7c795f9-fa37-486a-8253-776cbbdaed43",
   "metadata": {
    "ExecuteTime": {
     "end_time": "2024-10-22T14:16:41.769000+02:00",
     "start_time": "2024-10-22T12:16:29.284Z"
    },
    "deletable": false,
    "nbgrader": {
     "cell_type": "code",
     "checksum": "a9593eabbc261ffd0f2cc24be6bc02d6",
     "grade": false,
     "grade_id": "cell-32494b0f6a70b45a",
     "locked": false,
     "schema_version": 3,
     "solution": true,
     "task": false
    },
    "tags": []
   },
   "outputs": [],
   "source": [
    "r_RK4 = NaN\n",
    "\n",
    "#--- YOUR CODE STARTS HERE ---#\n",
    "\n",
    "#--- YOUR CODE ENDS HERE ---#\n"
   ]
  },
  {
   "cell_type": "code",
   "execution_count": null,
   "id": "6c048411-ddb1-419e-9d5a-1123f62214e6",
   "metadata": {
    "ExecuteTime": {
     "end_time": "2024-10-22T14:16:41.771000+02:00",
     "start_time": "2024-10-22T12:16:29.285Z"
    },
    "deletable": false,
    "editable": false,
    "nbgrader": {
     "cell_type": "code",
     "checksum": "e5b65a40800187679f9b9cb679f47afc",
     "grade": true,
     "grade_id": "cell-a0be8108bdd7f04a",
     "locked": true,
     "points": 0.5,
     "schema_version": 3,
     "solution": false,
     "task": false
    },
    "tags": []
   },
   "outputs": [],
   "source": [
    "@assert 0 <= r_RK4 <= 1\n"
   ]
  },
  {
   "cell_type": "markdown",
   "id": "4348c2a5-a55b-4ee4-91a7-13ae1edc61b5",
   "metadata": {
    "deletable": false,
    "editable": false,
    "nbgrader": {
     "cell_type": "markdown",
     "checksum": "a02501552bcbb05a8f90487e10e409e0",
     "grade": false,
     "grade_id": "cell-4ef5002311916c7c",
     "locked": true,
     "schema_version": 3,
     "solution": false,
     "task": false
    },
    "tags": []
   },
   "source": [
    "**To verify your results:** Redo the plots from (i). Do the new state trajectories make sense to you, compared to the ones with longer timesteps? What do you observe / expect regarding the found values of $r$ for the different solver schemes?"
   ]
  },
  {
   "cell_type": "markdown",
   "id": "ec7d6314-ee7f-4fef-b7bb-68c4513d5def",
   "metadata": {
    "deletable": false,
    "editable": false,
    "nbgrader": {
     "cell_type": "markdown",
     "checksum": "0209ae457269f66ba3265041fa3a744f",
     "grade": false,
     "grade_id": "cell-7241079ab207cf96",
     "locked": true,
     "schema_version": 3,
     "solution": false,
     "task": false
    },
    "tags": []
   },
   "source": [
    "### Task 2: Solving the Lorenz System - (3 points)\n",
    "\n",
    "The Lorenz attractor is a mathematical model developed by Edward Lorenz in the 1960s. It describes chaotic behavior in a simplified weather system. The attractor's butterfly-shaped trajectory symbolizes chaos theory's key features, like sensitivity to initial conditions and unpredictability. It has wide applications in various fields beyond meteorology, offering insights into complex, unpredictable systems ([Further information](https://en.wikipedia.org/wiki/Lorenz_system)).\n",
    "\n",
    "![Lorenz_system](Lorenz_system.png)\n",
    "\n",
    "**Source Image:** By Wikimol - Own work, CC0, [Source](https://commons.wikimedia.org/wiki/File:Lorenz_system_r28_s10_b2-6666.png?uselang=en#Licensing)\n",
    "\n",
    "The system is described by a system of 3 differential equations:\n",
    "\n",
    "$$\n",
    "\\begin{align}\n",
    "\\frac{\\mathrm{d}x_1}{\\mathrm{d}t} &= \\sigma (x_2 - x_1), \\\\\n",
    "\\frac{\\mathrm{d}x_2}{\\mathrm{d}t} &= x_1 \\cdot (\\rho - x_3) - x_2, \\\\\n",
    "\\frac{\\mathrm{d}x_3}{\\mathrm{d}t} &= x_1 \\cdot x_2 - \\beta x_3. \\\\\n",
    "\\end{align}\n",
    "$$\n",
    "\n",
    "The typical values for the Lorenz system are $\\sigma = 10$, $\\rho = 28$ and $\\beta = 8/3$.\n",
    "\n",
    "We will use the Lorenz attractor here to take a closer look at the solvers implemented in task 1 and investigate the impact of the stepsize."
   ]
  },
  {
   "cell_type": "code",
   "execution_count": null,
   "id": "2f2fb64e-4014-4a45-94d0-8c53f79f6de1",
   "metadata": {
    "ExecuteTime": {
     "end_time": "2024-10-22T14:16:41.782000+02:00",
     "start_time": "2024-10-22T12:16:29.286Z"
    },
    "deletable": false,
    "editable": false,
    "nbgrader": {
     "cell_type": "code",
     "checksum": "be24be21db1fcdff7ee4dcb7572ac3aa",
     "grade": false,
     "grade_id": "cell-2e8e1dc24aa270db",
     "locked": true,
     "schema_version": 3,
     "solution": false,
     "task": false
    },
    "tags": []
   },
   "outputs": [],
   "source": [
    "# num states\n",
    "n_states = 3\n",
    "\n",
    "t0, te = 0, 0.1\n",
    "dt = 1e-5\n",
    "\n",
    "# initial value\n",
    "x0 = [1.0, 0.0, 0.0]\n",
    "\n",
    "# parameters\n",
    "params = [10, 28, 8 / 3]\n",
    "\n",
    "function lorenz_ode(x)\n",
    "\t\"\"\"Computes the derivative of the state given the current state.\"\"\"\n",
    "\tdx = zeros(3)\n",
    "\tdx[1] = params[1] * (x[2] - x[1])\n",
    "\tdx[2] = x[1] * (params[2] - x[3]) - x[2]\n",
    "\tdx[3] = x[1] * x[2] - params[3] * x[3]\n",
    "\n",
    "\treturn dx\n",
    "end;\n"
   ]
  },
  {
   "cell_type": "markdown",
   "id": "b4bcf7da-4340-466b-9095-264d510837cc",
   "metadata": {
    "deletable": false,
    "editable": false,
    "nbgrader": {
     "cell_type": "markdown",
     "checksum": "03e8990bf08f2613e833ede99df832a4",
     "grade": false,
     "grade_id": "cell-e1f3d037585a2807",
     "locked": true,
     "schema_version": 3,
     "solution": false,
     "task": false
    },
    "tags": []
   },
   "source": [
    "Set the stepsize to a multiple of $10^{-5}$, i.e., $\\Delta t = n \\cdot 10^{-5}$. Simulate from $t_0=0$ to $t_e=0.1$ for the Runge-Kutta 4 from Task 1 and find the largest integer factor $n$ (i.e., the largest step size $\\Delta t$) such that the error (measured by the 2-norm) between the simulated result at the end of the simulation $x(t_e)$ and the exact solution $z(t_e)$ at that time is less than $\\epsilon = 10^{-3}$.\n",
    "\n",
    "In mathematical formulation\n",
    "\n",
    "$$\n",
    "\\begin{align}\n",
    "\\max \\quad & n\\\\\n",
    "\\textrm{s.t.} \\quad & \\Vert \\boldsymbol{x}(t_e) – \\boldsymbol{z}(t_e)\\Vert _2 \\leq \\epsilon .\n",
    "\\end{align}\n",
    "$$\n",
    "\n",
    "Note that the number of steps $N$ changes when the step size is adjusted. Therefore, the target array must also be adjusted for each new step size. If the number of steps is not an integer please use the `round` function to round it.\n",
    "\n",
    "\n",
    "**Hint:** n is in the range $[1, 30]$. Use a for-loop to increment n step by step and determine the distance to the correct end result in each iteration."
   ]
  },
  {
   "cell_type": "code",
   "execution_count": null,
   "id": "96094636-8ef6-40cb-985a-e05114893792",
   "metadata": {
    "ExecuteTime": {
     "end_time": "2024-10-22T14:16:42.283000+02:00",
     "start_time": "2024-10-22T12:16:29.286Z"
    },
    "deletable": false,
    "editable": false,
    "nbgrader": {
     "cell_type": "code",
     "checksum": "ba8c76649e2f86206a531513a0430518",
     "grade": false,
     "grade_id": "cell-d6442098ebf2770c",
     "locked": true,
     "schema_version": 3,
     "solution": false,
     "task": false
    },
    "tags": []
   },
   "outputs": [],
   "source": [
    "# exact solution z(t_e)\n",
    "z2_te = [\n",
    "\t1.271459653756519,\n",
    "\t2.550243695182362,\n",
    "\t0.11413846073908919,\n",
    "]"
   ]
  },
  {
   "cell_type": "code",
   "execution_count": null,
   "id": "3622aaa5-72cc-47f1-832a-bc550d764916",
   "metadata": {
    "ExecuteTime": {
     "end_time": "2024-10-22T14:16:42.810000+02:00",
     "start_time": "2024-10-22T12:16:29.287Z"
    },
    "deletable": false,
    "nbgrader": {
     "cell_type": "code",
     "checksum": "3bd39b97cc8955081e4b283e97445d0b",
     "grade": false,
     "grade_id": "cell-94474a7416c68906",
     "locked": false,
     "schema_version": 3,
     "solution": true,
     "task": false
    },
    "tags": []
   },
   "outputs": [],
   "source": [
    "epsilon = 1e-3\n",
    "dt = 1e-5\n",
    "\n",
    "n_range = 1:30\n",
    "\n",
    "n_solution = NaN\n",
    "\n",
    "distance_te_RK4 = NaN\n",
    "\n",
    "for n in n_range\n",
    "\t# calc new stepsize\n",
    "\t# calc new x_RK4(t_e)\n",
    "\t# check if distance > eps\n",
    "\t# set n_solution = n\n",
    "\n",
    "\t# @assert false \"NotImplementedError\"\n",
    "\n",
    "\t#--- YOUR CODE STARTS HERE ---#\n",
    "\t\n",
    "\t#--- YOUR CODE ENDS HERE ---#\n",
    "end\n"
   ]
  },
  {
   "cell_type": "code",
   "execution_count": null,
   "id": "66c7f7a3-9ac8-4aa4-b70e-9fdf36f618aa",
   "metadata": {
    "ExecuteTime": {
     "end_time": "2024-10-22T14:16:42.812000+02:00",
     "start_time": "2024-10-22T12:16:29.288Z"
    },
    "deletable": false,
    "editable": false,
    "nbgrader": {
     "cell_type": "code",
     "checksum": "6368eb02595bec1c9e2d1d23078dbcef",
     "grade": true,
     "grade_id": "cell-857d0d4b2f61385e",
     "locked": true,
     "points": 3,
     "schema_version": 3,
     "solution": false,
     "task": false
    },
    "tags": []
   },
   "outputs": [],
   "source": [
    "# n should be an integer in the range of [1,30]\n",
    "@assert typeof(n_solution) == Int64\n",
    "@assert 1 <= n_solution <= 30\n",
    "\n"
   ]
  },
  {
   "cell_type": "code",
   "execution_count": null,
   "id": "5956a764",
   "metadata": {},
   "outputs": [],
   "source": []
  }
 ],
 "metadata": {
  "kernelspec": {
   "display_name": "Julia 1.10.5",
   "language": "julia",
   "name": "julia-1.10"
  },
  "language_info": {
   "file_extension": ".jl",
   "mimetype": "application/julia",
   "name": "julia",
   "version": "1.10.5"
  }
 },
 "nbformat": 4,
 "nbformat_minor": 5
}
