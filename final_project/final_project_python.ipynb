{
 "cells": [
  {
   "cell_type": "markdown",
   "metadata": {},
   "source": [
    "### Imports"
   ]
  },
  {
   "cell_type": "code",
   "execution_count": 1,
   "metadata": {},
   "outputs": [],
   "source": [
    "import h5py\n",
    "import numpy as np\n",
    "import torch \n",
    "import torch.nn as nn\n",
    "import torch.nn.functional as f\n",
    "from torch.utils.data import Dataset, DataLoader\n",
    "data = h5py.File(\"data/CH_D3.jld2\", \"r\")"
   ]
  },
  {
   "cell_type": "markdown",
   "metadata": {},
   "source": [
    "### Config"
   ]
  },
  {
   "cell_type": "code",
   "execution_count": 2,
   "metadata": {},
   "outputs": [],
   "source": [
    "input_size = output_size = 10_000\n",
    "seq_length = 100\n",
    "batch_size = 5\n",
    "device = torch.device('cuda' if torch.cuda.is_available() else 'cpu')\n",
    "train_index = 260\n",
    "loss_func = nn.MSELoss()"
   ]
  },
  {
   "cell_type": "markdown",
   "metadata": {},
   "source": [
    "### Dataloading and Preping"
   ]
  },
  {
   "cell_type": "code",
   "execution_count": 3,
   "metadata": {},
   "outputs": [],
   "source": [
    "X1_CH = torch.Tensor(np.array(data[\"X1\"]))\n",
    "X2_CH = torch.Tensor(np.array(data[\"X2\"]))\n",
    "X3_CH = torch.Tensor(np.array(data[\"X3\"]))\n",
    "\n",
    "y1 = X1_CH[101:, :]\n",
    "y2 = X2_CH[101:, :]\n",
    "y3 = X3_CH[101:, :]\n",
    "X1 = torch.stack([X1_CH[i:i+100, :] for i in range(1, 301)])\n",
    "X2 = torch.stack([X2_CH[i:i+100, :] for i in range(1, 301)])\n",
    "X3 = torch.stack([X3_CH[i:i+100, :] for i in range(1, 301)])\n",
    "\n",
    "y1_train = y1[:train_index, :]\n",
    "y1_test = y1[train_index:, :]\n",
    "X1_train = X1[:train_index, :, :]\n",
    "X1_test = X1[train_index:, :, :]\n",
    "y2_train = y2[:train_index, :]\n",
    "y2_test = y2[train_index:, :]\n",
    "X2_train = X2[:train_index, :, :]\n",
    "X2_test = X2[train_index:, :, :]\n",
    "y3_train = y3[:train_index, :]\n",
    "y3_test = y3[train_index:, :]\n",
    "X3_train = X3[:train_index, :, :]\n",
    "X3_test = X3[train_index:, :, :]\n",
    "\n",
    "dt_CH = 0.1"
   ]
  },
  {
   "cell_type": "code",
   "execution_count": 4,
   "metadata": {},
   "outputs": [],
   "source": [
    "# Shapes:\n",
    "# X: (300, 100, 10_000)\n",
    "# y: (300, 10_000)"
   ]
  },
  {
   "cell_type": "code",
   "execution_count": 5,
   "metadata": {},
   "outputs": [],
   "source": [
    "class X1Trajectories(Dataset):\n",
    "    def __init__(self, X, y):\n",
    "        self.X = X\n",
    "        self.y = y\n",
    "    \n",
    "    def __len__(self):\n",
    "        return len(self.X)\n",
    "    \n",
    "    def __getitem__(self, i):\n",
    "        return self.X[i], self.y[i]"
   ]
  },
  {
   "cell_type": "code",
   "execution_count": 6,
   "metadata": {},
   "outputs": [],
   "source": [
    "train_set_x1 = X1Trajectories(X1_train, y1_train)\n",
    "test_set_x1 = X1Trajectories(X1_test, y1_test)\n",
    "train_loader_x1 = DataLoader(train_set_x1, batch_size=batch_size, shuffle=True)\n",
    "test_loader_x1 = DataLoader(test_set_x1, batch_size=batch_size, shuffle=False)\n",
    "\n",
    "train_set_x2 = X1Trajectories(X2_train, y2_train)\n",
    "test_set_x2 = X1Trajectories(X2_test, y2_test)\n",
    "train_loader_x2 = DataLoader(train_set_x2, batch_size=batch_size, shuffle=True)\n",
    "test_loader_x2 = DataLoader(test_set_x2, batch_size=batch_size, shuffle=False)\n",
    "\n",
    "train_set_x3 = X1Trajectories(X3_train, y3_train)\n",
    "test_set_x3 = X1Trajectories(X3_test, y3_test)\n",
    "train_loader_x3 = DataLoader(train_set_x3, batch_size=batch_size, shuffle=True)\n",
    "test_loader_x3 = DataLoader(test_set_x3, batch_size=batch_size, shuffle=False)"
   ]
  },
  {
   "cell_type": "markdown",
   "metadata": {},
   "source": [
    "### Model architecture"
   ]
  },
  {
   "cell_type": "code",
   "execution_count": 7,
   "metadata": {},
   "outputs": [],
   "source": [
    "class PINN(nn.Module):\n",
    "    def __init__(self, hidden_size, num_layers):\n",
    "        super().__init__()\n",
    "        # input shape: (Batch, Seq_length, input_size)\n",
    "        self.lstm = nn.LSTM(input_size, hidden_size, num_layers, batch_first=True)\n",
    "        self.fc = nn.Linear(hidden_size, output_size)\n",
    "        self.h0 = torch.zeros(num_layers, batch_size, hidden_size).to(device)\n",
    "        self.c0 = torch.zeros(num_layers, batch_size, hidden_size).to(device)\n",
    "\n",
    "    def forward(self, x):\n",
    "        out, _ = self.lstm(x, (self.h0, self.c0))\n",
    "        out = f.tanh(self.fc(out[:,-1,:]))\n",
    "        return out\n"
   ]
  },
  {
   "cell_type": "code",
   "execution_count": 8,
   "metadata": {},
   "outputs": [
    {
     "name": "stderr",
     "output_type": "stream",
     "text": [
      "/tmp/ipykernel_1383636/3514317213.py:1: FutureWarning: You are using `torch.load` with `weights_only=False` (the current default value), which uses the default pickle module implicitly. It is possible to construct malicious pickle data which will execute arbitrary code during unpickling (See https://github.com/pytorch/pytorch/blob/main/SECURITY.md#untrusted-models for more details). In a future release, the default value for `weights_only` will be flipped to `True`. This limits the functions that could be executed during unpickling. Arbitrary objects will no longer be allowed to be loaded via this mode unless they are explicitly allowlisted by the user via `torch.serialization.add_safe_globals`. We recommend you start setting `weights_only=True` for any use case where you don't have full control of the loaded file. Please open an issue on GitHub for any issues related to this experimental feature.\n",
      "  model_x1 = torch.load(\"LSTM_X1\")\n",
      "/tmp/ipykernel_1383636/3514317213.py:2: FutureWarning: You are using `torch.load` with `weights_only=False` (the current default value), which uses the default pickle module implicitly. It is possible to construct malicious pickle data which will execute arbitrary code during unpickling (See https://github.com/pytorch/pytorch/blob/main/SECURITY.md#untrusted-models for more details). In a future release, the default value for `weights_only` will be flipped to `True`. This limits the functions that could be executed during unpickling. Arbitrary objects will no longer be allowed to be loaded via this mode unless they are explicitly allowlisted by the user via `torch.serialization.add_safe_globals`. We recommend you start setting `weights_only=True` for any use case where you don't have full control of the loaded file. Please open an issue on GitHub for any issues related to this experimental feature.\n",
      "  model_x2 = torch.load(\"LSTM_X2\")\n",
      "/tmp/ipykernel_1383636/3514317213.py:3: FutureWarning: You are using `torch.load` with `weights_only=False` (the current default value), which uses the default pickle module implicitly. It is possible to construct malicious pickle data which will execute arbitrary code during unpickling (See https://github.com/pytorch/pytorch/blob/main/SECURITY.md#untrusted-models for more details). In a future release, the default value for `weights_only` will be flipped to `True`. This limits the functions that could be executed during unpickling. Arbitrary objects will no longer be allowed to be loaded via this mode unless they are explicitly allowlisted by the user via `torch.serialization.add_safe_globals`. We recommend you start setting `weights_only=True` for any use case where you don't have full control of the loaded file. Please open an issue on GitHub for any issues related to this experimental feature.\n",
      "  model_x3 = torch.load(\"LSTM_X3\")\n"
     ]
    }
   ],
   "source": [
    "model_x1 = torch.load(\"LSTM_X1\")\n",
    "model_x2 = torch.load(\"LSTM_X2\")\n",
    "model_x3 = torch.load(\"LSTM_X3\")\n"
   ]
  },
  {
   "cell_type": "markdown",
   "metadata": {},
   "source": [
    "### Training"
   ]
  },
  {
   "cell_type": "code",
   "execution_count": 9,
   "metadata": {},
   "outputs": [],
   "source": [
    "#loss_func = nn.MSELoss() # + PDE informed loss\n",
    "#lr = 1e-3\n",
    "#num_epochs = 4\n",
    "#optimizer = torch.optim.AdamW(model.parameters(), lr=lr)"
   ]
  },
  {
   "cell_type": "code",
   "execution_count": 10,
   "metadata": {},
   "outputs": [],
   "source": [
    "#for epoch in range(num_epochs):\n",
    "#    model.train(True)\n",
    "#    print(f\"Starting epoch: {epoch + 1}\")\n",
    "#    print(f\"*******************************\")\n",
    "#    running_loss = 0.0\n",
    "#    epoch_loss = 0.0\n",
    "#\n",
    "#    for i, batch in enumerate(train_loader):\n",
    "#        X_batch, y_batch = batch[0].to(device), batch[1].to(device)\n",
    "#        y_pred = model(X_batch)\n",
    "#        loss = loss_func(y_pred, y_batch)\n",
    "#        running_loss += loss\n",
    "#        epoch_loss += loss\n",
    "#        \n",
    "#        optimizer.zero_grad()\n",
    "#        loss.backward()\n",
    "#        optimizer.step()\n",
    "#\n",
    "#        if i % 5 == 0 and i > 0:\n",
    "#            avg_loss = running_loss / 5\n",
    "#            print(f\"Batch {i}, Loss: {avg_loss : .3f}\")\n",
    "#            running_loss = 0.0\n",
    "#    \n",
    "#    epoch_loss /= len(train_loader)\n",
    "#    print(f\"Average Loss over epoch: {epoch_loss: .3f}\")\n",
    "#    print(f\"*******************************\")"
   ]
  },
  {
   "cell_type": "markdown",
   "metadata": {},
   "source": [
    "### save model"
   ]
  },
  {
   "cell_type": "code",
   "execution_count": 11,
   "metadata": {},
   "outputs": [],
   "source": [
    "#torch.save(model.state_dict(), \"First_LSTM_test_params\")"
   ]
  },
  {
   "cell_type": "markdown",
   "metadata": {},
   "source": [
    "### evaluate"
   ]
  },
  {
   "cell_type": "code",
   "execution_count": 12,
   "metadata": {},
   "outputs": [],
   "source": [
    "def eval_model(test_loader, model, loss_func, verbose=True):\n",
    "    model.train(False)\n",
    "    running_loss = 0.0\n",
    "\n",
    "    for i, batch in enumerate(test_loader):\n",
    "        X_batch, y_batch = batch[0].to(device), batch[1].to(device)\n",
    "\n",
    "        with torch.no_grad():\n",
    "            y_pred = model(X_batch)\n",
    "            loss = loss_func(y_pred, y_batch)\n",
    "            running_loss += loss\n",
    "\n",
    "    avg_loss = running_loss / (i+1)\n",
    "\n",
    "    if verbose:\n",
    "        print(f\"Val loss: {avg_loss: .3f}\")\n",
    "    \n",
    "    return avg_loss"
   ]
  },
  {
   "cell_type": "code",
   "execution_count": 13,
   "metadata": {},
   "outputs": [
    {
     "name": "stdout",
     "output_type": "stream",
     "text": [
      "X1:  0.014\n",
      "X2:  0.016\n",
      "X3:  0.025\n"
     ]
    }
   ],
   "source": [
    "print(f\"X1: {eval_model(test_loader_x1, model_x1, loss_func, verbose=False) : .3f}\")\n",
    "print(f\"X2: {eval_model(test_loader_x2, model_x2, loss_func, verbose=False) : .3f}\")\n",
    "print(f\"X3: {eval_model(test_loader_x3, model_x3, loss_func, verbose=False) : .3f}\")"
   ]
  },
  {
   "cell_type": "code",
   "execution_count": null,
   "metadata": {},
   "outputs": [],
   "source": [
    "import matplotlib.pyplot as plt"
   ]
  },
  {
   "cell_type": "code",
   "execution_count": 18,
   "metadata": {},
   "outputs": [
    {
     "ename": "NameError",
     "evalue": "name 'y_pred' is not defined",
     "output_type": "error",
     "traceback": [
      "\u001b[0;31m---------------------------------------------------------------------------\u001b[0m",
      "\u001b[0;31mNameError\u001b[0m                                 Traceback (most recent call last)",
      "Cell \u001b[0;32mIn[18], line 1\u001b[0m\n\u001b[0;32m----> 1\u001b[0m plt\u001b[38;5;241m.\u001b[39mimshow(\u001b[43my_pred\u001b[49m[\u001b[38;5;241m1\u001b[39m,:]\u001b[38;5;241m.\u001b[39mreshape(\u001b[38;5;241m100\u001b[39m, \u001b[38;5;241m100\u001b[39m)\u001b[38;5;241m.\u001b[39mto(\u001b[38;5;124m\"\u001b[39m\u001b[38;5;124mcpu\u001b[39m\u001b[38;5;124m\"\u001b[39m))\n",
      "\u001b[0;31mNameError\u001b[0m: name 'y_pred' is not defined"
     ]
    }
   ],
   "source": [
    "plt.imshow(y_pred[1,:].reshape(100, 100).to(\"cpu\"))"
   ]
  },
  {
   "cell_type": "code",
   "execution_count": 27,
   "metadata": {},
   "outputs": [
    {
     "data": {
      "text/plain": [
       "<matplotlib.image.AxesImage at 0x7d5ab86e37c0>"
      ]
     },
     "execution_count": 27,
     "metadata": {},
     "output_type": "execute_result"
    },
    {
     "data": {
      "image/png": "[encoded data removed]",
      "text/plain": [
       "<Figure size 640x480 with 1 Axes>"
      ]
     },
     "metadata": {},
     "output_type": "display_data"
    }
   ],
   "source": [
    "plt.imshow(y1_test[-1,:].reshape(100, 100))"
   ]
  }
 ],
 "metadata": {
  "kernelspec": {
   "display_name": "venv",
   "language": "python",
   "name": "python3"
  },
  "language_info": {
   "codemirror_mode": {
    "name": "ipython",
    "version": 3
   },
   "file_extension": ".py",
   "mimetype": "text/x-python",
   "name": "python",
   "nbconvert_exporter": "python",
   "pygments_lexer": "ipython3",
   "version": "3.10.12"
  }
 },
 "nbformat": 4,
 "nbformat_minor": 2
}
